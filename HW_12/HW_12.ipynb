{
 "cells": [
  {
   "cell_type": "markdown",
   "metadata": {},
   "source": [
    "## Домашняя работа\n",
    "\n",
    "Взять boston house-prices datase (sklearn.datasets.load_boston). Возмите 7 любых регрессоров (попробовать разные алгоритмы, поподбирать параметры, вывести итоговое качество)."
   ]
  },
  {
   "cell_type": "code",
   "execution_count": 12,
   "metadata": {
    "ExecuteTime": {
     "end_time": "2021-07-28T19:33:59.283234Z",
     "start_time": "2021-07-28T19:33:59.123234Z"
    }
   },
   "outputs": [],
   "source": [
    "import numpy as np\n",
    "from sklearn.datasets import load_boston\n",
    "from sklearn.model_selection import train_test_split\n",
    "\n",
    "from sklearn import metrics\n",
    "import matplotlib.pyplot as plt\n",
    "%matplotlib inline"
   ]
  },
  {
   "cell_type": "code",
   "execution_count": 2,
   "metadata": {
    "ExecuteTime": {
     "end_time": "2021-07-28T18:42:07.945490Z",
     "start_time": "2021-07-28T18:42:07.865490Z"
    }
   },
   "outputs": [],
   "source": [
    "boston = load_boston()\n",
    "\n",
    "X = boston.data\n",
    "y = boston.target"
   ]
  },
  {
   "cell_type": "code",
   "execution_count": 5,
   "metadata": {
    "ExecuteTime": {
     "end_time": "2021-07-28T19:23:53.237257Z",
     "start_time": "2021-07-28T19:23:53.157257Z"
    }
   },
   "outputs": [],
   "source": [
    "from sklearn.svm import SVR\n",
    "from sklearn.neighbors import KNeighborsRegressor\n",
    "from sklearn.tree import DecisionTreeRegressor\n",
    "from sklearn.ensemble import AdaBoostRegressor,BaggingRegressor,GradientBoostingRegressor, RandomForestRegressor\n",
    "from lightgbm import LGBMRegressor\n",
    "from sklearn.linear_model import ElasticNet\n",
    "\n",
    "from sklearn.model_selection import cross_val_score,RandomizedSearchCV\n",
    "from sklearn.metrics import mean_squared_error"
   ]
  },
  {
   "cell_type": "code",
   "execution_count": 7,
   "metadata": {
    "ExecuteTime": {
     "end_time": "2021-07-28T19:25:32.427400Z",
     "start_time": "2021-07-28T19:25:32.347400Z"
    }
   },
   "outputs": [],
   "source": [
    "X_train, X_test, y_train, y_test = train_test_split(X,y,test_size=.3)"
   ]
  },
  {
   "cell_type": "code",
   "execution_count": 17,
   "metadata": {
    "ExecuteTime": {
     "end_time": "2021-07-28T19:54:09.429036Z",
     "start_time": "2021-07-28T19:54:09.149036Z"
    }
   },
   "outputs": [],
   "source": [
    "from sklearn.preprocessing import StandardScaler\n",
    "scaler = StandardScaler()\n",
    "X_train_scaled = scaler.fit_transform(X_train)\n",
    "X_test_scaled = scaler.fit_transform(X_test)"
   ]
  },
  {
   "cell_type": "code",
   "execution_count": 37,
   "metadata": {
    "ExecuteTime": {
     "end_time": "2021-07-28T20:48:40.740404Z",
     "start_time": "2021-07-28T20:48:40.660403Z"
    }
   },
   "outputs": [],
   "source": [
    "algoritms = [\n",
    "    {'name': 'KNeighbors' , 'model': KNeighborsRegressor(n_jobs=-1)  , 'params': {'n_neighbors':list(range(3,23)),'weights' : ['uniform', 'distance']   }},\n",
    "    {'name': 'BagReg' , 'model': BaggingRegressor(n_jobs=-1)   , 'params': { 'base_estimator':[RandomForestRegressor(),DecisionTreeRegressor(),SVR()],'n_estimators':list(range(3,23)) }},\n",
    "    {'name': 'Aboost' , 'model': AdaBoostRegressor()  , 'params': {'base_estimator':[RandomForestRegressor(),DecisionTreeRegressor(),SVR()],'n_estimators':list(range(10,33)),'learning_rate':np.arange(1,5,.5),'loss': ['linear', 'square', 'exponential']     }},\n",
    "    {'name': 'Gboost' , 'model': GradientBoostingRegressor()  , 'params': {'loss' : ['ls', 'lad', 'huber'],'learning_rate':np.arange(.1,2,.1),'n_estimators':list(range(100,500,1)),'criterion' : ['friedman_mse', 'mse', 'mae'],'ccp_alpha':np.arange(1,5,.5)      }},\n",
    "    {'name': 'RandFrst' , 'model': RandomForestRegressor(n_jobs=-1)   , 'params': {'n_estimators':list(range(100,500,1)),'criterion': [\"mse\", \"mae\"],'max_depth':list(range(5,100))+[None],'ccp_alpha':np.arange(.1,2,.1)     }},\n",
    "    {'name': 'LightGB' , 'model': LGBMRegressor(n_jobs=-1) , 'params': {'n_estimators':list(range(100,500,1)),'boosting_type':['gbdt','goss','rf'],'max_depth':list(range(5,100))+[None],'reg_alpha':np.arange(0,1,.1),'reg_lambda':np.arange(0,1,.1)      }},\n",
    "    {'name': 'ElastNt' , 'model': ElasticNet()   , 'params': {'alpha': np.arange(1,5,.5), 'l1_ratio':np.arange(0,1.1,.1)   }}\n",
    "]"
   ]
  },
  {
   "cell_type": "code",
   "execution_count": null,
   "metadata": {
    "ExecuteTime": {
     "end_time": "2021-07-28T20:59:01.564085Z",
     "start_time": "2021-07-28T20:48:42.731406Z"
    }
   },
   "outputs": [],
   "source": [
    "results = []\n",
    "\n",
    "for algo in algoritms:\n",
    "    results.append((  algo['name'],  RandomizedSearchCV(algo['model'],algo['params'], cv=10 ).fit(X_train,y_train)    ))\n",
    "    #break"
   ]
  },
  {
   "cell_type": "code",
   "execution_count": 42,
   "metadata": {
    "ExecuteTime": {
     "end_time": "2021-07-28T20:59:40.019139Z",
     "start_time": "2021-07-28T20:59:39.999139Z"
    }
   },
   "outputs": [
    {
     "name": "stdout",
     "output_type": "stream",
     "text": [
      "KNeighbors 0.567265768043901 {'weights': 'distance', 'n_neighbors': 4}\n",
      "BagReg 0.8579644780759914 {'n_estimators': 16, 'base_estimator': DecisionTreeRegressor()}\n",
      "Aboost 0.8648752103190478 {'n_estimators': 29, 'loss': 'exponential', 'learning_rate': 2.0, 'base_estimator': DecisionTreeRegressor()}\n",
      "Gboost 0.7458463371412677 {'n_estimators': 158, 'loss': 'huber', 'learning_rate': 0.30000000000000004, 'criterion': 'mse', 'ccp_alpha': 1.0}\n",
      "RandFrst 0.8297650164135346 {'n_estimators': 363, 'max_depth': 12, 'criterion': 'mse', 'ccp_alpha': 0.5}\n",
      "LightGB 0.8565104854162204 {'reg_lambda': 0.4, 'reg_alpha': 0.5, 'n_estimators': 115, 'max_depth': 83, 'boosting_type': 'gbdt'}\n",
      "ElastNt 0.6658485374233262 {'l1_ratio': 0.0, 'alpha': 1.0}\n"
     ]
    }
   ],
   "source": [
    "for result in results:\n",
    "    print(result[0], result[1].best_score_, result[1].best_params_)"
   ]
  },
  {
   "cell_type": "code",
   "execution_count": 43,
   "metadata": {
    "ExecuteTime": {
     "end_time": "2021-07-28T21:00:41.877226Z",
     "start_time": "2021-07-28T21:00:41.737226Z"
    }
   },
   "outputs": [
    {
     "name": "stdout",
     "output_type": "stream",
     "text": [
      "Validation Array Scores:\n",
      "-----------------------------------\n",
      "KNeighbors  RMSE =  6.271202839294385\n",
      "BagReg  RMSE =  3.3000382367950243\n",
      "Aboost  RMSE =  3.6040729883373843\n",
      "Gboost  RMSE =  4.363842958819417\n",
      "RandFrst  RMSE =  3.4107509534354947\n",
      "LightGB  RMSE =  3.528412452364783\n",
      "ElastNt  RMSE =  5.054606265158046\n"
     ]
    }
   ],
   "source": [
    "print( 'Validation Array Scores:' )\n",
    "print('-'*35)\n",
    "\n",
    "for result in results:\n",
    "    y_pred = result[1].best_estimator_.predict(X_test)\n",
    "    print( result[0] , ' RMSE = ', mean_squared_error(y_test,y_pred)**.5   )"
   ]
  },
  {
   "cell_type": "markdown",
   "metadata": {},
   "source": [
    "### Вывод: \n",
    "- На train самый лучший результат показал: \n",
    "    1. Aboost (0.86)\n",
    "    1. BagReg (0.8579)\n",
    "    1. LightGB (0.856)\n",
    "- На валидационной выборке самый лучший результат показал:  \n",
    "    1. BagReg  (RMSE =  3.3)\n",
    "    1. RandFrst  (RMSE =  3.41)\n",
    "    1. LightGB  (RMSE =  3.52)\n",
    "    \n",
    "То есть, лучший результат на тестовой выборке еще не значит лучший результат на валидационной. Хотелось бы отметить BagReg на дереве показал топовый резульат на трейне и на валидации. "
   ]
  }
 ],
 "metadata": {
  "kernelspec": {
   "display_name": "Python 3",
   "language": "python",
   "name": "python3"
  },
  "language_info": {
   "codemirror_mode": {
    "name": "ipython",
    "version": 3
   },
   "file_extension": ".py",
   "mimetype": "text/x-python",
   "name": "python",
   "nbconvert_exporter": "python",
   "pygments_lexer": "ipython3",
   "version": "3.8.5"
  }
 },
 "nbformat": 4,
 "nbformat_minor": 4
}
