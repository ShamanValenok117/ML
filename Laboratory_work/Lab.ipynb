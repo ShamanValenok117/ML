{
 "cells": [
  {
   "cell_type": "markdown",
   "metadata": {},
   "source": [
    "# ДЗ\n",
    "\n",
    ">### Relevant Information:\n",
    "   -- This data file contains details of various nations and their flags.\n",
    "      In this file the fields are separated by spaces (not commas).  With\n",
    "      this data you can try things like predicting the religion of a country\n",
    "      from its size and the colours in its flag.  \n",
    "   -- 10 attributes are numeric-valued.  The remainder are either Boolean-\n",
    "      or nominal-valued.\n",
    "  \n",
    "\n",
    "1. Загрузить данные из папки Data Folder\n",
    "1. Провести описательный анализ предложенных данных\n",
    "1. Предложить стратегию по работе с категориальными переменными\n",
    "1. Провести углубленный анализ данных (корреляции переменных, визуализация взаимосвязей)\n",
    "1. Следует ли увеличивать/уменьшать размерность признакового множества (какой подход выдает лучшие результаты)\n",
    "1. Следует ли балансировать классы путем oversampling/undersampling? (улучшает ли подход результаты)\n",
    "1. Сделать кросс-валидацию данных с использованием подхода K-fold (n_folds=3)\n",
    "1. Решить задачу мультиклассовой классификации и предсказать религию страны (religion) по деталям ее флага\n",
    "1. Рассчитать Feature Importances для переменных модели\n",
    "1. Проверить качество классификации с использованием следующих метрик: Accuracy, F1-Score, Precision, Recall\n",
    "1. Построить Confusion Matrix для ваших результатов\n"
   ]
  },
  {
   "cell_type": "code",
   "execution_count": 1,
   "metadata": {
    "ExecuteTime": {
     "end_time": "2021-07-29T16:18:00.577156Z",
     "start_time": "2021-07-29T16:17:58.077152Z"
    }
   },
   "outputs": [],
   "source": [
    "import pandas as pd\n",
    "import numpy as np\n",
    "import matplotlib.pyplot as plt\n",
    "%matplotlib inline\n",
    "import seaborn as sns\n",
    "\n",
    "\n",
    "from sklearn.model_selection import train_test_split\n",
    "\n",
    "from sklearn.model_selection import GridSearchCV\n"
   ]
  },
  {
   "cell_type": "code",
   "execution_count": 2,
   "metadata": {
    "ExecuteTime": {
     "end_time": "2021-07-29T16:18:00.627156Z",
     "start_time": "2021-07-29T16:18:00.577156Z"
    }
   },
   "outputs": [
    {
     "data": {
      "text/html": [
       "<div>\n",
       "<style scoped>\n",
       "    .dataframe tbody tr th:only-of-type {\n",
       "        vertical-align: middle;\n",
       "    }\n",
       "\n",
       "    .dataframe tbody tr th {\n",
       "        vertical-align: top;\n",
       "    }\n",
       "\n",
       "    .dataframe thead th {\n",
       "        text-align: right;\n",
       "    }\n",
       "</style>\n",
       "<table border=\"1\" class=\"dataframe\">\n",
       "  <thead>\n",
       "    <tr style=\"text-align: right;\">\n",
       "      <th></th>\n",
       "      <th>name</th>\n",
       "      <th>landmass</th>\n",
       "      <th>zone</th>\n",
       "      <th>area</th>\n",
       "      <th>population</th>\n",
       "      <th>language</th>\n",
       "      <th>religion</th>\n",
       "      <th>bars</th>\n",
       "      <th>stripes</th>\n",
       "      <th>colours</th>\n",
       "      <th>...</th>\n",
       "      <th>saltires</th>\n",
       "      <th>quarters</th>\n",
       "      <th>sunstars</th>\n",
       "      <th>crescent</th>\n",
       "      <th>triangle</th>\n",
       "      <th>icon</th>\n",
       "      <th>animate</th>\n",
       "      <th>text</th>\n",
       "      <th>topleft</th>\n",
       "      <th>botright</th>\n",
       "    </tr>\n",
       "  </thead>\n",
       "  <tbody>\n",
       "    <tr>\n",
       "      <th>0</th>\n",
       "      <td>Afghanistan</td>\n",
       "      <td>5</td>\n",
       "      <td>1</td>\n",
       "      <td>648</td>\n",
       "      <td>16</td>\n",
       "      <td>10</td>\n",
       "      <td>2</td>\n",
       "      <td>0</td>\n",
       "      <td>3</td>\n",
       "      <td>5</td>\n",
       "      <td>...</td>\n",
       "      <td>0</td>\n",
       "      <td>0</td>\n",
       "      <td>1</td>\n",
       "      <td>0</td>\n",
       "      <td>0</td>\n",
       "      <td>1</td>\n",
       "      <td>0</td>\n",
       "      <td>0</td>\n",
       "      <td>black</td>\n",
       "      <td>green</td>\n",
       "    </tr>\n",
       "    <tr>\n",
       "      <th>1</th>\n",
       "      <td>Albania</td>\n",
       "      <td>3</td>\n",
       "      <td>1</td>\n",
       "      <td>29</td>\n",
       "      <td>3</td>\n",
       "      <td>6</td>\n",
       "      <td>6</td>\n",
       "      <td>0</td>\n",
       "      <td>0</td>\n",
       "      <td>3</td>\n",
       "      <td>...</td>\n",
       "      <td>0</td>\n",
       "      <td>0</td>\n",
       "      <td>1</td>\n",
       "      <td>0</td>\n",
       "      <td>0</td>\n",
       "      <td>0</td>\n",
       "      <td>1</td>\n",
       "      <td>0</td>\n",
       "      <td>red</td>\n",
       "      <td>red</td>\n",
       "    </tr>\n",
       "    <tr>\n",
       "      <th>2</th>\n",
       "      <td>Algeria</td>\n",
       "      <td>4</td>\n",
       "      <td>1</td>\n",
       "      <td>2388</td>\n",
       "      <td>20</td>\n",
       "      <td>8</td>\n",
       "      <td>2</td>\n",
       "      <td>2</td>\n",
       "      <td>0</td>\n",
       "      <td>3</td>\n",
       "      <td>...</td>\n",
       "      <td>0</td>\n",
       "      <td>0</td>\n",
       "      <td>1</td>\n",
       "      <td>1</td>\n",
       "      <td>0</td>\n",
       "      <td>0</td>\n",
       "      <td>0</td>\n",
       "      <td>0</td>\n",
       "      <td>green</td>\n",
       "      <td>white</td>\n",
       "    </tr>\n",
       "  </tbody>\n",
       "</table>\n",
       "<p>3 rows × 30 columns</p>\n",
       "</div>"
      ],
      "text/plain": [
       "          name  landmass  zone  area  population  language  religion  bars  \\\n",
       "0  Afghanistan         5     1   648          16        10         2     0   \n",
       "1      Albania         3     1    29           3         6         6     0   \n",
       "2      Algeria         4     1  2388          20         8         2     2   \n",
       "\n",
       "   stripes  colours  ...  saltires  quarters  sunstars  crescent  triangle  \\\n",
       "0        3        5  ...         0         0         1         0         0   \n",
       "1        0        3  ...         0         0         1         0         0   \n",
       "2        0        3  ...         0         0         1         1         0   \n",
       "\n",
       "   icon  animate text  topleft  botright  \n",
       "0     1        0    0    black     green  \n",
       "1     0        1    0      red       red  \n",
       "2     0        0    0    green     white  \n",
       "\n",
       "[3 rows x 30 columns]"
      ]
     },
     "execution_count": 2,
     "metadata": {},
     "output_type": "execute_result"
    }
   ],
   "source": [
    "columns = str('name  landmass  zone  area  population language   religion  bars stripes colours red green blue gold white black orange mainhue   circles crosses saltires quarters sunstars crescent triangle icon animate  text  topleft  botright ').split()\n",
    "df = pd.read_csv('flag.data.csv', names=columns  )\n",
    "df.head(3) "
   ]
  },
  {
   "cell_type": "code",
   "execution_count": 3,
   "metadata": {
    "ExecuteTime": {
     "end_time": "2021-07-29T16:18:00.647156Z",
     "start_time": "2021-07-29T16:18:00.627156Z"
    }
   },
   "outputs": [],
   "source": [
    "# 'name' уникальная для каждого флага"
   ]
  },
  {
   "cell_type": "markdown",
   "metadata": {},
   "source": [
    "#### ДЗ№3. Предложить стратегию по работе с категориальными переменными\n",
    "\n",
    "Разбить на категории из 2х признаков и из признаков>2"
   ]
  },
  {
   "cell_type": "code",
   "execution_count": 4,
   "metadata": {
    "ExecuteTime": {
     "end_time": "2021-07-29T16:18:00.657156Z",
     "start_time": "2021-07-29T16:18:00.647156Z"
    }
   },
   "outputs": [],
   "source": [
    "categories = ['landmass','zone','language','red','green','blue','gold','white','black','orange','crescent','triangle','icon','animate','text','mainhue','topleft','botright' ]"
   ]
  },
  {
   "cell_type": "code",
   "execution_count": 5,
   "metadata": {
    "ExecuteTime": {
     "end_time": "2021-07-29T16:18:00.677156Z",
     "start_time": "2021-07-29T16:18:00.657156Z"
    }
   },
   "outputs": [],
   "source": [
    "numerical = [i for i in columns if i not in categories + ['name', 'religion']]"
   ]
  },
  {
   "cell_type": "code",
   "execution_count": 6,
   "metadata": {
    "ExecuteTime": {
     "end_time": "2021-07-29T16:18:00.697156Z",
     "start_time": "2021-07-29T16:18:00.677156Z"
    }
   },
   "outputs": [
    {
     "data": {
      "text/plain": [
       "'red , green , blue , gold , white , black , orange , crescent , triangle , icon , animate , text'"
      ]
     },
     "execution_count": 6,
     "metadata": {},
     "output_type": "execute_result"
    }
   ],
   "source": [
    "# отсеем ббиноминальные \n",
    "binomin = []\n",
    "for i in categories:\n",
    "    if df[i].nunique()==2: binomin.append(i)\n",
    "' , '.join(binomin)"
   ]
  },
  {
   "cell_type": "code",
   "execution_count": 7,
   "metadata": {
    "ExecuteTime": {
     "end_time": "2021-07-29T16:18:00.707156Z",
     "start_time": "2021-07-29T16:18:00.697156Z"
    }
   },
   "outputs": [],
   "source": [
    "categories = [i for i in categories if i not in binomin ]"
   ]
  },
  {
   "cell_type": "markdown",
   "metadata": {},
   "source": [
    "#### ДЗ№4. Провести углубленный анализ данных (корреляции переменных, визуализация взаимосвязей)"
   ]
  },
  {
   "cell_type": "code",
   "execution_count": 8,
   "metadata": {
    "ExecuteTime": {
     "end_time": "2021-07-29T16:18:02.929162Z",
     "start_time": "2021-07-29T16:18:00.707156Z"
    }
   },
   "outputs": [
    {
     "data": {
      "text/plain": [
       "<AxesSubplot:>"
      ]
     },
     "execution_count": 8,
     "metadata": {},
     "output_type": "execute_result"
    },
    {
     "data": {
      "image/png": "[encoded data removed]",
      "text/plain": [
       "<Figure size 864x720 with 2 Axes>"
      ]
     },
     "metadata": {
      "needs_background": "light"
     },
     "output_type": "display_data"
    }
   ],
   "source": [
    "# проведем сравнение коэф корреляции, так как есть категории, то буду использовать метод Спеармана\n",
    "corr_coeff = df[numerical+binomin].corr(method='spearman' )\n",
    "plt.figure(figsize=(12,10))\n",
    "sns.heatmap(corr_coeff, cmap='seismic')"
   ]
  },
  {
   "cell_type": "markdown",
   "metadata": {
    "ExecuteTime": {
     "end_time": "2021-07-29T12:07:44.330073Z",
     "start_time": "2021-07-29T12:07:44.320073Z"
    }
   },
   "source": [
    "Моно заметить:\n",
    "- 'area' & 'population' имеют сильную корреляцию, будет полезно исключить один из признаков, например 'area' так как population - сразу понятно о чем идет речь\n",
    "- 'crosses' & 'saltires' имеют сильную корреляцию, будет полезно исключить один из признаков, например 'saltires' так как crosses - сразу понятно о чем идет речь и 'qualters' тоже сильно коррелирует с  'saltires'. Одним выстрелом убъем 2х зайцев.\n",
    "- Еще очень сильно коррелируют 'animate' или 'colours' можно убрать один из них, но потом, на финальном сравнении."
   ]
  },
  {
   "cell_type": "code",
   "execution_count": 9,
   "metadata": {
    "ExecuteTime": {
     "end_time": "2021-07-29T16:18:02.939162Z",
     "start_time": "2021-07-29T16:18:02.929162Z"
    }
   },
   "outputs": [],
   "source": [
    "df.drop( columns=['area','saltires'],inplace=True)"
   ]
  },
  {
   "cell_type": "markdown",
   "metadata": {},
   "source": [
    "\n",
    "#### ДЗ№5.  Следует ли увеличивать/уменьшать размерность признакового множества (какой подход выдает лучшие результаты)"
   ]
  },
  {
   "cell_type": "code",
   "execution_count": 10,
   "metadata": {
    "ExecuteTime": {
     "end_time": "2021-07-29T16:18:02.959162Z",
     "start_time": "2021-07-29T16:18:02.939162Z"
    }
   },
   "outputs": [
    {
     "data": {
      "text/plain": [
       "(194, 28)"
      ]
     },
     "execution_count": 10,
     "metadata": {},
     "output_type": "execute_result"
    }
   ],
   "source": [
    "df.shape"
   ]
  },
  {
   "cell_type": "markdown",
   "metadata": {},
   "source": [
    "объектов катастрофически мало, нужен бутстрап. \n",
    "1. соберем финальный датасет \n",
    "1. разобъем на треин тест\n",
    "1. создадим бутстрэп\n"
   ]
  },
  {
   "cell_type": "markdown",
   "metadata": {},
   "source": [
    "#### ДЗ№6.  Следует ли балансировать классы путем oversampling/undersampling? (улучшает ли подход результаты)"
   ]
  },
  {
   "cell_type": "code",
   "execution_count": 11,
   "metadata": {
    "ExecuteTime": {
     "end_time": "2021-07-29T16:18:03.411163Z",
     "start_time": "2021-07-29T16:18:02.959162Z"
    }
   },
   "outputs": [
    {
     "name": "stdout",
     "output_type": "stream",
     "text": [
      "religion\n",
      "0    40\n",
      "1    60\n",
      "2    36\n",
      "3     8\n",
      "4     4\n",
      "5    27\n",
      "6    15\n",
      "7     4\n",
      "Name: name, dtype: int64\n"
     ]
    },
    {
     "data": {
      "text/plain": [
       "<BarContainer object of 8 artists>"
      ]
     },
     "execution_count": 11,
     "metadata": {},
     "output_type": "execute_result"
    },
    {
     "data": {
      "image/png": "[encoded data removed]",
      "text/plain": [
       "<Figure size 432x288 with 1 Axes>"
      ]
     },
     "metadata": {
      "needs_background": "light"
     },
     "output_type": "display_data"
    }
   ],
   "source": [
    "# проверим распределение по классам:\n",
    "classes = df.groupby(by='religion').name.count()\n",
    "print(classes)\n",
    "plt.barh(y = range(len(set(df.religion))),  width=classes )"
   ]
  },
  {
   "cell_type": "markdown",
   "metadata": {},
   "source": [
    "Классы не сбалансированны. Добавим bootstraps в классы 3,4,5,6,7 до количества 30шт. "
   ]
  },
  {
   "cell_type": "code",
   "execution_count": 12,
   "metadata": {
    "ExecuteTime": {
     "end_time": "2021-07-29T16:18:03.471164Z",
     "start_time": "2021-07-29T16:18:03.411163Z"
    }
   },
   "outputs": [],
   "source": [
    "classes = dict(classes)\n",
    "missed_classes = [3,4,5,6,7]\n",
    "\n",
    "for i in missed_classes:\n",
    "    classes_index = df[df.religion==i].index\n",
    "\n",
    "    samples = 30 - classes[i]\n",
    "\n",
    "    random_samples = np.random.choice(classes_index, samples, replace=True )\n",
    "    df = pd.concat( (df, df.loc[random_samples,:]),axis=0)"
   ]
  },
  {
   "cell_type": "code",
   "execution_count": 13,
   "metadata": {
    "ExecuteTime": {
     "end_time": "2021-07-29T16:18:03.791164Z",
     "start_time": "2021-07-29T16:18:03.471164Z"
    }
   },
   "outputs": [
    {
     "name": "stdout",
     "output_type": "stream",
     "text": [
      "religion\n",
      "0    40\n",
      "1    60\n",
      "2    36\n",
      "3    30\n",
      "4    30\n",
      "5    30\n",
      "6    30\n",
      "7    30\n",
      "Name: name, dtype: int64\n"
     ]
    },
    {
     "data": {
      "text/plain": [
       "<BarContainer object of 8 artists>"
      ]
     },
     "execution_count": 13,
     "metadata": {},
     "output_type": "execute_result"
    },
    {
     "data": {
      "image/png": "[encoded data removed]",
      "text/plain": [
       "<Figure size 432x288 with 1 Axes>"
      ]
     },
     "metadata": {
      "needs_background": "light"
     },
     "output_type": "display_data"
    }
   ],
   "source": [
    "# заново проверим распределение по классам:\n",
    "new_classes = df.groupby(by='religion').name.count()\n",
    "print(new_classes)\n",
    "plt.barh(y = range(len(set(df.religion))),  width=new_classes )"
   ]
  },
  {
   "cell_type": "code",
   "execution_count": 14,
   "metadata": {
    "ExecuteTime": {
     "end_time": "2021-07-29T16:18:03.811164Z",
     "start_time": "2021-07-29T16:18:03.801164Z"
    }
   },
   "outputs": [],
   "source": [
    "df = df.reset_index().drop(columns='index')"
   ]
  },
  {
   "cell_type": "markdown",
   "metadata": {},
   "source": [
    "#### ДЗ№7.  Сделать кросс-валидацию данных с использованием подхода K-fold (n_folds=3)\n",
    "#### ДЗ№8.  Решить задачу мультиклассовой классификации и предсказать религию страны (religion) по деталям ее флага\n",
    "#### ДЗ№9.  Рассчитать Feature Importances для переменных модели\n",
    "\n",
    "выполним все по порядку, сначала подготовим датасет.\n",
    "1. уберем и закодируем бинарные классы\n",
    "1. сделаем дамми из классов\n",
    "1. создадим финальный датасет\n",
    "1. Сделаем бутстрэп до 5000 значений.\n",
    "1. Разобъем на трейн тест\n",
    "1. Создадим RandomForest, Bagging (на DecisionTreeClassifiers) или Logit  так как они умеют показывать значимость признаков. \n",
    "1. Создадим K-fold cross val score по указанным алгоритмам\n",
    "1. Выберем самый лучший алгоритм по score\n",
    "1. вытащим feature importances из алгоритма"
   ]
  },
  {
   "cell_type": "markdown",
   "metadata": {},
   "source": [
    "##### уберем и закодируем бинарные классы"
   ]
  },
  {
   "cell_type": "code",
   "execution_count": 15,
   "metadata": {
    "ExecuteTime": {
     "end_time": "2021-07-29T16:18:03.831164Z",
     "start_time": "2021-07-29T16:18:03.811164Z"
    }
   },
   "outputs": [],
   "source": [
    "from sklearn.preprocessing import LabelEncoder\n",
    "le = LabelEncoder()"
   ]
  },
  {
   "cell_type": "code",
   "execution_count": 16,
   "metadata": {
    "ExecuteTime": {
     "end_time": "2021-07-29T16:18:03.851164Z",
     "start_time": "2021-07-29T16:18:03.831164Z"
    }
   },
   "outputs": [],
   "source": [
    "categories = [i for i in categories if i not in ['religion']]\n",
    "numerical = [i for i in numerical if i not in ['religion']]"
   ]
  },
  {
   "cell_type": "code",
   "execution_count": 17,
   "metadata": {
    "ExecuteTime": {
     "end_time": "2021-07-29T16:18:03.871164Z",
     "start_time": "2021-07-29T16:18:03.851164Z"
    }
   },
   "outputs": [],
   "source": [
    "dummy_binary = pd.DataFrame({i:le.fit_transform( df[i] ) for i in binomin } )\n",
    "dummy_binary_descr = {i:(le.fit( df[i] ).classes_) for i in binomin }"
   ]
  },
  {
   "cell_type": "markdown",
   "metadata": {},
   "source": [
    "##### сделаем дамми из классов"
   ]
  },
  {
   "cell_type": "code",
   "execution_count": 18,
   "metadata": {
    "ExecuteTime": {
     "end_time": "2021-07-29T16:18:03.891164Z",
     "start_time": "2021-07-29T16:18:03.871164Z"
    }
   },
   "outputs": [],
   "source": [
    "# Создаем дамми:\n",
    "dummy = pd.get_dummies(df[categories], columns=categories)"
   ]
  },
  {
   "cell_type": "markdown",
   "metadata": {},
   "source": [
    "##### создадим финальный датасет"
   ]
  },
  {
   "cell_type": "code",
   "execution_count": 19,
   "metadata": {
    "ExecuteTime": {
     "end_time": "2021-07-29T16:18:03.921164Z",
     "start_time": "2021-07-29T16:18:03.891164Z"
    }
   },
   "outputs": [],
   "source": [
    "numerical = [i for i in numerical if i not in ['saltires', 'area']]"
   ]
  },
  {
   "cell_type": "code",
   "execution_count": 20,
   "metadata": {
    "ExecuteTime": {
     "end_time": "2021-07-29T16:18:03.941164Z",
     "start_time": "2021-07-29T16:18:03.921164Z"
    }
   },
   "outputs": [],
   "source": [
    "X = pd.concat( (df[numerical], dummy_binary , dummy ),axis=1  )"
   ]
  },
  {
   "cell_type": "code",
   "execution_count": 21,
   "metadata": {
    "ExecuteTime": {
     "end_time": "2021-07-29T16:18:03.961164Z",
     "start_time": "2021-07-29T16:18:03.941164Z"
    }
   },
   "outputs": [],
   "source": [
    "y = df.religion"
   ]
  },
  {
   "cell_type": "markdown",
   "metadata": {},
   "source": [
    "##### Сделаем бутстрэп до 2000 значений."
   ]
  },
  {
   "cell_type": "code",
   "execution_count": 22,
   "metadata": {
    "ExecuteTime": {
     "end_time": "2021-07-29T16:18:03.981164Z",
     "start_time": "2021-07-29T16:18:03.961164Z"
    }
   },
   "outputs": [],
   "source": [
    "samples = 2000\n",
    "\n",
    "random_samples = np.random.choice(list(X.index), samples, replace=True )\n",
    "X = X.loc[random_samples,:]\n",
    "y = y[random_samples]"
   ]
  },
  {
   "cell_type": "markdown",
   "metadata": {},
   "source": [
    "##### Разобъем на трейн тест"
   ]
  },
  {
   "cell_type": "code",
   "execution_count": 23,
   "metadata": {
    "ExecuteTime": {
     "end_time": "2021-07-29T16:18:04.001164Z",
     "start_time": "2021-07-29T16:18:03.981164Z"
    }
   },
   "outputs": [],
   "source": [
    "X_train, X_test, y_train, y_test = train_test_split(X,y,test_size=.3)"
   ]
  },
  {
   "cell_type": "code",
   "execution_count": 24,
   "metadata": {
    "ExecuteTime": {
     "end_time": "2021-07-29T16:18:04.041164Z",
     "start_time": "2021-07-29T16:18:04.001164Z"
    }
   },
   "outputs": [],
   "source": [
    "# Нормализируем\n",
    "from sklearn.preprocessing import StandardScaler\n",
    "scaler = StandardScaler()\n",
    "X_train_scaled = scaler.fit_transform(X_train)\n",
    "X_test_scaled = scaler.fit_transform(X_test)"
   ]
  },
  {
   "cell_type": "markdown",
   "metadata": {},
   "source": [
    "#### Создадим RandomForest, Bagging (на DecisionTreeClassifiers) или Logit так как они умеют показывать значимость признаков. "
   ]
  },
  {
   "cell_type": "code",
   "execution_count": 25,
   "metadata": {
    "ExecuteTime": {
     "end_time": "2021-07-29T16:18:04.281165Z",
     "start_time": "2021-07-29T16:18:04.041164Z"
    }
   },
   "outputs": [],
   "source": [
    "from sklearn.ensemble import RandomForestClassifier,BaggingClassifier\n",
    "from sklearn.tree import DecisionTreeClassifier\n",
    "from sklearn.linear_model import LogisticRegression\n",
    "from sklearn.model_selection import GridSearchCV,RandomizedSearchCV"
   ]
  },
  {
   "cell_type": "code",
   "execution_count": 26,
   "metadata": {
    "ExecuteTime": {
     "end_time": "2021-07-29T16:18:04.301165Z",
     "start_time": "2021-07-29T16:18:04.281165Z"
    }
   },
   "outputs": [],
   "source": [
    "\n",
    "algoritms = [\n",
    "    {'name': 'RandFrst' , 'model': RandomForestClassifier(n_jobs=-1)   , 'params': {'n_estimators':list(range(100,500,1)),'criterion': [\"gini\", \"entropy\"],'max_depth':list(range(5,100))+[None],'ccp_alpha':np.arange(.1,2,.1)     }},\n",
    "    {'name': 'BagTree' , 'model': BaggingClassifier(n_jobs=-1)   , 'params': { 'base_estimator':[RandomForestClassifier(),DecisionTreeClassifier()],'n_estimators':list(range(3,23)) }},\n",
    "    {'name': 'BagLogit' , 'model': BaggingClassifier(n_jobs=-1)   , 'params': { 'base_estimator':[LogisticRegression(solver='saga',penalty = 'elasticnet',n_jobs=-1,l1_ratio=.5) ],'n_estimators':list(range(3,23)) }},\n",
    "    {'name': 'Logit' , 'model': LogisticRegression(solver='saga',penalty = 'elasticnet',n_jobs=-1,max_iter=1000)   , 'params': { 'multi_class':['ovr', 'multinomial'],'C':np.arange(0,5,.2),'max_iter':list(range(100,500)), 'l1_ratio':list(np.arange(0,1.01,.01)) }},\n",
    "]"
   ]
  },
  {
   "cell_type": "code",
   "execution_count": null,
   "metadata": {
    "ExecuteTime": {
     "end_time": "2021-07-29T16:27:39.862026Z",
     "start_time": "2021-07-29T16:19:00.762606Z"
    }
   },
   "outputs": [],
   "source": [
    "results = []\n",
    "\n",
    "for algo in algoritms:\n",
    "    results.append((  algo['name'],  RandomizedSearchCV(algo['model'],algo['params'], cv=4 ).fit(X_train_scaled,y_train)    ))"
   ]
  },
  {
   "cell_type": "code",
   "execution_count": 30,
   "metadata": {
    "ExecuteTime": {
     "end_time": "2021-07-29T16:27:39.882026Z",
     "start_time": "2021-07-29T16:27:39.862026Z"
    }
   },
   "outputs": [
    {
     "name": "stdout",
     "output_type": "stream",
     "text": [
      "RandFrst 0.7978571428571429 {'n_estimators': 157, 'max_depth': 52, 'criterion': 'entropy', 'ccp_alpha': 0.1}\n",
      "BagTree 0.9985714285714286 {'n_estimators': 11, 'base_estimator': DecisionTreeClassifier()}\n",
      "BagLogit 0.9892857142857143 {'n_estimators': 19, 'base_estimator': LogisticRegression(l1_ratio=0.5, n_jobs=-1, penalty='elasticnet', solver='saga')}\n",
      "Logit 0.9978571428571429 {'multi_class': 'multinomial', 'max_iter': 320, 'l1_ratio': 0.64, 'C': 4.4}\n"
     ]
    }
   ],
   "source": [
    "for result in results:\n",
    "    print(result[0], result[1].best_score_, result[1].best_params_)"
   ]
  },
  {
   "cell_type": "markdown",
   "metadata": {},
   "source": [
    "Хоть проводили и RandomiedSearcCV, думаю что результат на GridSearchCV, будет таким же.  \n",
    "\n",
    "Лучший алгоритм: "
   ]
  },
  {
   "cell_type": "code",
   "execution_count": 46,
   "metadata": {
    "ExecuteTime": {
     "end_time": "2021-07-29T16:36:24.320686Z",
     "start_time": "2021-07-29T16:36:24.310686Z"
    }
   },
   "outputs": [],
   "source": [
    "best_algoritm = results[3][1].best_estimator_"
   ]
  },
  {
   "cell_type": "code",
   "execution_count": 50,
   "metadata": {
    "ExecuteTime": {
     "end_time": "2021-07-29T16:37:10.355632Z",
     "start_time": "2021-07-29T16:37:10.348132Z"
    }
   },
   "outputs": [
    {
     "data": {
      "text/plain": [
       "LogisticRegression(C=4.4, l1_ratio=0.64, max_iter=320,\n",
       "                   multi_class='multinomial', n_jobs=-1, penalty='elasticnet',\n",
       "                   solver='saga')"
      ]
     },
     "execution_count": 50,
     "metadata": {},
     "output_type": "execute_result"
    }
   ],
   "source": [
    "results[3][1].best_estimator_."
   ]
  },
  {
   "cell_type": "markdown",
   "metadata": {},
   "source": [
    "#### ДЗ№10.  Рассчитать Feature Importances для переменных модели"
   ]
  },
  {
   "cell_type": "code",
   "execution_count": 55,
   "metadata": {
    "ExecuteTime": {
     "end_time": "2021-07-29T16:40:32.711954Z",
     "start_time": "2021-07-29T16:40:32.691954Z"
    }
   },
   "outputs": [],
   "source": [
    "religion_columns = ['Catholic','Other Christian', 'Muslim', 'Buddhist', 'Hindu','Ethnic', 'Marxist', 'Others'] "
   ]
  },
  {
   "cell_type": "code",
   "execution_count": 78,
   "metadata": {
    "ExecuteTime": {
     "end_time": "2021-07-29T16:53:54.169019Z",
     "start_time": "2021-07-29T16:53:54.159019Z"
    }
   },
   "outputs": [],
   "source": [
    "features = pd.DataFrame(data=best_algoritm.coef_,index=religion_columns, columns=X_train.columns)"
   ]
  },
  {
   "cell_type": "code",
   "execution_count": 70,
   "metadata": {
    "ExecuteTime": {
     "end_time": "2021-07-29T16:49:55.257675Z",
     "start_time": "2021-07-29T16:49:55.247675Z"
    }
   },
   "outputs": [],
   "source": [
    "best_features= []\n",
    "for i in features.index:\n",
    "    a= features.loc[i,:].sort_values(ascending=False).head(10)\n",
    "    best_features.append((i,a))"
   ]
  },
  {
   "cell_type": "code",
   "execution_count": 77,
   "metadata": {
    "ExecuteTime": {
     "end_time": "2021-07-29T16:53:19.663971Z",
     "start_time": "2021-07-29T16:53:15.623965Z"
    }
   },
   "outputs": [
    {
     "data": {
      "image/png": "[encoded data removed]",
      "text/plain": [
       "<Figure size 1008x864 with 8 Axes>"
      ]
     },
     "metadata": {
      "needs_background": "light"
     },
     "output_type": "display_data"
    }
   ],
   "source": [
    "fig = plt.figure(figsize=(14,12))\n",
    "for i in range(8):\n",
    "    fig.add_subplot(421+i)\n",
    "    plt.barh(y=range(10),width=best_features[i][1],tick_label=best_features[i][1].index  )\n",
    "    plt.title(best_features[i][0])"
   ]
  },
  {
   "cell_type": "markdown",
   "metadata": {},
   "source": [
    "#### ДЗ№11.  Проверить качество классификации с использованием следующих метрик: Accuracy, F1-Score, Precision, Recall"
   ]
  },
  {
   "cell_type": "code",
   "execution_count": 80,
   "metadata": {
    "ExecuteTime": {
     "end_time": "2021-07-29T16:54:35.695078Z",
     "start_time": "2021-07-29T16:54:35.675078Z"
    }
   },
   "outputs": [],
   "source": [
    "from sklearn.metrics import accuracy_score, f1_score, precision_score, recall_score"
   ]
  },
  {
   "cell_type": "code",
   "execution_count": 89,
   "metadata": {
    "ExecuteTime": {
     "end_time": "2021-07-29T17:02:26.529741Z",
     "start_time": "2021-07-29T17:02:26.499741Z"
    }
   },
   "outputs": [
    {
     "name": "stdout",
     "output_type": "stream",
     "text": [
      "accuracy_score = 1.0,f1_score = 1.0,precision_score = 1.0,  recall_score = 1.0\n"
     ]
    }
   ],
   "source": [
    "y_pred = best_algoritm.predict(X_test_scaled)\n",
    "acc_score = accuracy_score(y_test,y_pred)\n",
    "f1 = f1_score(y_test,y_pred,average='macro')\n",
    "precision = precision_score(y_test,y_pred,average='macro')\n",
    "recall = recall_score(y_test,y_pred,average='micro')\n",
    "print(f'accuracy_score = {acc_score},f1_score = {f1},precision_score = {precision},  recall_score = {recall}')"
   ]
  },
  {
   "cell_type": "markdown",
   "metadata": {},
   "source": [
    "#### ДЗ№12.  Построить Confusion Matrix для ваших результатов"
   ]
  },
  {
   "cell_type": "code",
   "execution_count": 91,
   "metadata": {
    "ExecuteTime": {
     "end_time": "2021-07-29T17:02:40.531761Z",
     "start_time": "2021-07-29T17:02:40.521761Z"
    }
   },
   "outputs": [],
   "source": [
    "from sklearn.metrics import confusion_matrix"
   ]
  },
  {
   "cell_type": "code",
   "execution_count": 92,
   "metadata": {
    "ExecuteTime": {
     "end_time": "2021-07-29T17:02:53.134778Z",
     "start_time": "2021-07-29T17:02:53.124778Z"
    }
   },
   "outputs": [
    {
     "data": {
      "text/plain": [
       "array([[ 79,   0,   0,   0,   0,   0,   0,   0],\n",
       "       [  0, 128,   0,   0,   0,   0,   0,   0],\n",
       "       [  0,   0,  73,   0,   0,   0,   0,   0],\n",
       "       [  0,   0,   0,  64,   0,   0,   0,   0],\n",
       "       [  0,   0,   0,   0,  56,   0,   0,   0],\n",
       "       [  0,   0,   0,   0,   0,  74,   0,   0],\n",
       "       [  0,   0,   0,   0,   0,   0,  70,   0],\n",
       "       [  0,   0,   0,   0,   0,   0,   0,  56]], dtype=int64)"
      ]
     },
     "execution_count": 92,
     "metadata": {},
     "output_type": "execute_result"
    }
   ],
   "source": [
    "confusion_matrix(y_test,y_pred)"
   ]
  },
  {
   "cell_type": "code",
   "execution_count": null,
   "metadata": {},
   "outputs": [],
   "source": []
  },
  {
   "cell_type": "code",
   "execution_count": null,
   "metadata": {},
   "outputs": [],
   "source": []
  }
 ],
 "metadata": {
  "kernelspec": {
   "display_name": "Python 3",
   "language": "python",
   "name": "python3"
  },
  "language_info": {
   "codemirror_mode": {
    "name": "ipython",
    "version": 3
   },
   "file_extension": ".py",
   "mimetype": "text/x-python",
   "name": "python",
   "nbconvert_exporter": "python",
   "pygments_lexer": "ipython3",
   "version": "3.8.5"
  }
 },
 "nbformat": 4,
 "nbformat_minor": 4
}
