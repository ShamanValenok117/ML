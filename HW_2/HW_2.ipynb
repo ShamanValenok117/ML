{
 "cells": [
  {
   "cell_type": "code",
   "execution_count": 1,
   "metadata": {
    "ExecuteTime": {
     "end_time": "2021-06-30T07:32:15.194039Z",
     "start_time": "2021-06-30T07:32:11.983034Z"
    }
   },
   "outputs": [],
   "source": [
    "import numpy as np\n",
    "import pandas as pd\n",
    "from sklearn.datasets import make_blobs\n",
    "from sklearn.model_selection import train_test_split\n",
    "from sklearn.metrics import accuracy_score\n",
    "import matplotlib.pyplot as plt\n",
    "%matplotlib inline\n",
    "import random"
   ]
  },
  {
   "cell_type": "markdown",
   "metadata": {},
   "source": [
    "Сгенерируем произвольную выборку:"
   ]
  },
  {
   "cell_type": "code",
   "execution_count": 5,
   "metadata": {
    "ExecuteTime": {
     "end_time": "2021-06-30T07:32:23.015050Z",
     "start_time": "2021-06-30T07:32:23.005050Z"
    }
   },
   "outputs": [],
   "source": [
    "random.seed(7)\n",
    "X = np.random.randint(0,2,20).reshape(5,4) #randint(0,2,20).reshape(5,4) or randint(0,2,(5,4)) --> random((5,4),20) \n",
    "Y = np.random.randint(0,2,5).reshape(-1,1)"
   ]
  },
  {
   "cell_type": "code",
   "execution_count": 6,
   "metadata": {
    "ExecuteTime": {
     "end_time": "2021-06-30T07:32:23.825051Z",
     "start_time": "2021-06-30T07:32:23.815051Z"
    }
   },
   "outputs": [],
   "source": [
    "params =  np.random.random((1,5)).reshape(-1,1)  # коэф. 4  и 1 порог"
   ]
  },
  {
   "cell_type": "markdown",
   "metadata": {},
   "source": [
    "Создаем функцию нахождения логита(сигмоид от параметра х). Логит находится один для одного вектора х_i, можно сказать эквивалента вероятности, так как результат всегда находится от 0 до 1."
   ]
  },
  {
   "cell_type": "code",
   "execution_count": 2,
   "metadata": {
    "ExecuteTime": {
     "end_time": "2021-06-30T07:32:16.435041Z",
     "start_time": "2021-06-30T07:32:16.425041Z"
    }
   },
   "outputs": [],
   "source": [
    "def logit(x, alpha):\n",
    "    return (1/(1+np.exp( -x@alpha[:-1]   - alpha[-1] ) ) )"
   ]
  },
  {
   "cell_type": "code",
   "execution_count": 3,
   "metadata": {
    "ExecuteTime": {
     "end_time": "2021-06-30T07:32:17.155042Z",
     "start_time": "2021-06-30T07:32:17.135042Z"
    }
   },
   "outputs": [],
   "source": [
    "def logit_result(x, alpha):\n",
    "    return (logit(x, alpha).T > .5).astype(int)"
   ]
  },
  {
   "cell_type": "code",
   "execution_count": 7,
   "metadata": {
    "ExecuteTime": {
     "end_time": "2021-06-30T07:32:26.345055Z",
     "start_time": "2021-06-30T07:32:26.325055Z"
    }
   },
   "outputs": [
    {
     "data": {
      "text/plain": [
       "(array([[0.81415327, 0.89448147, 0.57748716, 0.72563697, 0.87930117]]),\n",
       " array([[1, 1, 1, 1, 1]]),\n",
       " array([[1, 1, 0, 1, 1]]))"
      ]
     },
     "execution_count": 7,
     "metadata": {},
     "output_type": "execute_result"
    }
   ],
   "source": [
    "logit(X,params).T, logit_result(X,params) , Y.T"
   ]
  },
  {
   "cell_type": "markdown",
   "metadata": {},
   "source": [
    "Функция потерь, которая принимает на вход результат логита и выдает на сколько результат отклоняется от настоящего значения.  \n",
    "\n",
    "Результат один для всех векторов x_i"
   ]
  },
  {
   "cell_type": "code",
   "execution_count": 8,
   "metadata": {
    "ExecuteTime": {
     "end_time": "2021-06-30T07:32:28.336057Z",
     "start_time": "2021-06-30T07:32:28.316057Z"
    }
   },
   "outputs": [],
   "source": [
    "def loss_function(x, alpha, y_):\n",
    "    a = logit(x,alpha)\n",
    "    l= -1. *( np.sum(  1.  *y_*np.log( a[y_!=0]+1e-6 )   ) + np.sum(  (1 - y_ )* np.log( 1. - a[y_==0] )  )   ) / len(y_)\n",
    "    return l\n"
   ]
  },
  {
   "cell_type": "markdown",
   "metadata": {},
   "source": [
    "Нужно оптимизировать параметры. Используем метод градиентного спуска: "
   ]
  },
  {
   "cell_type": "markdown",
   "metadata": {},
   "source": [
    "Будем искать производную функции потерь . Через **sympy**"
   ]
  },
  {
   "cell_type": "code",
   "execution_count": 151,
   "metadata": {
    "ExecuteTime": {
     "end_time": "2021-06-29T18:19:22.607903Z",
     "start_time": "2021-06-29T18:19:21.417901Z"
    }
   },
   "outputs": [],
   "source": [
    "import sympy \n",
    "from sympy import *\n",
    "x,y,a, w0 = symbols( 'x y a w0')"
   ]
  },
  {
   "cell_type": "code",
   "execution_count": 152,
   "metadata": {
    "ExecuteTime": {
     "end_time": "2021-06-29T18:19:23.367904Z",
     "start_time": "2021-06-29T18:19:22.927903Z"
    }
   },
   "outputs": [
    {
     "data": {
      "text/latex": [
       "$\\displaystyle \\frac{1}{e^{- a x - w_{0}} + 1}$"
      ],
      "text/plain": [
       "1/(exp(-a*x - w0) + 1)"
      ]
     },
     "execution_count": 152,
     "metadata": {},
     "output_type": "execute_result"
    }
   ],
   "source": [
    "expression = 1 / (1+ exp(-a*x - w0  ))\n",
    "expression"
   ]
  },
  {
   "cell_type": "code",
   "execution_count": 153,
   "metadata": {
    "ExecuteTime": {
     "end_time": "2021-06-29T18:19:24.857906Z",
     "start_time": "2021-06-29T18:19:24.817906Z"
    }
   },
   "outputs": [
    {
     "data": {
      "text/latex": [
       "$\\displaystyle - y \\log{\\left(\\frac{1}{e^{- a x - w_{0}} + 1} \\right)} - \\left(1 - y\\right) \\log{\\left(1 - \\frac{1}{e^{- a x - w_{0}} + 1} \\right)}$"
      ],
      "text/plain": [
       "-y*log(1/(exp(-a*x - w0) + 1)) - (1 - y)*log(1 - 1/(exp(-a*x - w0) + 1))"
      ]
     },
     "execution_count": 153,
     "metadata": {},
     "output_type": "execute_result"
    }
   ],
   "source": [
    "expression_loss_f = -y*log(expression) - (1-y)*log(1-expression)\n",
    "expression_loss_f"
   ]
  },
  {
   "cell_type": "code",
   "execution_count": 154,
   "metadata": {
    "ExecuteTime": {
     "end_time": "2021-06-29T18:19:26.257908Z",
     "start_time": "2021-06-29T18:19:25.937908Z"
    }
   },
   "outputs": [],
   "source": [
    "expression_loss_f_dif_a = simplify(  diff(expression_loss_f,a)  )\n",
    "expression_loss_f_dif_w0 = simplify(  diff(expression_loss_f,w0) )"
   ]
  },
  {
   "cell_type": "markdown",
   "metadata": {},
   "source": [
    "Теперь посчитаем для каждого x_i_j "
   ]
  },
  {
   "cell_type": "markdown",
   "metadata": {},
   "source": [
    "#### Cчитаем градиент:"
   ]
  },
  {
   "cell_type": "markdown",
   "metadata": {},
   "source": [
    "Считаем градиент для альфа (коэффициентов при х_i)"
   ]
  },
  {
   "cell_type": "code",
   "execution_count": 58,
   "metadata": {
    "ExecuteTime": {
     "end_time": "2021-06-28T18:46:03.130951Z",
     "start_time": "2021-06-28T18:46:03.120951Z"
    }
   },
   "outputs": [],
   "source": [
    "grad_a = lambdify([y,x,a,w0] ,expression_loss_f_dif_a, 'numpy')"
   ]
  },
  {
   "cell_type": "code",
   "execution_count": 60,
   "metadata": {
    "ExecuteTime": {
     "end_time": "2021-06-28T18:46:13.473966Z",
     "start_time": "2021-06-28T18:46:13.463966Z"
    },
    "scrolled": true
   },
   "outputs": [],
   "source": [
    "# упакуем в функцию grad_a_calculate\n",
    "def grad_a_calculate(features, category, alpha):\n",
    "    grad_a_sum_array = [0 , 0 , 0 , 0]\n",
    "    \n",
    "    for  i in range( features.shape[0] ):\n",
    "        l = grad_a(category[i],features[i],alpha[:-1].T,alpha[-1]) \n",
    "        # print( l )\n",
    "        grad_a_sum_array += l                               # Складываем, а потом разделим на число векторов Х, чтобы найти среднюю.\n",
    "    grad_a_sum_array = grad_a_sum_array / features.shape[0] # разделили на число векторов Х, чтобы найти среднюю.\n",
    "    return grad_a_sum_array                                 # Средняя градиента альфа(тета) по всем Х"
   ]
  },
  {
   "cell_type": "code",
   "execution_count": 61,
   "metadata": {
    "ExecuteTime": {
     "end_time": "2021-06-28T18:46:18.003972Z",
     "start_time": "2021-06-28T18:46:17.993972Z"
    }
   },
   "outputs": [
    {
     "data": {
      "text/plain": [
       "array([[-0.000, -0.000, -0.000, 0.001]])"
      ]
     },
     "execution_count": 61,
     "metadata": {},
     "output_type": "execute_result"
    }
   ],
   "source": [
    "grad_a_calculate(X,Y,params)"
   ]
  },
  {
   "cell_type": "markdown",
   "metadata": {},
   "source": [
    "Считаем градиент bias - как бы отступа для h(x_i) "
   ]
  },
  {
   "cell_type": "code",
   "execution_count": 62,
   "metadata": {
    "ExecuteTime": {
     "end_time": "2021-06-28T18:46:21.765977Z",
     "start_time": "2021-06-28T18:46:21.745977Z"
    }
   },
   "outputs": [],
   "source": [
    "grad_w0 = lambdify([y,x,a,w0] ,expression_loss_f_dif_w0, 'numpy')"
   ]
  },
  {
   "cell_type": "code",
   "execution_count": 64,
   "metadata": {
    "ExecuteTime": {
     "end_time": "2021-06-28T18:46:26.345984Z",
     "start_time": "2021-06-28T18:46:26.335984Z"
    }
   },
   "outputs": [],
   "source": [
    "# упакуем в функцию grad_w0_calculate\n",
    "def grad_w0_calculate(features, category, alpha):\n",
    "    grad_w0_sum_array = [0]\n",
    "\n",
    "    for  i in range( features.shape[0] ):\n",
    "        l = grad_w0(category[i],0,0,alpha[-1]) # x и alpha НЕ зависят от bias, то есть это получается как бы нулевой Х0=0 и alpha0=0 \n",
    "        #print( l )\n",
    "        grad_w0_sum_array += l                 # Складываем, а потом разделим на число векторов Х, чтобы найти среднюю.\n",
    "    grad_w0_sum_array = grad_w0_sum_array / features.shape[0] # разделили на число векторов Х, чтобы найти среднюю.\n",
    "    return grad_w0_sum_array                   # Средняя градиента биаса по всем Х"
   ]
  },
  {
   "cell_type": "code",
   "execution_count": 65,
   "metadata": {
    "ExecuteTime": {
     "end_time": "2021-06-28T18:46:30.926990Z",
     "start_time": "2021-06-28T18:46:30.906990Z"
    }
   },
   "outputs": [
    {
     "data": {
      "text/plain": [
       "array([0.000])"
      ]
     },
     "execution_count": 65,
     "metadata": {},
     "output_type": "execute_result"
    }
   ],
   "source": [
    "grad_w0_calculate(X,Y,params)"
   ]
  },
  {
   "cell_type": "markdown",
   "metadata": {},
   "source": [
    "#### Запускаем градиентный спуск:"
   ]
  },
  {
   "cell_type": "code",
   "execution_count": 11,
   "metadata": {
    "ExecuteTime": {
     "end_time": "2021-06-30T07:33:15.653124Z",
     "start_time": "2021-06-30T07:33:15.633124Z"
    }
   },
   "outputs": [],
   "source": [
    "# Уменьшим дробную часть в выводе нампи\n",
    "np.set_printoptions(suppress=True, formatter={ 'float_kind': '{:.3f}'.format  })"
   ]
  },
  {
   "cell_type": "code",
   "execution_count": 141,
   "metadata": {
    "ExecuteTime": {
     "end_time": "2021-06-29T09:57:25.346025Z",
     "start_time": "2021-06-29T09:57:25.256025Z"
    },
    "scrolled": true
   },
   "outputs": [
    {
     "name": "stdout",
     "output_type": "stream",
     "text": [
      "Initial coefficients are: \n",
      " [[0.077 0.958 0.995 0.452 0.335]]\n",
      "Loss funct \t|\t bias \t\t|\t alpha  \n",
      "-------------------------------------------------------------------------------------\n",
      "2.799\t \t|\t [0.152] \t|\t [[0.054 0.556 0.843 0.452]]  \n",
      "1.404\t \t|\t [-0.371] \t|\t [[0.199 -0.593 -0.191 0.452]]  \n",
      "1.315\t \t|\t [-0.403] \t|\t [[0.328 -0.680 -0.783 0.452]]  \n",
      "1.282\t \t|\t [-0.405] \t|\t [[0.378 -0.691 -1.186 0.452]]  \n",
      "1.266\t \t|\t [-0.405] \t|\t [[0.396 -0.693 -1.487 0.452]]  \n",
      "1.257\t \t|\t [-0.405] \t|\t [[0.402 -0.693 -1.725 0.452]]  \n",
      "1.251\t \t|\t [-0.405] \t|\t [[0.404 -0.693 -1.921 0.452]]  \n",
      "1.246\t \t|\t [-0.405] \t|\t [[0.405 -0.693 -2.087 0.452]]  \n",
      "1.243\t \t|\t [-0.405] \t|\t [[0.405 -0.693 -2.231 0.452]]  \n",
      "1.240\t \t|\t [-0.405] \t|\t [[0.405 -0.693 -2.357 0.452]]  \n"
     ]
    }
   ],
   "source": [
    "params =  np.random.random((1,5)).T \n",
    "print('Initial coefficients are: \\n',params.T)\n",
    "learning_rate = 1\n",
    "print('Loss funct \\t|\\t bias \\t\\t|\\t alpha  ')\n",
    "print('-'*85)\n",
    "\n",
    "for i in range(100):      # 100 эпох\n",
    "    params[-1] -= learning_rate * grad_w0_calculate(X,Y,params)\n",
    "    params[:-1] -= learning_rate * grad_a_calculate(X,Y,params).T\n",
    "    l = loss_function(X, params, Y)\n",
    "    if i %10 ==0: print(f'{l :.3f}\\t \\t|\\t {params[-1] } \\t|\\t {params[:-1].T }  ')\n",
    "    if np.abs(l) < .1 : break"
   ]
  },
  {
   "cell_type": "code",
   "execution_count": 142,
   "metadata": {
    "ExecuteTime": {
     "end_time": "2021-06-29T09:57:28.546030Z",
     "start_time": "2021-06-29T09:57:28.526030Z"
    }
   },
   "outputs": [
    {
     "data": {
      "text/plain": [
       "(array([[0.400, 0.028, 0.250, 0.333, 0.333]]),\n",
       " array([[0, 0, 0, 0, 0]]),\n",
       " array([[1, 0, 0, 0, 1]]))"
      ]
     },
     "execution_count": 142,
     "metadata": {},
     "output_type": "execute_result"
    }
   ],
   "source": [
    "logit(X,params).T,   (logit(X,params).T > .5).astype(int)   ,   Y.T"
   ]
  },
  {
   "cell_type": "markdown",
   "metadata": {},
   "source": [
    "**ОБЛОМ**"
   ]
  },
  {
   "cell_type": "markdown",
   "metadata": {},
   "source": [
    "Качество градиента от sympy не очень хорошее \n",
    "\n",
    "**Если кто то из экспертов скажет в чем причина: почему градиент посчитанный sympy, не совпадает с градиентом из формулы ниже. Я буду очень признателен!**\n",
    "\n",
    "\n",
    "Буду использовать формулу градиента:"
   ]
  },
  {
   "cell_type": "code",
   "execution_count": 14,
   "metadata": {
    "ExecuteTime": {
     "end_time": "2021-06-28T17:42:18.255221Z",
     "start_time": "2021-06-28T17:42:18.235221Z"
    }
   },
   "outputs": [
    {
     "data": {
      "image/png": "[encoded data removed]",
      "text/plain": [
       "<IPython.core.display.Image object>"
      ]
     },
     "execution_count": 14,
     "metadata": {},
     "output_type": "execute_result"
    }
   ],
   "source": [
    "from IPython.display import Image\n",
    "Image(\"der_loss_func.png\")"
   ]
  },
  {
   "cell_type": "markdown",
   "metadata": {
    "ExecuteTime": {
     "end_time": "2021-06-29T18:20:03.542960Z",
     "start_time": "2021-06-29T18:20:03.532960Z"
    }
   },
   "source": [
    "Это формулы от sympy: "
   ]
  },
  {
   "cell_type": "code",
   "execution_count": 155,
   "metadata": {
    "ExecuteTime": {
     "end_time": "2021-06-29T18:19:26.968909Z",
     "start_time": "2021-06-29T18:19:26.948909Z"
    }
   },
   "outputs": [
    {
     "data": {
      "text/latex": [
       "$\\displaystyle \\frac{x \\left(- y e^{- a x - w_{0}} - y + 1\\right)}{e^{- a x - w_{0}} + 1}$"
      ],
      "text/plain": [
       "x*(-y*exp(-a*x - w0) - y + 1)/(exp(-a*x - w0) + 1)"
      ]
     },
     "execution_count": 155,
     "metadata": {},
     "output_type": "execute_result"
    }
   ],
   "source": [
    "# Градиент для тета\n",
    "expression_loss_f_dif_a"
   ]
  },
  {
   "cell_type": "code",
   "execution_count": 156,
   "metadata": {
    "ExecuteTime": {
     "end_time": "2021-06-29T18:19:27.928910Z",
     "start_time": "2021-06-29T18:19:27.908910Z"
    }
   },
   "outputs": [
    {
     "data": {
      "text/latex": [
       "$\\displaystyle \\frac{- y e^{- a x - w_{0}} - y + 1}{e^{- a x - w_{0}} + 1}$"
      ],
      "text/plain": [
       "(-y*exp(-a*x - w0) - y + 1)/(exp(-a*x - w0) + 1)"
      ]
     },
     "execution_count": 156,
     "metadata": {},
     "output_type": "execute_result"
    }
   ],
   "source": [
    "# Градиент для биаса\n",
    "expression_loss_f_dif_w0"
   ]
  },
  {
   "cell_type": "code",
   "execution_count": 108,
   "metadata": {
    "ExecuteTime": {
     "end_time": "2021-06-29T07:20:31.341612Z",
     "start_time": "2021-06-29T07:20:31.321612Z"
    }
   },
   "outputs": [],
   "source": [
    "Y = Y.reshape(-1,1)"
   ]
  },
  {
   "cell_type": "code",
   "execution_count": 20,
   "metadata": {
    "ExecuteTime": {
     "end_time": "2021-06-30T07:35:25.301307Z",
     "start_time": "2021-06-30T07:35:25.291307Z"
    }
   },
   "outputs": [],
   "source": [
    "def deriv_loss_function(x, alpha, y_):\n",
    "    a = logit(x,alpha) - y_\n",
    "    coef = a*x\n",
    "    return np.mean(coef,axis=0).reshape(-1,1) , np.mean(a,axis=0)"
   ]
  },
  {
   "cell_type": "code",
   "execution_count": 133,
   "metadata": {
    "ExecuteTime": {
     "end_time": "2021-06-29T09:56:39.280960Z",
     "start_time": "2021-06-29T09:56:39.260960Z"
    }
   },
   "outputs": [
    {
     "data": {
      "text/plain": [
       "(array([[-0.007],\n",
       "        [0.013],\n",
       "        [0.003],\n",
       "        [0.000]]),\n",
       " array([-0.007]))"
      ]
     },
     "execution_count": 133,
     "metadata": {},
     "output_type": "execute_result"
    }
   ],
   "source": [
    "deriv_loss_function(X,params,Y)"
   ]
  },
  {
   "cell_type": "code",
   "execution_count": 139,
   "metadata": {
    "ExecuteTime": {
     "end_time": "2021-06-29T18:04:22.714491Z",
     "start_time": "2021-06-29T18:04:22.674491Z"
    }
   },
   "outputs": [
    {
     "name": "stdout",
     "output_type": "stream",
     "text": [
      "Loss funct \t|\t bias \t\t|\t alpha  \n",
      "-------------------------------------------------------------------------------------\n",
      "32.914\t \t|\t [0.141] \t|\t [[0.078 0.133 0.424 0.271]]  \n",
      "21.655\t \t|\t [0.085] \t|\t [[-0.158 -0.087 0.475 0.312]]  \n",
      "17.619\t \t|\t [0.066] \t|\t [[-0.194 -0.179 0.607 0.372]]  \n",
      "14.784\t \t|\t [0.052] \t|\t [[-0.222 -0.256 0.716 0.422]]  \n",
      "12.711\t \t|\t [0.039] \t|\t [[-0.245 -0.320 0.810 0.465]]  \n",
      "11.140\t \t|\t [0.028] \t|\t [[-0.265 -0.376 0.891 0.502]]  \n"
     ]
    }
   ],
   "source": [
    "params =  np.random.random((1,5)).T \n",
    "#params = np.array([0.253,0.333,0.661,0.877,0.473]).reshape(5,1)\n",
    "learning_rate = .1\n",
    "print('Loss funct \\t|\\t bias \\t\\t|\\t alpha  ')\n",
    "print('-'*85)\n",
    "epoch = 30\n",
    "\n",
    "for i in range(epoch):\n",
    "    grad_alfa, grad_bias = deriv_loss_function(X,params,Y_)\n",
    "    params[-1] -= learning_rate * grad_bias\n",
    "    params[:-1] -= learning_rate * grad_alfa\n",
    "    l = loss_function(X, params, Y_)\n",
    "    if i %5 ==0: print(f'{l :.3f}\\t \\t|\\t {params[-1] } \\t|\\t {params[:-1].T }  ')\n",
    "    if np.abs(l) < .1 : break"
   ]
  },
  {
   "cell_type": "code",
   "execution_count": 140,
   "metadata": {
    "ExecuteTime": {
     "end_time": "2021-06-29T18:04:28.204498Z",
     "start_time": "2021-06-29T18:04:28.184498Z"
    }
   },
   "outputs": [
    {
     "data": {
      "text/plain": [
       "(array([[0, 0, 0, 0, 0, 0, 0, 0, 0, 0, 0, 0, 0, 0, 0, 0, 0, 0, 0, 0, 0, 0,\n",
       "         0, 0, 0, 0, 0, 0, 0, 0, 0, 0, 0, 0, 0, 0, 0, 0, 0, 0, 0, 0, 0, 0,\n",
       "         0, 0, 0, 0, 0, 0, 1, 1, 1, 1, 1, 1, 1, 1, 1, 1, 1, 1, 1, 1, 1, 1,\n",
       "         1, 1, 1, 1, 1, 1, 1, 1, 1, 1, 1, 1, 1, 1, 1, 1, 1, 1, 1, 1, 1, 1,\n",
       "         1, 1, 1, 1, 1, 1, 1, 1, 1, 1, 1, 1, 1, 1, 1, 1, 1, 1, 1, 1, 1, 1,\n",
       "         1, 1, 1, 1, 1, 1, 1, 1, 1, 1, 1, 1, 1, 1, 1, 1, 1, 1, 1, 1, 1, 1,\n",
       "         1, 1, 1, 1, 1, 1, 1, 1, 1, 1, 1, 1, 1, 1, 1, 1, 1, 1]]),\n",
       " array([[0, 0, 0, 0, 0, 0, 0, 0, 0, 0, 0, 0, 0, 0, 0, 0, 0, 0, 0, 0, 0, 0,\n",
       "         0, 0, 0, 0, 0, 0, 0, 0, 0, 0, 0, 0, 0, 0, 0, 0, 0, 0, 0, 0, 0, 0,\n",
       "         0, 0, 0, 0, 0, 0, 1, 1, 1, 1, 1, 1, 1, 1, 1, 1, 1, 1, 1, 1, 1, 1,\n",
       "         1, 1, 1, 1, 1, 1, 1, 1, 1, 1, 1, 1, 1, 1, 1, 1, 1, 1, 1, 1, 1, 1,\n",
       "         1, 1, 1, 1, 1, 1, 1, 1, 1, 1, 1, 1, 2, 2, 2, 2, 2, 2, 2, 2, 2, 2,\n",
       "         2, 2, 2, 2, 2, 2, 2, 2, 2, 2, 2, 2, 2, 2, 2, 2, 2, 2, 2, 2, 2, 2,\n",
       "         2, 2, 2, 2, 2, 2, 2, 2, 2, 2, 2, 2, 2, 2, 2, 2, 2, 2]]))"
      ]
     },
     "execution_count": 140,
     "metadata": {},
     "output_type": "execute_result"
    }
   ],
   "source": [
    "logit_result(X,params) , Y.T "
   ]
  },
  {
   "cell_type": "markdown",
   "metadata": {},
   "source": [
    "Выполним задачу для цветочков ириса:"
   ]
  },
  {
   "cell_type": "code",
   "execution_count": 252,
   "metadata": {
    "ExecuteTime": {
     "end_time": "2021-06-30T11:39:53.245521Z",
     "start_time": "2021-06-30T11:39:53.225521Z"
    }
   },
   "outputs": [],
   "source": [
    "from sklearn.datasets import load_iris\n",
    "\n",
    "iris = load_iris()\n",
    "\n",
    "# Зкгрузим вектора и разметку\n",
    "X = iris.data\n",
    "Y = iris.target"
   ]
  },
  {
   "cell_type": "code",
   "execution_count": 253,
   "metadata": {
    "ExecuteTime": {
     "end_time": "2021-06-30T11:39:54.085523Z",
     "start_time": "2021-06-30T11:39:54.075523Z"
    }
   },
   "outputs": [],
   "source": [
    "# сгенерим рандомные коэффициенты и биас\n",
    "params =  np.random.random((1,5)).T  # коэф. 4  и 1 порог"
   ]
  },
  {
   "cell_type": "code",
   "execution_count": 254,
   "metadata": {
    "ExecuteTime": {
     "end_time": "2021-06-30T11:39:54.815524Z",
     "start_time": "2021-06-30T11:39:54.795524Z"
    }
   },
   "outputs": [],
   "source": [
    "import copy\n",
    "Y = Y.reshape(-1,1)\n",
    "Y_ = copy.copy(Y) \n",
    "np.place(Y_, Y_ != 0, 1)"
   ]
  },
  {
   "cell_type": "markdown",
   "metadata": {
    "ExecuteTime": {
     "end_time": "2021-06-29T10:02:05.427420Z",
     "start_time": "2021-06-29T10:02:05.417420Z"
    }
   },
   "source": [
    "Не радостный резултат если использовать дериватив (производную в **sympy**).  \n",
    "Посмотрим на результат, если использовать выведенную производую :"
   ]
  },
  {
   "cell_type": "code",
   "execution_count": 226,
   "metadata": {
    "ExecuteTime": {
     "end_time": "2021-06-30T11:38:45.585418Z",
     "start_time": "2021-06-30T11:38:45.455418Z"
    }
   },
   "outputs": [
    {
     "name": "stdout",
     "output_type": "stream",
     "text": [
      "Loss funct \t|\t bias \t\t|\t alpha  \n",
      "-------------------------------------------------------------------------------------\n",
      "108.459\t \t|\t [0.215] \t|\t [[0.754 0.545 0.296 0.878]]  \n",
      "7.435\t \t|\t [-0.053] \t|\t [[-0.248 -0.567 0.876 1.200]]  \n",
      "4.131\t \t|\t [-0.098] \t|\t [[-0.324 -0.813 1.242 1.360]]  \n",
      "2.890\t \t|\t [-0.125] \t|\t [[-0.369 -0.963 1.468 1.459]]  \n",
      "2.237\t \t|\t [-0.145] \t|\t [[-0.400 -1.073 1.632 1.531]]  \n",
      "1.832\t \t|\t [-0.160] \t|\t [[-0.425 -1.159 1.762 1.587]]  \n"
     ]
    }
   ],
   "source": [
    "params =  np.random.random((5,1)) \n",
    "learning_rate = .1\n",
    "print('Loss funct \\t|\\t bias \\t\\t|\\t alpha  ')\n",
    "print('-'*85)\n",
    "\n",
    "for i in range(300):\n",
    "    grad_alfa, grad_bias = deriv_loss_function(X,params,Y_)\n",
    "    params[-1] -= learning_rate * grad_bias\n",
    "    params[:-1] -= learning_rate * grad_alfa\n",
    "    l = loss_function(X, params, Y_)\n",
    "    if i %50 ==0: print(f'{l :.3f}\\t \\t|\\t {params[-1] } \\t|\\t {params[:-1].T }  ')\n",
    "    if np.abs(l) < .1 : break"
   ]
  },
  {
   "cell_type": "code",
   "execution_count": 227,
   "metadata": {
    "ExecuteTime": {
     "end_time": "2021-06-30T11:38:45.595418Z",
     "start_time": "2021-06-30T11:38:45.585418Z"
    },
    "scrolled": true
   },
   "outputs": [
    {
     "data": {
      "text/plain": [
       "(array([[0, 0, 0, 0, 0, 0, 0, 0, 0, 0, 0, 0, 0, 0, 0, 0, 0, 0, 0, 0, 0, 0,\n",
       "         0, 0, 0, 0, 0, 0, 0, 0, 0, 0, 0, 0, 0, 0, 0, 0, 0, 0, 0, 0, 0, 0,\n",
       "         0, 0, 0, 0, 0, 0, 1, 1, 1, 1, 1, 1, 1, 1, 1, 1, 1, 1, 1, 1, 1, 1,\n",
       "         1, 1, 1, 1, 1, 1, 1, 1, 1, 1, 1, 1, 1, 1, 1, 1, 1, 1, 1, 1, 1, 1,\n",
       "         1, 1, 1, 1, 1, 1, 1, 1, 1, 1, 1, 1, 1, 1, 1, 1, 1, 1, 1, 1, 1, 1,\n",
       "         1, 1, 1, 1, 1, 1, 1, 1, 1, 1, 1, 1, 1, 1, 1, 1, 1, 1, 1, 1, 1, 1,\n",
       "         1, 1, 1, 1, 1, 1, 1, 1, 1, 1, 1, 1, 1, 1, 1, 1, 1, 1]]),\n",
       " array([[0, 0, 0, 0, 0, 0, 0, 0, 0, 0, 0, 0, 0, 0, 0, 0, 0, 0, 0, 0, 0, 0,\n",
       "         0, 0, 0, 0, 0, 0, 0, 0, 0, 0, 0, 0, 0, 0, 0, 0, 0, 0, 0, 0, 0, 0,\n",
       "         0, 0, 0, 0, 0, 0, 1, 1, 1, 1, 1, 1, 1, 1, 1, 1, 1, 1, 1, 1, 1, 1,\n",
       "         1, 1, 1, 1, 1, 1, 1, 1, 1, 1, 1, 1, 1, 1, 1, 1, 1, 1, 1, 1, 1, 1,\n",
       "         1, 1, 1, 1, 1, 1, 1, 1, 1, 1, 1, 1, 2, 2, 2, 2, 2, 2, 2, 2, 2, 2,\n",
       "         2, 2, 2, 2, 2, 2, 2, 2, 2, 2, 2, 2, 2, 2, 2, 2, 2, 2, 2, 2, 2, 2,\n",
       "         2, 2, 2, 2, 2, 2, 2, 2, 2, 2, 2, 2, 2, 2, 2, 2, 2, 2]]))"
      ]
     },
     "execution_count": 227,
     "metadata": {},
     "output_type": "execute_result"
    }
   ],
   "source": [
    "logit_result(X,params) , Y.T "
   ]
  },
  {
   "cell_type": "markdown",
   "metadata": {},
   "source": [
    "### Nesterov_accel_descend"
   ]
  },
  {
   "cell_type": "code",
   "execution_count": 228,
   "metadata": {
    "ExecuteTime": {
     "end_time": "2021-06-30T11:38:45.605418Z",
     "start_time": "2021-06-30T11:38:45.595418Z"
    }
   },
   "outputs": [],
   "source": [
    "def nesterov_accel_descend(x_,alpha, y_, l_i_1 , gamma):\n",
    "    \n",
    "    alpha = alpha - gamma * l_i_1\n",
    "    \n",
    "    grad_alpha, grad_bias = deriv_loss_function(x_,alpha,y_)\n",
    "    grad = np.append(grad_alpha, grad_bias).reshape(-1,1)\n",
    "\n",
    "    l_i = gamma * l_i_1 + (1. - gamma)* grad\n",
    "    alpha -= l_i \n",
    "    \n",
    "    return alpha, l_i"
   ]
  },
  {
   "cell_type": "code",
   "execution_count": 229,
   "metadata": {
    "ExecuteTime": {
     "end_time": "2021-06-30T11:38:45.645418Z",
     "start_time": "2021-06-30T11:38:45.605418Z"
    },
    "scrolled": true
   },
   "outputs": [
    {
     "name": "stdout",
     "output_type": "stream",
     "text": [
      "Loss funct \t|\t bias \t\t|\t alpha  \n",
      "-------------------------------------------------------------------------------------\n",
      "58.949\t \t|\t [0.817] \t|\t [[0.311 0.211 0.235 0.099]]\n",
      "22.196\t \t|\t [0.652] \t|\t [[0.004 -0.335 0.916 0.404]]\n",
      "3.258\t \t|\t [0.379] \t|\t [[-0.654 -1.385 2.059 0.948]]\n",
      "3.114\t \t|\t [0.163] \t|\t [[-1.099 -2.273 3.194 1.471]]\n"
     ]
    }
   ],
   "source": [
    "# Запускаем Нестеров\n",
    "params =  np.random.random((5,1)) \n",
    "\n",
    "learning_rate = .05\n",
    "epoch = 30\n",
    "\n",
    "step_i= np.random.random((5,1))/100 #начальный отступ\n",
    "gamma = 1-learning_rate             \n",
    "print('Loss funct \\t|\\t bias \\t\\t|\\t alpha  ')\n",
    "print('-'*85)\n",
    "\n",
    "for i in range(epoch):\n",
    "    \n",
    "    params, step_i = nesterov_accel_descend(X,params,Y_, step_i, gamma)\n",
    "    \n",
    "    l = loss_function(X, params, Y_)\n",
    "    \n",
    "    if i %5 ==0: print(f'{l :.3f}\\t \\t|\\t {params[-1] } \\t|\\t {params[:-1].T }')\n",
    "    if np.abs(l) < .1 : break\n",
    "    "
   ]
  },
  {
   "cell_type": "code",
   "execution_count": 230,
   "metadata": {
    "ExecuteTime": {
     "end_time": "2021-06-30T11:38:45.675418Z",
     "start_time": "2021-06-30T11:38:45.645418Z"
    }
   },
   "outputs": [
    {
     "data": {
      "text/plain": [
       "(array([[0, 0, 0, 0, 0, 0, 0, 0, 0, 0, 0, 0, 0, 0, 0, 0, 0, 0, 0, 0, 0, 0,\n",
       "         0, 0, 0, 0, 0, 0, 0, 0, 0, 0, 0, 0, 0, 0, 0, 0, 0, 0, 0, 0, 0, 0,\n",
       "         0, 0, 0, 0, 0, 0, 1, 1, 1, 1, 1, 1, 1, 1, 1, 1, 1, 1, 1, 1, 1, 1,\n",
       "         1, 1, 1, 1, 1, 1, 1, 1, 1, 1, 1, 1, 1, 1, 1, 1, 1, 1, 1, 1, 1, 1,\n",
       "         1, 1, 1, 1, 1, 1, 1, 1, 1, 1, 1, 1, 1, 1, 1, 1, 1, 1, 1, 1, 1, 1,\n",
       "         1, 1, 1, 1, 1, 1, 1, 1, 1, 1, 1, 1, 1, 1, 1, 1, 1, 1, 1, 1, 1, 1,\n",
       "         1, 1, 1, 1, 1, 1, 1, 1, 1, 1, 1, 1, 1, 1, 1, 1, 1, 1]]),\n",
       " array([[0, 0, 0, 0, 0, 0, 0, 0, 0, 0, 0, 0, 0, 0, 0, 0, 0, 0, 0, 0, 0, 0,\n",
       "         0, 0, 0, 0, 0, 0, 0, 0, 0, 0, 0, 0, 0, 0, 0, 0, 0, 0, 0, 0, 0, 0,\n",
       "         0, 0, 0, 0, 0, 0, 1, 1, 1, 1, 1, 1, 1, 1, 1, 1, 1, 1, 1, 1, 1, 1,\n",
       "         1, 1, 1, 1, 1, 1, 1, 1, 1, 1, 1, 1, 1, 1, 1, 1, 1, 1, 1, 1, 1, 1,\n",
       "         1, 1, 1, 1, 1, 1, 1, 1, 1, 1, 1, 1, 1, 1, 1, 1, 1, 1, 1, 1, 1, 1,\n",
       "         1, 1, 1, 1, 1, 1, 1, 1, 1, 1, 1, 1, 1, 1, 1, 1, 1, 1, 1, 1, 1, 1,\n",
       "         1, 1, 1, 1, 1, 1, 1, 1, 1, 1, 1, 1, 1, 1, 1, 1, 1, 1]]))"
      ]
     },
     "execution_count": 230,
     "metadata": {},
     "output_type": "execute_result"
    }
   ],
   "source": [
    "logit_result(X,params) , Y_.T "
   ]
  },
  {
   "cell_type": "markdown",
   "metadata": {},
   "source": [
    "Perfect. Pезультаты логита по Нестеров(Y_pred) совпали с Y."
   ]
  },
  {
   "cell_type": "markdown",
   "metadata": {},
   "source": [
    "### RMS_prop"
   ]
  },
  {
   "cell_type": "code",
   "execution_count": 231,
   "metadata": {
    "ExecuteTime": {
     "end_time": "2021-06-30T11:38:45.688418Z",
     "start_time": "2021-06-30T11:38:45.675418Z"
    }
   },
   "outputs": [],
   "source": [
    "def RMS_prop(x_,alpha,y_, gamma, square_grad_mean_i_1):\n",
    "\n",
    "    grad_alpha, grad_bias = deriv_loss_function(x_,alpha,y_)\n",
    "    \n",
    "    grad = np.append(grad_alpha, grad_bias).reshape(-1,1)\n",
    "    \n",
    "    square_grad_mean_i = gamma * square_grad_mean_i_1 + (1 - gamma)*grad**2 \n",
    "    alpha -= (1-gamma)* grad / (square_grad_mean_i + 1e-6)**.5\n",
    "    \n",
    "    \n",
    "    return alpha, square_grad_mean_i"
   ]
  },
  {
   "cell_type": "code",
   "execution_count": 232,
   "metadata": {
    "ExecuteTime": {
     "end_time": "2021-06-30T11:38:45.727419Z",
     "start_time": "2021-06-30T11:38:45.691418Z"
    },
    "scrolled": true
   },
   "outputs": [
    {
     "name": "stdout",
     "output_type": "stream",
     "text": [
      "Loss funct \t|\t bias \t\t|\t alpha  \n",
      "-------------------------------------------------------------------------------------\n",
      "41.936\t \t|\t [0.262] \t|\t [[0.387 -0.040 -0.119 0.063]]\n",
      "23.634\t \t|\t [0.015] \t|\t [[0.164 -0.381 0.192 0.429]]\n",
      "14.517\t \t|\t [-0.101] \t|\t [[0.082 -0.549 0.455 0.682]]\n",
      "10.304\t \t|\t [-0.184] \t|\t [[0.026 -0.670 0.641 0.859]]\n",
      "7.824\t \t|\t [-0.249] \t|\t [[-0.017 -0.765 0.791 1.000]]\n",
      "6.195\t \t|\t [-0.303] \t|\t [[-0.051 -0.846 0.918 1.119]]\n"
     ]
    }
   ],
   "source": [
    "# Запускаем RMS_prop\n",
    "params =  np.random.random((5,1)) \n",
    "\n",
    "learning_rate = .05\n",
    "epoch = 30\n",
    "\n",
    "step_i = np.random.random((5,1))/100 #начальный шаг\n",
    "gamma = 1-learning_rate             \n",
    "print('Loss funct \\t|\\t bias \\t\\t|\\t alpha  ')\n",
    "print('-'*85)\n",
    "\n",
    "for i in range(epoch):\n",
    "    \n",
    "    params , step_i = RMS_prop(X,params,Y_,gamma, step_i)\n",
    "    \n",
    "    l = loss_function(X, params, Y_)\n",
    "    if i %5 ==0: print(f'{l :.3f}\\t \\t|\\t {params[-1] } \\t|\\t {params[:-1].T }')\n",
    "    if np.abs(l) < .1 : break\n",
    "    "
   ]
  },
  {
   "cell_type": "code",
   "execution_count": 233,
   "metadata": {
    "ExecuteTime": {
     "end_time": "2021-06-30T11:38:45.747419Z",
     "start_time": "2021-06-30T11:38:45.727419Z"
    },
    "scrolled": true
   },
   "outputs": [
    {
     "data": {
      "text/plain": [
       "(array([[0, 0, 0, 0, 0, 0, 0, 0, 0, 0, 0, 0, 0, 0, 0, 0, 0, 0, 0, 0, 0, 0,\n",
       "         0, 0, 0, 0, 0, 0, 0, 0, 0, 0, 0, 0, 0, 0, 0, 0, 0, 0, 0, 0, 0, 0,\n",
       "         0, 0, 0, 0, 0, 0, 1, 1, 1, 1, 1, 1, 1, 1, 1, 1, 1, 1, 1, 1, 1, 1,\n",
       "         1, 1, 1, 1, 1, 1, 1, 1, 1, 1, 1, 1, 1, 1, 1, 1, 1, 1, 1, 1, 1, 1,\n",
       "         1, 1, 1, 1, 1, 1, 1, 1, 1, 1, 1, 1, 1, 1, 1, 1, 1, 1, 1, 1, 1, 1,\n",
       "         1, 1, 1, 1, 1, 1, 1, 1, 1, 1, 1, 1, 1, 1, 1, 1, 1, 1, 1, 1, 1, 1,\n",
       "         1, 1, 1, 1, 1, 1, 1, 1, 1, 1, 1, 1, 1, 1, 1, 1, 1, 1]]),\n",
       " array([[0, 0, 0, 0, 0, 0, 0, 0, 0, 0, 0, 0, 0, 0, 0, 0, 0, 0, 0, 0, 0, 0,\n",
       "         0, 0, 0, 0, 0, 0, 0, 0, 0, 0, 0, 0, 0, 0, 0, 0, 0, 0, 0, 0, 0, 0,\n",
       "         0, 0, 0, 0, 0, 0, 1, 1, 1, 1, 1, 1, 1, 1, 1, 1, 1, 1, 1, 1, 1, 1,\n",
       "         1, 1, 1, 1, 1, 1, 1, 1, 1, 1, 1, 1, 1, 1, 1, 1, 1, 1, 1, 1, 1, 1,\n",
       "         1, 1, 1, 1, 1, 1, 1, 1, 1, 1, 1, 1, 1, 1, 1, 1, 1, 1, 1, 1, 1, 1,\n",
       "         1, 1, 1, 1, 1, 1, 1, 1, 1, 1, 1, 1, 1, 1, 1, 1, 1, 1, 1, 1, 1, 1,\n",
       "         1, 1, 1, 1, 1, 1, 1, 1, 1, 1, 1, 1, 1, 1, 1, 1, 1, 1]]))"
      ]
     },
     "execution_count": 233,
     "metadata": {},
     "output_type": "execute_result"
    }
   ],
   "source": [
    "logit_result(X,params) , Y_.T "
   ]
  },
  {
   "cell_type": "markdown",
   "metadata": {},
   "source": [
    "Perfect. Pезультаты логита по RMS_prop(Y_pred) совпали с Y."
   ]
  },
  {
   "cell_type": "markdown",
   "metadata": {},
   "source": [
    "### Adadelta"
   ]
  },
  {
   "cell_type": "code",
   "execution_count": 234,
   "metadata": {
    "ExecuteTime": {
     "end_time": "2021-06-30T11:38:45.767419Z",
     "start_time": "2021-06-30T11:38:45.747419Z"
    }
   },
   "outputs": [],
   "source": [
    "def Adadelta(x_, alpha, y_,gamma, square_grad_mean_i_1, square_alpha_mean_i_1):\n",
    "    \n",
    "    grad_alpha, grad_bias = deriv_loss_function(x_,alpha,y_)\n",
    "    grad = np.append(grad_alpha, grad_bias).reshape(-1,1)\n",
    "    \n",
    "    square_grad_mean_i = gamma * square_grad_mean_i_1 + (1 - gamma)*grad**2 \n",
    "    delta = grad * (square_alpha_mean_i_1 + 1e-6)**.5 / (square_grad_mean_i+1e-6)**.5 \n",
    "    square_alpha_mean_i = gamma * square_alpha_mean_i_1 + (1 - gamma)*delta**2 \n",
    "    alpha -= delta\n",
    "    \n",
    "    return alpha, square_grad_mean_i, square_alpha_mean_i "
   ]
  },
  {
   "cell_type": "code",
   "execution_count": 281,
   "metadata": {
    "ExecuteTime": {
     "end_time": "2021-06-30T11:41:25.589654Z",
     "start_time": "2021-06-30T11:41:25.559654Z"
    },
    "scrolled": false
   },
   "outputs": [
    {
     "name": "stdout",
     "output_type": "stream",
     "text": [
      "Loss funct \t|\t bias \t\t|\t alpha  \n",
      "-------------------------------------------------------------------------------------\n",
      "58.887\t \t|\t [0.340] \t|\t [[-0.026 0.788 0.352 0.039]]\n",
      "12.025\t \t|\t [-0.242] \t|\t [[-0.554 0.146 1.019 0.531]]\n",
      "5.984\t \t|\t [-0.411] \t|\t [[-0.691 -0.062 1.466 0.780]]\n"
     ]
    }
   ],
   "source": [
    "# Запускаем Adadelta\n",
    "params =  np.random.random((5,1)) \n",
    "\n",
    "learning_rate = .1\n",
    "epoch = 30\n",
    "\n",
    "step_i_grad = np.random.random((5,1))/100 #начальный шаг\n",
    "step_i_alpha = np.random.random((5,1))/100 #начальный шаг\n",
    "\n",
    "gamma = 1-learning_rate             \n",
    "print('Loss funct \\t|\\t bias \\t\\t|\\t alpha  ')\n",
    "print('-'*85)\n",
    "\n",
    "for i in range(epoch):\n",
    "    \n",
    "    params , step_i_grad, step_i_alpha  = Adadelta(X,params,Y_, gamma, step_i_grad, step_i_alpha )\n",
    "    \n",
    "    l = loss_function(X, params, Y_)\n",
    "    if i %10 ==0: print(f'{l :.3f}\\t \\t|\\t {params[-1] } \\t|\\t {params[:-1].T }')\n",
    "    if np.abs(l) < .1 : break\n",
    "    "
   ]
  },
  {
   "cell_type": "code",
   "execution_count": 282,
   "metadata": {
    "ExecuteTime": {
     "end_time": "2021-06-30T11:41:30.110660Z",
     "start_time": "2021-06-30T11:41:30.090660Z"
    },
    "scrolled": false
   },
   "outputs": [
    {
     "data": {
      "text/plain": [
       "(array([[0, 0, 0, 0, 0, 0, 0, 0, 0, 0, 0, 0, 0, 0, 0, 0, 0, 0, 0, 0, 0, 0,\n",
       "         0, 0, 0, 0, 0, 0, 0, 0, 0, 0, 0, 0, 0, 0, 0, 0, 0, 0, 0, 0, 0, 0,\n",
       "         0, 0, 0, 0, 0, 0, 1, 1, 1, 1, 1, 1, 1, 1, 1, 1, 1, 1, 1, 1, 1, 1,\n",
       "         1, 1, 1, 1, 1, 1, 1, 1, 1, 1, 1, 1, 1, 1, 1, 1, 1, 1, 1, 1, 1, 1,\n",
       "         1, 1, 1, 1, 1, 1, 1, 1, 1, 1, 1, 1, 1, 1, 1, 1, 1, 1, 1, 1, 1, 1,\n",
       "         1, 1, 1, 1, 1, 1, 1, 1, 1, 1, 1, 1, 1, 1, 1, 1, 1, 1, 1, 1, 1, 1,\n",
       "         1, 1, 1, 1, 1, 1, 1, 1, 1, 1, 1, 1, 1, 1, 1, 1, 1, 1]]),\n",
       " array([[0, 0, 0, 0, 0, 0, 0, 0, 0, 0, 0, 0, 0, 0, 0, 0, 0, 0, 0, 0, 0, 0,\n",
       "         0, 0, 0, 0, 0, 0, 0, 0, 0, 0, 0, 0, 0, 0, 0, 0, 0, 0, 0, 0, 0, 0,\n",
       "         0, 0, 0, 0, 0, 0, 1, 1, 1, 1, 1, 1, 1, 1, 1, 1, 1, 1, 1, 1, 1, 1,\n",
       "         1, 1, 1, 1, 1, 1, 1, 1, 1, 1, 1, 1, 1, 1, 1, 1, 1, 1, 1, 1, 1, 1,\n",
       "         1, 1, 1, 1, 1, 1, 1, 1, 1, 1, 1, 1, 1, 1, 1, 1, 1, 1, 1, 1, 1, 1,\n",
       "         1, 1, 1, 1, 1, 1, 1, 1, 1, 1, 1, 1, 1, 1, 1, 1, 1, 1, 1, 1, 1, 1,\n",
       "         1, 1, 1, 1, 1, 1, 1, 1, 1, 1, 1, 1, 1, 1, 1, 1, 1, 1]]))"
      ]
     },
     "execution_count": 282,
     "metadata": {},
     "output_type": "execute_result"
    }
   ],
   "source": [
    "logit_result(X,params) , Y_.T "
   ]
  },
  {
   "cell_type": "markdown",
   "metadata": {},
   "source": [
    "Perfect. Pезультаты логита по Adadelta(Y_pred) совпали с Y."
   ]
  },
  {
   "cell_type": "code",
   "execution_count": null,
   "metadata": {},
   "outputs": [],
   "source": []
  },
  {
   "cell_type": "code",
   "execution_count": null,
   "metadata": {},
   "outputs": [],
   "source": []
  },
  {
   "cell_type": "markdown",
   "metadata": {},
   "source": [
    "### Усложним задачу"
   ]
  },
  {
   "cell_type": "code",
   "execution_count": 311,
   "metadata": {
    "ExecuteTime": {
     "end_time": "2021-06-30T12:39:01.620559Z",
     "start_time": "2021-06-30T12:39:01.600559Z"
    }
   },
   "outputs": [],
   "source": [
    "X = iris.data\n",
    "Y = iris.target\n",
    "from sklearn.preprocessing import StandardScaler\n",
    "scaler = StandardScaler() \n",
    "\n",
    "from sklearn.model_selection import train_test_split\n",
    "X_train, X_test, y_train, y_test = train_test_split(X, Y, test_size=0.33, random_state=42)\n",
    "\n",
    "X = scaler.fit_transform(X_train)\n",
    "X = np.array(np.hstack( [X, np.ones( [len(X), 1], dtype=np.float64  )*10   ]  )  , dtype=np.float64) # добавим еще один признак - получится на один признак больше - разделяющая гипер-плоскость будет иметь на одну плоскость больше\n",
    "Y = np.array(y_train, dtype=np.int64)\n",
    "Y = Y.reshape(-1,1)"
   ]
  },
  {
   "cell_type": "code",
   "execution_count": 306,
   "metadata": {
    "ExecuteTime": {
     "end_time": "2021-06-30T12:35:53.170237Z",
     "start_time": "2021-06-30T12:35:53.150237Z"
    }
   },
   "outputs": [
    {
     "data": {
      "text/plain": [
       "array([[-0.138, -0.266, 0.222, 0.109, 5.000],\n",
       "       [2.148, -0.026, 1.612, 1.185, 5.000],\n",
       "       [-0.259, -0.026, 0.396, 0.378, 5.000],\n",
       "       [-0.860, 1.170, -1.399, -1.371, 5.000],\n",
       "       [2.268, -0.505, 1.669, 1.050, 5.000]])"
      ]
     },
     "execution_count": 306,
     "metadata": {},
     "output_type": "execute_result"
    }
   ],
   "source": [
    "X[:5]"
   ]
  },
  {
   "cell_type": "code",
   "execution_count": 340,
   "metadata": {
    "ExecuteTime": {
     "end_time": "2021-06-30T13:16:29.379825Z",
     "start_time": "2021-06-30T13:16:29.359825Z"
    }
   },
   "outputs": [],
   "source": [
    "# Функция Adadelta\n",
    "def log_regression_Adadelta(x_,alpha,y_,learning_rate= .1,epoch = 300):\n",
    "    \n",
    "    step_i_grad = np.random.random((alpha.shape[0],1))/100 #начальный шаг\n",
    "    step_i_alpha = np.random.random((alpha.shape[0],1))/100 #начальный шаг\n",
    "\n",
    "    gamma = 1-learning_rate             \n",
    "    print('Loss funct \\t|\\t bias \\t\\t|\\t alpha  ')\n",
    "    print('-'*85)\n",
    "\n",
    "    for i in range(epoch):\n",
    "\n",
    "        alpha , step_i_grad, step_i_alpha  = Adadelta(x_,alpha,y_, gamma, step_i_grad, step_i_alpha )\n",
    "\n",
    "        l = loss_function(x_,alpha,y_)\n",
    "        if i %50 ==0: print(f'{l :.3f}\\t \\t|\\t {alpha[-1] } \\t|\\t {alpha[:-1].T }')\n",
    "        if np.abs(l) < .1 : break\n",
    "    print(' finish\\n','-'*85,'\\n')         \n",
    "    return alpha"
   ]
  },
  {
   "cell_type": "code",
   "execution_count": 343,
   "metadata": {
    "ExecuteTime": {
     "end_time": "2021-06-30T13:17:43.635944Z",
     "start_time": "2021-06-30T13:17:42.103931Z"
    }
   },
   "outputs": [
    {
     "name": "stdout",
     "output_type": "stream",
     "text": [
      "Loss funct \t|\t bias \t\t|\t alpha  \n",
      "-------------------------------------------------------------------------------------\n",
      "31.120\t \t|\t [0.408] \t|\t [[0.714 0.595 0.756 -0.082 -0.068]]\n",
      "0.730\t \t|\t [0.305] \t|\t [[-1.029 1.846 -0.432 -1.897 -0.172]]\n",
      "0.379\t \t|\t [0.278] \t|\t [[-1.308 2.062 -0.652 -2.223 -0.205]]\n",
      "0.248\t \t|\t [0.271] \t|\t [[-1.487 2.193 -0.806 -2.434 -0.229]]\n",
      "0.178\t \t|\t [0.269] \t|\t [[-1.630 2.286 -0.941 -2.602 -0.248]]\n",
      "0.133\t \t|\t [0.267] \t|\t [[-1.755 2.355 -1.069 -2.746 -0.266]]\n",
      " finish\n",
      " ------------------------------------------------------------------------------------- \n",
      "\n",
      "Loss funct \t|\t bias \t\t|\t alpha  \n",
      "-------------------------------------------------------------------------------------\n",
      "157.552\t \t|\t [0.117] \t|\t [[0.471 0.865 0.463 0.169 0.624]]\n",
      "12.570\t \t|\t [-1.267] \t|\t [[-0.090 -0.127 1.366 -0.821 0.030]]\n",
      "11.635\t \t|\t [-1.280] \t|\t [[0.055 -0.956 1.672 -1.570 0.018]]\n",
      "11.454\t \t|\t [-1.282] \t|\t [[0.357 -0.993 1.772 -1.960 0.015]]\n",
      "11.393\t \t|\t [-1.284] \t|\t [[0.463 -1.027 1.794 -2.103 0.013]]\n",
      "11.355\t \t|\t [-1.284] \t|\t [[0.496 -1.041 1.811 -2.160 0.012]]\n",
      "11.324\t \t|\t [-1.285] \t|\t [[0.512 -1.049 1.825 -2.192 0.011]]\n",
      "11.298\t \t|\t [-1.286] \t|\t [[0.522 -1.055 1.835 -2.214 0.010]]\n",
      "11.275\t \t|\t [-1.287] \t|\t [[0.528 -1.059 1.844 -2.231 0.009]]\n",
      "11.254\t \t|\t [-1.287] \t|\t [[0.533 -1.062 1.852 -2.245 0.008]]\n",
      "11.234\t \t|\t [-1.288] \t|\t [[0.536 -1.065 1.859 -2.256 0.007]]\n",
      "11.216\t \t|\t [-1.288] \t|\t [[0.539 -1.067 1.865 -2.267 0.006]]\n",
      "11.199\t \t|\t [-1.288] \t|\t [[0.542 -1.068 1.872 -2.276 0.006]]\n",
      "11.183\t \t|\t [-1.289] \t|\t [[0.544 -1.069 1.878 -2.285 0.005]]\n",
      "11.168\t \t|\t [-1.289] \t|\t [[0.545 -1.070 1.884 -2.293 0.005]]\n",
      "11.154\t \t|\t [-1.290] \t|\t [[0.546 -1.070 1.890 -2.301 0.004]]\n",
      "11.140\t \t|\t [-1.290] \t|\t [[0.547 -1.071 1.895 -2.308 0.003]]\n",
      "11.127\t \t|\t [-1.290] \t|\t [[0.548 -1.071 1.901 -2.315 0.003]]\n",
      "11.114\t \t|\t [-1.291] \t|\t [[0.549 -1.071 1.907 -2.321 0.002]]\n",
      "11.102\t \t|\t [-1.291] \t|\t [[0.549 -1.072 1.912 -2.327 0.002]]\n",
      "11.090\t \t|\t [-1.291] \t|\t [[0.550 -1.072 1.918 -2.333 0.001]]\n",
      "11.079\t \t|\t [-1.291] \t|\t [[0.550 -1.072 1.923 -2.339 0.001]]\n",
      "11.068\t \t|\t [-1.292] \t|\t [[0.550 -1.072 1.928 -2.345 0.001]]\n",
      "11.058\t \t|\t [-1.292] \t|\t [[0.550 -1.072 1.933 -2.350 0.000]]\n",
      "11.047\t \t|\t [-1.292] \t|\t [[0.550 -1.072 1.939 -2.356 -0.000]]\n",
      "11.037\t \t|\t [-1.293] \t|\t [[0.550 -1.072 1.944 -2.361 -0.001]]\n",
      "11.028\t \t|\t [-1.293] \t|\t [[0.550 -1.072 1.949 -2.366 -0.001]]\n",
      "11.018\t \t|\t [-1.293] \t|\t [[0.550 -1.072 1.954 -2.371 -0.001]]\n",
      "11.009\t \t|\t [-1.293] \t|\t [[0.549 -1.072 1.959 -2.376 -0.002]]\n",
      "11.000\t \t|\t [-1.294] \t|\t [[0.549 -1.072 1.964 -2.381 -0.002]]\n",
      "10.991\t \t|\t [-1.294] \t|\t [[0.549 -1.072 1.969 -2.385 -0.003]]\n",
      "10.983\t \t|\t [-1.294] \t|\t [[0.548 -1.072 1.974 -2.390 -0.003]]\n",
      "10.975\t \t|\t [-1.294] \t|\t [[0.548 -1.071 1.978 -2.394 -0.003]]\n",
      "10.966\t \t|\t [-1.295] \t|\t [[0.547 -1.071 1.983 -2.399 -0.004]]\n",
      "10.959\t \t|\t [-1.295] \t|\t [[0.547 -1.071 1.988 -2.403 -0.004]]\n",
      "10.951\t \t|\t [-1.295] \t|\t [[0.546 -1.071 1.993 -2.407 -0.004]]\n",
      "10.943\t \t|\t [-1.295] \t|\t [[0.546 -1.071 1.997 -2.412 -0.005]]\n",
      "10.936\t \t|\t [-1.295] \t|\t [[0.545 -1.071 2.002 -2.416 -0.005]]\n",
      "10.928\t \t|\t [-1.296] \t|\t [[0.544 -1.071 2.007 -2.420 -0.005]]\n",
      "10.921\t \t|\t [-1.296] \t|\t [[0.544 -1.070 2.011 -2.424 -0.006]]\n",
      "10.914\t \t|\t [-1.296] \t|\t [[0.543 -1.070 2.016 -2.428 -0.006]]\n",
      "10.907\t \t|\t [-1.296] \t|\t [[0.543 -1.070 2.020 -2.432 -0.006]]\n",
      "10.900\t \t|\t [-1.296] \t|\t [[0.542 -1.070 2.025 -2.436 -0.007]]\n",
      "10.894\t \t|\t [-1.297] \t|\t [[0.541 -1.070 2.029 -2.439 -0.007]]\n",
      "10.887\t \t|\t [-1.297] \t|\t [[0.541 -1.070 2.033 -2.443 -0.007]]\n",
      "10.881\t \t|\t [-1.297] \t|\t [[0.540 -1.069 2.038 -2.447 -0.008]]\n",
      "10.875\t \t|\t [-1.297] \t|\t [[0.539 -1.069 2.042 -2.450 -0.008]]\n",
      "10.868\t \t|\t [-1.297] \t|\t [[0.539 -1.069 2.046 -2.454 -0.008]]\n",
      "10.862\t \t|\t [-1.298] \t|\t [[0.538 -1.069 2.051 -2.458 -0.009]]\n",
      "10.856\t \t|\t [-1.298] \t|\t [[0.537 -1.069 2.055 -2.461 -0.009]]\n",
      "10.850\t \t|\t [-1.298] \t|\t [[0.536 -1.068 2.059 -2.465 -0.009]]\n",
      "10.844\t \t|\t [-1.298] \t|\t [[0.536 -1.068 2.063 -2.468 -0.009]]\n",
      "10.839\t \t|\t [-1.298] \t|\t [[0.535 -1.068 2.067 -2.472 -0.010]]\n",
      "10.833\t \t|\t [-1.299] \t|\t [[0.534 -1.068 2.071 -2.475 -0.010]]\n",
      "10.828\t \t|\t [-1.299] \t|\t [[0.534 -1.068 2.075 -2.478 -0.010]]\n",
      "10.822\t \t|\t [-1.299] \t|\t [[0.533 -1.068 2.079 -2.482 -0.011]]\n",
      "10.817\t \t|\t [-1.299] \t|\t [[0.532 -1.067 2.083 -2.485 -0.011]]\n",
      "10.811\t \t|\t [-1.299] \t|\t [[0.532 -1.067 2.087 -2.488 -0.011]]\n",
      "10.806\t \t|\t [-1.299] \t|\t [[0.531 -1.067 2.091 -2.492 -0.011]]\n",
      "10.801\t \t|\t [-1.300] \t|\t [[0.530 -1.067 2.095 -2.495 -0.012]]\n",
      " finish\n",
      " ------------------------------------------------------------------------------------- \n",
      "\n",
      "Loss funct \t|\t bias \t\t|\t alpha  \n",
      "-------------------------------------------------------------------------------------\n",
      "165.763\t \t|\t [0.598] \t|\t [[0.925 0.461 1.025 1.007 0.795]]\n",
      "4.408\t \t|\t [-0.909] \t|\t [[0.863 -0.229 1.716 1.612 -0.191]]\n",
      "3.482\t \t|\t [-0.986] \t|\t [[0.745 -0.429 2.322 2.109 -0.266]]\n",
      "2.903\t \t|\t [-1.003] \t|\t [[0.606 -0.488 2.856 2.544 -0.325]]\n",
      "2.500\t \t|\t [-1.020] \t|\t [[0.454 -0.516 3.321 2.928 -0.372]]\n",
      "2.198\t \t|\t [-1.034] \t|\t [[0.313 -0.537 3.739 3.278 -0.414]]\n",
      "1.963\t \t|\t [-1.046] \t|\t [[0.190 -0.555 4.122 3.605 -0.453]]\n",
      "1.774\t \t|\t [-1.056] \t|\t [[0.081 -0.573 4.477 3.913 -0.489]]\n",
      "1.620\t \t|\t [-1.064] \t|\t [[-0.016 -0.592 4.809 4.207 -0.523]]\n",
      "1.493\t \t|\t [-1.072] \t|\t [[-0.102 -0.610 5.121 4.488 -0.556]]\n",
      "1.386\t \t|\t [-1.079] \t|\t [[-0.179 -0.629 5.416 4.755 -0.587]]\n",
      "1.295\t \t|\t [-1.085] \t|\t [[-0.248 -0.648 5.696 5.009 -0.616]]\n",
      "1.218\t \t|\t [-1.090] \t|\t [[-0.310 -0.667 5.962 5.247 -0.644]]\n",
      "1.152\t \t|\t [-1.095] \t|\t [[-0.366 -0.685 6.215 5.469 -0.671]]\n",
      "1.095\t \t|\t [-1.100] \t|\t [[-0.417 -0.702 6.456 5.675 -0.696]]\n",
      "1.046\t \t|\t [-1.104] \t|\t [[-0.463 -0.719 6.686 5.864 -0.719]]\n",
      "1.003\t \t|\t [-1.107] \t|\t [[-0.505 -0.735 6.907 6.037 -0.741]]\n",
      "0.964\t \t|\t [-1.110] \t|\t [[-0.544 -0.750 7.120 6.196 -0.762]]\n",
      "0.930\t \t|\t [-1.113] \t|\t [[-0.580 -0.764 7.324 6.341 -0.782]]\n",
      "0.899\t \t|\t [-1.116] \t|\t [[-0.613 -0.778 7.522 6.476 -0.801]]\n",
      "0.872\t \t|\t [-1.119] \t|\t [[-0.644 -0.790 7.714 6.600 -0.819]]\n",
      "0.846\t \t|\t [-1.121] \t|\t [[-0.673 -0.802 7.900 6.716 -0.836]]\n",
      "0.823\t \t|\t [-1.123] \t|\t [[-0.700 -0.813 8.081 6.825 -0.852]]\n",
      "0.801\t \t|\t [-1.125] \t|\t [[-0.726 -0.824 8.259 6.927 -0.868]]\n",
      "0.781\t \t|\t [-1.127] \t|\t [[-0.750 -0.834 8.432 7.024 -0.883]]\n",
      "0.762\t \t|\t [-1.129] \t|\t [[-0.773 -0.844 8.602 7.115 -0.898]]\n",
      "0.744\t \t|\t [-1.131] \t|\t [[-0.795 -0.854 8.769 7.202 -0.912]]\n",
      "0.727\t \t|\t [-1.133] \t|\t [[-0.816 -0.863 8.933 7.284 -0.926]]\n",
      "0.712\t \t|\t [-1.134] \t|\t [[-0.836 -0.871 9.094 7.362 -0.939]]\n",
      "0.697\t \t|\t [-1.136] \t|\t [[-0.855 -0.880 9.254 7.437 -0.952]]\n",
      "0.683\t \t|\t [-1.137] \t|\t [[-0.874 -0.888 9.411 7.509 -0.965]]\n",
      "0.670\t \t|\t [-1.139] \t|\t [[-0.892 -0.896 9.566 7.578 -0.977]]\n",
      "0.658\t \t|\t [-1.140] \t|\t [[-0.909 -0.904 9.720 7.644 -0.989]]\n",
      "0.645\t \t|\t [-1.141] \t|\t [[-0.926 -0.911 9.871 7.707 -1.001]]\n",
      "0.633\t \t|\t [-1.142] \t|\t [[-0.942 -0.919 10.020 7.768 -1.013]]\n",
      "0.621\t \t|\t [-1.144] \t|\t [[-0.958 -0.925 10.166 7.826 -1.025]]\n",
      "0.609\t \t|\t [-1.145] \t|\t [[-0.973 -0.932 10.309 7.881 -1.037]]\n",
      "0.598\t \t|\t [-1.146] \t|\t [[-0.988 -0.939 10.450 7.935 -1.048]]\n",
      "0.588\t \t|\t [-1.147] \t|\t [[-1.003 -0.945 10.589 7.986 -1.059]]\n",
      "0.577\t \t|\t [-1.148] \t|\t [[-1.017 -0.951 10.725 8.036 -1.070]]\n",
      " finish\n",
      " ------------------------------------------------------------------------------------- \n",
      "\n"
     ]
    },
    {
     "data": {
      "text/plain": [
       "[array([[-1.862, 2.410, -1.188, -2.872, -0.281, 0.265]]),\n",
       " array([[0.537, -1.082, 2.108, -2.490, 0.042, -1.265]]),\n",
       " array([[-1.030, -0.957, 10.856, 8.083, -1.080, -1.149]])]"
      ]
     },
     "execution_count": 343,
     "metadata": {},
     "output_type": "execute_result"
    }
   ],
   "source": [
    "coefs = []\n",
    "#Y=0\n",
    "params =  np.random.random((6,1))\n",
    "params = log_regression_Adadelta(X,params,np.array(Y==0 , dtype=np.int8 ))\n",
    "coefs.append(params)\n",
    "\n",
    "#Y=1\n",
    "params =  np.random.random((6,1))\n",
    "params = log_regression_Adadelta(X,params,np.array(Y==1 , dtype=np.int8 ),learning_rate= .9,epoch = 3000)\n",
    "coefs.append(params)\n",
    "\n",
    "#Y=2\n",
    "params =  np.random.random((6,1))\n",
    "params = log_regression_Adadelta(X,params,np.array(Y==2 , dtype=np.int8 ),learning_rate= .2, epoch = 2000)\n",
    "coefs.append(params)\n",
    "\n",
    "[alpha.T for alpha in coefs]"
   ]
  },
  {
   "cell_type": "code",
   "execution_count": 297,
   "metadata": {
    "ExecuteTime": {
     "end_time": "2021-06-30T12:31:35.082871Z",
     "start_time": "2021-06-30T12:31:35.072871Z"
    }
   },
   "outputs": [
    {
     "data": {
      "text/plain": [
       "(array([[0, 0, 0, 0, 1, 1, 0, 0, 0, 1, 0, 0, 0, 0, 1, 0, 0, 0, 0, 0, 1, 0,\n",
       "         0, 0, 1, 0, 0, 1, 0, 1, 0, 0, 0, 1, 0, 0, 0, 0, 0, 0, 1, 0, 1, 1,\n",
       "         0, 1, 0, 0, 1, 0, 0, 0, 0, 1, 0, 0, 0, 0, 0, 1, 0, 0, 0, 0, 0, 0,\n",
       "         0, 0, 1, 0, 0, 1, 0, 1, 0, 0, 1, 0, 0, 1, 0, 1, 0, 0, 0, 0, 1, 1,\n",
       "         0, 0, 1, 0, 0, 0, 0, 0, 1, 0, 1, 0]]),\n",
       " array([[1, 2, 1, 0, 2, 1, 0, 0, 0, 1, 2, 0, 0, 0, 1, 0, 1, 2, 0, 1, 2, 0,\n",
       "         2, 2, 1, 1, 2, 1, 0, 1, 2, 0, 0, 1, 1, 0, 2, 0, 0, 1, 1, 2, 1, 2,\n",
       "         2, 1, 0, 0, 2, 2, 0, 0, 0, 1, 2, 0, 2, 2, 0, 1, 1, 2, 1, 2, 0, 2,\n",
       "         1, 2, 1, 1, 1, 0, 1, 1, 0, 1, 2, 2, 0, 1, 2, 2, 0, 2, 0, 1, 2, 2,\n",
       "         1, 2, 1, 1, 2, 2, 0, 1, 2, 0, 1, 2]], dtype=int64))"
      ]
     },
     "execution_count": 297,
     "metadata": {},
     "output_type": "execute_result"
    }
   ],
   "source": [
    "# между первой (red - versicolor) и остальыми выборками очень плохо разделяет.. \n",
    "# много ошибок и лосс большой (даже увеличение итераций не помогло.)\n",
    "\n",
    "logit_result(X,coefs[1]) , Y.T "
   ]
  },
  {
   "cell_type": "code",
   "execution_count": 299,
   "metadata": {
    "ExecuteTime": {
     "end_time": "2021-06-30T12:33:10.608006Z",
     "start_time": "2021-06-30T12:33:10.208005Z"
    }
   },
   "outputs": [
    {
     "name": "stdout",
     "output_type": "stream",
     "text": [
      "y = 1.65 * x\n",
      "y = -3.22 * x\n",
      "y = -2.14 * x\n"
     ]
    },
    {
     "data": {
      "text/plain": [
       "<matplotlib.legend.Legend at 0xf4c6fd0>"
      ]
     },
     "execution_count": 299,
     "metadata": {},
     "output_type": "execute_result"
    },
    {
     "data": {
      "image/png": "[encoded data removed]",
      "text/plain": [
       "<Figure size 432x288 with 1 Axes>"
      ]
     },
     "metadata": {
      "needs_background": "light"
     },
     "output_type": "display_data"
    }
   ],
   "source": [
    "# Это график с новым параметром в разделяющей гиперплоскости = 1\n",
    "cols = ['blue','red', 'green' ]\n",
    "class_names = iris.target_names\n",
    "plt.xlim( (-2.5, 2.5) )\n",
    "plt.ylim( (-2.5, 2.5) )\n",
    "\n",
    "# построим выборки\n",
    "for  i in np.unique(Y):\n",
    "    plt.plot(X[Y[:,0]==i,0] , X[Y[:,0]==i,1], 'o',label = f'{class_names[i]}', color = cols[i]  )\n",
    "    \n",
    "    k = -coefs[i][1][0]/coefs[i][0][0]\n",
    "    print(f'y = {k:.2f} * x')\n",
    "    x_axis = np.linspace(-50,50)\n",
    "    y_axis = k * x_axis\n",
    "    plt.plot(x_axis, y_axis, linewidth=2, color = cols[i])\n",
    "    \n",
    "plt.legend(loc='best')    "
   ]
  },
  {
   "cell_type": "code",
   "execution_count": 313,
   "metadata": {
    "ExecuteTime": {
     "end_time": "2021-06-30T12:39:29.696599Z",
     "start_time": "2021-06-30T12:39:29.265598Z"
    }
   },
   "outputs": [
    {
     "name": "stdout",
     "output_type": "stream",
     "text": [
      " \n",
      "0.978 x\n",
      " \n",
      "10.77 x\n",
      " \n",
      "-2.908 x\n"
     ]
    },
    {
     "data": {
      "text/plain": [
       "<matplotlib.legend.Legend at 0x10982820>"
      ]
     },
     "execution_count": 313,
     "metadata": {},
     "output_type": "execute_result"
    },
    {
     "data": {
      "image/png": "[encoded data removed]",
      "text/plain": [
       "<Figure size 432x288 with 1 Axes>"
      ]
     },
     "metadata": {
      "needs_background": "light"
     },
     "output_type": "display_data"
    }
   ],
   "source": [
    "# Это график такой же что и выше, только с новым параметром в разделяющей гиперплоскости = 10\n",
    "\n",
    "cols = ['blue','red', 'green' ]\n",
    "class_names = iris.target_names\n",
    "plt.xlim( (-2.5, 2.5) )\n",
    "plt.ylim( (-2.5, 2.5) )\n",
    "\n",
    "# построим выборки, на 2D плоскости из двух параметров X[:,0] и X[:,1]\n",
    "for  i in np.unique(Y):\n",
    "    plt.plot(X[Y[:,0]==i,0] , X[Y[:,0]==i,1], 'o',label = f'{class_names[i]}', color = cols[i]  )\n",
    "    # Строим разделяющую кривую.. \n",
    "    x2 , y2 = -coefs[i][0][0]/coefs[i][1][0],1\n",
    "    poly = np.poly1d( np.polyfit([0,x2],[0,y2],1) )\n",
    "    print(poly)\n",
    "    x_axis = np.linspace(-50,50)\n",
    "    y_axis = poly(x_axis)\n",
    "    plt.plot(x_axis, y_axis, linewidth=2, color = cols[i])\n",
    "    \n",
    "plt.legend(loc='best')    "
   ]
  },
  {
   "cell_type": "markdown",
   "metadata": {},
   "source": [
    "Есть одна мысль, что путем перебора мы найдем такую разделяющую линию, что количество ошибок будет мминимальным.."
   ]
  },
  {
   "cell_type": "markdown",
   "metadata": {},
   "source": [
    "Протестируем на X_test и найдем тот класс у которого вероятность выше."
   ]
  },
  {
   "cell_type": "code",
   "execution_count": 315,
   "metadata": {
    "ExecuteTime": {
     "end_time": "2021-06-30T12:52:39.608768Z",
     "start_time": "2021-06-30T12:52:39.598768Z"
    }
   },
   "outputs": [],
   "source": [
    "X = scaler.fit_transform(X_test)\n",
    "X = np.array(np.hstack( [X, np.ones( [len(X), 1], dtype=np.float64  )*10   ]  )  , dtype=np.float64) # добавим еще один признак - получится на один признак больше - разделяющая гипер-плоскость будет иметь на одну плоскость больше\n",
    "Y = np.array(y_test, dtype=np.int64)\n",
    "Y = Y.reshape(-1,1)"
   ]
  },
  {
   "cell_type": "code",
   "execution_count": 331,
   "metadata": {
    "ExecuteTime": {
     "end_time": "2021-06-30T13:11:52.473430Z",
     "start_time": "2021-06-30T13:11:52.463430Z"
    }
   },
   "outputs": [],
   "source": [
    "accuracy_score?"
   ]
  },
  {
   "cell_type": "code",
   "execution_count": 333,
   "metadata": {
    "ExecuteTime": {
     "end_time": "2021-06-30T13:12:54.982518Z",
     "start_time": "2021-06-30T13:12:54.962518Z"
    }
   },
   "outputs": [],
   "source": [
    "a = []        # служебный. создаем пустой массив в который сбросим все результаты логита по трем классам. \n",
    "y_pred = []   # результирующий массив. \n",
    "\n",
    "for i in range(len(X)):     # бегаем по выборке X_test\n",
    "    for j in range(3):  # с каждым значением X_test_i делаем логит и проверяем максимум логита\n",
    "        a.append( logit(X[i], coefs[j]) )\n",
    "    y_pred.append(np.argmax(a,axis=0)[0] )\n",
    "    a = []\n",
    "    #break"
   ]
  },
  {
   "cell_type": "code",
   "execution_count": 334,
   "metadata": {
    "ExecuteTime": {
     "end_time": "2021-06-30T13:13:07.924536Z",
     "start_time": "2021-06-30T13:13:07.914536Z"
    }
   },
   "outputs": [
    {
     "data": {
      "text/plain": [
       "0.98"
      ]
     },
     "execution_count": 334,
     "metadata": {},
     "output_type": "execute_result"
    }
   ],
   "source": [
    "from sklearn.metrics import accuracy_score\n",
    "accuracy_score(y_test,y_pred)"
   ]
  },
  {
   "cell_type": "markdown",
   "metadata": {},
   "source": [
    "Неплохо для многоклассового логита."
   ]
  }
 ],
 "metadata": {
  "kernelspec": {
   "display_name": "Python 3",
   "language": "python",
   "name": "python3"
  },
  "language_info": {
   "codemirror_mode": {
    "name": "ipython",
    "version": 3
   },
   "file_extension": ".py",
   "mimetype": "text/x-python",
   "name": "python",
   "nbconvert_exporter": "python",
   "pygments_lexer": "ipython3",
   "version": "3.8.5"
  }
 },
 "nbformat": 4,
 "nbformat_minor": 4
}
