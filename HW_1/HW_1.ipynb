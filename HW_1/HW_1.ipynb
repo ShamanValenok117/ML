{
 "cells": [
  {
   "cell_type": "code",
   "execution_count": 1,
   "metadata": {
    "ExecuteTime": {
     "end_time": "2021-06-24T07:58:19.653324Z",
     "start_time": "2021-06-24T07:58:16.663320Z"
    }
   },
   "outputs": [],
   "source": [
    "import numpy as np\n",
    "import pandas as pd\n",
    "from sklearn.linear_model import LogisticRegression, LinearRegression\n",
    "\n",
    "import matplotlib.pyplot as plt\n",
    "%matplotlib inline\n",
    "import seaborn as sns\n",
    "\n",
    "from sklearn.model_selection import train_test_split\n",
    "\n",
    "from sklearn.metrics import accuracy_score, mean_squared_error"
   ]
  },
  {
   "cell_type": "code",
   "execution_count": 17,
   "metadata": {
    "ExecuteTime": {
     "end_time": "2021-06-24T08:00:24.622500Z",
     "start_time": "2021-06-24T08:00:24.472500Z"
    }
   },
   "outputs": [],
   "source": [
    "data = pd.read_csv( 'adult.csv')"
   ]
  },
  {
   "cell_type": "code",
   "execution_count": 3,
   "metadata": {
    "ExecuteTime": {
     "end_time": "2021-06-23T22:55:29.794521Z",
     "start_time": "2021-06-23T22:55:29.707516Z"
    }
   },
   "outputs": [
    {
     "name": "stdout",
     "output_type": "stream",
     "text": [
      "<class 'pandas.core.frame.DataFrame'>\n",
      "RangeIndex: 48842 entries, 0 to 48841\n",
      "Data columns (total 15 columns):\n",
      " #   Column           Non-Null Count  Dtype \n",
      "---  ------           --------------  ----- \n",
      " 0   age              48842 non-null  int64 \n",
      " 1   workclass        48842 non-null  object\n",
      " 2   fnlwgt           48842 non-null  int64 \n",
      " 3   education        48842 non-null  object\n",
      " 4   educational-num  48842 non-null  int64 \n",
      " 5   marital-status   48842 non-null  object\n",
      " 6   occupation       48842 non-null  object\n",
      " 7   relationship     48842 non-null  object\n",
      " 8   race             48842 non-null  object\n",
      " 9   gender           48842 non-null  object\n",
      " 10  capital-gain     48842 non-null  int64 \n",
      " 11  capital-loss     48842 non-null  int64 \n",
      " 12  hours-per-week   48842 non-null  int64 \n",
      " 13  native-country   48842 non-null  object\n",
      " 14  income           48842 non-null  object\n",
      "dtypes: int64(6), object(9)\n",
      "memory usage: 5.6+ MB\n"
     ]
    }
   ],
   "source": [
    "data.info()"
   ]
  },
  {
   "cell_type": "code",
   "execution_count": 18,
   "metadata": {
    "ExecuteTime": {
     "end_time": "2021-06-24T08:00:29.633507Z",
     "start_time": "2021-06-24T08:00:29.613507Z"
    }
   },
   "outputs": [
    {
     "data": {
      "text/plain": [
       "<=50K    37155\n",
       ">50K     11687\n",
       "Name: income, dtype: int64"
      ]
     },
     "execution_count": 18,
     "metadata": {},
     "output_type": "execute_result"
    }
   ],
   "source": [
    "y = data.income\n",
    "y.value_counts()"
   ]
  },
  {
   "cell_type": "code",
   "execution_count": 19,
   "metadata": {
    "ExecuteTime": {
     "end_time": "2021-06-24T08:00:31.783510Z",
     "start_time": "2021-06-24T08:00:31.763510Z"
    }
   },
   "outputs": [],
   "source": [
    "data.drop('income',axis=1,inplace=True)"
   ]
  },
  {
   "cell_type": "code",
   "execution_count": 6,
   "metadata": {
    "ExecuteTime": {
     "end_time": "2021-06-23T10:18:02.602926Z",
     "start_time": "2021-06-23T10:18:02.562926Z"
    }
   },
   "outputs": [
    {
     "name": "stdout",
     "output_type": "stream",
     "text": [
      " Пустых значений \n",
      "--------------------------------------------------\n",
      " age                0\n",
      "workclass          0\n",
      "fnlwgt             0\n",
      "education          0\n",
      "educational-num    0\n",
      "marital-status     0\n",
      "occupation         0\n",
      "relationship       0\n",
      "race               0\n",
      "gender             0\n",
      "capital-gain       0\n",
      "capital-loss       0\n",
      "hours-per-week     0\n",
      "native-country     0\n",
      "dtype: int64\n"
     ]
    }
   ],
   "source": [
    "print(' Пустых значений \\n'+'-'*50 + '\\n', data.isnull().sum() )"
   ]
  },
  {
   "cell_type": "code",
   "execution_count": 5,
   "metadata": {
    "ExecuteTime": {
     "end_time": "2021-06-24T07:58:29.506338Z",
     "start_time": "2021-06-24T07:58:29.476338Z"
    }
   },
   "outputs": [
    {
     "data": {
      "text/plain": [
       "workclass       \n",
       "Private             33906\n",
       "Self-emp-not-inc     3862\n",
       "Local-gov            3136\n",
       "?                    2799\n",
       "State-gov            1981\n",
       "Self-emp-inc         1695\n",
       "Federal-gov          1432\n",
       "Without-pay            21\n",
       "Never-worked           10\n",
       "dtype: int64"
      ]
     },
     "execution_count": 5,
     "metadata": {},
     "output_type": "execute_result"
    }
   ],
   "source": [
    "# Пустых значений нет, но почему же в описании указали 7% пропусков в 3 столбцах. проверим column = 'workclass' \n",
    "data.loc[:,['workclass']].value_counts()"
   ]
  },
  {
   "cell_type": "markdown",
   "metadata": {},
   "source": [
    "Стало быть все же есть пропуски, но называются они '?'.  \n",
    "Заменим '?' на 0. // ну не удалять же ценные строки."
   ]
  },
  {
   "cell_type": "code",
   "execution_count": 20,
   "metadata": {
    "ExecuteTime": {
     "end_time": "2021-06-24T08:00:36.373517Z",
     "start_time": "2021-06-24T08:00:36.153517Z"
    }
   },
   "outputs": [],
   "source": [
    "for i in data.columns: \n",
    "    data[i] = data[i].apply(lambda x: 0 if x == '?' else x)"
   ]
  },
  {
   "cell_type": "code",
   "execution_count": 7,
   "metadata": {
    "ExecuteTime": {
     "end_time": "2021-06-24T07:58:33.996345Z",
     "start_time": "2021-06-24T07:58:33.976345Z"
    }
   },
   "outputs": [
    {
     "data": {
      "text/plain": [
       "occupation       \n",
       "Prof-specialty       6172\n",
       "Craft-repair         6112\n",
       "Exec-managerial      6086\n",
       "Adm-clerical         5611\n",
       "Sales                5504\n",
       "Other-service        4923\n",
       "Machine-op-inspct    3022\n",
       "0                    2809\n",
       "Transport-moving     2355\n",
       "Handlers-cleaners    2072\n",
       "Farming-fishing      1490\n",
       "Tech-support         1446\n",
       "Protective-serv       983\n",
       "Priv-house-serv       242\n",
       "Armed-Forces           15\n",
       "dtype: int64"
      ]
     },
     "execution_count": 7,
     "metadata": {},
     "output_type": "execute_result"
    }
   ],
   "source": [
    "# Проверим\n",
    "data.loc[:,['occupation']].value_counts()"
   ]
  },
  {
   "cell_type": "code",
   "execution_count": 6,
   "metadata": {
    "ExecuteTime": {
     "end_time": "2021-06-23T23:06:57.352787Z",
     "start_time": "2021-06-23T23:06:57.322787Z"
    }
   },
   "outputs": [
    {
     "data": {
      "text/plain": [
       "native-country            \n",
       "United-States                 43832\n",
       "Mexico                          951\n",
       "0                               857\n",
       "Philippines                     295\n",
       "Germany                         206\n",
       "Puerto-Rico                     184\n",
       "Canada                          182\n",
       "El-Salvador                     155\n",
       "India                           151\n",
       "Cuba                            138\n",
       "England                         127\n",
       "China                           122\n",
       "South                           115\n",
       "Jamaica                         106\n",
       "Italy                           105\n",
       "Dominican-Republic              103\n",
       "Japan                            92\n",
       "Guatemala                        88\n",
       "Poland                           87\n",
       "Vietnam                          86\n",
       "Columbia                         85\n",
       "Haiti                            75\n",
       "Portugal                         67\n",
       "Taiwan                           65\n",
       "Iran                             59\n",
       "Nicaragua                        49\n",
       "Greece                           49\n",
       "Peru                             46\n",
       "Ecuador                          45\n",
       "France                           38\n",
       "Ireland                          37\n",
       "Hong                             30\n",
       "Thailand                         30\n",
       "Cambodia                         28\n",
       "Trinadad&Tobago                  27\n",
       "Yugoslavia                       23\n",
       "Outlying-US(Guam-USVI-etc)       23\n",
       "Laos                             23\n",
       "Scotland                         21\n",
       "Honduras                         20\n",
       "Hungary                          19\n",
       "Holand-Netherlands                1\n",
       "dtype: int64"
      ]
     },
     "execution_count": 6,
     "metadata": {},
     "output_type": "execute_result"
    }
   ],
   "source": [
    "data.loc[:,['native-country']].value_counts()"
   ]
  },
  {
   "cell_type": "code",
   "execution_count": 21,
   "metadata": {
    "ExecuteTime": {
     "end_time": "2021-06-24T08:00:42.913526Z",
     "start_time": "2021-06-24T08:00:42.743526Z"
    }
   },
   "outputs": [
    {
     "data": {
      "text/html": [
       "<div>\n",
       "<style scoped>\n",
       "    .dataframe tbody tr th:only-of-type {\n",
       "        vertical-align: middle;\n",
       "    }\n",
       "\n",
       "    .dataframe tbody tr th {\n",
       "        vertical-align: top;\n",
       "    }\n",
       "\n",
       "    .dataframe thead th {\n",
       "        text-align: right;\n",
       "    }\n",
       "</style>\n",
       "<table border=\"1\" class=\"dataframe\">\n",
       "  <thead>\n",
       "    <tr style=\"text-align: right;\">\n",
       "      <th></th>\n",
       "      <th>age</th>\n",
       "      <th>capital-gain</th>\n",
       "      <th>capital-loss</th>\n",
       "      <th>hours-per-week</th>\n",
       "      <th>race_Amer-Indian-Eskimo</th>\n",
       "      <th>race_Asian-Pac-Islander</th>\n",
       "      <th>race_Black</th>\n",
       "      <th>race_Other</th>\n",
       "      <th>race_White</th>\n",
       "      <th>gender_Female</th>\n",
       "      <th>...</th>\n",
       "      <th>native-country_Portugal</th>\n",
       "      <th>native-country_Puerto-Rico</th>\n",
       "      <th>native-country_Scotland</th>\n",
       "      <th>native-country_South</th>\n",
       "      <th>native-country_Taiwan</th>\n",
       "      <th>native-country_Thailand</th>\n",
       "      <th>native-country_Trinadad&amp;Tobago</th>\n",
       "      <th>native-country_United-States</th>\n",
       "      <th>native-country_Vietnam</th>\n",
       "      <th>native-country_Yugoslavia</th>\n",
       "    </tr>\n",
       "  </thead>\n",
       "  <tbody>\n",
       "    <tr>\n",
       "      <th>0</th>\n",
       "      <td>25</td>\n",
       "      <td>0</td>\n",
       "      <td>0</td>\n",
       "      <td>40</td>\n",
       "      <td>0</td>\n",
       "      <td>0</td>\n",
       "      <td>1</td>\n",
       "      <td>0</td>\n",
       "      <td>0</td>\n",
       "      <td>0</td>\n",
       "      <td>...</td>\n",
       "      <td>0</td>\n",
       "      <td>0</td>\n",
       "      <td>0</td>\n",
       "      <td>0</td>\n",
       "      <td>0</td>\n",
       "      <td>0</td>\n",
       "      <td>0</td>\n",
       "      <td>1</td>\n",
       "      <td>0</td>\n",
       "      <td>0</td>\n",
       "    </tr>\n",
       "    <tr>\n",
       "      <th>1</th>\n",
       "      <td>38</td>\n",
       "      <td>0</td>\n",
       "      <td>0</td>\n",
       "      <td>50</td>\n",
       "      <td>0</td>\n",
       "      <td>0</td>\n",
       "      <td>0</td>\n",
       "      <td>0</td>\n",
       "      <td>1</td>\n",
       "      <td>0</td>\n",
       "      <td>...</td>\n",
       "      <td>0</td>\n",
       "      <td>0</td>\n",
       "      <td>0</td>\n",
       "      <td>0</td>\n",
       "      <td>0</td>\n",
       "      <td>0</td>\n",
       "      <td>0</td>\n",
       "      <td>1</td>\n",
       "      <td>0</td>\n",
       "      <td>0</td>\n",
       "    </tr>\n",
       "    <tr>\n",
       "      <th>2</th>\n",
       "      <td>28</td>\n",
       "      <td>0</td>\n",
       "      <td>0</td>\n",
       "      <td>40</td>\n",
       "      <td>0</td>\n",
       "      <td>0</td>\n",
       "      <td>0</td>\n",
       "      <td>0</td>\n",
       "      <td>1</td>\n",
       "      <td>0</td>\n",
       "      <td>...</td>\n",
       "      <td>0</td>\n",
       "      <td>0</td>\n",
       "      <td>0</td>\n",
       "      <td>0</td>\n",
       "      <td>0</td>\n",
       "      <td>0</td>\n",
       "      <td>0</td>\n",
       "      <td>1</td>\n",
       "      <td>0</td>\n",
       "      <td>0</td>\n",
       "    </tr>\n",
       "    <tr>\n",
       "      <th>3</th>\n",
       "      <td>44</td>\n",
       "      <td>7688</td>\n",
       "      <td>0</td>\n",
       "      <td>40</td>\n",
       "      <td>0</td>\n",
       "      <td>0</td>\n",
       "      <td>1</td>\n",
       "      <td>0</td>\n",
       "      <td>0</td>\n",
       "      <td>0</td>\n",
       "      <td>...</td>\n",
       "      <td>0</td>\n",
       "      <td>0</td>\n",
       "      <td>0</td>\n",
       "      <td>0</td>\n",
       "      <td>0</td>\n",
       "      <td>0</td>\n",
       "      <td>0</td>\n",
       "      <td>1</td>\n",
       "      <td>0</td>\n",
       "      <td>0</td>\n",
       "    </tr>\n",
       "    <tr>\n",
       "      <th>4</th>\n",
       "      <td>18</td>\n",
       "      <td>0</td>\n",
       "      <td>0</td>\n",
       "      <td>30</td>\n",
       "      <td>0</td>\n",
       "      <td>0</td>\n",
       "      <td>0</td>\n",
       "      <td>0</td>\n",
       "      <td>1</td>\n",
       "      <td>1</td>\n",
       "      <td>...</td>\n",
       "      <td>0</td>\n",
       "      <td>0</td>\n",
       "      <td>0</td>\n",
       "      <td>0</td>\n",
       "      <td>0</td>\n",
       "      <td>0</td>\n",
       "      <td>0</td>\n",
       "      <td>1</td>\n",
       "      <td>0</td>\n",
       "      <td>0</td>\n",
       "    </tr>\n",
       "    <tr>\n",
       "      <th>...</th>\n",
       "      <td>...</td>\n",
       "      <td>...</td>\n",
       "      <td>...</td>\n",
       "      <td>...</td>\n",
       "      <td>...</td>\n",
       "      <td>...</td>\n",
       "      <td>...</td>\n",
       "      <td>...</td>\n",
       "      <td>...</td>\n",
       "      <td>...</td>\n",
       "      <td>...</td>\n",
       "      <td>...</td>\n",
       "      <td>...</td>\n",
       "      <td>...</td>\n",
       "      <td>...</td>\n",
       "      <td>...</td>\n",
       "      <td>...</td>\n",
       "      <td>...</td>\n",
       "      <td>...</td>\n",
       "      <td>...</td>\n",
       "      <td>...</td>\n",
       "    </tr>\n",
       "    <tr>\n",
       "      <th>48837</th>\n",
       "      <td>27</td>\n",
       "      <td>0</td>\n",
       "      <td>0</td>\n",
       "      <td>38</td>\n",
       "      <td>0</td>\n",
       "      <td>0</td>\n",
       "      <td>0</td>\n",
       "      <td>0</td>\n",
       "      <td>1</td>\n",
       "      <td>1</td>\n",
       "      <td>...</td>\n",
       "      <td>0</td>\n",
       "      <td>0</td>\n",
       "      <td>0</td>\n",
       "      <td>0</td>\n",
       "      <td>0</td>\n",
       "      <td>0</td>\n",
       "      <td>0</td>\n",
       "      <td>1</td>\n",
       "      <td>0</td>\n",
       "      <td>0</td>\n",
       "    </tr>\n",
       "    <tr>\n",
       "      <th>48838</th>\n",
       "      <td>40</td>\n",
       "      <td>0</td>\n",
       "      <td>0</td>\n",
       "      <td>40</td>\n",
       "      <td>0</td>\n",
       "      <td>0</td>\n",
       "      <td>0</td>\n",
       "      <td>0</td>\n",
       "      <td>1</td>\n",
       "      <td>0</td>\n",
       "      <td>...</td>\n",
       "      <td>0</td>\n",
       "      <td>0</td>\n",
       "      <td>0</td>\n",
       "      <td>0</td>\n",
       "      <td>0</td>\n",
       "      <td>0</td>\n",
       "      <td>0</td>\n",
       "      <td>1</td>\n",
       "      <td>0</td>\n",
       "      <td>0</td>\n",
       "    </tr>\n",
       "    <tr>\n",
       "      <th>48839</th>\n",
       "      <td>58</td>\n",
       "      <td>0</td>\n",
       "      <td>0</td>\n",
       "      <td>40</td>\n",
       "      <td>0</td>\n",
       "      <td>0</td>\n",
       "      <td>0</td>\n",
       "      <td>0</td>\n",
       "      <td>1</td>\n",
       "      <td>1</td>\n",
       "      <td>...</td>\n",
       "      <td>0</td>\n",
       "      <td>0</td>\n",
       "      <td>0</td>\n",
       "      <td>0</td>\n",
       "      <td>0</td>\n",
       "      <td>0</td>\n",
       "      <td>0</td>\n",
       "      <td>1</td>\n",
       "      <td>0</td>\n",
       "      <td>0</td>\n",
       "    </tr>\n",
       "    <tr>\n",
       "      <th>48840</th>\n",
       "      <td>22</td>\n",
       "      <td>0</td>\n",
       "      <td>0</td>\n",
       "      <td>20</td>\n",
       "      <td>0</td>\n",
       "      <td>0</td>\n",
       "      <td>0</td>\n",
       "      <td>0</td>\n",
       "      <td>1</td>\n",
       "      <td>0</td>\n",
       "      <td>...</td>\n",
       "      <td>0</td>\n",
       "      <td>0</td>\n",
       "      <td>0</td>\n",
       "      <td>0</td>\n",
       "      <td>0</td>\n",
       "      <td>0</td>\n",
       "      <td>0</td>\n",
       "      <td>1</td>\n",
       "      <td>0</td>\n",
       "      <td>0</td>\n",
       "    </tr>\n",
       "    <tr>\n",
       "      <th>48841</th>\n",
       "      <td>52</td>\n",
       "      <td>15024</td>\n",
       "      <td>0</td>\n",
       "      <td>40</td>\n",
       "      <td>0</td>\n",
       "      <td>0</td>\n",
       "      <td>0</td>\n",
       "      <td>0</td>\n",
       "      <td>1</td>\n",
       "      <td>1</td>\n",
       "      <td>...</td>\n",
       "      <td>0</td>\n",
       "      <td>0</td>\n",
       "      <td>0</td>\n",
       "      <td>0</td>\n",
       "      <td>0</td>\n",
       "      <td>0</td>\n",
       "      <td>0</td>\n",
       "      <td>1</td>\n",
       "      <td>0</td>\n",
       "      <td>0</td>\n",
       "    </tr>\n",
       "  </tbody>\n",
       "</table>\n",
       "<p>48842 rows × 106 columns</p>\n",
       "</div>"
      ],
      "text/plain": [
       "       age  capital-gain  capital-loss  hours-per-week  \\\n",
       "0       25             0             0              40   \n",
       "1       38             0             0              50   \n",
       "2       28             0             0              40   \n",
       "3       44          7688             0              40   \n",
       "4       18             0             0              30   \n",
       "...    ...           ...           ...             ...   \n",
       "48837   27             0             0              38   \n",
       "48838   40             0             0              40   \n",
       "48839   58             0             0              40   \n",
       "48840   22             0             0              20   \n",
       "48841   52         15024             0              40   \n",
       "\n",
       "       race_Amer-Indian-Eskimo  race_Asian-Pac-Islander  race_Black  \\\n",
       "0                            0                        0           1   \n",
       "1                            0                        0           0   \n",
       "2                            0                        0           0   \n",
       "3                            0                        0           1   \n",
       "4                            0                        0           0   \n",
       "...                        ...                      ...         ...   \n",
       "48837                        0                        0           0   \n",
       "48838                        0                        0           0   \n",
       "48839                        0                        0           0   \n",
       "48840                        0                        0           0   \n",
       "48841                        0                        0           0   \n",
       "\n",
       "       race_Other  race_White  gender_Female  ...  native-country_Portugal  \\\n",
       "0               0           0              0  ...                        0   \n",
       "1               0           1              0  ...                        0   \n",
       "2               0           1              0  ...                        0   \n",
       "3               0           0              0  ...                        0   \n",
       "4               0           1              1  ...                        0   \n",
       "...           ...         ...            ...  ...                      ...   \n",
       "48837           0           1              1  ...                        0   \n",
       "48838           0           1              0  ...                        0   \n",
       "48839           0           1              1  ...                        0   \n",
       "48840           0           1              0  ...                        0   \n",
       "48841           0           1              1  ...                        0   \n",
       "\n",
       "       native-country_Puerto-Rico  native-country_Scotland  \\\n",
       "0                               0                        0   \n",
       "1                               0                        0   \n",
       "2                               0                        0   \n",
       "3                               0                        0   \n",
       "4                               0                        0   \n",
       "...                           ...                      ...   \n",
       "48837                           0                        0   \n",
       "48838                           0                        0   \n",
       "48839                           0                        0   \n",
       "48840                           0                        0   \n",
       "48841                           0                        0   \n",
       "\n",
       "       native-country_South  native-country_Taiwan  native-country_Thailand  \\\n",
       "0                         0                      0                        0   \n",
       "1                         0                      0                        0   \n",
       "2                         0                      0                        0   \n",
       "3                         0                      0                        0   \n",
       "4                         0                      0                        0   \n",
       "...                     ...                    ...                      ...   \n",
       "48837                     0                      0                        0   \n",
       "48838                     0                      0                        0   \n",
       "48839                     0                      0                        0   \n",
       "48840                     0                      0                        0   \n",
       "48841                     0                      0                        0   \n",
       "\n",
       "       native-country_Trinadad&Tobago  native-country_United-States  \\\n",
       "0                                   0                             1   \n",
       "1                                   0                             1   \n",
       "2                                   0                             1   \n",
       "3                                   0                             1   \n",
       "4                                   0                             1   \n",
       "...                               ...                           ...   \n",
       "48837                               0                             1   \n",
       "48838                               0                             1   \n",
       "48839                               0                             1   \n",
       "48840                               0                             1   \n",
       "48841                               0                             1   \n",
       "\n",
       "       native-country_Vietnam  native-country_Yugoslavia  \n",
       "0                           0                          0  \n",
       "1                           0                          0  \n",
       "2                           0                          0  \n",
       "3                           0                          0  \n",
       "4                           0                          0  \n",
       "...                       ...                        ...  \n",
       "48837                       0                          0  \n",
       "48838                       0                          0  \n",
       "48839                       0                          0  \n",
       "48840                       0                          0  \n",
       "48841                       0                          0  \n",
       "\n",
       "[48842 rows x 106 columns]"
      ]
     },
     "execution_count": 21,
     "metadata": {},
     "output_type": "execute_result"
    }
   ],
   "source": [
    "columns_for_analysis = ['age', 'workclass', 'education', \\\n",
    "        'marital-status', 'occupation', 'relationship', 'race', 'gender',\\\n",
    "        'capital-gain', 'capital-loss', 'hours-per-week', 'native-country']\n",
    "\n",
    "X = pd.get_dummies(data.loc[:,columns_for_analysis], columns=['race','gender','workclass','education', 'marital-status','occupation',\n",
    "                                                              'relationship','native-country'])\n",
    "X"
   ]
  },
  {
   "cell_type": "code",
   "execution_count": 22,
   "metadata": {
    "ExecuteTime": {
     "end_time": "2021-06-24T08:00:45.984530Z",
     "start_time": "2021-06-24T08:00:45.954530Z"
    }
   },
   "outputs": [
    {
     "data": {
      "text/plain": [
       "(array([0, 0, 1, ..., 0, 0, 1]), array(['<=50K', '>50K'], dtype=object))"
      ]
     },
     "execution_count": 22,
     "metadata": {},
     "output_type": "execute_result"
    }
   ],
   "source": [
    "from sklearn.preprocessing import LabelEncoder\n",
    "lab_enc = LabelEncoder()\n",
    "lab_enc.fit( y )\n",
    "y_ = lab_enc.transform(y)\n",
    "y_ , lab_enc.classes_\n",
    "#1 означает '>50K'"
   ]
  },
  {
   "cell_type": "code",
   "execution_count": 10,
   "metadata": {
    "ExecuteTime": {
     "end_time": "2021-06-24T07:58:48.197364Z",
     "start_time": "2021-06-24T07:58:48.127364Z"
    }
   },
   "outputs": [
    {
     "data": {
      "text/plain": [
       "((32724, 106), (32724,), (16118, 106), (16118,))"
      ]
     },
     "execution_count": 10,
     "metadata": {},
     "output_type": "execute_result"
    }
   ],
   "source": [
    "x_train, x_test, y_train, y_test = train_test_split(X,y_,test_size=0.33, random_state=42)\n",
    "np.shape(x_train), np.shape(y_train), np.shape(x_test), np.shape(y_test)"
   ]
  },
  {
   "cell_type": "code",
   "execution_count": 11,
   "metadata": {
    "ExecuteTime": {
     "end_time": "2021-06-23T22:57:56.742985Z",
     "start_time": "2021-06-23T22:55:58.629819Z"
    }
   },
   "outputs": [
    {
     "data": {
      "text/plain": [
       "LogisticRegression(l1_ratio=0.5, max_iter=1000, multi_class='multinomial',\n",
       "                   n_jobs=-1, penalty='elasticnet', random_state=42,\n",
       "                   solver='saga')"
      ]
     },
     "execution_count": 11,
     "metadata": {},
     "output_type": "execute_result"
    }
   ],
   "source": [
    "logit = LogisticRegression(penalty= 'elasticnet', solver = 'saga' ,max_iter=1000 ,\n",
    "                           n_jobs = -1,l1_ratio =0.5, random_state=42, multi_class = 'multinomial')\n",
    "logit.fit(x_train,y_train)"
   ]
  },
  {
   "cell_type": "code",
   "execution_count": 15,
   "metadata": {
    "ExecuteTime": {
     "end_time": "2021-06-23T10:20:18.627119Z",
     "start_time": "2021-06-23T10:20:18.597119Z"
    },
    "scrolled": true
   },
   "outputs": [
    {
     "data": {
      "text/html": [
       "<div>\n",
       "<style scoped>\n",
       "    .dataframe tbody tr th:only-of-type {\n",
       "        vertical-align: middle;\n",
       "    }\n",
       "\n",
       "    .dataframe tbody tr th {\n",
       "        vertical-align: top;\n",
       "    }\n",
       "\n",
       "    .dataframe thead th {\n",
       "        text-align: right;\n",
       "    }\n",
       "</style>\n",
       "<table border=\"1\" class=\"dataframe\">\n",
       "  <thead>\n",
       "    <tr style=\"text-align: right;\">\n",
       "      <th></th>\n",
       "      <th>0</th>\n",
       "    </tr>\n",
       "  </thead>\n",
       "  <tbody>\n",
       "    <tr>\n",
       "      <th>capital-loss</th>\n",
       "      <td>0.000374</td>\n",
       "    </tr>\n",
       "    <tr>\n",
       "      <th>marital-status_Married-civ-spouse</th>\n",
       "      <td>0.000288</td>\n",
       "    </tr>\n",
       "    <tr>\n",
       "      <th>relationship_Husband</th>\n",
       "      <td>0.000264</td>\n",
       "    </tr>\n",
       "    <tr>\n",
       "      <th>capital-gain</th>\n",
       "      <td>0.000170</td>\n",
       "    </tr>\n",
       "    <tr>\n",
       "      <th>occupation_Exec-managerial</th>\n",
       "      <td>0.000084</td>\n",
       "    </tr>\n",
       "    <tr>\n",
       "      <th>occupation_Prof-specialty</th>\n",
       "      <td>0.000072</td>\n",
       "    </tr>\n",
       "    <tr>\n",
       "      <th>education_Bachelors</th>\n",
       "      <td>0.000063</td>\n",
       "    </tr>\n",
       "    <tr>\n",
       "      <th>education_Masters</th>\n",
       "      <td>0.000054</td>\n",
       "    </tr>\n",
       "    <tr>\n",
       "      <th>workclass_Self-emp-inc</th>\n",
       "      <td>0.000036</td>\n",
       "    </tr>\n",
       "    <tr>\n",
       "      <th>relationship_Wife</th>\n",
       "      <td>0.000030</td>\n",
       "    </tr>\n",
       "  </tbody>\n",
       "</table>\n",
       "</div>"
      ],
      "text/plain": [
       "                                          0\n",
       "capital-loss                       0.000374\n",
       "marital-status_Married-civ-spouse  0.000288\n",
       "relationship_Husband               0.000264\n",
       "capital-gain                       0.000170\n",
       "occupation_Exec-managerial         0.000084\n",
       "occupation_Prof-specialty          0.000072\n",
       "education_Bachelors                0.000063\n",
       "education_Masters                  0.000054\n",
       "workclass_Self-emp-inc             0.000036\n",
       "relationship_Wife                  0.000030"
      ]
     },
     "execution_count": 15,
     "metadata": {},
     "output_type": "execute_result"
    }
   ],
   "source": [
    "result = pd.DataFrame(data= logit.coef_,columns=x_train.columns)\n",
    "result = result.T.sort_values(by =0,ascending=False)\n",
    "result.head(10)"
   ]
  },
  {
   "cell_type": "markdown",
   "metadata": {},
   "source": [
    "#### Первичные выводы: \n",
    "- если ты много потерял - то много получаешь (№1 capital-loss),\n",
    "- если ты состоишь в браке - то много получаешь (№2 marital-status_Married),\n",
    "- если ты в браке мужчина (№3 relationship_Husband)\n",
    "- остальные топ 10: управленец-манагер, специалист, Бакалавр, Магистр, Самозанятый, в браке женщина."
   ]
  },
  {
   "cell_type": "code",
   "execution_count": 16,
   "metadata": {
    "ExecuteTime": {
     "end_time": "2021-06-23T10:20:18.707119Z",
     "start_time": "2021-06-23T10:20:18.627119Z"
    }
   },
   "outputs": [
    {
     "data": {
      "text/plain": [
       "(0.8020846258841047, 0.19791537411589527)"
      ]
     },
     "execution_count": 16,
     "metadata": {},
     "output_type": "execute_result"
    }
   ],
   "source": [
    "logit(x_test, y_test) , mean_squared_error(y_test,logit.predict(x_test))"
   ]
  },
  {
   "cell_type": "markdown",
   "metadata": {},
   "source": [
    "Получили 80% Не так плохо, что мы можем сделать еще ?\n",
    "- проверим признаки на коллинерность, уберем коллинеарные\n",
    "- понизим размерность данных PCA\n",
    "- откалибруем С параметр ( параметр строгости регуляризации ,\n",
    "- проверим как отработает регуляризация от L1 в ElasticNet ( надеюсь снимет шумные параметры)"
   ]
  },
  {
   "cell_type": "code",
   "execution_count": 17,
   "metadata": {
    "ExecuteTime": {
     "end_time": "2021-06-23T10:25:13.561535Z",
     "start_time": "2021-06-23T10:24:40.152488Z"
    }
   },
   "outputs": [
    {
     "data": {
      "text/plain": [
       "<AxesSubplot:>"
      ]
     },
     "execution_count": 17,
     "metadata": {},
     "output_type": "execute_result"
    },
    {
     "data": {
      "image/png": "[encoded data removed]",
      "text/plain": [
       "<Figure size 1080x1080 with 2 Axes>"
      ]
     },
     "metadata": {
      "needs_background": "light"
     },
     "output_type": "display_data"
    }
   ],
   "source": [
    "# проверим признаки на коллинерность, уберем коллинеарные\n",
    "# Сначала отберем признаки с максимальной корреляцией. Так как в основном все параметры категорийные, то будем использовать метод Кендела.\n",
    "X_ = X.corr(method = 'kendall')\n",
    "\n",
    "plt.figure(figsize=(15,15))\n",
    "sns.heatmap(data=X_,cmap='YlGnBu')"
   ]
  },
  {
   "cell_type": "markdown",
   "metadata": {},
   "source": [
    "Ничего не понятно, надо найти максимумы и минимумы корреляции"
   ]
  },
  {
   "cell_type": "code",
   "execution_count": 24,
   "metadata": {
    "ExecuteTime": {
     "end_time": "2021-06-23T10:26:41.423659Z",
     "start_time": "2021-06-23T10:26:41.413659Z"
    }
   },
   "outputs": [],
   "source": [
    "X_np = np.array(X_)"
   ]
  },
  {
   "cell_type": "code",
   "execution_count": 68,
   "metadata": {
    "ExecuteTime": {
     "end_time": "2021-06-23T10:55:00.497050Z",
     "start_time": "2021-06-23T10:55:00.477050Z"
    }
   },
   "outputs": [],
   "source": [
    "min_row = list()\n",
    "min_corr_coef = list()\n",
    "\n",
    "max_row = list()\n",
    "max_corr_coef = list()\n",
    "\n",
    "for i in range(len(X_np)):\n",
    "    X_np[i][i] = 0\n",
    "    min_row.append(X_.columns[np.argmin(X_np[i], axis=0)])\n",
    "    min_corr_coef.append(np.min(X_np[i]))\n",
    "    \n",
    "    max_row.append(X_.columns[np.argmax(X_np[i], axis=0)])\n",
    "    max_corr_coef.append(np.max(X_np[i])) "
   ]
  },
  {
   "cell_type": "code",
   "execution_count": 72,
   "metadata": {
    "ExecuteTime": {
     "end_time": "2021-06-23T10:58:44.017365Z",
     "start_time": "2021-06-23T10:58:43.987365Z"
    }
   },
   "outputs": [
    {
     "data": {
      "text/html": [
       "<div>\n",
       "<style scoped>\n",
       "    .dataframe tbody tr th:only-of-type {\n",
       "        vertical-align: middle;\n",
       "    }\n",
       "\n",
       "    .dataframe tbody tr th {\n",
       "        vertical-align: top;\n",
       "    }\n",
       "\n",
       "    .dataframe thead th {\n",
       "        text-align: right;\n",
       "    }\n",
       "</style>\n",
       "<table border=\"1\" class=\"dataframe\">\n",
       "  <thead>\n",
       "    <tr style=\"text-align: right;\">\n",
       "      <th></th>\n",
       "      <th>min_row</th>\n",
       "      <th>min_corr_coef</th>\n",
       "      <th>max_row</th>\n",
       "      <th>max_corr_coef</th>\n",
       "    </tr>\n",
       "  </thead>\n",
       "  <tbody>\n",
       "    <tr>\n",
       "      <th>gender_Male</th>\n",
       "      <td>gender_Female</td>\n",
       "      <td>-1.000000</td>\n",
       "      <td>relationship_Husband</td>\n",
       "      <td>0.579310</td>\n",
       "    </tr>\n",
       "    <tr>\n",
       "      <th>gender_Female</th>\n",
       "      <td>gender_Male</td>\n",
       "      <td>-1.000000</td>\n",
       "      <td>relationship_Wife</td>\n",
       "      <td>0.317284</td>\n",
       "    </tr>\n",
       "    <tr>\n",
       "      <th>race_Black</th>\n",
       "      <td>race_White</td>\n",
       "      <td>-0.791096</td>\n",
       "      <td>relationship_Unmarried</td>\n",
       "      <td>0.148007</td>\n",
       "    </tr>\n",
       "    <tr>\n",
       "      <th>race_White</th>\n",
       "      <td>race_Black</td>\n",
       "      <td>-0.791096</td>\n",
       "      <td>native-country_United-States</td>\n",
       "      <td>0.194508</td>\n",
       "    </tr>\n",
       "    <tr>\n",
       "      <th>marital-status_Married-civ-spouse</th>\n",
       "      <td>marital-status_Never-married</td>\n",
       "      <td>-0.645362</td>\n",
       "      <td>relationship_Husband</td>\n",
       "      <td>0.893676</td>\n",
       "    </tr>\n",
       "    <tr>\n",
       "      <th>marital-status_Never-married</th>\n",
       "      <td>marital-status_Married-civ-spouse</td>\n",
       "      <td>-0.645362</td>\n",
       "      <td>relationship_Own-child</td>\n",
       "      <td>0.510863</td>\n",
       "    </tr>\n",
       "    <tr>\n",
       "      <th>relationship_Husband</th>\n",
       "      <td>gender_Female</td>\n",
       "      <td>-0.579310</td>\n",
       "      <td>marital-status_Married-civ-spouse</td>\n",
       "      <td>0.893676</td>\n",
       "    </tr>\n",
       "    <tr>\n",
       "      <th>relationship_Not-in-family</th>\n",
       "      <td>marital-status_Married-civ-spouse</td>\n",
       "      <td>-0.539571</td>\n",
       "      <td>marital-status_Never-married</td>\n",
       "      <td>0.294898</td>\n",
       "    </tr>\n",
       "    <tr>\n",
       "      <th>age</th>\n",
       "      <td>marital-status_Never-married</td>\n",
       "      <td>-0.479929</td>\n",
       "      <td>marital-status_Married-civ-spouse</td>\n",
       "      <td>0.287792</td>\n",
       "    </tr>\n",
       "    <tr>\n",
       "      <th>workclass_Self-emp-not-inc</th>\n",
       "      <td>workclass_Private</td>\n",
       "      <td>-0.441487</td>\n",
       "      <td>occupation_Farming-fishing</td>\n",
       "      <td>0.236112</td>\n",
       "    </tr>\n",
       "  </tbody>\n",
       "</table>\n",
       "</div>"
      ],
      "text/plain": [
       "                                                             min_row  \\\n",
       "gender_Male                                            gender_Female   \n",
       "gender_Female                                            gender_Male   \n",
       "race_Black                                                race_White   \n",
       "race_White                                                race_Black   \n",
       "marital-status_Married-civ-spouse       marital-status_Never-married   \n",
       "marital-status_Never-married       marital-status_Married-civ-spouse   \n",
       "relationship_Husband                                   gender_Female   \n",
       "relationship_Not-in-family         marital-status_Married-civ-spouse   \n",
       "age                                     marital-status_Never-married   \n",
       "workclass_Self-emp-not-inc                         workclass_Private   \n",
       "\n",
       "                                   min_corr_coef  \\\n",
       "gender_Male                            -1.000000   \n",
       "gender_Female                          -1.000000   \n",
       "race_Black                             -0.791096   \n",
       "race_White                             -0.791096   \n",
       "marital-status_Married-civ-spouse      -0.645362   \n",
       "marital-status_Never-married           -0.645362   \n",
       "relationship_Husband                   -0.579310   \n",
       "relationship_Not-in-family             -0.539571   \n",
       "age                                    -0.479929   \n",
       "workclass_Self-emp-not-inc             -0.441487   \n",
       "\n",
       "                                                             max_row  \\\n",
       "gender_Male                                     relationship_Husband   \n",
       "gender_Female                                      relationship_Wife   \n",
       "race_Black                                    relationship_Unmarried   \n",
       "race_White                              native-country_United-States   \n",
       "marital-status_Married-civ-spouse               relationship_Husband   \n",
       "marital-status_Never-married                  relationship_Own-child   \n",
       "relationship_Husband               marital-status_Married-civ-spouse   \n",
       "relationship_Not-in-family              marital-status_Never-married   \n",
       "age                                marital-status_Married-civ-spouse   \n",
       "workclass_Self-emp-not-inc                occupation_Farming-fishing   \n",
       "\n",
       "                                   max_corr_coef  \n",
       "gender_Male                             0.579310  \n",
       "gender_Female                           0.317284  \n",
       "race_Black                              0.148007  \n",
       "race_White                              0.194508  \n",
       "marital-status_Married-civ-spouse       0.893676  \n",
       "marital-status_Never-married            0.510863  \n",
       "relationship_Husband                    0.893676  \n",
       "relationship_Not-in-family              0.294898  \n",
       "age                                     0.287792  \n",
       "workclass_Self-emp-not-inc              0.236112  "
      ]
     },
     "execution_count": 72,
     "metadata": {},
     "output_type": "execute_result"
    }
   ],
   "source": [
    "corr_param = pd.DataFrame(data=min_row, index=X_.columns, columns=['min_row'])\n",
    "corr_param['min_corr_coef'] = min_corr_coef\n",
    "corr_param['max_row'] = max_row\n",
    "corr_param['max_corr_coef'] = max_corr_coef\n",
    "\n",
    "corr_param.sort_values(by='min_corr_coef').head(10)"
   ]
  },
  {
   "cell_type": "markdown",
   "metadata": {},
   "source": [
    "Видно что:\n",
    "- gender_Male & gender_Female противоположно скорреллированы. Такая корреляция может ухудшать качество логита. Надо дропнуть один из столбцов так как столбец gender категориальный биноминальный.\n",
    "- relationship_Husband и gender_Female \tимеют обратную корреляцию, странно :) Но дропнуть один из столбцов нельзя, так как  столбец gender категориальный мультиноминальный.\n",
    "- столбцы race_Black & race_White хоть и противоположно скоррелированы, нельзя дропнуть один из столбцов, так как есть еще один вид race_Other (столбец race категориальный мультиноминальный)"
   ]
  },
  {
   "cell_type": "code",
   "execution_count": 82,
   "metadata": {
    "ExecuteTime": {
     "end_time": "2021-06-23T11:12:00.743486Z",
     "start_time": "2021-06-23T11:12:00.733486Z"
    }
   },
   "outputs": [
    {
     "data": {
      "text/plain": [
       "0    48436\n",
       "1      406\n",
       "Name: race_Other, dtype: int64"
      ]
     },
     "execution_count": 82,
     "metadata": {},
     "output_type": "execute_result"
    }
   ],
   "source": [
    "# race_Other\n",
    "X.race_Other.value_counts()"
   ]
  },
  {
   "cell_type": "code",
   "execution_count": 23,
   "metadata": {
    "ExecuteTime": {
     "end_time": "2021-06-24T08:01:00.146550Z",
     "start_time": "2021-06-24T08:01:00.126550Z"
    }
   },
   "outputs": [],
   "source": [
    "# Дропнем 'gender_Male'\n",
    "X.drop('gender_Male',axis=1,inplace=True)"
   ]
  },
  {
   "cell_type": "code",
   "execution_count": 84,
   "metadata": {
    "ExecuteTime": {
     "end_time": "2021-06-23T11:13:29.004610Z",
     "start_time": "2021-06-23T11:13:28.984610Z"
    }
   },
   "outputs": [
    {
     "data": {
      "text/html": [
       "<div>\n",
       "<style scoped>\n",
       "    .dataframe tbody tr th:only-of-type {\n",
       "        vertical-align: middle;\n",
       "    }\n",
       "\n",
       "    .dataframe tbody tr th {\n",
       "        vertical-align: top;\n",
       "    }\n",
       "\n",
       "    .dataframe thead th {\n",
       "        text-align: right;\n",
       "    }\n",
       "</style>\n",
       "<table border=\"1\" class=\"dataframe\">\n",
       "  <thead>\n",
       "    <tr style=\"text-align: right;\">\n",
       "      <th></th>\n",
       "      <th>min_row</th>\n",
       "      <th>min_corr_coef</th>\n",
       "      <th>max_row</th>\n",
       "      <th>max_corr_coef</th>\n",
       "    </tr>\n",
       "  </thead>\n",
       "  <tbody>\n",
       "    <tr>\n",
       "      <th>workclass_0</th>\n",
       "      <td>workclass_Private</td>\n",
       "      <td>-0.371485</td>\n",
       "      <td>occupation_0</td>\n",
       "      <td>0.998110</td>\n",
       "    </tr>\n",
       "    <tr>\n",
       "      <th>occupation_0</th>\n",
       "      <td>workclass_Private</td>\n",
       "      <td>-0.372188</td>\n",
       "      <td>workclass_0</td>\n",
       "      <td>0.998110</td>\n",
       "    </tr>\n",
       "    <tr>\n",
       "      <th>marital-status_Married-civ-spouse</th>\n",
       "      <td>marital-status_Never-married</td>\n",
       "      <td>-0.645362</td>\n",
       "      <td>relationship_Husband</td>\n",
       "      <td>0.893676</td>\n",
       "    </tr>\n",
       "    <tr>\n",
       "      <th>relationship_Husband</th>\n",
       "      <td>gender_Female</td>\n",
       "      <td>-0.579310</td>\n",
       "      <td>marital-status_Married-civ-spouse</td>\n",
       "      <td>0.893676</td>\n",
       "    </tr>\n",
       "    <tr>\n",
       "      <th>gender_Male</th>\n",
       "      <td>gender_Female</td>\n",
       "      <td>-1.000000</td>\n",
       "      <td>relationship_Husband</td>\n",
       "      <td>0.579310</td>\n",
       "    </tr>\n",
       "    <tr>\n",
       "      <th>relationship_Own-child</th>\n",
       "      <td>age</td>\n",
       "      <td>-0.389618</td>\n",
       "      <td>marital-status_Never-married</td>\n",
       "      <td>0.510863</td>\n",
       "    </tr>\n",
       "    <tr>\n",
       "      <th>marital-status_Never-married</th>\n",
       "      <td>marital-status_Married-civ-spouse</td>\n",
       "      <td>-0.645362</td>\n",
       "      <td>relationship_Own-child</td>\n",
       "      <td>0.510863</td>\n",
       "    </tr>\n",
       "    <tr>\n",
       "      <th>native-country_Philippines</th>\n",
       "      <td>native-country_United-States</td>\n",
       "      <td>-0.230572</td>\n",
       "      <td>race_Asian-Pac-Islander</td>\n",
       "      <td>0.410742</td>\n",
       "    </tr>\n",
       "    <tr>\n",
       "      <th>race_Asian-Pac-Islander</th>\n",
       "      <td>race_White</td>\n",
       "      <td>-0.435128</td>\n",
       "      <td>native-country_Philippines</td>\n",
       "      <td>0.410742</td>\n",
       "    </tr>\n",
       "    <tr>\n",
       "      <th>marital-status_Divorced</th>\n",
       "      <td>marital-status_Married-civ-spouse</td>\n",
       "      <td>-0.364547</td>\n",
       "      <td>relationship_Unmarried</td>\n",
       "      <td>0.326257</td>\n",
       "    </tr>\n",
       "  </tbody>\n",
       "</table>\n",
       "</div>"
      ],
      "text/plain": [
       "                                                             min_row  \\\n",
       "workclass_0                                        workclass_Private   \n",
       "occupation_0                                       workclass_Private   \n",
       "marital-status_Married-civ-spouse       marital-status_Never-married   \n",
       "relationship_Husband                                   gender_Female   \n",
       "gender_Male                                            gender_Female   \n",
       "relationship_Own-child                                           age   \n",
       "marital-status_Never-married       marital-status_Married-civ-spouse   \n",
       "native-country_Philippines              native-country_United-States   \n",
       "race_Asian-Pac-Islander                                   race_White   \n",
       "marital-status_Divorced            marital-status_Married-civ-spouse   \n",
       "\n",
       "                                   min_corr_coef  \\\n",
       "workclass_0                            -0.371485   \n",
       "occupation_0                           -0.372188   \n",
       "marital-status_Married-civ-spouse      -0.645362   \n",
       "relationship_Husband                   -0.579310   \n",
       "gender_Male                            -1.000000   \n",
       "relationship_Own-child                 -0.389618   \n",
       "marital-status_Never-married           -0.645362   \n",
       "native-country_Philippines             -0.230572   \n",
       "race_Asian-Pac-Islander                -0.435128   \n",
       "marital-status_Divorced                -0.364547   \n",
       "\n",
       "                                                             max_row  \\\n",
       "workclass_0                                             occupation_0   \n",
       "occupation_0                                             workclass_0   \n",
       "marital-status_Married-civ-spouse               relationship_Husband   \n",
       "relationship_Husband               marital-status_Married-civ-spouse   \n",
       "gender_Male                                     relationship_Husband   \n",
       "relationship_Own-child                  marital-status_Never-married   \n",
       "marital-status_Never-married                  relationship_Own-child   \n",
       "native-country_Philippines                   race_Asian-Pac-Islander   \n",
       "race_Asian-Pac-Islander                   native-country_Philippines   \n",
       "marital-status_Divorced                       relationship_Unmarried   \n",
       "\n",
       "                                   max_corr_coef  \n",
       "workclass_0                             0.998110  \n",
       "occupation_0                            0.998110  \n",
       "marital-status_Married-civ-spouse       0.893676  \n",
       "relationship_Husband                    0.893676  \n",
       "gender_Male                             0.579310  \n",
       "relationship_Own-child                  0.510863  \n",
       "marital-status_Never-married            0.510863  \n",
       "native-country_Philippines              0.410742  \n",
       "race_Asian-Pac-Islander                 0.410742  \n",
       "marital-status_Divorced                 0.326257  "
      ]
     },
     "execution_count": 84,
     "metadata": {},
     "output_type": "execute_result"
    }
   ],
   "source": [
    "corr_param.sort_values(by='max_corr_coef',ascending=False).head(10)"
   ]
  },
  {
   "cell_type": "markdown",
   "metadata": {},
   "source": [
    "Знак '?' (якобы пропущенные значения)  мы заменили на '0' в самом начале ноутбука.  \n",
    "Столбцы с названием 'workclass_0' 'occupation_0' имеют корреляцию примерно 1 уберем один из столбцов он не несет смысла."
   ]
  },
  {
   "cell_type": "code",
   "execution_count": 24,
   "metadata": {
    "ExecuteTime": {
     "end_time": "2021-06-24T08:01:02.976554Z",
     "start_time": "2021-06-24T08:01:02.956554Z"
    }
   },
   "outputs": [],
   "source": [
    "# Дропнем 'occupation_0'\n",
    "X.drop('occupation_0',axis=1,inplace=True)"
   ]
  },
  {
   "cell_type": "code",
   "execution_count": 15,
   "metadata": {
    "ExecuteTime": {
     "end_time": "2021-06-23T23:01:38.757299Z",
     "start_time": "2021-06-23T22:59:41.237133Z"
    }
   },
   "outputs": [
    {
     "data": {
      "text/plain": [
       "(0.8020846258841047, 0.19791537411589527)"
      ]
     },
     "execution_count": 15,
     "metadata": {},
     "output_type": "execute_result"
    }
   ],
   "source": [
    "# проверим\n",
    "x_train, x_test, y_train, y_test = train_test_split(X,y_,test_size=0.33, random_state=42)\n",
    "np.shape(x_train), np.shape(y_train), np.shape(x_test), np.shape(y_test)\n",
    "logit = LogisticRegression(penalty= 'elasticnet', solver = 'saga' ,max_iter=1000 ,\n",
    "                           n_jobs = -1,l1_ratio =0.5, random_state=42, multi_class = 'multinomial')\n",
    "logit.fit(x_train,y_train)\n",
    "accuracy_score(y_test,logit.predict(x_test)) , mean_squared_error(y_test,logit.predict(x_test))"
   ]
  },
  {
   "cell_type": "markdown",
   "metadata": {},
   "source": [
    "Не особо что то изменилось.."
   ]
  },
  {
   "cell_type": "code",
   "execution_count": 18,
   "metadata": {
    "ExecuteTime": {
     "end_time": "2021-06-23T07:44:09.994190Z",
     "start_time": "2021-06-23T07:44:08.742185Z"
    }
   },
   "outputs": [
    {
     "name": "stdout",
     "output_type": "stream",
     "text": [
      "For n_components 10  the MSE =0.021\n"
     ]
    },
    {
     "data": {
      "image/png": "[encoded data removed]",
      "text/plain": [
       "<Figure size 432x288 with 1 Axes>"
      ]
     },
     "metadata": {
      "needs_background": "light"
     },
     "output_type": "display_data"
    }
   ],
   "source": [
    "# понизим размерность (PCA)\n",
    "from sklearn.decomposition import PCA\n",
    "from sklearn.metrics import mean_squared_error\n",
    "\n",
    "tester = PCA(n_components=10,svd_solver='full' )\n",
    "a = tester.fit_transform(X)\n",
    "a_ = tester.inverse_transform(a)\n",
    "#metrics\n",
    "mse = mean_squared_error(X,a_)\n",
    "print(f'For n_components 10  the MSE ={mse:.3f}')\n",
    "\n",
    "plt.plot(tester.explained_variance_ratio_,'+-', label = 'variance by eigenvalue')\n",
    "plt.plot(tester.explained_variance_ratio_.cumsum(),'+--',label = 'cumulative variance')\n",
    "plt.axhline(.9,color='r')\n",
    "plt.legend()\n",
    "plt.yticks(np.arange(0,1.1,.1))\n",
    "plt.xlabel('components')\n",
    "plt.ylabel('variance')\n",
    "plt.title('components vs variance');\n"
   ]
  },
  {
   "cell_type": "markdown",
   "metadata": {},
   "source": [
    "Судя по графику, то присутствует одно собственное значение с максимальным значением, таким что снижает дисперсию на 100%. То есть один главный вектор.   \n",
    "Считаю что нет никакого смысла сокращать из 106 параметров выборки до 1 параметра. "
   ]
  },
  {
   "cell_type": "code",
   "execution_count": 13,
   "metadata": {
    "ExecuteTime": {
     "end_time": "2021-06-23T09:30:50.126259Z",
     "start_time": "2021-06-23T09:24:49.452744Z"
    }
   },
   "outputs": [
    {
     "name": "stderr",
     "output_type": "stream",
     "text": [
      "\u001b[32m[I 2021-06-23 12:24:49,452]\u001b[0m A new study created in memory with name: no-name-727a0010-1088-4d88-90cb-6a121e37f11e\u001b[0m\n",
      "\u001b[32m[I 2021-06-23 12:25:35,750]\u001b[0m Trial 0 finished with value: 0.14387641146544236 and parameters: {'C_': 0.04237907773305549}. Best is trial 0 with value: 0.14387641146544236.\u001b[0m\n",
      "\u001b[32m[I 2021-06-23 12:26:22,145]\u001b[0m Trial 1 finished with value: 0.14269760516193075 and parameters: {'C_': 3.0601742324371286}. Best is trial 1 with value: 0.14269760516193075.\u001b[0m\n",
      "\u001b[32m[I 2021-06-23 12:27:08,237]\u001b[0m Trial 2 finished with value: 0.14294577491003846 and parameters: {'C_': 3.546636254888194}. Best is trial 1 with value: 0.14269760516193075.\u001b[0m\n",
      "\u001b[32m[I 2021-06-23 12:27:38,879]\u001b[0m Trial 3 finished with value: 0.14412458121355007 and parameters: {'C_': 3.0696093986958353}. Best is trial 1 with value: 0.14269760516193075.\u001b[0m\n",
      "\u001b[32m[I 2021-06-23 12:28:10,562]\u001b[0m Trial 4 finished with value: 0.1448690904578732 and parameters: {'C_': 0.022203747320086453}. Best is trial 1 with value: 0.14269760516193075.\u001b[0m\n",
      "\u001b[32m[I 2021-06-23 12:28:56,123]\u001b[0m Trial 5 finished with value: 0.1437523265913885 and parameters: {'C_': 3.2289323838562694}. Best is trial 1 with value: 0.14269760516193075.\u001b[0m\n",
      "\u001b[32m[I 2021-06-23 12:29:22,525]\u001b[0m Trial 6 finished with value: 0.1444347933986847 and parameters: {'C_': 3.7469267163437956}. Best is trial 1 with value: 0.14269760516193075.\u001b[0m\n",
      "\u001b[32m[I 2021-06-23 12:29:58,887]\u001b[0m Trial 7 finished with value: 0.14412458121355007 and parameters: {'C_': 3.05253364518684}. Best is trial 1 with value: 0.14269760516193075.\u001b[0m\n",
      "\u001b[32m[I 2021-06-23 12:30:18,791]\u001b[0m Trial 8 finished with value: 0.14437275096165778 and parameters: {'C_': 2.79803131496541}. Best is trial 1 with value: 0.14269760516193075.\u001b[0m\n",
      "\u001b[32m[I 2021-06-23 12:30:50,106]\u001b[0m Trial 9 finished with value: 0.14344211440625387 and parameters: {'C_': 2.01853647858418}. Best is trial 1 with value: 0.14269760516193075.\u001b[0m\n"
     ]
    },
    {
     "data": {
      "text/plain": [
       "{'C_': 3.0601742324371286}"
      ]
     },
     "execution_count": 13,
     "metadata": {},
     "output_type": "execute_result"
    }
   ],
   "source": [
    "#Откалибруем С параметр ( параметр строгости регуляризации - прямая или полинома)\n",
    "import optuna\n",
    "\n",
    "def objective(trial):\n",
    "    C_ = trial.suggest_uniform('C_', 0, 4)\n",
    "    \n",
    "    logit = LogisticRegression( max_iter=1000 , C=C_, n_jobs = -1,random_state=42, multi_class = 'multinomial')\n",
    "    \n",
    "    logit.fit(x_train,y_train)\n",
    "    #accuracy_score(y_test,logit.predict(x_test))\n",
    "    \n",
    "    return mean_squared_error(y_test,logit.predict(x_test)) \n",
    "\n",
    "study = optuna.create_study()\n",
    "study.optimize(objective, n_trials=10)\n",
    "\n",
    "!telegram-send optuna_best_{study.best_params}\n",
    "\n",
    "study.best_params"
   ]
  },
  {
   "cell_type": "markdown",
   "metadata": {},
   "source": [
    "Так как MSE не поменялся при параметре С от 1 до 3, то дабы не сильно снижать предскательность модели установим С = 1"
   ]
  },
  {
   "cell_type": "code",
   "execution_count": 90,
   "metadata": {
    "ExecuteTime": {
     "end_time": "2021-06-23T14:15:50.576448Z",
     "start_time": "2021-06-23T11:38:01.447712Z"
    }
   },
   "outputs": [
    {
     "data": {
      "text/plain": [
       "-0.20336999137408557"
      ]
     },
     "execution_count": 90,
     "metadata": {},
     "output_type": "execute_result"
    }
   ],
   "source": [
    "#проверим как отработает регуляризация от L1 в ElasticNet ( надеюсь снимет шумные параметры)\n",
    "from sklearn.model_selection import GridSearchCV\n",
    "\n",
    "changable_val = {'l1_ratio': [0, 0.1, 0.2, 0.3, 0.5,0.7,0.9,1]}\n",
    "\n",
    "logit_2 = GridSearchCV(LogisticRegression(penalty='elasticnet',solver='saga', max_iter=1000,n_jobs = -1, random_state=42), \\\n",
    "                       changable_val, scoring = 'neg_mean_squared_error', cv = 10 )\n",
    "logit_2.fit(X,y_)\n",
    "logit_2.best_params_\n",
    "logit_2.best_score_"
   ]
  },
  {
   "cell_type": "code",
   "execution_count": 91,
   "metadata": {
    "ExecuteTime": {
     "end_time": "2021-06-23T14:15:51.980452Z",
     "start_time": "2021-06-23T14:15:50.576448Z"
    }
   },
   "outputs": [],
   "source": [
    "!telegram-send Я_посчитал_{logit_2.best_score_}"
   ]
  },
  {
   "cell_type": "markdown",
   "metadata": {},
   "source": [
    "Можно еще поиграться с test_size, random_state, solver, как-нибудь в следующий раз."
   ]
  },
  {
   "cell_type": "code",
   "execution_count": null,
   "metadata": {
    "ExecuteTime": {
     "end_time": "2021-06-24T08:44:42.972259Z",
     "start_time": "2021-06-24T08:40:59.382944Z"
    }
   },
   "outputs": [],
   "source": [
    "# Финальный результат для логита:\n",
    "\n",
    "logit = LogisticRegression(penalty= 'elasticnet', solver = 'saga' ,max_iter=1000 ,\n",
    "                           n_jobs = -1,l1_ratio =1,C=1, random_state=42, multi_class = 'multinomial')\n",
    "\n",
    "logit.fit(x_train,y_train)"
   ]
  },
  {
   "cell_type": "code",
   "execution_count": 69,
   "metadata": {
    "ExecuteTime": {
     "end_time": "2021-06-24T08:54:49.058957Z",
     "start_time": "2021-06-24T08:54:49.008957Z"
    }
   },
   "outputs": [
    {
     "name": "stdout",
     "output_type": "stream",
     "text": [
      "Test set scores\n",
      "-------------------------------------------------------\n",
      " MSE = 0.14, mean_accuracy = 0.86 \n",
      "\n",
      " Train set scores\n",
      "-------------------------------------------------------\n",
      " MSE = 0.15, mean_accuracy = 0.85 \n"
     ]
    }
   ],
   "source": [
    "# Scores\n",
    "print('Test set scores')\n",
    "print('-'*55)\n",
    "\n",
    "logit_MSE = mean_squared_error(y_test,logit.predict(x_test))\n",
    "logit_mean_accuracy = logit.score(x_test,y_test)\n",
    "print(f' MSE = { logit_MSE :.2f}, mean_accuracy = {logit_mean_accuracy :.2f} ' )\n",
    "\n",
    "# Scores on train set\n",
    "print('\\n Train set scores')\n",
    "print('-'*55)\n",
    "logit_train_MSE = mean_squared_error(y_train,logit.predict(x_train))\n",
    "logit_train_mean_accuracy = logit.score(x_train,y_train)\n",
    "print(f' MSE = { svc_train_MSE :.2f}, mean_accuracy = {svc_train_mean_accuracy :.2f} ' )\n"
   ]
  },
  {
   "cell_type": "markdown",
   "metadata": {},
   "source": [
    "### SVC"
   ]
  },
  {
   "cell_type": "code",
   "execution_count": 44,
   "metadata": {
    "ExecuteTime": {
     "end_time": "2021-06-24T08:11:44.265878Z",
     "start_time": "2021-06-24T08:11:44.255878Z"
    }
   },
   "outputs": [],
   "source": [
    "from sklearn.svm import SVC"
   ]
  },
  {
   "cell_type": "code",
   "execution_count": 47,
   "metadata": {
    "ExecuteTime": {
     "end_time": "2021-06-24T08:18:28.672450Z",
     "start_time": "2021-06-24T08:18:28.402449Z"
    }
   },
   "outputs": [],
   "source": [
    "# Нормализуем выборку\n",
    "\n",
    "from sklearn.preprocessing import MinMaxScaler,StandardScaler\n",
    "\n",
    "scaler = StandardScaler() \n",
    "X_normalized = scaler.fit_transform(X)\n",
    "\n",
    "#Разобъем на тест траеин\n",
    "x_train, x_test, y_train, y_test = train_test_split(X_normalized,y_,test_size=0.33, random_state=42)"
   ]
  },
  {
   "cell_type": "code",
   "execution_count": null,
   "metadata": {
    "ExecuteTime": {
     "end_time": "2021-06-24T08:49:51.035535Z",
     "start_time": "2021-06-24T08:45:18.116308Z"
    }
   },
   "outputs": [],
   "source": [
    "# протестируем сборку:\n",
    "regr_svc = SVC(kernel='poly')\n",
    "regr_svc.fit(x_train,y_train)"
   ]
  },
  {
   "cell_type": "code",
   "execution_count": 70,
   "metadata": {
    "ExecuteTime": {
     "end_time": "2021-06-24T09:00:28.496435Z",
     "start_time": "2021-06-24T08:58:03.134230Z"
    }
   },
   "outputs": [
    {
     "name": "stdout",
     "output_type": "stream",
     "text": [
      "Test set scores\n",
      "-------------------------------------------------------\n",
      " MSE = 0.16, mean_accuracy = 0.84 \n",
      "\n",
      " Train set scores\n",
      "-------------------------------------------------------\n",
      " MSE = 0.15, mean_accuracy = 0.85 \n"
     ]
    }
   ],
   "source": [
    "# SVC test results\n",
    "print('Test set scores')\n",
    "print('-'*55)\n",
    "svc_MSE = mean_squared_error(y_test,regr_svc.predict(x_test))\n",
    "svc_mean_accuracy = regr_svc.score(x_test,y_test)\n",
    "print(f' MSE = { svc_MSE :.2f}, mean_accuracy = {svc_mean_accuracy :.2f} ' )\n",
    "\n",
    "# Scores on train set\n",
    "print('\\n Train set scores')\n",
    "print('-'*55)\n",
    "svc_train_MSE = mean_squared_error(y_train,regr_svc.predict(x_train))\n",
    "svc_train_mean_accuracy = regr_svc.score(x_train,y_train)\n",
    "print(f' MSE = { svc_train_MSE :.2f}, mean_accuracy = {svc_train_mean_accuracy :.2f} ' )"
   ]
  },
  {
   "cell_type": "code",
   "execution_count": 89,
   "metadata": {
    "ExecuteTime": {
     "end_time": "2021-06-24T10:12:58.954191Z",
     "start_time": "2021-06-24T10:12:57.984190Z"
    }
   },
   "outputs": [
    {
     "data": {
      "image/png": "[encoded data removed]",
      "text/plain": [
       "<Figure size 864x360 with 2 Axes>"
      ]
     },
     "metadata": {
      "needs_background": "light"
     },
     "output_type": "display_data"
    }
   ],
   "source": [
    "fig = plt.figure(figsize=(12,5))\n",
    "\n",
    "fig.add_subplot(121)\n",
    "plt.plot(1-svc_train_mean_accuracy, 1-svc_mean_accuracy, 'r*' ,label='SVC')\n",
    "plt.plot(1-logit_train_mean_accuracy, 1-logit_mean_accuracy, 'g*' ,label='logit')\n",
    "\n",
    "plt.legend()\n",
    "plt.xlabel('train error_rate')\n",
    "plt.ylabel('test error_rate')\n",
    "plt.xticks(np.arange(0,1,.1));\n",
    "plt.yticks(np.arange(0,1,.1));\n",
    "\n",
    "fig.add_subplot(122)\n",
    "plt.plot(svc_train_MSE, svc_MSE, 'ro' ,label='SVC')\n",
    "plt.plot(logit_train_MSE, logit_MSE, 'go' ,label='logit')\n",
    "\n",
    "\n",
    "\n",
    "plt.legend()\n",
    "plt.xlabel('train MSE')\n",
    "plt.ylabel('test MSE')\n",
    "plt.xticks(np.arange(0,1,.1));\n",
    "plt.yticks(np.arange(0,1,.1));"
   ]
  },
  {
   "cell_type": "markdown",
   "metadata": {},
   "source": [
    "По графикам видно, что **logit на train и на test даёт лучше результаты**, чем Метод опорных векторов "
   ]
  },
  {
   "cell_type": "markdown",
   "metadata": {},
   "source": [
    "Параметры которые можно потюнить:\n",
    "- C\n",
    "- kernel{‘linear’, ‘poly’, ‘rbf’, ‘sigmoid’, ‘precomputed’}\n",
    "- degree ( for poly)\n",
    "- coef0=0.0"
   ]
  },
  {
   "cell_type": "code",
   "execution_count": 73,
   "metadata": {
    "ExecuteTime": {
     "end_time": "2021-06-24T09:14:47.930649Z",
     "start_time": "2021-06-24T09:03:25.180683Z"
    }
   },
   "outputs": [
    {
     "name": "stderr",
     "output_type": "stream",
     "text": [
      "\u001b[32m[I 2021-06-24 12:03:26,580]\u001b[0m A new study created in memory with name: no-name-388ee147-5d5f-4260-97b8-abe7da9af8da\u001b[0m\n",
      "\u001b[32m[I 2021-06-24 12:05:48,982]\u001b[0m Trial 0 finished with value: 0.14635810894651943 and parameters: {'C': 2.159096684065285}. Best is trial 0 with value: 0.14635810894651943.\u001b[0m\n",
      "\u001b[32m[I 2021-06-24 12:07:45,021]\u001b[0m Trial 1 finished with value: 0.1477230425611118 and parameters: {'C': 0.48529879830962175}. Best is trial 0 with value: 0.14635810894651943.\u001b[0m\n",
      "\u001b[32m[I 2021-06-24 12:09:46,323]\u001b[0m Trial 2 finished with value: 0.15752574761136617 and parameters: {'C': 0.07974776634236669}. Best is trial 0 with value: 0.14635810894651943.\u001b[0m\n",
      "\u001b[32m[I 2021-06-24 12:12:20,583]\u001b[0m Trial 3 finished with value: 0.14691649087976175 and parameters: {'C': 3.4516038696843383}. Best is trial 0 with value: 0.14635810894651943.\u001b[0m\n",
      "\u001b[32m[I 2021-06-24 12:14:46,600]\u001b[0m Trial 4 finished with value: 0.1460478967613848 and parameters: {'C': 2.520972271231649}. Best is trial 4 with value: 0.1460478967613848.\u001b[0m\n"
     ]
    },
    {
     "data": {
      "text/plain": [
       "{'C': 2.520972271231649}"
      ]
     },
     "execution_count": 73,
     "metadata": {},
     "output_type": "execute_result"
    }
   ],
   "source": [
    "# Параметр C - плавности границы\n",
    "import optuna\n",
    "\n",
    "def objective(trial):\n",
    "    C = trial.suggest_uniform('C', 0, 4)\n",
    "    regr_svc = SVC(C=C, kernel='rbf')\n",
    "    \n",
    "    regr_svc.fit(x_train,y_train)\n",
    "    #accuracy_score(y_test,logit.predict(x_test))\n",
    "    \n",
    "    return mean_squared_error(y_test,regr_svc.predict(x_test)) \n",
    "\n",
    "study = optuna.create_study()\n",
    "study.optimize(objective, n_trials=5)\n",
    "\n",
    "!telegram-send optuna_best_{study.best_params}\n",
    "\n",
    "study.best_params"
   ]
  },
  {
   "cell_type": "code",
   "execution_count": 74,
   "metadata": {
    "ExecuteTime": {
     "end_time": "2021-06-24T09:23:19.296373Z",
     "start_time": "2021-06-24T09:14:47.930649Z"
    }
   },
   "outputs": [
    {
     "name": "stderr",
     "output_type": "stream",
     "text": [
      "\u001b[32m[I 2021-06-24 12:14:47,940]\u001b[0m A new study created in memory with name: no-name-0062be19-c33f-4144-a33a-a0f7b0b4c922\u001b[0m\n",
      "\u001b[32m[I 2021-06-24 12:16:35,781]\u001b[0m Trial 0 finished with value: 0.16590147661000124 and parameters: {'kernel': 'sigmoid'}. Best is trial 0 with value: 0.16590147661000124.\u001b[0m\n",
      "\u001b[32m[I 2021-06-24 12:18:42,780]\u001b[0m Trial 1 finished with value: 0.1457997270132771 and parameters: {'kernel': 'rbf'}. Best is trial 1 with value: 0.1457997270132771.\u001b[0m\n",
      "\u001b[32m[I 2021-06-24 12:20:29,674]\u001b[0m Trial 2 finished with value: 0.16590147661000124 and parameters: {'kernel': 'sigmoid'}. Best is trial 1 with value: 0.1457997270132771.\u001b[0m\n",
      "\u001b[32m[I 2021-06-24 12:23:18,346]\u001b[0m Trial 3 finished with value: 0.14238739297679612 and parameters: {'kernel': 'linear'}. Best is trial 3 with value: 0.14238739297679612.\u001b[0m\n"
     ]
    },
    {
     "data": {
      "text/plain": [
       "{'kernel': 'linear'}"
      ]
     },
     "execution_count": 74,
     "metadata": {},
     "output_type": "execute_result"
    }
   ],
   "source": [
    "# Параметр kernel\n",
    "def objective(trial):\n",
    "    kernel = trial.suggest_categorical('kernel', ['linear', 'poly', 'rbf','sigmoid'])\n",
    "    regr_svc = SVC(kernel=kernel)\n",
    "    \n",
    "    regr_svc.fit(x_train,y_train)\n",
    "    \n",
    "    return mean_squared_error(y_test,regr_svc.predict(x_test)) \n",
    "\n",
    "study = optuna.create_study()\n",
    "study.optimize(objective, n_trials=4)\n",
    "\n",
    "!telegram-send optuna_best_{study.best_params}\n",
    "\n",
    "study.best_params"
   ]
  },
  {
   "cell_type": "code",
   "execution_count": 76,
   "metadata": {
    "ExecuteTime": {
     "end_time": "2021-06-24T09:55:44.017120Z",
     "start_time": "2021-06-24T09:32:41.012167Z"
    }
   },
   "outputs": [
    {
     "name": "stderr",
     "output_type": "stream",
     "text": [
      "\u001b[32m[I 2021-06-24 12:32:41,022]\u001b[0m A new study created in memory with name: no-name-bdf05bba-92a3-4bcb-8da1-127180b634bc\u001b[0m\n",
      "\u001b[32m[I 2021-06-24 12:37:17,803]\u001b[0m Trial 0 finished with value: 0.14238739297679612 and parameters: {'coef0': 0.8592277814902642}. Best is trial 0 with value: 0.14238739297679612.\u001b[0m\n",
      "\u001b[32m[I 2021-06-24 12:41:54,927]\u001b[0m Trial 1 finished with value: 0.14238739297679612 and parameters: {'coef0': 3.309133219504367}. Best is trial 0 with value: 0.14238739297679612.\u001b[0m\n",
      "\u001b[32m[I 2021-06-24 12:46:32,359]\u001b[0m Trial 2 finished with value: 0.14238739297679612 and parameters: {'coef0': 1.35058783952545}. Best is trial 0 with value: 0.14238739297679612.\u001b[0m\n",
      "\u001b[32m[I 2021-06-24 12:51:07,428]\u001b[0m Trial 3 finished with value: 0.14238739297679612 and parameters: {'coef0': 2.3923781642672393}. Best is trial 0 with value: 0.14238739297679612.\u001b[0m\n",
      "\u001b[32m[I 2021-06-24 12:55:43,076]\u001b[0m Trial 4 finished with value: 0.14238739297679612 and parameters: {'coef0': 3.1174533133058153}. Best is trial 0 with value: 0.14238739297679612.\u001b[0m\n"
     ]
    },
    {
     "data": {
      "text/plain": [
       "{'coef0': 0.8592277814902642}"
      ]
     },
     "execution_count": 76,
     "metadata": {},
     "output_type": "execute_result"
    }
   ],
   "source": [
    "# Параметр coef0\n",
    "def objective(trial):\n",
    "    coef0 = trial.suggest_uniform('coef0',  0, 4)\n",
    "    regr_svc = SVC(C=2.52, kernel='linear',coef0=coef0)\n",
    "    \n",
    "    regr_svc.fit(x_train,y_train)\n",
    "    \n",
    "    return mean_squared_error(y_test,regr_svc.predict(x_test)) \n",
    "\n",
    "study = optuna.create_study()\n",
    "study.optimize(objective, n_trials=5)\n",
    "\n",
    "!telegram-send optuna_best_{study.best_params}\n",
    "\n",
    "study.best_params"
   ]
  },
  {
   "cell_type": "code",
   "execution_count": 75,
   "metadata": {
    "ExecuteTime": {
     "end_time": "2021-06-24T09:32:41.012167Z",
     "start_time": "2021-06-24T09:23:19.296373Z"
    }
   },
   "outputs": [
    {
     "name": "stderr",
     "output_type": "stream",
     "text": [
      "\u001b[32m[I 2021-06-24 12:23:19,306]\u001b[0m A new study created in memory with name: no-name-eb1e4e29-0265-49af-b3b2-c719981a2d59\u001b[0m\n",
      "\u001b[32m[I 2021-06-24 12:25:10,154]\u001b[0m Trial 0 finished with value: 0.15963519047028168 and parameters: {'degree': 2}. Best is trial 0 with value: 0.15963519047028168.\u001b[0m\n",
      "\u001b[32m[I 2021-06-24 12:27:32,626]\u001b[0m Trial 1 finished with value: 0.1636679488770319 and parameters: {'degree': 3}. Best is trial 0 with value: 0.15963519047028168.\u001b[0m\n",
      "\u001b[32m[I 2021-06-24 12:29:00,335]\u001b[0m Trial 2 finished with value: 0.1432559870951731 and parameters: {'degree': 1}. Best is trial 2 with value: 0.1432559870951731.\u001b[0m\n",
      "\u001b[32m[I 2021-06-24 12:30:50,313]\u001b[0m Trial 3 finished with value: 0.15963519047028168 and parameters: {'degree': 2}. Best is trial 2 with value: 0.1432559870951731.\u001b[0m\n",
      "\u001b[32m[I 2021-06-24 12:32:40,061]\u001b[0m Trial 4 finished with value: 0.15963519047028168 and parameters: {'degree': 2}. Best is trial 2 with value: 0.1432559870951731.\u001b[0m\n"
     ]
    },
    {
     "data": {
      "text/plain": [
       "{'degree': 1}"
      ]
     },
     "execution_count": 75,
     "metadata": {},
     "output_type": "execute_result"
    }
   ],
   "source": [
    "# Параметр degree\n",
    "def objective(trial):\n",
    "    degree = trial.suggest_int('degree', 1, 5,step=1 )\n",
    "    regr_svc = SVC(kernel='poly', degree=degree)\n",
    "    \n",
    "    regr_svc.fit(x_train,y_train)\n",
    "    \n",
    "    return mean_squared_error(y_test,regr_svc.predict(x_test)) \n",
    "\n",
    "study = optuna.create_study()\n",
    "study.optimize(objective, n_trials=5)\n",
    "\n",
    "!telegram-send optuna_best_{study.best_params}\n",
    "\n",
    "study.best_params"
   ]
  },
  {
   "cell_type": "markdown",
   "metadata": {},
   "source": [
    "### Best Params Лучшие результаты:\n",
    "- C = 2.52\n",
    "- kernel = 'linear'\n",
    "- degree = 1 : 'poly'\n",
    "- coef0 = 0.86\n",
    "\n",
    "применим их:  \n",
    "так как \n",
    "1. MSE для SVC(C=2.52, kernel='linear',coef0=0.86)=.1423,\n",
    "1. MSE для SVC(kernel='poly', degree=1) =.1432  \n",
    "\n",
    "То применяем тот, где MSE меньше = №1."
   ]
  },
  {
   "cell_type": "code",
   "execution_count": 90,
   "metadata": {
    "ExecuteTime": {
     "end_time": "2021-06-24T10:26:57.569504Z",
     "start_time": "2021-06-24T10:20:37.261836Z"
    }
   },
   "outputs": [
    {
     "name": "stdout",
     "output_type": "stream",
     "text": [
      "Test set scores\n",
      "-------------------------------------------------------\n",
      " MSE = 0.14, mean_accuracy = 0.86 \n",
      "\n",
      " Train set scores\n",
      "-------------------------------------------------------\n",
      " MSE = 0.15, mean_accuracy = 0.85 \n"
     ]
    }
   ],
   "source": [
    "# сборка:\n",
    "regr_svc = SVC(C=2.52, kernel='linear',coef0=0.86)\n",
    "regr_svc.fit(x_train,y_train)\n",
    "\n",
    "# SVC test results\n",
    "print('Test set scores')\n",
    "print('-'*55)\n",
    "svc_MSE = mean_squared_error(y_test,regr_svc.predict(x_test))\n",
    "svc_mean_accuracy = regr_svc.score(x_test,y_test)\n",
    "print(f' MSE = { svc_MSE :.2f}, mean_accuracy = {svc_mean_accuracy :.2f} ' )\n",
    "\n",
    "# Scores on train set\n",
    "print('\\n Train set scores')\n",
    "print('-'*55)\n",
    "svc_train_MSE = mean_squared_error(y_train,regr_svc.predict(x_train))\n",
    "svc_train_mean_accuracy = regr_svc.score(x_train,y_train)\n",
    "print(f' MSE = { svc_train_MSE :.2f}, mean_accuracy = {svc_train_mean_accuracy :.2f} ' )"
   ]
  },
  {
   "cell_type": "code",
   "execution_count": 94,
   "metadata": {
    "ExecuteTime": {
     "end_time": "2021-06-24T10:28:09.689605Z",
     "start_time": "2021-06-24T10:28:09.679605Z"
    }
   },
   "outputs": [
    {
     "data": {
      "text/plain": [
       "(0.8568680977788807, 0.8508739762865175)"
      ]
     },
     "execution_count": 94,
     "metadata": {},
     "output_type": "execute_result"
    }
   ],
   "source": [
    "logit_mean_accuracy,logit_train_mean_accuracy"
   ]
  },
  {
   "cell_type": "code",
   "execution_count": 96,
   "metadata": {
    "ExecuteTime": {
     "end_time": "2021-06-24T10:29:06.196685Z",
     "start_time": "2021-06-24T10:29:05.446684Z"
    }
   },
   "outputs": [
    {
     "data": {
      "text/plain": [
       "Text(0, 0.5, 'test MSE')"
      ]
     },
     "execution_count": 96,
     "metadata": {},
     "output_type": "execute_result"
    },
    {
     "data": {
      "image/png": "[encoded data removed]",
      "text/plain": [
       "<Figure size 864x360 with 2 Axes>"
      ]
     },
     "metadata": {
      "needs_background": "light"
     },
     "output_type": "display_data"
    }
   ],
   "source": [
    "fig = plt.figure(figsize=(12,5))\n",
    "\n",
    "fig.add_subplot(121)\n",
    "plt.plot(1-svc_train_mean_accuracy, 1-svc_mean_accuracy, 'r*' ,label='SVC')\n",
    "plt.plot(1-logit_train_mean_accuracy, 1-logit_mean_accuracy, 'g*' ,label='logit')\n",
    "\n",
    "plt.legend()\n",
    "plt.xlabel('train error_rate')\n",
    "plt.ylabel('test error_rate')\n",
    "\n",
    "fig.add_subplot(122)\n",
    "plt.plot(svc_train_MSE, svc_MSE, 'ro' ,label='SVC')\n",
    "plt.plot(logit_train_MSE, logit_MSE, 'go' ,label='logit')\n",
    "\n",
    "\n",
    "\n",
    "plt.legend()\n",
    "plt.xlabel('train MSE')\n",
    "plt.ylabel('test MSE')"
   ]
  },
  {
   "cell_type": "markdown",
   "metadata": {},
   "source": [
    "После оптимизации **SVC** стал **лучше предсказывать на test**, **чем logit** (в принципе под test мы и оптимизировали)"
   ]
  }
 ],
 "metadata": {
  "kernelspec": {
   "display_name": "Python 3",
   "language": "python",
   "name": "python3"
  },
  "language_info": {
   "codemirror_mode": {
    "name": "ipython",
    "version": 3
   },
   "file_extension": ".py",
   "mimetype": "text/x-python",
   "name": "python",
   "nbconvert_exporter": "python",
   "pygments_lexer": "ipython3",
   "version": "3.8.5"
  }
 },
 "nbformat": 4,
 "nbformat_minor": 4
}
