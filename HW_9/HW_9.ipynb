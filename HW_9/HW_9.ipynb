{
 "cells": [
  {
   "cell_type": "markdown",
   "metadata": {
    "id": "lvM0J0AaPPKc"
   },
   "source": [
    "## Kobe Bryant  shot selection"
   ]
  },
  {
   "cell_type": "markdown",
   "metadata": {
    "id": "hVjPZ_ukPPKc"
   },
   "source": [
    "Cсылка на соревнование: https://www.kaggle.com/c/kobe-bryant-shot-selection"
   ]
  },
  {
   "cell_type": "markdown",
   "metadata": {
    "id": "qgn5s7NFPPKd"
   },
   "source": [
    "Goal: Fun and education"
   ]
  },
  {
   "cell_type": "markdown",
   "metadata": {
    "id": "4bIkh2ACPPKd"
   },
   "source": [
    "Using 20 years of data on Kobe's swishes and misses, can you predict which shots will find the bottom of the net? This competition is well suited for practicing classification basics, feature engineering, and time series analysis. Practice got Kobe an eight-figure contract and 5 championship rings. What will it get you?"
   ]
  },
  {
   "cell_type": "markdown",
   "metadata": {
    "id": "JYgEsdafPPKd"
   },
   "source": [
    "This data contains the location and circumstances of every field goal attempted by Kobe Bryant took during his 20-year career. Your task is to predict whether the basket went in (shot_made_flag).\n",
    "\n",
    "We have removed 5000 of the shot_made_flags (represented as missing values in the csv file). These are the test set shots for which you must submit a prediction. You are provided a sample submission file with the correct shot_ids needed for a valid prediction."
   ]
  },
  {
   "cell_type": "markdown",
   "metadata": {
    "id": "QthCIdDVPPKf"
   },
   "source": [
    "**Задания:**\n",
    "\n",
    "1. Провести анализ данных. Много хороших примеров анализа можно посмотреть здесь https://www.kaggle.com/c/kobe-bryant-shot-selection/kernels\n",
    "1. Подготовить фичи для обучения модели - нагенерить признаков, обработать пропущенные значения, проверить на возможные выбросы, обработать категориальные признаки и др.\n",
    "1. Обучить линейную модель, Lasso, Ridge (с встроеной регуляризацией) на тех же признаках - построить сравнительную таблицу или график коэффициентов, сделать заключения о том, как меняется величина коэффициентов, какие зануляются. "
   ]
  },
  {
   "cell_type": "code",
   "execution_count": 162,
   "metadata": {
    "ExecuteTime": {
     "end_time": "2021-07-27T11:08:56.691356Z",
     "start_time": "2021-07-27T11:08:56.671356Z"
    },
    "id": "zqHdTz2wPPKW"
   },
   "outputs": [],
   "source": [
    "import pandas as pd\n",
    "import numpy as np\n",
    "import matplotlib.pyplot as plt\n",
    "%matplotlib inline"
   ]
  },
  {
   "cell_type": "code",
   "execution_count": 163,
   "metadata": {
    "ExecuteTime": {
     "end_time": "2021-07-27T11:08:56.881356Z",
     "start_time": "2021-07-27T11:08:56.691356Z"
    },
    "id": "LVq90rI-PPKe"
   },
   "outputs": [],
   "source": [
    "df = pd.read_csv('Kobe.csv')"
   ]
  },
  {
   "cell_type": "code",
   "execution_count": 165,
   "metadata": {
    "ExecuteTime": {
     "end_time": "2021-07-27T11:08:56.951356Z",
     "start_time": "2021-07-27T11:08:56.941356Z"
    }
   },
   "outputs": [],
   "source": [
    "target = 'shot_made_flag'"
   ]
  },
  {
   "cell_type": "code",
   "execution_count": 166,
   "metadata": {
    "ExecuteTime": {
     "end_time": "2021-07-27T11:08:57.001356Z",
     "start_time": "2021-07-27T11:08:56.951356Z"
    }
   },
   "outputs": [
    {
     "name": "stdout",
     "output_type": "stream",
     "text": [
      " column shot_made_flag, missed values= 5000\n"
     ]
    }
   ],
   "source": [
    "for i in df.columns:\n",
    "    if df[i].isna().sum() == 0: continue\n",
    "    print(f' column {i}, missed values= {df[i].isna().sum()}')   "
   ]
  },
  {
   "cell_type": "markdown",
   "metadata": {
    "ExecuteTime": {
     "end_time": "2021-07-27T09:15:15.525130Z",
     "start_time": "2021-07-27T09:15:15.505130Z"
    }
   },
   "source": [
    "Пропущенных значений в выборке нет, кроме 5000 пропущенных значений целевой переменной (которую нужно предсказать по условию задачи)"
   ]
  },
  {
   "cell_type": "code",
   "execution_count": 167,
   "metadata": {
    "ExecuteTime": {
     "end_time": "2021-07-27T11:08:57.011356Z",
     "start_time": "2021-07-27T11:08:57.001356Z"
    }
   },
   "outputs": [],
   "source": [
    "# Соберем все категории\n",
    "categories = list(df.columns[df.dtypes == object])"
   ]
  },
  {
   "cell_type": "markdown",
   "metadata": {},
   "source": [
    "#### Числовые признаки"
   ]
  },
  {
   "cell_type": "code",
   "execution_count": 168,
   "metadata": {
    "ExecuteTime": {
     "end_time": "2021-07-27T11:08:57.021356Z",
     "start_time": "2021-07-27T11:08:57.011356Z"
    }
   },
   "outputs": [],
   "source": [
    "# Соберем все остальные столбцы, кроме категорийных\n",
    "numerical = [i for i in list(df.columns) if i not in categories]"
   ]
  },
  {
   "cell_type": "code",
   "execution_count": 169,
   "metadata": {
    "ExecuteTime": {
     "end_time": "2021-07-27T11:08:57.061356Z",
     "start_time": "2021-07-27T11:08:57.021356Z"
    }
   },
   "outputs": [
    {
     "name": "stdout",
     "output_type": "stream",
     "text": [
      "minutes_remaining [10  7  6  9  8  3  1 11  2  0  5  4] 12\n",
      "-------------------------------------------------------\n",
      "period [1 2 3 4 5 6 7] 7\n",
      "-------------------------------------------------------\n",
      "playoffs [0 1] 2\n",
      "-------------------------------------------------------\n",
      "shot_made_flag [nan  0.  1.] 2\n",
      "-------------------------------------------------------\n",
      "team_id [1610612747] 1\n",
      "-------------------------------------------------------\n"
     ]
    }
   ],
   "source": [
    "# вот еще категорийные признаки\n",
    "for i in numerical:\n",
    "    if df[i].nunique() > 50: continue\n",
    "    print(i, df[i].unique(), df[i].nunique())\n",
    "    print('-'*55)"
   ]
  },
  {
   "cell_type": "code",
   "execution_count": 170,
   "metadata": {
    "ExecuteTime": {
     "end_time": "2021-07-27T11:08:57.081356Z",
     "start_time": "2021-07-27T11:08:57.061356Z"
    }
   },
   "outputs": [],
   "source": [
    "# Признак team_id [1610612747] имеет всего одно значение. Не имеет никакого смысла.\n",
    "df.drop(columns='team_id',inplace=True)"
   ]
  },
  {
   "cell_type": "code",
   "execution_count": 171,
   "metadata": {
    "ExecuteTime": {
     "end_time": "2021-07-27T11:08:57.101356Z",
     "start_time": "2021-07-27T11:08:57.081356Z"
    }
   },
   "outputs": [],
   "source": [
    "# Добавим в categories признаки : ['period','playoffs']\n",
    "categories += ['period','playoffs']"
   ]
  },
  {
   "cell_type": "code",
   "execution_count": 172,
   "metadata": {
    "ExecuteTime": {
     "end_time": "2021-07-27T11:08:57.111356Z",
     "start_time": "2021-07-27T11:08:57.101356Z"
    }
   },
   "outputs": [],
   "source": [
    "# Соберем все остальные столбцы, кроме категорийных\n",
    "numerical = [i for i in list(df.columns) if i not in categories + ['team_id']]"
   ]
  },
  {
   "cell_type": "code",
   "execution_count": 173,
   "metadata": {
    "ExecuteTime": {
     "end_time": "2021-07-27T11:08:57.161356Z",
     "start_time": "2021-07-27T11:08:57.111356Z"
    }
   },
   "outputs": [
    {
     "data": {
      "text/plain": [
       "lat      lon        loc_y  loc_x\n",
       "34.0443  -118.2698  0       0       5182\n",
       "         -118.2708  0      -1          9\n",
       "         -118.2858  0      -16         8\n",
       "         -118.2678  0       2          6\n",
       "         -118.2848  0      -15         6\n",
       "                                    ... \n",
       "         -118.2308  0       39         1\n",
       "         -118.2318  0       38         1\n",
       "         -118.2338  0       36         1\n",
       "         -118.2368  0       33         1\n",
       "         -118.5098  0      -240        1\n",
       "Length: 239, dtype: int64"
      ]
     },
     "execution_count": 173,
     "metadata": {},
     "output_type": "execute_result"
    }
   ],
   "source": [
    "# Проверим координаты:\n",
    "df.loc[df.loc_y==0,['lat','lon','loc_y', 'loc_x']].value_counts()"
   ]
  },
  {
   "cell_type": "markdown",
   "metadata": {},
   "source": [
    "Координаты 34.0443  -118.2698 - 34°02'39.5\"N 118°16'11.3\"W - это Staples Center центральная арена, где играет Los Angeles Lakers команда за которую играл  Kobe Bryant.  \n",
    "\n",
    "Вместо 4 столбцов создам одну категориальную - \"Дома\""
   ]
  },
  {
   "cell_type": "code",
   "execution_count": 174,
   "metadata": {
    "ExecuteTime": {
     "end_time": "2021-07-27T11:08:57.191356Z",
     "start_time": "2021-07-27T11:08:57.161356Z"
    }
   },
   "outputs": [],
   "source": [
    "df['Home'] = ((df.loc_y==0)&(df.loc_x==0)).astype('int')\n",
    "df.drop(columns=['lat','lon','loc_y', 'loc_x'],inplace=True)\n",
    "categories += ['Home']"
   ]
  },
  {
   "cell_type": "code",
   "execution_count": 175,
   "metadata": {
    "ExecuteTime": {
     "end_time": "2021-07-27T11:08:57.201356Z",
     "start_time": "2021-07-27T11:08:57.191356Z"
    }
   },
   "outputs": [],
   "source": [
    "# Уберем столбцы ['lat','lon','loc_y', 'loc_x']\n",
    "numerical = [i for i in numerical if i not in ['lat','lon','loc_y', 'loc_x']]"
   ]
  },
  {
   "cell_type": "code",
   "execution_count": 176,
   "metadata": {
    "ExecuteTime": {
     "end_time": "2021-07-27T11:08:57.221356Z",
     "start_time": "2021-07-27T11:08:57.201356Z"
    }
   },
   "outputs": [
    {
     "data": {
      "text/plain": [
       "(30697, 30697, 30697, 30697)"
      ]
     },
     "execution_count": 176,
     "metadata": {},
     "output_type": "execute_result"
    }
   ],
   "source": [
    "# Проверим столбцы с именем id:\n",
    "len(df), len(df.shot_id), len(df.game_id), len(df.game_event_id)"
   ]
  },
  {
   "cell_type": "code",
   "execution_count": 177,
   "metadata": {
    "ExecuteTime": {
     "end_time": "2021-07-27T11:08:57.241356Z",
     "start_time": "2021-07-27T11:08:57.221356Z"
    }
   },
   "outputs": [],
   "source": [
    "# создадим один параметр \"оставшееся время\" в который объединю оставшиеся секунды + оставшиеся минуты\n",
    "df['time_remaining'] = df['seconds_remaining']+ df['minutes_remaining']*60"
   ]
  },
  {
   "cell_type": "code",
   "execution_count": 178,
   "metadata": {
    "ExecuteTime": {
     "end_time": "2021-07-27T11:08:57.271356Z",
     "start_time": "2021-07-27T11:08:57.241356Z"
    }
   },
   "outputs": [],
   "source": [
    "# Уберем столбцы ['game_event_id','game_id','shot_id', 'seconds_remaining', 'minutes_remaining']\n",
    "df.drop(columns=['game_event_id','game_id','shot_id', 'seconds_remaining', 'minutes_remaining'],inplace=True)"
   ]
  },
  {
   "cell_type": "code",
   "execution_count": 179,
   "metadata": {
    "ExecuteTime": {
     "end_time": "2021-07-27T11:08:57.281356Z",
     "start_time": "2021-07-27T11:08:57.271356Z"
    }
   },
   "outputs": [],
   "source": [
    "# Уберем столбцы ['lat','lon','loc_y', 'loc_x']\n",
    "numerical = [i for i in numerical if i not in ['game_event_id','game_id','shot_id', 'seconds_remaining', 'minutes_remaining']]"
   ]
  },
  {
   "cell_type": "code",
   "execution_count": 192,
   "metadata": {
    "ExecuteTime": {
     "end_time": "2021-07-27T11:18:01.293141Z",
     "start_time": "2021-07-27T11:18:01.283141Z"
    }
   },
   "outputs": [
    {
     "data": {
      "text/plain": [
       "['shot_distance', 'time_remaining']"
      ]
     },
     "execution_count": 192,
     "metadata": {},
     "output_type": "execute_result"
    }
   ],
   "source": [
    "# Проверим оставшиеся числовые признаки\n",
    "numerical = [i for i in numerical if i not in ['shot_made_flag']] + ['time_remaining']\n",
    "numerical"
   ]
  },
  {
   "cell_type": "markdown",
   "metadata": {},
   "source": [
    "#### Категорийные признаки"
   ]
  },
  {
   "cell_type": "code",
   "execution_count": 181,
   "metadata": {
    "ExecuteTime": {
     "end_time": "2021-07-27T11:08:57.321356Z",
     "start_time": "2021-07-27T11:08:57.301356Z"
    }
   },
   "outputs": [
    {
     "data": {
      "text/plain": [
       "'action_type , combined_shot_type , season , shot_type , shot_zone_area , shot_zone_basic , shot_zone_range , team_name , game_date , matchup , opponent , period , playoffs'"
      ]
     },
     "execution_count": 181,
     "metadata": {},
     "output_type": "execute_result"
    }
   ],
   "source": [
    "\" , \".join(categories)"
   ]
  },
  {
   "cell_type": "code",
   "execution_count": 182,
   "metadata": {
    "ExecuteTime": {
     "end_time": "2021-07-27T11:08:57.383358Z",
     "start_time": "2021-07-27T11:08:57.321356Z"
    }
   },
   "outputs": [
    {
     "name": "stdout",
     "output_type": "stream",
     "text": [
      "shot_type\n",
      "-------------------------------------------------------\n",
      "playoffs\n",
      "-------------------------------------------------------\n",
      "['shot_type', 'playoffs']\n"
     ]
    }
   ],
   "source": [
    "# Уберем бинарные категории\n",
    "categories_binary = []\n",
    "for i in categories:\n",
    "    if df[i].nunique() == 2 : \n",
    "        print(i)\n",
    "        print('-'*55)\n",
    "        categories_binary.append(i)\n",
    "print(categories_binary)\n",
    "categories = [i for i in categories if i not in categories_binary]"
   ]
  },
  {
   "cell_type": "code",
   "execution_count": 183,
   "metadata": {
    "ExecuteTime": {
     "end_time": "2021-07-27T11:09:44.602442Z",
     "start_time": "2021-07-27T11:09:43.262440Z"
    }
   },
   "outputs": [],
   "source": [
    "from sklearn.preprocessing import LabelEncoder\n",
    "le = LabelEncoder()"
   ]
  },
  {
   "cell_type": "code",
   "execution_count": 184,
   "metadata": {
    "ExecuteTime": {
     "end_time": "2021-07-27T11:10:30.750507Z",
     "start_time": "2021-07-27T11:10:30.730507Z"
    }
   },
   "outputs": [
    {
     "data": {
      "text/plain": [
       "{'shot_type': array(['2PT Field Goal', '3PT Field Goal'], dtype=object),\n",
       " 'playoffs': array([0, 1], dtype=int64)}"
      ]
     },
     "execution_count": 184,
     "metadata": {},
     "output_type": "execute_result"
    }
   ],
   "source": [
    "# создаем бинарные столбцы\n",
    "dummy_binary = pd.DataFrame({i:le.fit_transform( df[i] ) for i in categories_binary })\n",
    "dummy_binary_descr = {i:(le.fit( df[i] ).classes_) for i in categories_binary }\n",
    "dummy_binary_descr"
   ]
  },
  {
   "cell_type": "code",
   "execution_count": 187,
   "metadata": {
    "ExecuteTime": {
     "end_time": "2021-07-27T11:12:06.301642Z",
     "start_time": "2021-07-27T11:12:06.271642Z"
    }
   },
   "outputs": [
    {
     "data": {
      "text/html": [
       "<div>\n",
       "<style scoped>\n",
       "    .dataframe tbody tr th:only-of-type {\n",
       "        vertical-align: middle;\n",
       "    }\n",
       "\n",
       "    .dataframe tbody tr th {\n",
       "        vertical-align: top;\n",
       "    }\n",
       "\n",
       "    .dataframe thead th {\n",
       "        text-align: right;\n",
       "    }\n",
       "</style>\n",
       "<table border=\"1\" class=\"dataframe\">\n",
       "  <thead>\n",
       "    <tr style=\"text-align: right;\">\n",
       "      <th></th>\n",
       "      <th>action_type</th>\n",
       "      <th>combined_shot_type</th>\n",
       "      <th>season</th>\n",
       "      <th>shot_zone_area</th>\n",
       "      <th>shot_zone_basic</th>\n",
       "      <th>shot_zone_range</th>\n",
       "      <th>team_name</th>\n",
       "      <th>game_date</th>\n",
       "      <th>matchup</th>\n",
       "      <th>opponent</th>\n",
       "      <th>period</th>\n",
       "    </tr>\n",
       "  </thead>\n",
       "  <tbody>\n",
       "    <tr>\n",
       "      <th>0</th>\n",
       "      <td>Jump Shot</td>\n",
       "      <td>Jump Shot</td>\n",
       "      <td>2000-01</td>\n",
       "      <td>Right Side(R)</td>\n",
       "      <td>Mid-Range</td>\n",
       "      <td>16-24 ft.</td>\n",
       "      <td>Los Angeles Lakers</td>\n",
       "      <td>2000-10-31</td>\n",
       "      <td>LAL @ POR</td>\n",
       "      <td>POR</td>\n",
       "      <td>1</td>\n",
       "    </tr>\n",
       "    <tr>\n",
       "      <th>1</th>\n",
       "      <td>Jump Shot</td>\n",
       "      <td>Jump Shot</td>\n",
       "      <td>2000-01</td>\n",
       "      <td>Left Side(L)</td>\n",
       "      <td>Mid-Range</td>\n",
       "      <td>8-16 ft.</td>\n",
       "      <td>Los Angeles Lakers</td>\n",
       "      <td>2000-10-31</td>\n",
       "      <td>LAL @ POR</td>\n",
       "      <td>POR</td>\n",
       "      <td>1</td>\n",
       "    </tr>\n",
       "  </tbody>\n",
       "</table>\n",
       "</div>"
      ],
      "text/plain": [
       "  action_type combined_shot_type   season shot_zone_area shot_zone_basic  \\\n",
       "0   Jump Shot          Jump Shot  2000-01  Right Side(R)       Mid-Range   \n",
       "1   Jump Shot          Jump Shot  2000-01   Left Side(L)       Mid-Range   \n",
       "\n",
       "  shot_zone_range           team_name   game_date    matchup opponent  period  \n",
       "0       16-24 ft.  Los Angeles Lakers  2000-10-31  LAL @ POR      POR       1  \n",
       "1        8-16 ft.  Los Angeles Lakers  2000-10-31  LAL @ POR      POR       1  "
      ]
     },
     "execution_count": 187,
     "metadata": {},
     "output_type": "execute_result"
    }
   ],
   "source": [
    "df[categories].head(2)"
   ]
  },
  {
   "cell_type": "code",
   "execution_count": 201,
   "metadata": {
    "ExecuteTime": {
     "end_time": "2021-07-27T11:26:29.271856Z",
     "start_time": "2021-07-27T11:26:29.251856Z"
    }
   },
   "outputs": [],
   "source": [
    "# 'shot_zone_range' по смыслу совпадает с 'shot_distance'. Уберем 'shot_zone_range'\n",
    "df.drop(columns=['shot_zone_range'],inplace=True)\n",
    "categories = [i for i in categories if i not in ['shot_zone_range']]"
   ]
  },
  {
   "cell_type": "code",
   "execution_count": 198,
   "metadata": {
    "ExecuteTime": {
     "end_time": "2021-07-27T11:23:04.911568Z",
     "start_time": "2021-07-27T11:23:04.891568Z"
    }
   },
   "outputs": [
    {
     "data": {
      "text/plain": [
       "(array(['Jump Shot', 'Driving Dunk Shot', 'Layup Shot',\n",
       "        'Running Jump Shot', 'Driving Layup Shot', 'Reverse Layup Shot',\n",
       "        'Reverse Dunk Shot', 'Slam Dunk Shot', 'Turnaround Jump Shot',\n",
       "        'Tip Shot', 'Running Hook Shot', 'Alley Oop Dunk Shot',\n",
       "        'Dunk Shot', 'Alley Oop Layup shot', 'Running Dunk Shot',\n",
       "        'Driving Finger Roll Shot', 'Running Layup Shot',\n",
       "        'Finger Roll Shot', 'Fadeaway Jump Shot', 'Follow Up Dunk Shot',\n",
       "        'Hook Shot', 'Turnaround Hook Shot', 'Running Tip Shot',\n",
       "        'Jump Hook Shot', 'Running Finger Roll Shot', 'Jump Bank Shot',\n",
       "        'Turnaround Finger Roll Shot', 'Hook Bank Shot',\n",
       "        'Driving Hook Shot', 'Running Reverse Layup Shot',\n",
       "        'Driving Finger Roll Layup Shot', 'Fadeaway Bank shot',\n",
       "        'Pullup Jump shot', 'Finger Roll Layup Shot',\n",
       "        'Turnaround Fadeaway shot', 'Driving Reverse Layup Shot',\n",
       "        'Driving Slam Dunk Shot', 'Step Back Jump shot',\n",
       "        'Reverse Slam Dunk Shot', 'Turnaround Bank shot',\n",
       "        'Running Finger Roll Layup Shot', 'Floating Jump shot',\n",
       "        'Putback Slam Dunk Shot', 'Running Bank shot', 'Driving Bank shot',\n",
       "        'Putback Layup Shot', 'Driving Jump shot', 'Putback Dunk Shot',\n",
       "        'Pullup Bank shot', 'Running Slam Dunk Shot', 'Cutting Layup Shot',\n",
       "        'Driving Floating Jump Shot', 'Running Pull-Up Jump Shot',\n",
       "        'Tip Layup Shot', 'Driving Floating Bank Jump Shot',\n",
       "        'Turnaround Fadeaway Bank Jump Shot',\n",
       "        'Cutting Finger Roll Layup Shot'], dtype=object),\n",
       " array(['Jump Shot', 'Dunk', 'Layup', 'Tip Shot', 'Hook Shot', 'Bank Shot'],\n",
       "       dtype=object))"
      ]
     },
     "execution_count": 198,
     "metadata": {},
     "output_type": "execute_result"
    }
   ],
   "source": [
    "# 'action_type' и 'combined_shot_type' по смыслу совпадают проверим. \n",
    "df.action_type.unique(), df.combined_shot_type.unique()"
   ]
  },
  {
   "cell_type": "code",
   "execution_count": 200,
   "metadata": {
    "ExecuteTime": {
     "end_time": "2021-07-27T11:26:11.346830Z",
     "start_time": "2021-07-27T11:26:11.336830Z"
    }
   },
   "outputs": [],
   "source": [
    "# Уберем 'action_type' Так как больше значений чем 'combined_shot_type' .\n",
    "df.drop(columns=['action_type'],inplace=True)\n",
    "categories = [i for i in categories if i not in ['action_type']]"
   ]
  },
  {
   "cell_type": "code",
   "execution_count": 202,
   "metadata": {
    "ExecuteTime": {
     "end_time": "2021-07-27T11:27:00.847900Z",
     "start_time": "2021-07-27T11:27:00.817900Z"
    }
   },
   "outputs": [
    {
     "data": {
      "text/html": [
       "<div>\n",
       "<style scoped>\n",
       "    .dataframe tbody tr th:only-of-type {\n",
       "        vertical-align: middle;\n",
       "    }\n",
       "\n",
       "    .dataframe tbody tr th {\n",
       "        vertical-align: top;\n",
       "    }\n",
       "\n",
       "    .dataframe thead th {\n",
       "        text-align: right;\n",
       "    }\n",
       "</style>\n",
       "<table border=\"1\" class=\"dataframe\">\n",
       "  <thead>\n",
       "    <tr style=\"text-align: right;\">\n",
       "      <th></th>\n",
       "      <th>combined_shot_type</th>\n",
       "      <th>season</th>\n",
       "      <th>shot_zone_area</th>\n",
       "      <th>shot_zone_basic</th>\n",
       "      <th>team_name</th>\n",
       "      <th>game_date</th>\n",
       "      <th>matchup</th>\n",
       "      <th>opponent</th>\n",
       "      <th>period</th>\n",
       "      <th>Home</th>\n",
       "    </tr>\n",
       "  </thead>\n",
       "  <tbody>\n",
       "    <tr>\n",
       "      <th>0</th>\n",
       "      <td>Jump Shot</td>\n",
       "      <td>2000-01</td>\n",
       "      <td>Right Side(R)</td>\n",
       "      <td>Mid-Range</td>\n",
       "      <td>Los Angeles Lakers</td>\n",
       "      <td>2000-10-31</td>\n",
       "      <td>LAL @ POR</td>\n",
       "      <td>POR</td>\n",
       "      <td>1</td>\n",
       "      <td>0</td>\n",
       "    </tr>\n",
       "    <tr>\n",
       "      <th>1</th>\n",
       "      <td>Jump Shot</td>\n",
       "      <td>2000-01</td>\n",
       "      <td>Left Side(L)</td>\n",
       "      <td>Mid-Range</td>\n",
       "      <td>Los Angeles Lakers</td>\n",
       "      <td>2000-10-31</td>\n",
       "      <td>LAL @ POR</td>\n",
       "      <td>POR</td>\n",
       "      <td>1</td>\n",
       "      <td>0</td>\n",
       "    </tr>\n",
       "  </tbody>\n",
       "</table>\n",
       "</div>"
      ],
      "text/plain": [
       "  combined_shot_type   season shot_zone_area shot_zone_basic  \\\n",
       "0          Jump Shot  2000-01  Right Side(R)       Mid-Range   \n",
       "1          Jump Shot  2000-01   Left Side(L)       Mid-Range   \n",
       "\n",
       "            team_name   game_date    matchup opponent  period  Home  \n",
       "0  Los Angeles Lakers  2000-10-31  LAL @ POR      POR       1     0  \n",
       "1  Los Angeles Lakers  2000-10-31  LAL @ POR      POR       1     0  "
      ]
     },
     "execution_count": 202,
     "metadata": {},
     "output_type": "execute_result"
    }
   ],
   "source": [
    "df[categories].head(2)"
   ]
  },
  {
   "cell_type": "code",
   "execution_count": 206,
   "metadata": {
    "ExecuteTime": {
     "end_time": "2021-07-27T11:27:54.434976Z",
     "start_time": "2021-07-27T11:27:54.414976Z"
    }
   },
   "outputs": [
    {
     "data": {
      "text/plain": [
       "array(['Los Angeles Lakers'], dtype=object)"
      ]
     },
     "execution_count": 206,
     "metadata": {},
     "output_type": "execute_result"
    }
   ],
   "source": [
    "# Уберем 'team_name' Так как игрок всегда выступал только за lakers.\n",
    "df.team_name.unique()"
   ]
  },
  {
   "cell_type": "code",
   "execution_count": 216,
   "metadata": {
    "ExecuteTime": {
     "end_time": "2021-07-27T11:39:24.029946Z",
     "start_time": "2021-07-27T11:39:24.009946Z"
    }
   },
   "outputs": [],
   "source": [
    "df.drop(columns=['team_name'],inplace=True)\n",
    "categories = [i for i in categories if i not in ['team_name']]"
   ]
  },
  {
   "cell_type": "code",
   "execution_count": 217,
   "metadata": {
    "ExecuteTime": {
     "end_time": "2021-07-27T11:39:34.750961Z",
     "start_time": "2021-07-27T11:39:34.730961Z"
    }
   },
   "outputs": [],
   "source": [
    "# Уберем 'matchup' Так как столбец 'opponent' дублирует это значение\n",
    "df.drop(columns=['matchup'],inplace=True)\n",
    "categories = [i for i in categories if i not in ['matchup']]"
   ]
  },
  {
   "cell_type": "code",
   "execution_count": 207,
   "metadata": {
    "ExecuteTime": {
     "end_time": "2021-07-27T11:30:25.825189Z",
     "start_time": "2021-07-27T11:30:25.805189Z"
    }
   },
   "outputs": [
    {
     "data": {
      "text/plain": [
       "array(['2000-10-31', '2000-11-01', '2000-11-04', ..., '2000-06-14',\n",
       "       '2000-06-16', '2000-06-19'], dtype=object)"
      ]
     },
     "execution_count": 207,
     "metadata": {},
     "output_type": "execute_result"
    }
   ],
   "source": [
    "# заменим 'game_date' месяцем игры, так как нет смысла под каждую игру создавать категорию\n",
    "df.game_date.unique()"
   ]
  },
  {
   "cell_type": "code",
   "execution_count": 215,
   "metadata": {
    "ExecuteTime": {
     "end_time": "2021-07-27T11:38:25.983864Z",
     "start_time": "2021-07-27T11:38:25.953864Z"
    }
   },
   "outputs": [],
   "source": [
    "df['game_month'] = [i[5:7] for i in df.game_date]\n",
    "categories += ['game_month']\n",
    "df.drop(columns=['game_date'],inplace=True)\n",
    "categories = [i for i in categories if i not in ['game_date']]"
   ]
  },
  {
   "cell_type": "code",
   "execution_count": 224,
   "metadata": {
    "ExecuteTime": {
     "end_time": "2021-07-27T11:45:26.508456Z",
     "start_time": "2021-07-27T11:45:26.448456Z"
    }
   },
   "outputs": [],
   "source": [
    "# Создаем дамми:\n",
    "dummy = pd.get_dummies(df[categories], columns=categories)"
   ]
  },
  {
   "cell_type": "markdown",
   "metadata": {
    "ExecuteTime": {
     "end_time": "2021-07-27T11:48:24.761707Z",
     "start_time": "2021-07-27T11:48:24.741707Z"
    }
   },
   "source": [
    "#### Объединим:"
   ]
  },
  {
   "cell_type": "code",
   "execution_count": 228,
   "metadata": {
    "ExecuteTime": {
     "end_time": "2021-07-27T11:47:44.476650Z",
     "start_time": "2021-07-27T11:47:44.466650Z"
    }
   },
   "outputs": [],
   "source": [
    "X_raw = pd.concat( [df[numerical],dummy_binary, dummy],axis=1)"
   ]
  },
  {
   "cell_type": "code",
   "execution_count": 229,
   "metadata": {
    "ExecuteTime": {
     "end_time": "2021-07-27T11:47:57.248668Z",
     "start_time": "2021-07-27T11:47:57.228668Z"
    }
   },
   "outputs": [
    {
     "data": {
      "text/plain": [
       "((30697, 94), (30697, 13))"
      ]
     },
     "execution_count": 229,
     "metadata": {},
     "output_type": "execute_result"
    }
   ],
   "source": [
    "X_raw.shape, df.shape"
   ]
  },
  {
   "cell_type": "markdown",
   "metadata": {},
   "source": [
    "#### Разделим на X, X_pred(которую нужно предугадать)"
   ]
  },
  {
   "cell_type": "code",
   "execution_count": 231,
   "metadata": {
    "ExecuteTime": {
     "end_time": "2021-07-27T11:52:31.554054Z",
     "start_time": "2021-07-27T11:52:31.504054Z"
    }
   },
   "outputs": [],
   "source": [
    "X = pd.DataFrame( X_raw[~np.isnan(df['shot_made_flag'])] )\n",
    "X_pred = pd.DataFrame( X_raw[np.isnan(df['shot_made_flag'])] )"
   ]
  },
  {
   "cell_type": "code",
   "execution_count": 237,
   "metadata": {
    "ExecuteTime": {
     "end_time": "2021-07-27T11:53:56.126173Z",
     "start_time": "2021-07-27T11:53:56.106173Z"
    },
    "id": "mRhHolq9PPKf"
   },
   "outputs": [],
   "source": [
    "# Создадим целевую переменную\n",
    "y = df[~np.isnan(df['shot_made_flag'])].shot_made_flag.astype('int')"
   ]
  },
  {
   "cell_type": "markdown",
   "metadata": {
    "ExecuteTime": {
     "end_time": "2021-07-27T11:54:28.661219Z",
     "start_time": "2021-07-27T11:54:28.651219Z"
    }
   },
   "source": [
    "### ДЗ №3.\n",
    "Обучить линейную модель, Lasso, Ridge. построить сравнительную таблицу или график коэффициентов, сделать заключения о том, как меняется величина коэффициентов, какие зануляются."
   ]
  },
  {
   "cell_type": "code",
   "execution_count": 258,
   "metadata": {
    "ExecuteTime": {
     "end_time": "2021-07-27T12:14:01.828946Z",
     "start_time": "2021-07-27T12:14:01.808946Z"
    }
   },
   "outputs": [],
   "source": [
    "from sklearn.linear_model import LogisticRegression,Lasso,RidgeClassifier\n",
    "from sklearn.ensemble import ExtraTreesClassifier\n",
    "from sklearn.preprocessing import StandardScaler\n",
    "\n",
    "import shap"
   ]
  },
  {
   "cell_type": "markdown",
   "metadata": {},
   "source": [
    "#### ExtraTree"
   ]
  },
  {
   "cell_type": "code",
   "execution_count": 241,
   "metadata": {
    "ExecuteTime": {
     "end_time": "2021-07-27T12:05:03.085188Z",
     "start_time": "2021-07-27T12:04:53.964175Z"
    }
   },
   "outputs": [],
   "source": [
    "light_tree = ExtraTreesClassifier().fit(X,y)"
   ]
  },
  {
   "cell_type": "code",
   "execution_count": 253,
   "metadata": {
    "ExecuteTime": {
     "end_time": "2021-07-27T12:11:08.368702Z",
     "start_time": "2021-07-27T12:11:07.907701Z"
    }
   },
   "outputs": [
    {
     "data": {
      "text/plain": [
       "<BarContainer object of 10 artists>"
      ]
     },
     "execution_count": 253,
     "metadata": {},
     "output_type": "execute_result"
    },
    {
     "data": {
      "image/png": "[encoded data removed]",
      "text/plain": [
       "<Figure size 432x288 with 1 Axes>"
      ]
     },
     "metadata": {
      "needs_background": "light"
     },
     "output_type": "display_data"
    }
   ],
   "source": [
    "features = pd.Series(data=light_tree.feature_importances_, index=X.columns)\n",
    "features.sort_values(ascending=False,inplace=True)\n",
    "plt.barh(y=list(range(10)),width=features.head(10),tick_label=list(features.head(10).index))"
   ]
  },
  {
   "cell_type": "code",
   "execution_count": 334,
   "metadata": {
    "ExecuteTime": {
     "end_time": "2021-07-27T13:14:20.944991Z",
     "start_time": "2021-07-27T13:14:20.924991Z"
    }
   },
   "outputs": [
    {
     "data": {
      "text/plain": [
       "time_remaining    0.203994\n",
       "shot_distance     0.109576\n",
       "period_3          0.021003\n",
       "dtype: float64"
      ]
     },
     "execution_count": 334,
     "metadata": {},
     "output_type": "execute_result"
    }
   ],
   "source": [
    "features.head(3)"
   ]
  },
  {
   "cell_type": "markdown",
   "metadata": {},
   "source": [
    "#### LogisticRegression"
   ]
  },
  {
   "cell_type": "code",
   "execution_count": 255,
   "metadata": {
    "ExecuteTime": {
     "end_time": "2021-07-27T12:13:29.844901Z",
     "start_time": "2021-07-27T12:13:29.824901Z"
    }
   },
   "outputs": [],
   "source": [
    "scaler = StandardScaler()"
   ]
  },
  {
   "cell_type": "code",
   "execution_count": 256,
   "metadata": {
    "ExecuteTime": {
     "end_time": "2021-07-27T12:13:38.955913Z",
     "start_time": "2021-07-27T12:13:38.785913Z"
    }
   },
   "outputs": [],
   "source": [
    "X_scaled = scaler.fit_transform(X)"
   ]
  },
  {
   "cell_type": "code",
   "execution_count": 260,
   "metadata": {
    "ExecuteTime": {
     "end_time": "2021-07-27T12:16:38.145166Z",
     "start_time": "2021-07-27T12:16:37.745165Z"
    }
   },
   "outputs": [],
   "source": [
    "logit = LogisticRegression().fit(X_scaled,y)"
   ]
  },
  {
   "cell_type": "code",
   "execution_count": 265,
   "metadata": {
    "ExecuteTime": {
     "end_time": "2021-07-27T12:19:00.530368Z",
     "start_time": "2021-07-27T12:19:00.140368Z"
    }
   },
   "outputs": [
    {
     "data": {
      "text/plain": [
       "<BarContainer object of 10 artists>"
      ]
     },
     "execution_count": 265,
     "metadata": {},
     "output_type": "execute_result"
    },
    {
     "data": {
      "image/png": "[encoded data removed]",
      "text/plain": [
       "<Figure size 432x288 with 1 Axes>"
      ]
     },
     "metadata": {
      "needs_background": "light"
     },
     "output_type": "display_data"
    }
   ],
   "source": [
    "features_logit = pd.Series(data=logit.coef_[0], index=X.columns)\n",
    "features_logit.sort_values(ascending=False,inplace=True)\n",
    "plt.barh(y=list(range(10)),width=features_logit.head(10),tick_label=list(features_logit.head(10).index))"
   ]
  },
  {
   "cell_type": "code",
   "execution_count": 335,
   "metadata": {
    "ExecuteTime": {
     "end_time": "2021-07-27T13:16:12.981149Z",
     "start_time": "2021-07-27T13:16:12.971149Z"
    }
   },
   "outputs": [
    {
     "data": {
      "text/plain": [
       "combined_shot_type_Dunk      0.473720\n",
       "shot_zone_basic_Backcourt    0.105652\n",
       "shot_type                    0.102193\n",
       "dtype: float64"
      ]
     },
     "execution_count": 335,
     "metadata": {},
     "output_type": "execute_result"
    }
   ],
   "source": [
    "features_logit.head(3)"
   ]
  },
  {
   "cell_type": "markdown",
   "metadata": {},
   "source": [
    "#### Lasso,RidgeClassifier"
   ]
  },
  {
   "cell_type": "markdown",
   "metadata": {},
   "source": [
    "Lasso - для регрессионых моделей. А тут классификации. Не подходит. Нужен классификатор - например SVM, но SVM не построит значимость признаков. sklearn.svm.LinearSVC - по сути это Ridge."
   ]
  },
  {
   "cell_type": "code",
   "execution_count": 327,
   "metadata": {
    "ExecuteTime": {
     "end_time": "2021-07-27T13:11:21.302739Z",
     "start_time": "2021-07-27T13:11:12.088721Z"
    }
   },
   "outputs": [],
   "source": [
    "alphas = np.linspace(1,100,100)\n",
    "result = []\n",
    "\n",
    "for i in alphas:\n",
    "    ridge = RidgeClassifier(alpha=i).fit(X_scaled,y)\n",
    "    result.append(ridge.coef_)"
   ]
  },
  {
   "cell_type": "code",
   "execution_count": 328,
   "metadata": {
    "ExecuteTime": {
     "end_time": "2021-07-27T13:11:23.172741Z",
     "start_time": "2021-07-27T13:11:23.162741Z"
    }
   },
   "outputs": [],
   "source": [
    "coef = np.vstack(result)\n",
    "order = coef[0,:].argsort()\n",
    "coef = coef[:,order]"
   ]
  },
  {
   "cell_type": "code",
   "execution_count": 329,
   "metadata": {
    "ExecuteTime": {
     "end_time": "2021-07-27T13:11:26.402746Z",
     "start_time": "2021-07-27T13:11:26.382746Z"
    }
   },
   "outputs": [],
   "source": [
    "names = X.columns[order]"
   ]
  },
  {
   "cell_type": "code",
   "execution_count": 330,
   "metadata": {
    "ExecuteTime": {
     "end_time": "2021-07-27T13:11:33.913756Z",
     "start_time": "2021-07-27T13:11:33.893756Z"
    }
   },
   "outputs": [
    {
     "data": {
      "text/plain": [
       "[(0.028800346954417536, 'shot_zone_basic_Mid-Range'),\n",
       " (0.028973258713088156, 'combined_shot_type_Layup'),\n",
       " (0.03173822393972566, 'combined_shot_type_Bank Shot'),\n",
       " (0.045972083324357024, 'shot_type'),\n",
       " (0.16049181515200842, 'combined_shot_type_Dunk')]"
      ]
     },
     "execution_count": 330,
     "metadata": {},
     "output_type": "execute_result"
    }
   ],
   "source": [
    "# top 5 features\n",
    "list(zip(coef[0,:],names))[-5:]"
   ]
  },
  {
   "cell_type": "code",
   "execution_count": 332,
   "metadata": {
    "ExecuteTime": {
     "end_time": "2021-07-27T13:11:50.045779Z",
     "start_time": "2021-07-27T13:11:49.395778Z"
    }
   },
   "outputs": [
    {
     "data": {
      "image/png": "[encoded data removed]",
      "text/plain": [
       "<Figure size 864x504 with 1 Axes>"
      ]
     },
     "metadata": {
      "needs_background": "light"
     },
     "output_type": "display_data"
    }
   ],
   "source": [
    "plt.figure(figsize=(12,7))\n",
    "for i in range(7):\n",
    "    plt.plot(range(100), coef[:,-i],label=names[-i])\n",
    "\n",
    "plt.legend(loc='best')    \n",
    "plt.grid()"
   ]
  },
  {
   "cell_type": "markdown",
   "metadata": {},
   "source": [
    "### Выводы:\n",
    "1. Extra Tree Classifier  определил следующие признаки главыми: \n",
    "- time_remaining    0.203994\n",
    "- shot_distance     0.109576\n",
    "- period_3          0.021003\n",
    "\n",
    "2. LogisticRegression определил следующие признаки главыми:\n",
    "- combined_shot_type_Dunk      0.473720\n",
    "- shot_zone_basic_Backcourt    0.105652\n",
    "- shot_type                    0.102193\n",
    "\n",
    "3. RidgeClassifier определил следующие признаки главыми:\n",
    "- combined_shot_type_Dunk       0.1604\n",
    "- shot_type                     0.0459\n",
    "- combined_shot_type_Bank Shot  0.0317 \n"
   ]
  },
  {
   "cell_type": "markdown",
   "metadata": {},
   "source": [
    "Частично совпадают признаки у LogisticRegression и RidgeClassifier\n",
    "1. combined_shot_type_Dunk\n",
    "1. shot_type\n",
    "\n",
    "Вес признака shot_type снижается с ростом регуляризации. "
   ]
  },
  {
   "cell_type": "markdown",
   "metadata": {
    "id": "QthCIdDVPPKf"
   },
   "source": [
    "**Дополнительно**\n",
    "1. Сравнить результаты на тестовом наборе данных - сделать train_test_split в самом начале, подготовить переменные, сравнить результаты работы классификаторов (те же 3), метрика ROC AUC\n",
    "1. Построить PCA на подготовленных признаках, посмотреть, какие компоненты составляют наибольшую часть дисперсии целевой переменной"
   ]
  },
  {
   "cell_type": "code",
   "execution_count": 240,
   "metadata": {
    "ExecuteTime": {
     "end_time": "2021-07-27T12:03:55.264086Z",
     "start_time": "2021-07-27T12:03:55.244086Z"
    }
   },
   "outputs": [],
   "source": [
    "from sklearn.decomposition import PCA\n",
    "from sklearn.metrics import auc, roc_curve, roc_auc_score\n",
    "from sklearn.model_selection import train_test_split"
   ]
  },
  {
   "cell_type": "code",
   "execution_count": 349,
   "metadata": {
    "ExecuteTime": {
     "end_time": "2021-07-27T13:39:19.931107Z",
     "start_time": "2021-07-27T13:39:19.871107Z"
    },
    "id": "IcdHTiXxP5al"
   },
   "outputs": [],
   "source": [
    "X_train, X_test, y_train, y_test = train_test_split(X_scaled, y, test_size=0.3,random_state=255)"
   ]
  },
  {
   "cell_type": "code",
   "execution_count": 383,
   "metadata": {
    "ExecuteTime": {
     "end_time": "2021-07-27T13:59:40.013255Z",
     "start_time": "2021-07-27T13:59:33.192246Z"
    }
   },
   "outputs": [
    {
     "data": {
      "text/plain": [
       "0.5599470161669721"
      ]
     },
     "execution_count": 383,
     "metadata": {},
     "output_type": "execute_result"
    }
   ],
   "source": [
    "#Tree\n",
    "light_tree = ExtraTreesClassifier().fit(X_train,y_train)\n",
    "y_pred = light_tree.predict(X_test)\n",
    "y_pred_proba= light_tree.predict_proba(X_test)\n",
    "ra_score_tree = roc_auc_score(y_test,y_pred)\n",
    "tpr_tree,fpr_tree,_ = roc_curve(y_test, y_pred_proba[:,0])\n",
    "ra_score_tree"
   ]
  },
  {
   "cell_type": "code",
   "execution_count": 354,
   "metadata": {
    "ExecuteTime": {
     "end_time": "2021-07-27T13:46:51.316174Z",
     "start_time": "2021-07-27T13:46:51.216173Z"
    }
   },
   "outputs": [
    {
     "data": {
      "text/plain": [
       "0.5887044697043128"
      ]
     },
     "execution_count": 354,
     "metadata": {},
     "output_type": "execute_result"
    }
   ],
   "source": [
    "# Logit\n",
    "logit = LogisticRegression().fit(X_train,y_train)\n",
    "\n",
    "y_pred = logit.predict(X_test)\n",
    "y_pred_proba= logit.predict_proba(X_test)\n",
    "\n",
    "ra_score_logit = roc_auc_score(y_test,y_pred)\n",
    "tpr_logit,fpr_logit,_ = roc_curve(y_test, y_pred_proba[:,0])\n",
    "ra_score_logit"
   ]
  },
  {
   "cell_type": "code",
   "execution_count": 356,
   "metadata": {
    "ExecuteTime": {
     "end_time": "2021-07-27T13:46:51.316174Z",
     "start_time": "2021-07-27T13:46:51.216173Z"
    }
   },
   "outputs": [
    {
     "data": {
      "text/plain": [
       "0.5886984330015693"
      ]
     },
     "execution_count": 356,
     "metadata": {},
     "output_type": "execute_result"
    }
   ],
   "source": [
    "#Ridge alpha=40\n",
    "ridge = RidgeClassifier(alpha=40).fit(X_train,y_train)\n",
    "\n",
    "y_pred = ridge.predict(X_test)\n",
    "\n",
    "ra_score_ridge = roc_auc_score(y_test,y_pred)\n",
    "\n",
    "ra_score_ridge"
   ]
  },
  {
   "cell_type": "code",
   "execution_count": 384,
   "metadata": {
    "ExecuteTime": {
     "end_time": "2021-07-27T13:59:44.813262Z",
     "start_time": "2021-07-27T13:59:44.803262Z"
    }
   },
   "outputs": [
    {
     "name": "stdout",
     "output_type": "stream",
     "text": [
      "ExtraTree \t 0.5599470\n",
      "Logit \t\t 0.5887045\n",
      "Ridge \t\t 0.5886984\n"
     ]
    }
   ],
   "source": [
    "### Сравним результаты :\n",
    "print(f'ExtraTree \\t {ra_score_tree :.7f}')\n",
    "print(f'Logit \\t\\t {ra_score_logit :.7f}')\n",
    "print(f'Ridge \\t\\t {ra_score_ridge :.7f}')\n"
   ]
  },
  {
   "cell_type": "code",
   "execution_count": 387,
   "metadata": {
    "ExecuteTime": {
     "end_time": "2021-07-27T14:01:07.395380Z",
     "start_time": "2021-07-27T14:01:06.905379Z"
    }
   },
   "outputs": [
    {
     "data": {
      "image/png": "[encoded data removed]",
      "text/plain": [
       "<Figure size 864x504 with 1 Axes>"
      ]
     },
     "metadata": {
      "needs_background": "light"
     },
     "output_type": "display_data"
    }
   ],
   "source": [
    "plt.figure(figsize=(12,7))\n",
    "l = np.arange(0,1.1,.1)\n",
    "\n",
    "plt.plot(fpr_tree,tpr_tree,'g-', label='ExtraTreesClassifier')\n",
    "plt.plot(fpr_logit,tpr_logit,'c-', label='Logit')\n",
    "\n",
    "\n",
    "plt.plot(l,l,'b--' , label='Random')\n",
    "plt.legend(loc='best') \n",
    "plt.xlabel('FPR')\n",
    "plt.ylabel('TPR')\n",
    "plt.grid()"
   ]
  },
  {
   "cell_type": "markdown",
   "metadata": {
    "ExecuteTime": {
     "end_time": "2021-07-27T14:03:29.543633Z",
     "start_time": "2021-07-27T14:03:29.533633Z"
    }
   },
   "source": [
    "#### Построить PCA на подготовленных признаках, посмотреть, какие компоненты составляют наибольшую часть дисперсии целевой переменной"
   ]
  },
  {
   "cell_type": "code",
   "execution_count": 405,
   "metadata": {
    "ExecuteTime": {
     "end_time": "2021-07-27T14:16:12.363744Z",
     "start_time": "2021-07-27T14:16:12.333744Z"
    }
   },
   "outputs": [],
   "source": [
    "from sklearn.metrics import mean_squared_error"
   ]
  },
  {
   "cell_type": "code",
   "execution_count": 417,
   "metadata": {
    "ExecuteTime": {
     "end_time": "2021-07-27T14:34:24.228320Z",
     "start_time": "2021-07-27T14:34:23.858320Z"
    }
   },
   "outputs": [
    {
     "data": {
      "text/plain": [
       "0.00663845375403741"
      ]
     },
     "execution_count": 417,
     "metadata": {},
     "output_type": "execute_result"
    }
   ],
   "source": [
    "tester = PCA(n_components=80,svd_solver='full' )\n",
    "a = tester.fit_transform(X_scaled)\n",
    "a_ = tester.inverse_transform(a)\n",
    "\n",
    "mean_squared_error(X_scaled,a_)"
   ]
  },
  {
   "cell_type": "code",
   "execution_count": 413,
   "metadata": {
    "ExecuteTime": {
     "end_time": "2021-07-27T14:28:37.568826Z",
     "start_time": "2021-07-27T14:28:37.018825Z"
    },
    "scrolled": true
   },
   "outputs": [
    {
     "data": {
      "image/png": "[encoded data removed]",
      "text/plain": [
       "<Figure size 432x288 with 1 Axes>"
      ]
     },
     "metadata": {
      "needs_background": "light"
     },
     "output_type": "display_data"
    }
   ],
   "source": [
    "plt.plot(tester.explained_variance_ratio_,'+-', label = 'variance by singular values')\n",
    "plt.plot(tester.explained_variance_ratio_.cumsum(),'+--',label = 'cumulative variance')\n",
    "plt.axhline(.9,color='r')\n",
    "plt.legend()\n",
    "plt.yticks(np.arange(0,1.1,.1))\n",
    "plt.xlabel('components')\n",
    "plt.ylabel('variance')\n",
    "plt.title('components vs variance');"
   ]
  },
  {
   "cell_type": "code",
   "execution_count": 422,
   "metadata": {
    "ExecuteTime": {
     "end_time": "2021-07-27T14:35:00.703372Z",
     "start_time": "2021-07-27T14:35:00.693372Z"
    }
   },
   "outputs": [
    {
     "data": {
      "text/plain": [
       "0.9039348288721171"
      ]
     },
     "execution_count": 422,
     "metadata": {},
     "output_type": "execute_result"
    }
   ],
   "source": [
    "tester.explained_variance_ratio_.cumsum()[67]"
   ]
  },
  {
   "cell_type": "markdown",
   "metadata": {},
   "source": [
    "Видно, что только на 67 компоненте снижение дисперсии составит 90%. "
   ]
  },
  {
   "cell_type": "code",
   "execution_count": 412,
   "metadata": {
    "ExecuteTime": {
     "end_time": "2021-07-27T14:23:18.022373Z",
     "start_time": "2021-07-27T14:23:18.012373Z"
    }
   },
   "outputs": [
    {
     "data": {
      "text/plain": [
       "array([403.53530862, 268.94131473, 244.65982561, 223.97318573,\n",
       "       215.27287619, 202.59725741, 195.60298723, 193.13558613,\n",
       "       191.98899522, 190.46222842])"
      ]
     },
     "execution_count": 412,
     "metadata": {},
     "output_type": "execute_result"
    }
   ],
   "source": [
    "# Посмтрим на собственные значения:\n",
    "tester.singular_values_[:10]"
   ]
  },
  {
   "cell_type": "markdown",
   "metadata": {
    "ExecuteTime": {
     "end_time": "2021-07-27T14:30:47.220011Z",
     "start_time": "2021-07-27T14:30:47.210011Z"
    }
   },
   "source": [
    "Проверим на Mean Square Error (MSE) для 67 компонент:"
   ]
  },
  {
   "cell_type": "code",
   "execution_count": 423,
   "metadata": {
    "ExecuteTime": {
     "end_time": "2021-07-27T14:35:10.975386Z",
     "start_time": "2021-07-27T14:35:10.655386Z"
    }
   },
   "outputs": [
    {
     "data": {
      "text/plain": [
       "0.10498728061390898"
      ]
     },
     "execution_count": 423,
     "metadata": {},
     "output_type": "execute_result"
    }
   ],
   "source": [
    "tester = PCA(n_components=67,svd_solver='full' )\n",
    "a = tester.fit_transform(X_scaled)\n",
    "a_ = tester.inverse_transform(a)\n",
    "\n",
    "mean_squared_error(X_scaled,a_)"
   ]
  },
  {
   "cell_type": "markdown",
   "metadata": {
    "ExecuteTime": {
     "end_time": "2021-07-27T14:36:02.961459Z",
     "start_time": "2021-07-27T14:36:02.951459Z"
    }
   },
   "source": [
    "###  Вывод: \n",
    "- поскольку собственные значения матрицы X , очень большие, то снижение вариативности по каждой компоненте очень низкое.  \n",
    "- нужно снижать до 67 компонент (из 84) чтобы не было потери информативности (до 90% дисперсии)"
   ]
  },
  {
   "cell_type": "code",
   "execution_count": null,
   "metadata": {},
   "outputs": [],
   "source": []
  }
 ],
 "metadata": {
  "colab": {
   "name": "HW_Kobe.ipynb",
   "provenance": []
  },
  "kernelspec": {
   "display_name": "Python 3",
   "language": "python",
   "name": "python3"
  },
  "language_info": {
   "codemirror_mode": {
    "name": "ipython",
    "version": 3
   },
   "file_extension": ".py",
   "mimetype": "text/x-python",
   "name": "python",
   "nbconvert_exporter": "python",
   "pygments_lexer": "ipython3",
   "version": "3.8.5"
  }
 },
 "nbformat": 4,
 "nbformat_minor": 1
}
