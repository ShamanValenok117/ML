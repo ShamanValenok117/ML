{
 "cells": [
  {
   "cell_type": "markdown",
   "metadata": {
    "id": "lvM0J0AaPPKc"
   },
   "source": [
    "## Kobe Bryant  shot selection"
   ]
  },
  {
   "cell_type": "markdown",
   "metadata": {
    "id": "hVjPZ_ukPPKc"
   },
   "source": [
    "Cсылка на соревнование: https://www.kaggle.com/c/kobe-bryant-shot-selection"
   ]
  },
  {
   "cell_type": "markdown",
   "metadata": {
    "id": "qgn5s7NFPPKd"
   },
   "source": [
    "Goal: Fun and education"
   ]
  },
  {
   "cell_type": "markdown",
   "metadata": {
    "id": "4bIkh2ACPPKd"
   },
   "source": [
    "Using 20 years of data on Kobe's swishes and misses, can you predict which shots will find the bottom of the net? This competition is well suited for practicing classification basics, feature engineering, and time series analysis. Practice got Kobe an eight-figure contract and 5 championship rings. What will it get you?"
   ]
  },
  {
   "cell_type": "markdown",
   "metadata": {
    "id": "JYgEsdafPPKd"
   },
   "source": [
    "This data contains the location and circumstances of every field goal attempted by Kobe Bryant took during his 20-year career. Your task is to predict whether the basket went in (shot_made_flag).\n",
    "\n",
    "We have removed 5000 of the shot_made_flags (represented as missing values in the csv file). These are the test set shots for which you must submit a prediction. You are provided a sample submission file with the correct shot_ids needed for a valid prediction."
   ]
  },
  {
   "cell_type": "markdown",
   "metadata": {
    "id": "QthCIdDVPPKf"
   },
   "source": [
    "**Задания:**\n",
    "\n",
    "1. Провести анализ данных. Много хороших примеров анализа можно посмотреть здесь https://www.kaggle.com/c/kobe-bryant-shot-selection/kernels\n",
    "1. Подготовить фичи для обучения модели - нагенерить признаков, обработать пропущенные значения, проверить на возможные выбросы, обработать категориальные признаки и др.\n",
    "1. Обучить линейную модель, Lasso, Ridge (с встроеной регуляризацией) на тех же признаках - построить сравнительную таблицу или график коэффициентов, сделать заключения о том, как меняется величина коэффициентов, какие зануляются. "
   ]
  },
  {
   "cell_type": "code",
   "execution_count": 1,
   "metadata": {
    "ExecuteTime": {
     "end_time": "2021-08-09T08:52:13.188010Z",
     "start_time": "2021-08-09T08:52:11.858008Z"
    },
    "id": "zqHdTz2wPPKW"
   },
   "outputs": [],
   "source": [
    "import pandas as pd\n",
    "import numpy as np\n",
    "import matplotlib.pyplot as plt\n",
    "%matplotlib inline"
   ]
  },
  {
   "cell_type": "code",
   "execution_count": 2,
   "metadata": {
    "ExecuteTime": {
     "end_time": "2021-08-09T08:52:13.338010Z",
     "start_time": "2021-08-09T08:52:13.188010Z"
    },
    "id": "LVq90rI-PPKe"
   },
   "outputs": [],
   "source": [
    "df = pd.read_csv('Kobe.csv')"
   ]
  },
  {
   "cell_type": "code",
   "execution_count": 3,
   "metadata": {
    "ExecuteTime": {
     "end_time": "2021-08-09T08:52:13.348010Z",
     "start_time": "2021-08-09T08:52:13.338010Z"
    }
   },
   "outputs": [],
   "source": [
    "target = 'shot_made_flag'"
   ]
  },
  {
   "cell_type": "code",
   "execution_count": 4,
   "metadata": {
    "ExecuteTime": {
     "end_time": "2021-08-09T08:52:13.398010Z",
     "start_time": "2021-08-09T08:52:13.348010Z"
    }
   },
   "outputs": [
    {
     "name": "stdout",
     "output_type": "stream",
     "text": [
      " column shot_made_flag, missed values= 5000\n"
     ]
    }
   ],
   "source": [
    "for i in df.columns:\n",
    "    if df[i].isna().sum() == 0: continue\n",
    "    print(f' column {i}, missed values= {df[i].isna().sum()}')   "
   ]
  },
  {
   "cell_type": "markdown",
   "metadata": {
    "ExecuteTime": {
     "end_time": "2021-07-27T09:15:15.525130Z",
     "start_time": "2021-07-27T09:15:15.505130Z"
    }
   },
   "source": [
    "Пропущенных значений в выборке нет, кроме 5000 пропущенных значений целевой переменной (которую нужно предсказать по условию задачи)"
   ]
  },
  {
   "cell_type": "code",
   "execution_count": 5,
   "metadata": {
    "ExecuteTime": {
     "end_time": "2021-08-09T08:52:13.408010Z",
     "start_time": "2021-08-09T08:52:13.398010Z"
    }
   },
   "outputs": [],
   "source": [
    "# Соберем все категории\n",
    "categories = list(df.columns[df.dtypes == object])"
   ]
  },
  {
   "cell_type": "markdown",
   "metadata": {},
   "source": [
    "#### Числовые признаки"
   ]
  },
  {
   "cell_type": "code",
   "execution_count": 6,
   "metadata": {
    "ExecuteTime": {
     "end_time": "2021-08-09T08:52:13.418010Z",
     "start_time": "2021-08-09T08:52:13.408010Z"
    }
   },
   "outputs": [],
   "source": [
    "# Соберем все остальные столбцы, кроме категорийных\n",
    "numerical = [i for i in list(df.columns) if i not in categories]"
   ]
  },
  {
   "cell_type": "code",
   "execution_count": 7,
   "metadata": {
    "ExecuteTime": {
     "end_time": "2021-08-09T08:52:13.468010Z",
     "start_time": "2021-08-09T08:52:13.418010Z"
    }
   },
   "outputs": [
    {
     "name": "stdout",
     "output_type": "stream",
     "text": [
      "minutes_remaining [10  7  6  9  8  3  1 11  2  0  5  4] 12\n",
      "-------------------------------------------------------\n",
      "period [1 2 3 4 5 6 7] 7\n",
      "-------------------------------------------------------\n",
      "playoffs [0 1] 2\n",
      "-------------------------------------------------------\n",
      "shot_made_flag [nan  0.  1.] 2\n",
      "-------------------------------------------------------\n",
      "team_id [1610612747] 1\n",
      "-------------------------------------------------------\n"
     ]
    }
   ],
   "source": [
    "# вот еще категорийные признаки\n",
    "for i in numerical:\n",
    "    if df[i].nunique() > 50: continue\n",
    "    print(i, df[i].unique(), df[i].nunique())\n",
    "    print('-'*55)"
   ]
  },
  {
   "cell_type": "code",
   "execution_count": 8,
   "metadata": {
    "ExecuteTime": {
     "end_time": "2021-08-09T08:52:13.498010Z",
     "start_time": "2021-08-09T08:52:13.468010Z"
    }
   },
   "outputs": [],
   "source": [
    "# Признак team_id [1610612747] имеет всего одно значение. Не имеет никакого смысла.\n",
    "df.drop(columns='team_id',inplace=True)"
   ]
  },
  {
   "cell_type": "code",
   "execution_count": 9,
   "metadata": {
    "ExecuteTime": {
     "end_time": "2021-08-09T08:52:13.518010Z",
     "start_time": "2021-08-09T08:52:13.498010Z"
    }
   },
   "outputs": [],
   "source": [
    "# Добавим в categories признаки : ['period','playoffs']\n",
    "categories += ['period','playoffs']"
   ]
  },
  {
   "cell_type": "code",
   "execution_count": 10,
   "metadata": {
    "ExecuteTime": {
     "end_time": "2021-08-09T08:52:13.538010Z",
     "start_time": "2021-08-09T08:52:13.518010Z"
    }
   },
   "outputs": [],
   "source": [
    "# Соберем все остальные столбцы, кроме категорийных\n",
    "numerical = [i for i in list(df.columns) if i not in categories + ['team_id']]"
   ]
  },
  {
   "cell_type": "code",
   "execution_count": 11,
   "metadata": {
    "ExecuteTime": {
     "end_time": "2021-08-09T08:52:13.598010Z",
     "start_time": "2021-08-09T08:52:13.538010Z"
    }
   },
   "outputs": [
    {
     "data": {
      "text/plain": [
       "lat      lon        loc_y  loc_x\n",
       "34.0443  -118.2698  0       0       5182\n",
       "         -118.2708  0      -1          9\n",
       "         -118.2858  0      -16         8\n",
       "         -118.2678  0       2          6\n",
       "         -118.2848  0      -15         6\n",
       "                                    ... \n",
       "         -118.2308  0       39         1\n",
       "         -118.2318  0       38         1\n",
       "         -118.2338  0       36         1\n",
       "         -118.2368  0       33         1\n",
       "         -118.5098  0      -240        1\n",
       "Length: 239, dtype: int64"
      ]
     },
     "execution_count": 11,
     "metadata": {},
     "output_type": "execute_result"
    }
   ],
   "source": [
    "# Проверим координаты:\n",
    "df.loc[df.loc_y==0,['lat','lon','loc_y', 'loc_x']].value_counts()"
   ]
  },
  {
   "cell_type": "markdown",
   "metadata": {},
   "source": [
    "Координаты 34.0443  -118.2698 - 34°02'39.5\"N 118°16'11.3\"W - это Staples Center центральная арена, где играет Los Angeles Lakers команда за которую играл  Kobe Bryant.  \n",
    "\n",
    "Вместо 4 столбцов создам одну категориальную - \"Дома\""
   ]
  },
  {
   "cell_type": "code",
   "execution_count": 12,
   "metadata": {
    "ExecuteTime": {
     "end_time": "2021-08-09T08:52:13.638010Z",
     "start_time": "2021-08-09T08:52:13.598010Z"
    }
   },
   "outputs": [],
   "source": [
    "df['Home'] = ((df.loc_y==0)&(df.loc_x==0)).astype('int')\n",
    "df.drop(columns=['lat','lon','loc_y', 'loc_x'],inplace=True)\n",
    "categories += ['Home']"
   ]
  },
  {
   "cell_type": "code",
   "execution_count": 13,
   "metadata": {
    "ExecuteTime": {
     "end_time": "2021-08-09T08:52:13.648010Z",
     "start_time": "2021-08-09T08:52:13.638010Z"
    }
   },
   "outputs": [],
   "source": [
    "# Уберем столбцы ['lat','lon','loc_y', 'loc_x']\n",
    "numerical = [i for i in numerical if i not in ['lat','lon','loc_y', 'loc_x']]"
   ]
  },
  {
   "cell_type": "code",
   "execution_count": 14,
   "metadata": {
    "ExecuteTime": {
     "end_time": "2021-08-09T08:52:13.688010Z",
     "start_time": "2021-08-09T08:52:13.658010Z"
    }
   },
   "outputs": [
    {
     "data": {
      "text/plain": [
       "(30697, 30697, 30697, 30697)"
      ]
     },
     "execution_count": 14,
     "metadata": {},
     "output_type": "execute_result"
    }
   ],
   "source": [
    "# Проверим столбцы с именем id:\n",
    "len(df), len(df.shot_id), len(df.game_id), len(df.game_event_id)"
   ]
  },
  {
   "cell_type": "code",
   "execution_count": 15,
   "metadata": {
    "ExecuteTime": {
     "end_time": "2021-08-09T08:52:13.718010Z",
     "start_time": "2021-08-09T08:52:13.688010Z"
    }
   },
   "outputs": [],
   "source": [
    "# создадим один параметр \"оставшееся время\" в который объединю оставшиеся секунды + оставшиеся минуты\n",
    "df['time_remaining'] = df['seconds_remaining']+ df['minutes_remaining']*60"
   ]
  },
  {
   "cell_type": "code",
   "execution_count": 16,
   "metadata": {
    "ExecuteTime": {
     "end_time": "2021-08-09T08:52:13.748010Z",
     "start_time": "2021-08-09T08:52:13.718010Z"
    }
   },
   "outputs": [],
   "source": [
    "# Уберем столбцы ['game_event_id','game_id','shot_id', 'seconds_remaining', 'minutes_remaining']\n",
    "df.drop(columns=['game_event_id','game_id','shot_id', 'seconds_remaining', 'minutes_remaining'],inplace=True)"
   ]
  },
  {
   "cell_type": "code",
   "execution_count": 17,
   "metadata": {
    "ExecuteTime": {
     "end_time": "2021-08-09T08:52:13.768010Z",
     "start_time": "2021-08-09T08:52:13.748010Z"
    }
   },
   "outputs": [],
   "source": [
    "# Уберем столбцы ['lat','lon','loc_y', 'loc_x']\n",
    "numerical = [i for i in numerical if i not in ['game_event_id','game_id','shot_id', 'seconds_remaining', 'minutes_remaining']]"
   ]
  },
  {
   "cell_type": "code",
   "execution_count": 18,
   "metadata": {
    "ExecuteTime": {
     "end_time": "2021-08-09T08:52:13.788010Z",
     "start_time": "2021-08-09T08:52:13.768010Z"
    }
   },
   "outputs": [
    {
     "data": {
      "text/plain": [
       "['shot_distance', 'time_remaining']"
      ]
     },
     "execution_count": 18,
     "metadata": {},
     "output_type": "execute_result"
    }
   ],
   "source": [
    "# Проверим оставшиеся числовые признаки\n",
    "numerical = [i for i in numerical if i not in ['shot_made_flag']] + ['time_remaining']\n",
    "numerical"
   ]
  },
  {
   "cell_type": "markdown",
   "metadata": {},
   "source": [
    "#### Категорийные признаки"
   ]
  },
  {
   "cell_type": "code",
   "execution_count": 19,
   "metadata": {
    "ExecuteTime": {
     "end_time": "2021-08-09T08:52:13.798010Z",
     "start_time": "2021-08-09T08:52:13.788010Z"
    }
   },
   "outputs": [
    {
     "data": {
      "text/plain": [
       "'action_type , combined_shot_type , season , shot_type , shot_zone_area , shot_zone_basic , shot_zone_range , team_name , game_date , matchup , opponent , period , playoffs , Home'"
      ]
     },
     "execution_count": 19,
     "metadata": {},
     "output_type": "execute_result"
    }
   ],
   "source": [
    "\" , \".join(categories)"
   ]
  },
  {
   "cell_type": "code",
   "execution_count": 20,
   "metadata": {
    "ExecuteTime": {
     "end_time": "2021-08-09T08:52:13.868011Z",
     "start_time": "2021-08-09T08:52:13.798010Z"
    }
   },
   "outputs": [
    {
     "name": "stdout",
     "output_type": "stream",
     "text": [
      "shot_type\n",
      "-------------------------------------------------------\n",
      "playoffs\n",
      "-------------------------------------------------------\n",
      "Home\n",
      "-------------------------------------------------------\n",
      "['shot_type', 'playoffs', 'Home']\n"
     ]
    }
   ],
   "source": [
    "# Уберем бинарные категории\n",
    "categories_binary = []\n",
    "for i in categories:\n",
    "    if df[i].nunique() == 2 : \n",
    "        print(i)\n",
    "        print('-'*55)\n",
    "        categories_binary.append(i)\n",
    "print(categories_binary)\n",
    "categories = [i for i in categories if i not in categories_binary]"
   ]
  },
  {
   "cell_type": "code",
   "execution_count": 21,
   "metadata": {
    "ExecuteTime": {
     "end_time": "2021-08-09T08:52:15.629013Z",
     "start_time": "2021-08-09T08:52:13.868011Z"
    }
   },
   "outputs": [],
   "source": [
    "from sklearn.preprocessing import LabelEncoder\n",
    "le = LabelEncoder()"
   ]
  },
  {
   "cell_type": "code",
   "execution_count": 22,
   "metadata": {
    "ExecuteTime": {
     "end_time": "2021-08-09T08:52:15.659013Z",
     "start_time": "2021-08-09T08:52:15.629013Z"
    }
   },
   "outputs": [
    {
     "data": {
      "text/plain": [
       "{'shot_type': array(['2PT Field Goal', '3PT Field Goal'], dtype=object),\n",
       " 'playoffs': array([0, 1], dtype=int64),\n",
       " 'Home': array([0, 1])}"
      ]
     },
     "execution_count": 22,
     "metadata": {},
     "output_type": "execute_result"
    }
   ],
   "source": [
    "# создаем бинарные столбцы\n",
    "dummy_binary = pd.DataFrame({i:le.fit_transform( df[i] ) for i in categories_binary })\n",
    "dummy_binary_descr = {i:(le.fit( df[i] ).classes_) for i in categories_binary }\n",
    "dummy_binary_descr"
   ]
  },
  {
   "cell_type": "code",
   "execution_count": 23,
   "metadata": {
    "ExecuteTime": {
     "end_time": "2021-08-09T08:52:15.699013Z",
     "start_time": "2021-08-09T08:52:15.659013Z"
    }
   },
   "outputs": [
    {
     "data": {
      "text/html": [
       "<div>\n",
       "<style scoped>\n",
       "    .dataframe tbody tr th:only-of-type {\n",
       "        vertical-align: middle;\n",
       "    }\n",
       "\n",
       "    .dataframe tbody tr th {\n",
       "        vertical-align: top;\n",
       "    }\n",
       "\n",
       "    .dataframe thead th {\n",
       "        text-align: right;\n",
       "    }\n",
       "</style>\n",
       "<table border=\"1\" class=\"dataframe\">\n",
       "  <thead>\n",
       "    <tr style=\"text-align: right;\">\n",
       "      <th></th>\n",
       "      <th>action_type</th>\n",
       "      <th>combined_shot_type</th>\n",
       "      <th>season</th>\n",
       "      <th>shot_zone_area</th>\n",
       "      <th>shot_zone_basic</th>\n",
       "      <th>shot_zone_range</th>\n",
       "      <th>team_name</th>\n",
       "      <th>game_date</th>\n",
       "      <th>matchup</th>\n",
       "      <th>opponent</th>\n",
       "      <th>period</th>\n",
       "    </tr>\n",
       "  </thead>\n",
       "  <tbody>\n",
       "    <tr>\n",
       "      <th>0</th>\n",
       "      <td>Jump Shot</td>\n",
       "      <td>Jump Shot</td>\n",
       "      <td>2000-01</td>\n",
       "      <td>Right Side(R)</td>\n",
       "      <td>Mid-Range</td>\n",
       "      <td>16-24 ft.</td>\n",
       "      <td>Los Angeles Lakers</td>\n",
       "      <td>2000-10-31</td>\n",
       "      <td>LAL @ POR</td>\n",
       "      <td>POR</td>\n",
       "      <td>1</td>\n",
       "    </tr>\n",
       "    <tr>\n",
       "      <th>1</th>\n",
       "      <td>Jump Shot</td>\n",
       "      <td>Jump Shot</td>\n",
       "      <td>2000-01</td>\n",
       "      <td>Left Side(L)</td>\n",
       "      <td>Mid-Range</td>\n",
       "      <td>8-16 ft.</td>\n",
       "      <td>Los Angeles Lakers</td>\n",
       "      <td>2000-10-31</td>\n",
       "      <td>LAL @ POR</td>\n",
       "      <td>POR</td>\n",
       "      <td>1</td>\n",
       "    </tr>\n",
       "  </tbody>\n",
       "</table>\n",
       "</div>"
      ],
      "text/plain": [
       "  action_type combined_shot_type   season shot_zone_area shot_zone_basic  \\\n",
       "0   Jump Shot          Jump Shot  2000-01  Right Side(R)       Mid-Range   \n",
       "1   Jump Shot          Jump Shot  2000-01   Left Side(L)       Mid-Range   \n",
       "\n",
       "  shot_zone_range           team_name   game_date    matchup opponent  period  \n",
       "0       16-24 ft.  Los Angeles Lakers  2000-10-31  LAL @ POR      POR       1  \n",
       "1        8-16 ft.  Los Angeles Lakers  2000-10-31  LAL @ POR      POR       1  "
      ]
     },
     "execution_count": 23,
     "metadata": {},
     "output_type": "execute_result"
    }
   ],
   "source": [
    "df[categories].head(2)"
   ]
  },
  {
   "cell_type": "code",
   "execution_count": 24,
   "metadata": {
    "ExecuteTime": {
     "end_time": "2021-08-09T08:52:15.729013Z",
     "start_time": "2021-08-09T08:52:15.699013Z"
    }
   },
   "outputs": [],
   "source": [
    "# 'shot_zone_range' по смыслу совпадает с 'shot_distance'. Уберем 'shot_zone_range'\n",
    "df.drop(columns=['shot_zone_range'],inplace=True)\n",
    "categories = [i for i in categories if i not in ['shot_zone_range']]"
   ]
  },
  {
   "cell_type": "code",
   "execution_count": 25,
   "metadata": {
    "ExecuteTime": {
     "end_time": "2021-08-09T08:52:15.759013Z",
     "start_time": "2021-08-09T08:52:15.729013Z"
    }
   },
   "outputs": [
    {
     "data": {
      "text/plain": [
       "(array(['Jump Shot', 'Driving Dunk Shot', 'Layup Shot',\n",
       "        'Running Jump Shot', 'Driving Layup Shot', 'Reverse Layup Shot',\n",
       "        'Reverse Dunk Shot', 'Slam Dunk Shot', 'Turnaround Jump Shot',\n",
       "        'Tip Shot', 'Running Hook Shot', 'Alley Oop Dunk Shot',\n",
       "        'Dunk Shot', 'Alley Oop Layup shot', 'Running Dunk Shot',\n",
       "        'Driving Finger Roll Shot', 'Running Layup Shot',\n",
       "        'Finger Roll Shot', 'Fadeaway Jump Shot', 'Follow Up Dunk Shot',\n",
       "        'Hook Shot', 'Turnaround Hook Shot', 'Running Tip Shot',\n",
       "        'Jump Hook Shot', 'Running Finger Roll Shot', 'Jump Bank Shot',\n",
       "        'Turnaround Finger Roll Shot', 'Hook Bank Shot',\n",
       "        'Driving Hook Shot', 'Running Reverse Layup Shot',\n",
       "        'Driving Finger Roll Layup Shot', 'Fadeaway Bank shot',\n",
       "        'Pullup Jump shot', 'Finger Roll Layup Shot',\n",
       "        'Turnaround Fadeaway shot', 'Driving Reverse Layup Shot',\n",
       "        'Driving Slam Dunk Shot', 'Step Back Jump shot',\n",
       "        'Reverse Slam Dunk Shot', 'Turnaround Bank shot',\n",
       "        'Running Finger Roll Layup Shot', 'Floating Jump shot',\n",
       "        'Putback Slam Dunk Shot', 'Running Bank shot', 'Driving Bank shot',\n",
       "        'Putback Layup Shot', 'Driving Jump shot', 'Putback Dunk Shot',\n",
       "        'Pullup Bank shot', 'Running Slam Dunk Shot', 'Cutting Layup Shot',\n",
       "        'Driving Floating Jump Shot', 'Running Pull-Up Jump Shot',\n",
       "        'Tip Layup Shot', 'Driving Floating Bank Jump Shot',\n",
       "        'Turnaround Fadeaway Bank Jump Shot',\n",
       "        'Cutting Finger Roll Layup Shot'], dtype=object),\n",
       " array(['Jump Shot', 'Dunk', 'Layup', 'Tip Shot', 'Hook Shot', 'Bank Shot'],\n",
       "       dtype=object))"
      ]
     },
     "execution_count": 25,
     "metadata": {},
     "output_type": "execute_result"
    }
   ],
   "source": [
    "# 'action_type' и 'combined_shot_type' по смыслу совпадают проверим. \n",
    "df.action_type.unique(), df.combined_shot_type.unique()"
   ]
  },
  {
   "cell_type": "code",
   "execution_count": 26,
   "metadata": {
    "ExecuteTime": {
     "end_time": "2021-08-09T08:52:15.779013Z",
     "start_time": "2021-08-09T08:52:15.759013Z"
    }
   },
   "outputs": [],
   "source": [
    "# Уберем 'action_type' Так как больше значений чем 'combined_shot_type' .\n",
    "df.drop(columns=['action_type'],inplace=True)\n",
    "categories = [i for i in categories if i not in ['action_type']]"
   ]
  },
  {
   "cell_type": "code",
   "execution_count": 27,
   "metadata": {
    "ExecuteTime": {
     "end_time": "2021-08-09T08:52:15.819013Z",
     "start_time": "2021-08-09T08:52:15.779013Z"
    }
   },
   "outputs": [
    {
     "data": {
      "text/html": [
       "<div>\n",
       "<style scoped>\n",
       "    .dataframe tbody tr th:only-of-type {\n",
       "        vertical-align: middle;\n",
       "    }\n",
       "\n",
       "    .dataframe tbody tr th {\n",
       "        vertical-align: top;\n",
       "    }\n",
       "\n",
       "    .dataframe thead th {\n",
       "        text-align: right;\n",
       "    }\n",
       "</style>\n",
       "<table border=\"1\" class=\"dataframe\">\n",
       "  <thead>\n",
       "    <tr style=\"text-align: right;\">\n",
       "      <th></th>\n",
       "      <th>combined_shot_type</th>\n",
       "      <th>season</th>\n",
       "      <th>shot_zone_area</th>\n",
       "      <th>shot_zone_basic</th>\n",
       "      <th>team_name</th>\n",
       "      <th>game_date</th>\n",
       "      <th>matchup</th>\n",
       "      <th>opponent</th>\n",
       "      <th>period</th>\n",
       "    </tr>\n",
       "  </thead>\n",
       "  <tbody>\n",
       "    <tr>\n",
       "      <th>0</th>\n",
       "      <td>Jump Shot</td>\n",
       "      <td>2000-01</td>\n",
       "      <td>Right Side(R)</td>\n",
       "      <td>Mid-Range</td>\n",
       "      <td>Los Angeles Lakers</td>\n",
       "      <td>2000-10-31</td>\n",
       "      <td>LAL @ POR</td>\n",
       "      <td>POR</td>\n",
       "      <td>1</td>\n",
       "    </tr>\n",
       "    <tr>\n",
       "      <th>1</th>\n",
       "      <td>Jump Shot</td>\n",
       "      <td>2000-01</td>\n",
       "      <td>Left Side(L)</td>\n",
       "      <td>Mid-Range</td>\n",
       "      <td>Los Angeles Lakers</td>\n",
       "      <td>2000-10-31</td>\n",
       "      <td>LAL @ POR</td>\n",
       "      <td>POR</td>\n",
       "      <td>1</td>\n",
       "    </tr>\n",
       "  </tbody>\n",
       "</table>\n",
       "</div>"
      ],
      "text/plain": [
       "  combined_shot_type   season shot_zone_area shot_zone_basic  \\\n",
       "0          Jump Shot  2000-01  Right Side(R)       Mid-Range   \n",
       "1          Jump Shot  2000-01   Left Side(L)       Mid-Range   \n",
       "\n",
       "            team_name   game_date    matchup opponent  period  \n",
       "0  Los Angeles Lakers  2000-10-31  LAL @ POR      POR       1  \n",
       "1  Los Angeles Lakers  2000-10-31  LAL @ POR      POR       1  "
      ]
     },
     "execution_count": 27,
     "metadata": {},
     "output_type": "execute_result"
    }
   ],
   "source": [
    "df[categories].head(2)"
   ]
  },
  {
   "cell_type": "code",
   "execution_count": 28,
   "metadata": {
    "ExecuteTime": {
     "end_time": "2021-08-09T08:52:15.849013Z",
     "start_time": "2021-08-09T08:52:15.819013Z"
    }
   },
   "outputs": [
    {
     "data": {
      "text/plain": [
       "array(['Los Angeles Lakers'], dtype=object)"
      ]
     },
     "execution_count": 28,
     "metadata": {},
     "output_type": "execute_result"
    }
   ],
   "source": [
    "# Уберем 'team_name' Так как игрок всегда выступал только за lakers.\n",
    "df.team_name.unique()"
   ]
  },
  {
   "cell_type": "code",
   "execution_count": 29,
   "metadata": {
    "ExecuteTime": {
     "end_time": "2021-08-09T08:52:15.879013Z",
     "start_time": "2021-08-09T08:52:15.849013Z"
    }
   },
   "outputs": [],
   "source": [
    "df.drop(columns=['team_name'],inplace=True)\n",
    "categories = [i for i in categories if i not in ['team_name']]"
   ]
  },
  {
   "cell_type": "code",
   "execution_count": 30,
   "metadata": {
    "ExecuteTime": {
     "end_time": "2021-08-09T08:52:15.909013Z",
     "start_time": "2021-08-09T08:52:15.879013Z"
    }
   },
   "outputs": [],
   "source": [
    "# Уберем 'matchup' Так как столбец 'opponent' дублирует это значение\n",
    "df.drop(columns=['matchup'],inplace=True)\n",
    "categories = [i for i in categories if i not in ['matchup']]"
   ]
  },
  {
   "cell_type": "code",
   "execution_count": 31,
   "metadata": {
    "ExecuteTime": {
     "end_time": "2021-08-09T08:52:15.972016Z",
     "start_time": "2021-08-09T08:52:15.909013Z"
    }
   },
   "outputs": [
    {
     "data": {
      "text/plain": [
       "array(['2000-10-31', '2000-11-01', '2000-11-04', ..., '2000-06-14',\n",
       "       '2000-06-16', '2000-06-19'], dtype=object)"
      ]
     },
     "execution_count": 31,
     "metadata": {},
     "output_type": "execute_result"
    }
   ],
   "source": [
    "# заменим 'game_date' месяцем игры, так как нет смысла под каждую игру создавать категорию\n",
    "df.game_date.unique()"
   ]
  },
  {
   "cell_type": "code",
   "execution_count": 32,
   "metadata": {
    "ExecuteTime": {
     "end_time": "2021-08-09T08:52:16.035020Z",
     "start_time": "2021-08-09T08:52:15.977017Z"
    }
   },
   "outputs": [],
   "source": [
    "df['game_month'] = [i[5:7] for i in df.game_date]\n",
    "categories += ['game_month']\n",
    "df.drop(columns=['game_date'],inplace=True)\n",
    "categories = [i for i in categories if i not in ['game_date']]"
   ]
  },
  {
   "cell_type": "code",
   "execution_count": 33,
   "metadata": {
    "ExecuteTime": {
     "end_time": "2021-08-09T08:52:16.113022Z",
     "start_time": "2021-08-09T08:52:16.040020Z"
    }
   },
   "outputs": [],
   "source": [
    "# Создаем дамми:\n",
    "dummy = pd.get_dummies(df[categories], columns=categories)"
   ]
  },
  {
   "cell_type": "markdown",
   "metadata": {
    "ExecuteTime": {
     "end_time": "2021-07-27T11:48:24.761707Z",
     "start_time": "2021-07-27T11:48:24.741707Z"
    }
   },
   "source": [
    "#### Объединим:"
   ]
  },
  {
   "cell_type": "code",
   "execution_count": 34,
   "metadata": {
    "ExecuteTime": {
     "end_time": "2021-08-09T08:52:16.143022Z",
     "start_time": "2021-08-09T08:52:16.113022Z"
    }
   },
   "outputs": [],
   "source": [
    "X_raw = pd.concat( [df[numerical],dummy_binary, dummy],axis=1)"
   ]
  },
  {
   "cell_type": "code",
   "execution_count": 35,
   "metadata": {
    "ExecuteTime": {
     "end_time": "2021-08-09T08:52:16.163022Z",
     "start_time": "2021-08-09T08:52:16.143022Z"
    }
   },
   "outputs": [
    {
     "data": {
      "text/plain": [
       "((30697, 93), (30697, 13))"
      ]
     },
     "execution_count": 35,
     "metadata": {},
     "output_type": "execute_result"
    }
   ],
   "source": [
    "X_raw.shape, df.shape"
   ]
  },
  {
   "cell_type": "markdown",
   "metadata": {},
   "source": [
    "#### Разделим на X, X_pred(которую нужно предугадать)"
   ]
  },
  {
   "cell_type": "code",
   "execution_count": 36,
   "metadata": {
    "ExecuteTime": {
     "end_time": "2021-08-09T08:52:16.225023Z",
     "start_time": "2021-08-09T08:52:16.173022Z"
    }
   },
   "outputs": [],
   "source": [
    "X = pd.DataFrame( X_raw[~np.isnan(df['shot_made_flag'])] )\n",
    "X_pred = pd.DataFrame( X_raw[np.isnan(df['shot_made_flag'])] )"
   ]
  },
  {
   "cell_type": "code",
   "execution_count": 37,
   "metadata": {
    "ExecuteTime": {
     "end_time": "2021-08-09T08:52:16.245023Z",
     "start_time": "2021-08-09T08:52:16.225023Z"
    },
    "id": "mRhHolq9PPKf"
   },
   "outputs": [],
   "source": [
    "# Создадим целевую переменную\n",
    "y = df[~np.isnan(df['shot_made_flag'])].shot_made_flag.astype('int')"
   ]
  },
  {
   "cell_type": "markdown",
   "metadata": {
    "ExecuteTime": {
     "end_time": "2021-07-27T11:54:28.661219Z",
     "start_time": "2021-07-27T11:54:28.651219Z"
    }
   },
   "source": [
    "### ДЗ №3.\n",
    "Обучить линейную модель, Lasso, Ridge. построить сравнительную таблицу или график коэффициентов, сделать заключения о том, как меняется величина коэффициентов, какие зануляются."
   ]
  },
  {
   "cell_type": "code",
   "execution_count": 38,
   "metadata": {
    "ExecuteTime": {
     "end_time": "2021-08-09T08:52:18.015026Z",
     "start_time": "2021-08-09T08:52:16.245023Z"
    }
   },
   "outputs": [],
   "source": [
    "from sklearn.linear_model import LogisticRegression,Lasso,RidgeClassifier\n",
    "from sklearn.ensemble import ExtraTreesClassifier\n",
    "from sklearn.preprocessing import StandardScaler\n",
    "\n",
    "import shap"
   ]
  },
  {
   "cell_type": "markdown",
   "metadata": {},
   "source": [
    "#### ExtraTree"
   ]
  },
  {
   "cell_type": "code",
   "execution_count": 39,
   "metadata": {
    "ExecuteTime": {
     "end_time": "2021-08-09T08:52:27.589040Z",
     "start_time": "2021-08-09T08:52:18.015026Z"
    }
   },
   "outputs": [],
   "source": [
    "light_tree = ExtraTreesClassifier().fit(X,y)"
   ]
  },
  {
   "cell_type": "code",
   "execution_count": 40,
   "metadata": {
    "ExecuteTime": {
     "end_time": "2021-08-09T08:52:28.211044Z",
     "start_time": "2021-08-09T08:52:27.589040Z"
    }
   },
   "outputs": [
    {
     "data": {
      "text/plain": [
       "<BarContainer object of 10 artists>"
      ]
     },
     "execution_count": 40,
     "metadata": {},
     "output_type": "execute_result"
    },
    {
     "data": {
      "image/png": "[encoded data removed]",
      "text/plain": [
       "<Figure size 432x288 with 1 Axes>"
      ]
     },
     "metadata": {
      "needs_background": "light"
     },
     "output_type": "display_data"
    }
   ],
   "source": [
    "features = pd.Series(data=light_tree.feature_importances_, index=X.columns)\n",
    "features.sort_values(ascending=False,inplace=True)\n",
    "plt.barh(y=list(range(10)),width=features.head(10),tick_label=list(features.head(10).index))"
   ]
  },
  {
   "cell_type": "code",
   "execution_count": 41,
   "metadata": {
    "ExecuteTime": {
     "end_time": "2021-08-09T08:52:28.231044Z",
     "start_time": "2021-08-09T08:52:28.211044Z"
    }
   },
   "outputs": [
    {
     "data": {
      "text/plain": [
       "time_remaining    0.204281\n",
       "shot_distance     0.112156\n",
       "period_3          0.021836\n",
       "dtype: float64"
      ]
     },
     "execution_count": 41,
     "metadata": {},
     "output_type": "execute_result"
    }
   ],
   "source": [
    "features.head(3)"
   ]
  },
  {
   "cell_type": "markdown",
   "metadata": {},
   "source": [
    "#### LogisticRegression"
   ]
  },
  {
   "cell_type": "code",
   "execution_count": 42,
   "metadata": {
    "ExecuteTime": {
     "end_time": "2021-08-09T08:52:28.241044Z",
     "start_time": "2021-08-09T08:52:28.231044Z"
    }
   },
   "outputs": [],
   "source": [
    "scaler = StandardScaler()"
   ]
  },
  {
   "cell_type": "code",
   "execution_count": 43,
   "metadata": {
    "ExecuteTime": {
     "end_time": "2021-08-09T08:52:28.441044Z",
     "start_time": "2021-08-09T08:52:28.241044Z"
    }
   },
   "outputs": [],
   "source": [
    "X_scaled = scaler.fit_transform(X)"
   ]
  },
  {
   "cell_type": "code",
   "execution_count": 44,
   "metadata": {
    "ExecuteTime": {
     "end_time": "2021-08-09T08:52:28.921045Z",
     "start_time": "2021-08-09T08:52:28.441044Z"
    }
   },
   "outputs": [],
   "source": [
    "logit = LogisticRegression().fit(X_scaled,y)"
   ]
  },
  {
   "cell_type": "code",
   "execution_count": 45,
   "metadata": {
    "ExecuteTime": {
     "end_time": "2021-08-09T08:52:29.391045Z",
     "start_time": "2021-08-09T08:52:28.921045Z"
    }
   },
   "outputs": [
    {
     "data": {
      "text/plain": [
       "<BarContainer object of 10 artists>"
      ]
     },
     "execution_count": 45,
     "metadata": {},
     "output_type": "execute_result"
    },
    {
     "data": {
      "image/png": "[encoded data removed]",
      "text/plain": [
       "<Figure size 432x288 with 1 Axes>"
      ]
     },
     "metadata": {
      "needs_background": "light"
     },
     "output_type": "display_data"
    }
   ],
   "source": [
    "features_logit = pd.Series(data=logit.coef_[0], index=X.columns)\n",
    "features_logit.sort_values(ascending=False,inplace=True)\n",
    "plt.barh(y=list(range(10)),width=features_logit.head(10),tick_label=list(features_logit.head(10).index))"
   ]
  },
  {
   "cell_type": "code",
   "execution_count": 46,
   "metadata": {
    "ExecuteTime": {
     "end_time": "2021-08-09T08:52:29.401045Z",
     "start_time": "2021-08-09T08:52:29.391045Z"
    }
   },
   "outputs": [
    {
     "data": {
      "text/plain": [
       "combined_shot_type_Dunk      0.473653\n",
       "shot_zone_basic_Backcourt    0.108052\n",
       "shot_type                    0.103061\n",
       "dtype: float64"
      ]
     },
     "execution_count": 46,
     "metadata": {},
     "output_type": "execute_result"
    }
   ],
   "source": [
    "features_logit.head(3)"
   ]
  },
  {
   "cell_type": "markdown",
   "metadata": {},
   "source": [
    "#### Lasso,RidgeClassifier"
   ]
  },
  {
   "cell_type": "markdown",
   "metadata": {},
   "source": [
    "Lasso - для регрессионых моделей. А тут классификации. Не подходит. Нужен классификатор - например SVM, но SVM не построит значимость признаков. sklearn.svm.LinearSVC - по сути это Ridge."
   ]
  },
  {
   "cell_type": "code",
   "execution_count": 47,
   "metadata": {
    "ExecuteTime": {
     "end_time": "2021-08-09T08:52:38.786061Z",
     "start_time": "2021-08-09T08:52:29.401045Z"
    }
   },
   "outputs": [],
   "source": [
    "alphas = np.linspace(1,100,100)\n",
    "result = []\n",
    "\n",
    "for i in alphas:\n",
    "    ridge = RidgeClassifier(alpha=i).fit(X_scaled,y)\n",
    "    result.append(ridge.coef_)"
   ]
  },
  {
   "cell_type": "code",
   "execution_count": 48,
   "metadata": {
    "ExecuteTime": {
     "end_time": "2021-08-09T08:52:38.806061Z",
     "start_time": "2021-08-09T08:52:38.786061Z"
    }
   },
   "outputs": [],
   "source": [
    "coef = np.vstack(result)\n",
    "order = coef[0,:].argsort()\n",
    "coef = coef[:,order]"
   ]
  },
  {
   "cell_type": "code",
   "execution_count": 49,
   "metadata": {
    "ExecuteTime": {
     "end_time": "2021-08-09T08:52:38.816061Z",
     "start_time": "2021-08-09T08:52:38.806061Z"
    }
   },
   "outputs": [],
   "source": [
    "names = X.columns[order]"
   ]
  },
  {
   "cell_type": "code",
   "execution_count": 50,
   "metadata": {
    "ExecuteTime": {
     "end_time": "2021-08-09T08:52:38.836061Z",
     "start_time": "2021-08-09T08:52:38.816061Z"
    }
   },
   "outputs": [
    {
     "data": {
      "text/plain": [
       "[(0.02880048613104542, 'shot_zone_basic_Mid-Range'),\n",
       " (0.028972813006934512, 'combined_shot_type_Layup'),\n",
       " (0.03173830749787019, 'combined_shot_type_Bank Shot'),\n",
       " (0.045972183786779065, 'shot_type'),\n",
       " (0.16049151282399182, 'combined_shot_type_Dunk')]"
      ]
     },
     "execution_count": 50,
     "metadata": {},
     "output_type": "execute_result"
    }
   ],
   "source": [
    "# top 5 features\n",
    "list(zip(coef[0,:],names))[-5:]"
   ]
  },
  {
   "cell_type": "code",
   "execution_count": 51,
   "metadata": {
    "ExecuteTime": {
     "end_time": "2021-08-09T08:52:39.698066Z",
     "start_time": "2021-08-09T08:52:38.836061Z"
    },
    "scrolled": false
   },
   "outputs": [
    {
     "data": {
      "image/png": "[encoded data removed]",
      "text/plain": [
       "<Figure size 864x504 with 1 Axes>"
      ]
     },
     "metadata": {
      "needs_background": "light"
     },
     "output_type": "display_data"
    }
   ],
   "source": [
    "plt.figure(figsize=(12,7))\n",
    "for i in range(7):\n",
    "    plt.plot(range(100), coef[:,-i],label=names[-i])\n",
    "\n",
    "plt.legend(loc='best')    \n",
    "plt.grid()"
   ]
  },
  {
   "cell_type": "markdown",
   "metadata": {},
   "source": [
    "### Выводы:\n",
    "1. Extra Tree Classifier  определил следующие признаки главыми: \n",
    "- time_remaining    0.203994\n",
    "- shot_distance     0.109576\n",
    "- period_3          0.021003\n",
    "\n",
    "2. LogisticRegression определил следующие признаки главыми:\n",
    "- combined_shot_type_Dunk      0.473720\n",
    "- shot_zone_basic_Backcourt    0.105652\n",
    "- shot_type                    0.102193\n",
    "\n",
    "3. RidgeClassifier определил следующие признаки главыми:\n",
    "- combined_shot_type_Dunk       0.1604\n",
    "- shot_type                     0.0459\n",
    "- combined_shot_type_Bank Shot  0.0317 \n"
   ]
  },
  {
   "cell_type": "markdown",
   "metadata": {},
   "source": [
    "Частично совпадают признаки у LogisticRegression и RidgeClassifier\n",
    "1. combined_shot_type_Dunk\n",
    "1. shot_type\n",
    "\n",
    "Вес признака shot_type снижается с ростом регуляризации. "
   ]
  },
  {
   "cell_type": "code",
   "execution_count": null,
   "metadata": {},
   "outputs": [],
   "source": []
  },
  {
   "cell_type": "markdown",
   "metadata": {},
   "source": [
    "Не знаю зачем, но меня попросили построить lasso (хотя лассо это не для задачи классификации от слова совсем) так ка минимизирует функционал MSE"
   ]
  },
  {
   "cell_type": "markdown",
   "metadata": {
    "ExecuteTime": {
     "end_time": "2021-08-09T08:54:10.285205Z",
     "start_time": "2021-08-09T08:54:10.265205Z"
    }
   },
   "source": [
    "#### lasso"
   ]
  },
  {
   "cell_type": "code",
   "execution_count": 66,
   "metadata": {
    "ExecuteTime": {
     "end_time": "2021-08-09T08:54:53.931266Z",
     "start_time": "2021-08-09T08:54:53.921266Z"
    }
   },
   "outputs": [],
   "source": [
    "from sklearn.linear_model import Lasso"
   ]
  },
  {
   "cell_type": "code",
   "execution_count": 68,
   "metadata": {
    "ExecuteTime": {
     "end_time": "2021-08-09T09:52:20.084142Z",
     "start_time": "2021-08-09T09:52:20.014142Z"
    }
   },
   "outputs": [],
   "source": [
    "l1_reg = Lasso(alpha=.1).fit(X_scaled,y)"
   ]
  },
  {
   "cell_type": "code",
   "execution_count": 77,
   "metadata": {
    "ExecuteTime": {
     "end_time": "2021-08-09T09:55:08.577379Z",
     "start_time": "2021-08-09T09:55:08.557379Z"
    }
   },
   "outputs": [
    {
     "data": {
      "text/plain": [
       "shot_distance                         -0.0\n",
       "opponent_ORL                          -0.0\n",
       "opponent_OKC                          -0.0\n",
       "opponent_NYK                           0.0\n",
       "opponent_NOP                          -0.0\n",
       "                                      ... \n",
       "season_2011-12                        -0.0\n",
       "season_2010-11                         0.0\n",
       "season_2009-10                         0.0\n",
       "shot_zone_area_Left Side Center(LC)   -0.0\n",
       "game_month_12                         -0.0\n",
       "Length: 93, dtype: float64"
      ]
     },
     "execution_count": 77,
     "metadata": {},
     "output_type": "execute_result"
    }
   ],
   "source": [
    "pd.Series(data=l1_reg.coef_ , index=X.columns).sort_values()"
   ]
  },
  {
   "cell_type": "code",
   "execution_count": 79,
   "metadata": {
    "ExecuteTime": {
     "end_time": "2021-08-09T10:00:26.623274Z",
     "start_time": "2021-08-09T10:00:26.613274Z"
    }
   },
   "outputs": [],
   "source": [
    "from sklearn.model_selection import GridSearchCV"
   ]
  },
  {
   "cell_type": "code",
   "execution_count": 81,
   "metadata": {
    "ExecuteTime": {
     "end_time": "2021-08-09T10:03:32.162982Z",
     "start_time": "2021-08-09T10:03:21.556531Z"
    }
   },
   "outputs": [
    {
     "data": {
      "text/plain": [
       "GridSearchCV(cv=3, estimator=Lasso(), n_jobs=-1,\n",
       "             param_grid={'alpha': array([0. , 0.1, 0.2, 0.3, 0.4, 0.5, 0.6, 0.7, 0.8, 0.9])})"
      ]
     },
     "execution_count": 81,
     "metadata": {},
     "output_type": "execute_result"
    }
   ],
   "source": [
    "parameters = {'alpha': np.arange(0,1,.1)}\n",
    "l1_reg = Lasso()\n",
    "grid = GridSearchCV(l1_reg,parameters,n_jobs=-1,cv=3 )\n",
    "grid.fit(X_scaled,y)"
   ]
  },
  {
   "cell_type": "code",
   "execution_count": 84,
   "metadata": {
    "ExecuteTime": {
     "end_time": "2021-08-09T10:05:24.030143Z",
     "start_time": "2021-08-09T10:05:24.010143Z"
    }
   },
   "outputs": [
    {
     "data": {
      "text/plain": [
       "(0.0013963529926673084, {'alpha': 0.1})"
      ]
     },
     "execution_count": 84,
     "metadata": {},
     "output_type": "execute_result"
    }
   ],
   "source": [
    "grid.best_score_ , grid.best_params_ "
   ]
  },
  {
   "cell_type": "code",
   "execution_count": 85,
   "metadata": {
    "ExecuteTime": {
     "end_time": "2021-08-09T10:05:42.773169Z",
     "start_time": "2021-08-09T10:05:42.763169Z"
    }
   },
   "outputs": [
    {
     "data": {
      "text/plain": [
       "array([-0.,  0., -0., -0.,  0.,  0.,  0.,  0., -0.,  0., -0., -0., -0.,\n",
       "        0.,  0.,  0.,  0., -0., -0., -0.,  0.,  0.,  0.,  0.,  0.,  0.,\n",
       "       -0.,  0., -0., -0., -0., -0.,  0., -0., -0., -0., -0., -0., -0.,\n",
       "        0., -0., -0.,  0., -0.,  0., -0., -0., -0., -0., -0.,  0.,  0.,\n",
       "       -0.,  0., -0., -0.,  0.,  0., -0., -0., -0., -0.,  0., -0.,  0.,\n",
       "       -0., -0.,  0.,  0.,  0.,  0., -0.,  0.,  0., -0.,  0., -0.,  0.,\n",
       "        0.,  0., -0., -0.,  0., -0.,  0.,  0., -0., -0.,  0., -0., -0.,\n",
       "       -0., -0.])"
      ]
     },
     "execution_count": 85,
     "metadata": {},
     "output_type": "execute_result"
    }
   ],
   "source": [
    "grid.best_estimator_.coef_"
   ]
  },
  {
   "cell_type": "code",
   "execution_count": 86,
   "metadata": {
    "ExecuteTime": {
     "end_time": "2021-08-09T10:05:52.515183Z",
     "start_time": "2021-08-09T10:05:52.495183Z"
    }
   },
   "outputs": [
    {
     "data": {
      "text/plain": [
       "shot_distance                         -0.0\n",
       "opponent_ORL                          -0.0\n",
       "opponent_OKC                          -0.0\n",
       "opponent_NYK                           0.0\n",
       "opponent_NOP                          -0.0\n",
       "                                      ... \n",
       "season_2011-12                        -0.0\n",
       "season_2010-11                         0.0\n",
       "season_2009-10                         0.0\n",
       "shot_zone_area_Left Side Center(LC)   -0.0\n",
       "game_month_12                         -0.0\n",
       "Length: 93, dtype: float64"
      ]
     },
     "execution_count": 86,
     "metadata": {},
     "output_type": "execute_result"
    }
   ],
   "source": [
    "pd.Series(data=grid.best_estimator_.coef_ , index=X.columns).sort_values()"
   ]
  },
  {
   "cell_type": "markdown",
   "metadata": {
    "ExecuteTime": {
     "end_time": "2021-08-09T10:07:01.504280Z",
     "start_time": "2021-08-09T10:07:01.484280Z"
    }
   },
   "source": [
    "Вывод: да нет тут вывода, нет смысла применять MSE оптимизатор для задачи классификации"
   ]
  },
  {
   "cell_type": "markdown",
   "metadata": {
    "ExecuteTime": {
     "end_time": "2021-08-09T10:27:42.497117Z",
     "start_time": "2021-08-09T10:27:42.477117Z"
    }
   },
   "source": [
    "#### KMeans,KNeighborsClassifier"
   ]
  },
  {
   "cell_type": "code",
   "execution_count": 88,
   "metadata": {
    "ExecuteTime": {
     "end_time": "2021-08-09T10:12:03.317710Z",
     "start_time": "2021-08-09T10:12:03.307710Z"
    }
   },
   "outputs": [],
   "source": [
    "from sklearn.cluster import KMeans\n",
    "from sklearn.neighbors import KNeighborsClassifier"
   ]
  },
  {
   "cell_type": "code",
   "execution_count": 89,
   "metadata": {
    "ExecuteTime": {
     "end_time": "2021-08-09T10:13:59.632889Z",
     "start_time": "2021-08-09T10:13:59.582889Z"
    }
   },
   "outputs": [],
   "source": [
    "X_train, X_test, y_train, y_test = train_test_split(X_scaled, y, test_size = .3)"
   ]
  },
  {
   "cell_type": "code",
   "execution_count": 92,
   "metadata": {
    "ExecuteTime": {
     "end_time": "2021-08-09T10:15:46.916088Z",
     "start_time": "2021-08-09T10:15:46.342085Z"
    }
   },
   "outputs": [],
   "source": [
    "km = KMeans(n_clusters=2).fit(X_train,y_train)"
   ]
  },
  {
   "cell_type": "code",
   "execution_count": 93,
   "metadata": {
    "ExecuteTime": {
     "end_time": "2021-08-09T10:16:22.821144Z",
     "start_time": "2021-08-09T10:16:22.811144Z"
    }
   },
   "outputs": [],
   "source": [
    "from sklearn.metrics import accuracy_score"
   ]
  },
  {
   "cell_type": "code",
   "execution_count": 94,
   "metadata": {
    "ExecuteTime": {
     "end_time": "2021-08-09T10:16:41.935180Z",
     "start_time": "2021-08-09T10:16:41.714170Z"
    }
   },
   "outputs": [
    {
     "data": {
      "text/plain": [
       "0.6095979247730221"
      ]
     },
     "execution_count": 94,
     "metadata": {},
     "output_type": "execute_result"
    }
   ],
   "source": [
    "y_pred = km.predict(X_test)\n",
    "accuracy_score(y_test, y_pred)"
   ]
  },
  {
   "cell_type": "markdown",
   "metadata": {
    "ExecuteTime": {
     "end_time": "2021-08-09T10:27:25.164092Z",
     "start_time": "2021-08-09T10:27:25.144092Z"
    }
   },
   "source": [
    "Вот это уже хороший результат!"
   ]
  },
  {
   "cell_type": "code",
   "execution_count": null,
   "metadata": {},
   "outputs": [],
   "source": [
    "df.plot()"
   ]
  },
  {
   "cell_type": "code",
   "execution_count": 122,
   "metadata": {
    "ExecuteTime": {
     "end_time": "2021-08-09T10:37:48.130444Z",
     "start_time": "2021-08-09T10:37:47.740443Z"
    }
   },
   "outputs": [
    {
     "data": {
      "image/png": "[encoded data removed]",
      "text/plain": [
       "<Figure size 432x288 with 1 Axes>"
      ]
     },
     "metadata": {
      "needs_background": "light"
     },
     "output_type": "display_data"
    }
   ],
   "source": [
    "# Кластер первый из двух - то бишь какие параметры Х являются приоритетными для того чтобы попал в первый кластер\n",
    "# или, другими словами, какие параметры Х нужны чтоб Kobe Bryant забил\n",
    "pd.Series(data=km.cluster_centers_[0] , index=X.columns).sort_values(ascending=False).head(10).plot(kind='barh').invert_yaxis()"
   ]
  },
  {
   "cell_type": "code",
   "execution_count": 125,
   "metadata": {
    "ExecuteTime": {
     "end_time": "2021-08-09T10:39:07.018557Z",
     "start_time": "2021-08-09T10:39:06.598557Z"
    }
   },
   "outputs": [
    {
     "data": {
      "image/png": "[encoded data removed]",
      "text/plain": [
       "<Figure size 432x288 with 1 Axes>"
      ]
     },
     "metadata": {
      "needs_background": "light"
     },
     "output_type": "display_data"
    }
   ],
   "source": [
    "# Кластер второй из двух - то бишь какие параметры Х являются приоритетными для того чтобы попасть во второй кластер\n",
    "# или, другими словами, какие параметры Х нужны чтоб Kobe Bryant НЕ забил\n",
    "pd.Series(data=km.cluster_centers_[1] , index=X.columns).sort_values(ascending=False).head(10).plot(kind='barh').invert_yaxis()"
   ]
  },
  {
   "cell_type": "code",
   "execution_count": 116,
   "metadata": {
    "ExecuteTime": {
     "end_time": "2021-08-09T10:31:51.985887Z",
     "start_time": "2021-08-09T10:31:51.965887Z"
    }
   },
   "outputs": [
    {
     "data": {
      "text/plain": [
       "Home\n",
       "0    21376\n",
       "1     4321\n",
       "Name: shot_made_flag, dtype: int64"
      ]
     },
     "execution_count": 116,
     "metadata": {},
     "output_type": "execute_result"
    }
   ],
   "source": [
    "# Проверим, И правда Kobe Bryant плохо забивал дома и очень хорошо в гостях\n",
    "df.groupby(by='Home').shot_made_flag.count()"
   ]
  },
  {
   "cell_type": "code",
   "execution_count": null,
   "metadata": {},
   "outputs": [],
   "source": []
  },
  {
   "cell_type": "markdown",
   "metadata": {
    "id": "QthCIdDVPPKf"
   },
   "source": [
    "### **Дополнительно**\n",
    "1. Сравнить результаты на тестовом наборе данных - сделать train_test_split в самом начале, подготовить переменные, сравнить результаты работы классификаторов (те же 3), метрика ROC AUC\n",
    "1. Построить PCA на подготовленных признаках, посмотреть, какие компоненты составляют наибольшую часть дисперсии целевой переменной"
   ]
  },
  {
   "cell_type": "code",
   "execution_count": 52,
   "metadata": {
    "ExecuteTime": {
     "end_time": "2021-08-09T08:52:39.718066Z",
     "start_time": "2021-08-09T08:52:39.708066Z"
    }
   },
   "outputs": [],
   "source": [
    "from sklearn.decomposition import PCA\n",
    "from sklearn.metrics import auc, roc_curve, roc_auc_score\n",
    "from sklearn.model_selection import train_test_split"
   ]
  },
  {
   "cell_type": "code",
   "execution_count": 53,
   "metadata": {
    "ExecuteTime": {
     "end_time": "2021-08-09T08:52:39.788066Z",
     "start_time": "2021-08-09T08:52:39.718066Z"
    },
    "id": "IcdHTiXxP5al"
   },
   "outputs": [],
   "source": [
    "X_train, X_test, y_train, y_test = train_test_split(X_scaled, y, test_size=0.3,random_state=255)"
   ]
  },
  {
   "cell_type": "code",
   "execution_count": 54,
   "metadata": {
    "ExecuteTime": {
     "end_time": "2021-08-09T08:52:47.070083Z",
     "start_time": "2021-08-09T08:52:39.788066Z"
    }
   },
   "outputs": [
    {
     "data": {
      "text/plain": [
       "0.5586688381516339"
      ]
     },
     "execution_count": 54,
     "metadata": {},
     "output_type": "execute_result"
    }
   ],
   "source": [
    "#Tree\n",
    "light_tree = ExtraTreesClassifier().fit(X_train,y_train)\n",
    "y_pred = light_tree.predict(X_test)\n",
    "y_pred_proba= light_tree.predict_proba(X_test)\n",
    "ra_score_tree = roc_auc_score(y_test,y_pred)\n",
    "tpr_tree,fpr_tree,_ = roc_curve(y_test, y_pred_proba[:,0])\n",
    "ra_score_tree"
   ]
  },
  {
   "cell_type": "code",
   "execution_count": 55,
   "metadata": {
    "ExecuteTime": {
     "end_time": "2021-08-09T08:52:47.432087Z",
     "start_time": "2021-08-09T08:52:47.070083Z"
    }
   },
   "outputs": [
    {
     "data": {
      "text/plain": [
       "0.5887044697043128"
      ]
     },
     "execution_count": 55,
     "metadata": {},
     "output_type": "execute_result"
    }
   ],
   "source": [
    "# Logit\n",
    "logit = LogisticRegression().fit(X_train,y_train)\n",
    "\n",
    "y_pred = logit.predict(X_test)\n",
    "y_pred_proba= logit.predict_proba(X_test)\n",
    "\n",
    "ra_score_logit = roc_auc_score(y_test,y_pred)\n",
    "tpr_logit,fpr_logit,_ = roc_curve(y_test, y_pred_proba[:,0])\n",
    "ra_score_logit"
   ]
  },
  {
   "cell_type": "code",
   "execution_count": 56,
   "metadata": {
    "ExecuteTime": {
     "end_time": "2021-08-09T08:52:47.522087Z",
     "start_time": "2021-08-09T08:52:47.432087Z"
    }
   },
   "outputs": [
    {
     "data": {
      "text/plain": [
       "0.5886984330015693"
      ]
     },
     "execution_count": 56,
     "metadata": {},
     "output_type": "execute_result"
    }
   ],
   "source": [
    "#Ridge alpha=40\n",
    "ridge = RidgeClassifier(alpha=40).fit(X_train,y_train)\n",
    "\n",
    "y_pred = ridge.predict(X_test)\n",
    "\n",
    "ra_score_ridge = roc_auc_score(y_test,y_pred)\n",
    "\n",
    "ra_score_ridge"
   ]
  },
  {
   "cell_type": "code",
   "execution_count": 57,
   "metadata": {
    "ExecuteTime": {
     "end_time": "2021-08-09T08:52:47.542087Z",
     "start_time": "2021-08-09T08:52:47.522087Z"
    }
   },
   "outputs": [
    {
     "name": "stdout",
     "output_type": "stream",
     "text": [
      "ExtraTree \t 0.5586688\n",
      "Logit \t\t 0.5887045\n",
      "Ridge \t\t 0.5886984\n"
     ]
    }
   ],
   "source": [
    "### Сравним результаты :\n",
    "print(f'ExtraTree \\t {ra_score_tree :.7f}')\n",
    "print(f'Logit \\t\\t {ra_score_logit :.7f}')\n",
    "print(f'Ridge \\t\\t {ra_score_ridge :.7f}')\n"
   ]
  },
  {
   "cell_type": "code",
   "execution_count": 58,
   "metadata": {
    "ExecuteTime": {
     "end_time": "2021-08-09T08:52:48.082088Z",
     "start_time": "2021-08-09T08:52:47.542087Z"
    }
   },
   "outputs": [
    {
     "data": {
      "image/png": "[encoded data removed]",
      "text/plain": [
       "<Figure size 864x504 with 1 Axes>"
      ]
     },
     "metadata": {
      "needs_background": "light"
     },
     "output_type": "display_data"
    }
   ],
   "source": [
    "plt.figure(figsize=(12,7))\n",
    "l = np.arange(0,1.1,.1)\n",
    "\n",
    "plt.plot(fpr_tree,tpr_tree,'g-', label='ExtraTreesClassifier')\n",
    "plt.plot(fpr_logit,tpr_logit,'c-', label='Logit')\n",
    "\n",
    "\n",
    "plt.plot(l,l,'b--' , label='Random')\n",
    "plt.legend(loc='best') \n",
    "plt.xlabel('FPR')\n",
    "plt.ylabel('TPR')\n",
    "plt.grid()"
   ]
  },
  {
   "cell_type": "markdown",
   "metadata": {
    "ExecuteTime": {
     "end_time": "2021-07-27T14:03:29.543633Z",
     "start_time": "2021-07-27T14:03:29.533633Z"
    }
   },
   "source": [
    "#### Построить PCA на подготовленных признаках, посмотреть, какие компоненты составляют наибольшую часть дисперсии целевой переменной"
   ]
  },
  {
   "cell_type": "code",
   "execution_count": 59,
   "metadata": {
    "ExecuteTime": {
     "end_time": "2021-08-09T08:52:48.092088Z",
     "start_time": "2021-08-09T08:52:48.082088Z"
    }
   },
   "outputs": [],
   "source": [
    "from sklearn.metrics import mean_squared_error"
   ]
  },
  {
   "cell_type": "code",
   "execution_count": 60,
   "metadata": {
    "ExecuteTime": {
     "end_time": "2021-08-09T08:52:48.384089Z",
     "start_time": "2021-08-09T08:52:48.092088Z"
    }
   },
   "outputs": [
    {
     "data": {
      "text/plain": [
       "0.005505738803157678"
      ]
     },
     "execution_count": 60,
     "metadata": {},
     "output_type": "execute_result"
    }
   ],
   "source": [
    "tester = PCA(n_components=80,svd_solver='full' )\n",
    "a = tester.fit_transform(X_scaled)\n",
    "a_ = tester.inverse_transform(a)\n",
    "\n",
    "mean_squared_error(X_scaled,a_)"
   ]
  },
  {
   "cell_type": "code",
   "execution_count": 61,
   "metadata": {
    "ExecuteTime": {
     "end_time": "2021-08-09T08:52:48.954090Z",
     "start_time": "2021-08-09T08:52:48.384089Z"
    },
    "scrolled": true
   },
   "outputs": [
    {
     "data": {
      "image/png": "[encoded data removed]",
      "text/plain": [
       "<Figure size 432x288 with 1 Axes>"
      ]
     },
     "metadata": {
      "needs_background": "light"
     },
     "output_type": "display_data"
    }
   ],
   "source": [
    "plt.plot(tester.explained_variance_ratio_,'+-', label = 'variance by singular values')\n",
    "plt.plot(tester.explained_variance_ratio_.cumsum(),'+--',label = 'cumulative variance')\n",
    "plt.axhline(.9,color='r')\n",
    "plt.legend()\n",
    "plt.yticks(np.arange(0,1.1,.1))\n",
    "plt.xlabel('components')\n",
    "plt.ylabel('variance')\n",
    "plt.title('components vs variance');"
   ]
  },
  {
   "cell_type": "code",
   "execution_count": 62,
   "metadata": {
    "ExecuteTime": {
     "end_time": "2021-08-09T08:52:48.974090Z",
     "start_time": "2021-08-09T08:52:48.954090Z"
    }
   },
   "outputs": [
    {
     "data": {
      "text/plain": [
       "0.9043904310970554"
      ]
     },
     "execution_count": 62,
     "metadata": {},
     "output_type": "execute_result"
    }
   ],
   "source": [
    "tester.explained_variance_ratio_.cumsum()[67]"
   ]
  },
  {
   "cell_type": "markdown",
   "metadata": {},
   "source": [
    "Видно, что только на 67 компоненте снижение дисперсии составит 90%. "
   ]
  },
  {
   "cell_type": "code",
   "execution_count": 63,
   "metadata": {
    "ExecuteTime": {
     "end_time": "2021-08-09T08:52:48.994090Z",
     "start_time": "2021-08-09T08:52:48.974090Z"
    }
   },
   "outputs": [
    {
     "data": {
      "text/plain": [
       "array([379.80051747, 267.04227924, 244.65182929, 223.91469836,\n",
       "       210.73361739, 202.45002325, 195.60237544, 193.12609277,\n",
       "       191.98685763, 190.46222619])"
      ]
     },
     "execution_count": 63,
     "metadata": {},
     "output_type": "execute_result"
    }
   ],
   "source": [
    "# Посмтрим на собственные значения:\n",
    "tester.singular_values_[:10]"
   ]
  },
  {
   "cell_type": "markdown",
   "metadata": {
    "ExecuteTime": {
     "end_time": "2021-07-27T14:30:47.220011Z",
     "start_time": "2021-07-27T14:30:47.210011Z"
    }
   },
   "source": [
    "Проверим на Mean Square Error (MSE) для 67 компонент:"
   ]
  },
  {
   "cell_type": "code",
   "execution_count": 64,
   "metadata": {
    "ExecuteTime": {
     "end_time": "2021-08-09T08:52:49.254091Z",
     "start_time": "2021-08-09T08:52:48.994090Z"
    }
   },
   "outputs": [
    {
     "data": {
      "text/plain": [
       "0.10462733995356277"
      ]
     },
     "execution_count": 64,
     "metadata": {},
     "output_type": "execute_result"
    }
   ],
   "source": [
    "tester = PCA(n_components=67,svd_solver='full' )\n",
    "a = tester.fit_transform(X_scaled)\n",
    "a_ = tester.inverse_transform(a)\n",
    "\n",
    "mean_squared_error(X_scaled,a_)"
   ]
  },
  {
   "cell_type": "markdown",
   "metadata": {
    "ExecuteTime": {
     "end_time": "2021-07-27T14:36:02.961459Z",
     "start_time": "2021-07-27T14:36:02.951459Z"
    }
   },
   "source": [
    "###  Вывод: \n",
    "- поскольку собственные значения матрицы X , очень большие, то снижение вариативности по каждой компоненте очень низкое.  \n",
    "- нужно снижать до 67 компонент (из 84) чтобы не было потери информативности (до 90% дисперсии)"
   ]
  },
  {
   "cell_type": "code",
   "execution_count": null,
   "metadata": {},
   "outputs": [],
   "source": []
  }
 ],
 "metadata": {
  "colab": {
   "name": "HW_Kobe.ipynb",
   "provenance": []
  },
  "kernelspec": {
   "display_name": "Python 3",
   "language": "python",
   "name": "python3"
  },
  "language_info": {
   "codemirror_mode": {
    "name": "ipython",
    "version": 3
   },
   "file_extension": ".py",
   "mimetype": "text/x-python",
   "name": "python",
   "nbconvert_exporter": "python",
   "pygments_lexer": "ipython3",
   "version": "3.8.5"
  }
 },
 "nbformat": 4,
 "nbformat_minor": 1
}
