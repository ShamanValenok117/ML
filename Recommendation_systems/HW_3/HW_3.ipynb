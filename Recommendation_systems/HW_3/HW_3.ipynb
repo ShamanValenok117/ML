{
 "cells": [
  {
   "cell_type": "code",
   "execution_count": 142,
   "metadata": {
    "ExecuteTime": {
     "end_time": "2021-08-04T08:08:48.807695Z",
     "start_time": "2021-08-04T08:08:48.787695Z"
    }
   },
   "outputs": [],
   "source": [
    "import pandas as pd\n",
    "import numpy as np\n",
    "\n",
    "from sklearn.neighbors import NearestNeighbors\n",
    "from sklearn.linear_model import LogisticRegression\n",
    "from sklearn.model_selection import train_test_split\n",
    "from sklearn.feature_extraction.text import TfidfTransformer, CountVectorizer\n",
    "from sklearn.metrics import mean_squared_error\n",
    "\n",
    "import scipy.sparse as sparse\n",
    "\n",
    "from tqdm import tqdm_notebook\n",
    "\n",
    "from lightfm import LightFM\n",
    "\n",
    "from implicit.als import AlternatingLeastSquares\n",
    "\n",
    "from surprise import KNNWithMeans, Reader, Dataset, accuracy, SVD,KNNBaseline, SVDpp"
   ]
  },
  {
   "cell_type": "markdown",
   "metadata": {},
   "source": [
    "## Соберу Бэггинг из всех рекомендательных алгоритмов ( а вдруг прокатит):\n",
    "Будут использованы: \n",
    "    \n",
    "- NearestNeighbors\n",
    "- LogisticRegression\n",
    "- AlternatingLeastSquares\n",
    "- surprise.KNNWithMeans, \n",
    "- surprise.SVD\n",
    "- surprise.KNNBaseline\n",
    "- surprise.SVDpp\n",
    "\n",
    "Разобъем выборку на трейн и валидационную. На валидационной проверим результат Бэггинга по **MSE**.  \n",
    " \n",
    "Самый лучший результат одного алгоритма (SVD) = .87.  \n",
    "\n",
    "Посмотрим сможем ли мы его обойти"
   ]
  },
  {
   "cell_type": "code",
   "execution_count": 3,
   "metadata": {
    "ExecuteTime": {
     "end_time": "2021-08-03T19:38:35.844569Z",
     "start_time": "2021-08-03T19:38:35.724569Z"
    }
   },
   "outputs": [
    {
     "data": {
      "text/html": [
       "<div>\n",
       "<style scoped>\n",
       "    .dataframe tbody tr th:only-of-type {\n",
       "        vertical-align: middle;\n",
       "    }\n",
       "\n",
       "    .dataframe tbody tr th {\n",
       "        vertical-align: top;\n",
       "    }\n",
       "\n",
       "    .dataframe thead th {\n",
       "        text-align: right;\n",
       "    }\n",
       "</style>\n",
       "<table border=\"1\" class=\"dataframe\">\n",
       "  <thead>\n",
       "    <tr style=\"text-align: right;\">\n",
       "      <th></th>\n",
       "      <th>userId</th>\n",
       "      <th>movieId</th>\n",
       "      <th>rating</th>\n",
       "    </tr>\n",
       "  </thead>\n",
       "  <tbody>\n",
       "    <tr>\n",
       "      <th>0</th>\n",
       "      <td>1</td>\n",
       "      <td>1</td>\n",
       "      <td>4.0</td>\n",
       "    </tr>\n",
       "    <tr>\n",
       "      <th>1</th>\n",
       "      <td>1</td>\n",
       "      <td>3</td>\n",
       "      <td>4.0</td>\n",
       "    </tr>\n",
       "  </tbody>\n",
       "</table>\n",
       "</div>"
      ],
      "text/plain": [
       "   userId  movieId  rating\n",
       "0       1        1     4.0\n",
       "1       1        3     4.0"
      ]
     },
     "execution_count": 3,
     "metadata": {},
     "output_type": "execute_result"
    }
   ],
   "source": [
    "ratings = pd.read_csv('ratings.csv')\n",
    "ratings.drop(columns='timestamp', inplace=True)\n",
    "ratings.head(2)"
   ]
  },
  {
   "cell_type": "code",
   "execution_count": 4,
   "metadata": {
    "ExecuteTime": {
     "end_time": "2021-08-03T19:38:35.874569Z",
     "start_time": "2021-08-03T19:38:35.844569Z"
    }
   },
   "outputs": [],
   "source": [
    "movies = pd.read_csv('movies.csv')"
   ]
  },
  {
   "cell_type": "code",
   "execution_count": 5,
   "metadata": {
    "ExecuteTime": {
     "end_time": "2021-08-03T19:38:35.914569Z",
     "start_time": "2021-08-03T19:38:35.874569Z"
    }
   },
   "outputs": [],
   "source": [
    "ratings_movies = ratings.join(movies.set_index('movieId'), on='movieId')"
   ]
  },
  {
   "cell_type": "code",
   "execution_count": 6,
   "metadata": {
    "ExecuteTime": {
     "end_time": "2021-08-03T19:38:35.934569Z",
     "start_time": "2021-08-03T19:38:35.914569Z"
    }
   },
   "outputs": [
    {
     "data": {
      "text/html": [
       "<div>\n",
       "<style scoped>\n",
       "    .dataframe tbody tr th:only-of-type {\n",
       "        vertical-align: middle;\n",
       "    }\n",
       "\n",
       "    .dataframe tbody tr th {\n",
       "        vertical-align: top;\n",
       "    }\n",
       "\n",
       "    .dataframe thead th {\n",
       "        text-align: right;\n",
       "    }\n",
       "</style>\n",
       "<table border=\"1\" class=\"dataframe\">\n",
       "  <thead>\n",
       "    <tr style=\"text-align: right;\">\n",
       "      <th></th>\n",
       "      <th>userId</th>\n",
       "      <th>movieId</th>\n",
       "      <th>rating</th>\n",
       "      <th>title</th>\n",
       "      <th>genres</th>\n",
       "    </tr>\n",
       "  </thead>\n",
       "  <tbody>\n",
       "    <tr>\n",
       "      <th>0</th>\n",
       "      <td>1</td>\n",
       "      <td>1</td>\n",
       "      <td>4.0</td>\n",
       "      <td>Toy Story (1995)</td>\n",
       "      <td>Adventure|Animation|Children|Comedy|Fantasy</td>\n",
       "    </tr>\n",
       "    <tr>\n",
       "      <th>1</th>\n",
       "      <td>1</td>\n",
       "      <td>3</td>\n",
       "      <td>4.0</td>\n",
       "      <td>Grumpier Old Men (1995)</td>\n",
       "      <td>Comedy|Romance</td>\n",
       "    </tr>\n",
       "  </tbody>\n",
       "</table>\n",
       "</div>"
      ],
      "text/plain": [
       "   userId  movieId  rating                    title  \\\n",
       "0       1        1     4.0         Toy Story (1995)   \n",
       "1       1        3     4.0  Grumpier Old Men (1995)   \n",
       "\n",
       "                                        genres  \n",
       "0  Adventure|Animation|Children|Comedy|Fantasy  \n",
       "1                               Comedy|Romance  "
      ]
     },
     "execution_count": 6,
     "metadata": {},
     "output_type": "execute_result"
    }
   ],
   "source": [
    "ratings_movies.head(2)"
   ]
  },
  {
   "cell_type": "code",
   "execution_count": 7,
   "metadata": {
    "ExecuteTime": {
     "end_time": "2021-08-03T19:38:36.094569Z",
     "start_time": "2021-08-03T19:38:35.934569Z"
    }
   },
   "outputs": [
    {
     "data": {
      "text/plain": [
       "CountVectorizer()"
      ]
     },
     "execution_count": 7,
     "metadata": {},
     "output_type": "execute_result"
    }
   ],
   "source": [
    "genre = []\n",
    "for i in ratings_movies.genres:\n",
    "    genre += i.split('|')\n",
    "\n",
    "genre = set(genre)\n",
    "count_vect = CountVectorizer()\n",
    "count_vect.fit(genre)"
   ]
  },
  {
   "cell_type": "code",
   "execution_count": 8,
   "metadata": {
    "ExecuteTime": {
     "end_time": "2021-08-03T19:38:38.095572Z",
     "start_time": "2021-08-03T19:38:38.055572Z"
    }
   },
   "outputs": [],
   "source": [
    "X_train, X_test, y_train, y_test = train_test_split( ratings_movies[[ 'userId','movieId','genres'] ], ratings_movies.rating, \n",
    "                                                    test_size =.3, random_state = 255 )"
   ]
  },
  {
   "cell_type": "markdown",
   "metadata": {},
   "source": [
    "#### Logit"
   ]
  },
  {
   "cell_type": "code",
   "execution_count": 43,
   "metadata": {
    "ExecuteTime": {
     "end_time": "2021-08-04T06:43:06.562143Z",
     "start_time": "2021-08-04T06:43:06.182143Z"
    }
   },
   "outputs": [],
   "source": [
    "#Train\n",
    "genres_grouped_by_user = []\n",
    "rating_grouped_by_user = []\n",
    "\n",
    "for user_id,dataset in X_train.groupby(by='userId'):\n",
    "    genres_grouped_by_user.append( [i.replace('|',' ') for i in dataset.genres.values ]   )\n",
    "    rating_grouped_by_user.append( y_train[dataset.index.values].values)\n"
   ]
  },
  {
   "cell_type": "code",
   "execution_count": 44,
   "metadata": {
    "ExecuteTime": {
     "end_time": "2021-08-04T06:43:12.913152Z",
     "start_time": "2021-08-04T06:43:06.562143Z"
    }
   },
   "outputs": [],
   "source": [
    "set_for_each_user = dict()\n",
    "\n",
    "for i in range(len(genres_grouped_by_user)):\n",
    "    tfidf_transformer = TfidfTransformer()\n",
    "    \n",
    "    X_genres_sparse = count_vect.transform(genres_grouped_by_user[i])\n",
    "    \n",
    "    X_genres_sparse_tfidf = tfidf_transformer.fit_transform(X_genres_sparse)\n",
    "\n",
    "    if len( set( rating_grouped_by_user[i] ) ) == 1: # пользователь всегда ставил одну и ту же оценку \n",
    "        neigh = NearestNeighbors(n_neighbors=5, n_jobs=-1, metric='manhattan') \n",
    "        neigh.fit(X_genres_sparse_tfidf.toarray())\n",
    "        algo = neigh\n",
    "        algo_type = 'knn'\n",
    "    else:\n",
    "        # Логит \n",
    "        logit = LogisticRegression(solver = 'saga', multi_class='multinomial')\n",
    "        \n",
    "        logit.fit(X_genres_sparse_tfidf.toarray() ,(rating_grouped_by_user[i]*2).astype(int) )\n",
    "        algo = logit\n",
    "        algo_type = 'logit'\n",
    "\n",
    "    set_for_each_user[i+1] = {'tf_idf_transformer':tfidf_transformer,\n",
    "                           'algoritm': algo,\n",
    "                           'algoritm_type':algo_type }\n"
   ]
  },
  {
   "cell_type": "code",
   "execution_count": 45,
   "metadata": {
    "ExecuteTime": {
     "end_time": "2021-08-04T06:43:13.295154Z",
     "start_time": "2021-08-04T06:43:12.913152Z"
    }
   },
   "outputs": [],
   "source": [
    "#Test\n",
    "genres_grouped_by_user_test = []\n",
    "rating_grouped_by_user_test = []\n",
    "\n",
    "for user_id,dataset in X_test.groupby(by='userId'):\n",
    "    genres_grouped_by_user_test.append( [i.replace('|',' ') for i in dataset.genres.values ]   )\n",
    "    rating_grouped_by_user_test.append( y_test[dataset.index.values].values)\n"
   ]
  },
  {
   "cell_type": "code",
   "execution_count": 46,
   "metadata": {
    "ExecuteTime": {
     "end_time": "2021-08-04T06:43:14.907157Z",
     "start_time": "2021-08-04T06:43:13.295154Z"
    }
   },
   "outputs": [
    {
     "name": "stdout",
     "output_type": "stream",
     "text": [
      "root_MSE for logit = 28.23 \n"
     ]
    }
   ],
   "source": [
    "# проверим результативность только одного логита\n",
    "MSE_logit = 0.\n",
    "\n",
    "for i in range(len(genres_grouped_by_user_test)):\n",
    "    if set_for_each_user[i+1]['algoritm_type'] != 'logit': continue\n",
    "    \n",
    "    tfidf_transformer = set_for_each_user[i+1]['tf_idf_transformer']\n",
    "\n",
    "    X_genres_sparse = count_vect.transform(genres_grouped_by_user_test[i])\n",
    "\n",
    "    X_genres_sparse_tfidf = tfidf_transformer.fit_transform(X_genres_sparse)\n",
    "    \n",
    "    logit = set_for_each_user[i+1]['algoritm']\n",
    "    y_pred = logit.predict(X_genres_sparse_tfidf.toarray())\n",
    "    y_pred = y_pred/2\n",
    "\n",
    "    MSE_logit += mean_squared_error(rating_grouped_by_user_test[i],y_pred )\n",
    "\n",
    "print('root_MSE for logit = %.2f ' %(MSE_logit**.5))"
   ]
  },
  {
   "cell_type": "code",
   "execution_count": 47,
   "metadata": {
    "ExecuteTime": {
     "end_time": "2021-08-04T06:43:14.977157Z",
     "start_time": "2021-08-04T06:43:14.917157Z"
    }
   },
   "outputs": [],
   "source": [
    "movie_genres = dict()\n",
    "\n",
    "for mv,gn in movies[['movieId','genres' ]].itertuples(index=False) :\n",
    "    movie_genres[mv] = gn.replace('|',' ')"
   ]
  },
  {
   "cell_type": "code",
   "execution_count": 48,
   "metadata": {
    "ExecuteTime": {
     "end_time": "2021-08-04T06:43:15.007157Z",
     "start_time": "2021-08-04T06:43:14.987157Z"
    }
   },
   "outputs": [],
   "source": [
    "def logit_predict(uid,iid):\n",
    "    if set_for_each_user[uid]['algoritm_type'] != 'logit': return 0\n",
    "    \n",
    "    tfidf_transformer = set_for_each_user[uid]['tf_idf_transformer']\n",
    "\n",
    "    X_genres_sparse = count_vect.transform([movie_genres[iid]])\n",
    "\n",
    "    X_genres_sparse_tfidf = tfidf_transformer.fit_transform(X_genres_sparse)\n",
    "    \n",
    "    logit = set_for_each_user[uid]['algoritm']\n",
    "    y_pred = logit.predict(X_genres_sparse_tfidf.toarray())\n",
    "    \n",
    "    return y_pred/2"
   ]
  },
  {
   "cell_type": "code",
   "execution_count": 49,
   "metadata": {
    "ExecuteTime": {
     "end_time": "2021-08-04T06:43:15.027157Z",
     "start_time": "2021-08-04T06:43:15.007157Z"
    }
   },
   "outputs": [
    {
     "data": {
      "text/plain": [
       "array([5.])"
      ]
     },
     "execution_count": 49,
     "metadata": {},
     "output_type": "execute_result"
    }
   ],
   "source": [
    "logit_predict(1,1)"
   ]
  },
  {
   "cell_type": "code",
   "execution_count": null,
   "metadata": {},
   "outputs": [],
   "source": []
  },
  {
   "cell_type": "markdown",
   "metadata": {},
   "source": [
    "#### SVD"
   ]
  },
  {
   "cell_type": "code",
   "execution_count": 33,
   "metadata": {
    "ExecuteTime": {
     "end_time": "2021-08-04T06:41:38.034018Z",
     "start_time": "2021-08-04T06:41:38.014018Z"
    }
   },
   "outputs": [],
   "source": [
    "df = pd.DataFrame( {'uid': X_train.userId, 'iid':X_train.movieId,'rating':y_train})"
   ]
  },
  {
   "cell_type": "code",
   "execution_count": 34,
   "metadata": {
    "ExecuteTime": {
     "end_time": "2021-08-04T06:41:38.864019Z",
     "start_time": "2021-08-04T06:41:38.844019Z"
    }
   },
   "outputs": [],
   "source": [
    "reader = Reader( rating_scale=(.5,5))"
   ]
  },
  {
   "cell_type": "code",
   "execution_count": 35,
   "metadata": {
    "ExecuteTime": {
     "end_time": "2021-08-04T06:41:39.824021Z",
     "start_time": "2021-08-04T06:41:39.624020Z"
    }
   },
   "outputs": [],
   "source": [
    "surprise_df = Dataset.load_from_df(df,reader)"
   ]
  },
  {
   "cell_type": "code",
   "execution_count": 36,
   "metadata": {
    "ExecuteTime": {
     "end_time": "2021-08-04T06:41:40.884022Z",
     "start_time": "2021-08-04T06:41:40.774022Z"
    }
   },
   "outputs": [],
   "source": [
    "surprise_df = surprise_df.build_full_trainset()"
   ]
  },
  {
   "cell_type": "code",
   "execution_count": 37,
   "metadata": {
    "ExecuteTime": {
     "end_time": "2021-08-04T06:41:46.786031Z",
     "start_time": "2021-08-04T06:41:43.195025Z"
    }
   },
   "outputs": [
    {
     "data": {
      "text/plain": [
       "<surprise.prediction_algorithms.matrix_factorization.SVD at 0xf23e310>"
      ]
     },
     "execution_count": 37,
     "metadata": {},
     "output_type": "execute_result"
    }
   ],
   "source": [
    "svd = SVD(n_factors=20, n_epochs=30)\n",
    "svd.fit(surprise_df)"
   ]
  },
  {
   "cell_type": "code",
   "execution_count": 38,
   "metadata": {
    "ExecuteTime": {
     "end_time": "2021-08-04T06:41:48.757033Z",
     "start_time": "2021-08-04T06:41:48.737033Z"
    }
   },
   "outputs": [
    {
     "data": {
      "text/plain": [
       "Prediction(uid=1, iid=1, r_ui=None, est=4.771670758762139, details={'was_impossible': False})"
      ]
     },
     "execution_count": 38,
     "metadata": {},
     "output_type": "execute_result"
    }
   ],
   "source": [
    "svd.predict(1,1)"
   ]
  },
  {
   "cell_type": "markdown",
   "metadata": {},
   "source": [
    "#### ALS"
   ]
  },
  {
   "cell_type": "code",
   "execution_count": null,
   "metadata": {
    "ExecuteTime": {
     "end_time": "2021-08-03T19:39:25.233639Z",
     "start_time": "2021-08-03T19:39:25.223639Z"
    }
   },
   "outputs": [],
   "source": [
    "als = AlternatingLeastSquares(factors=20, regularization=.5)"
   ]
  },
  {
   "cell_type": "code",
   "execution_count": 79,
   "metadata": {
    "ExecuteTime": {
     "end_time": "2021-08-04T07:03:13.865846Z",
     "start_time": "2021-08-04T07:03:13.715846Z"
    }
   },
   "outputs": [],
   "source": [
    "users = list( X_train.userId.astype(int) )\n",
    "movi = list( X_train.movieId.astype(int) )\n",
    "\n",
    "#a[row_ind[k], col_ind[k]] = data[k]\n",
    "sparse_user_movie = sparse.csr_matrix( ( list(y_train) , (users , movi)  )  )\n",
    "sparse_movie_user = sparse.csr_matrix( ( list(y_train) , (movi, users )  )  )"
   ]
  },
  {
   "cell_type": "code",
   "execution_count": 80,
   "metadata": {
    "ExecuteTime": {
     "end_time": "2021-08-04T07:03:27.695934Z",
     "start_time": "2021-08-04T07:03:26.267864Z"
    }
   },
   "outputs": [
    {
     "data": {
      "application/vnd.jupyter.widget-view+json": {
       "model_id": "fb03a89cf61e4fb0b6843092d6422486",
       "version_major": 2,
       "version_minor": 0
      },
      "text/plain": [
       "HBox(children=(HTML(value=''), FloatProgress(value=0.0, max=15.0), HTML(value='')))"
      ]
     },
     "metadata": {},
     "output_type": "display_data"
    },
    {
     "name": "stdout",
     "output_type": "stream",
     "text": [
      "\n"
     ]
    }
   ],
   "source": [
    "alpha = 10\n",
    "sparse_dataset = sparse_movie_user * alpha\n",
    "als.fit(sparse_dataset)"
   ]
  },
  {
   "cell_type": "code",
   "execution_count": 81,
   "metadata": {
    "ExecuteTime": {
     "end_time": "2021-08-04T07:03:31.129945Z",
     "start_time": "2021-08-04T07:03:31.109945Z"
    }
   },
   "outputs": [],
   "source": [
    "user_vector = als.user_factors\n",
    "movie_vector = als.item_factors"
   ]
  },
  {
   "cell_type": "code",
   "execution_count": 82,
   "metadata": {
    "ExecuteTime": {
     "end_time": "2021-08-04T07:03:33.189948Z",
     "start_time": "2021-08-04T07:03:33.179948Z"
    }
   },
   "outputs": [
    {
     "data": {
      "text/plain": [
       "(20,)"
      ]
     },
     "execution_count": 82,
     "metadata": {},
     "output_type": "execute_result"
    }
   ],
   "source": [
    "movie_vector[1].shape"
   ]
  },
  {
   "cell_type": "code",
   "execution_count": 83,
   "metadata": {
    "ExecuteTime": {
     "end_time": "2021-08-04T07:03:34.662950Z",
     "start_time": "2021-08-04T07:03:34.652950Z"
    }
   },
   "outputs": [
    {
     "data": {
      "text/plain": [
       "(611, 20)"
      ]
     },
     "execution_count": 83,
     "metadata": {},
     "output_type": "execute_result"
    }
   ],
   "source": [
    "user_vector.shape"
   ]
  },
  {
   "cell_type": "code",
   "execution_count": 84,
   "metadata": {
    "ExecuteTime": {
     "end_time": "2021-08-04T07:03:36.242952Z",
     "start_time": "2021-08-04T07:03:36.232952Z"
    }
   },
   "outputs": [
    {
     "data": {
      "text/plain": [
       "0.85795945"
      ]
     },
     "execution_count": 84,
     "metadata": {},
     "output_type": "execute_result"
    }
   ],
   "source": [
    "movie_vector[3441]@user_vector[1]"
   ]
  },
  {
   "cell_type": "code",
   "execution_count": 85,
   "metadata": {
    "ExecuteTime": {
     "end_time": "2021-08-04T07:03:42.263961Z",
     "start_time": "2021-08-04T07:03:42.253961Z"
    }
   },
   "outputs": [
    {
     "data": {
      "text/plain": [
       "[(3441, 0.85795945)]"
      ]
     },
     "execution_count": 85,
     "metadata": {},
     "output_type": "execute_result"
    }
   ],
   "source": [
    "als.rank_items(1,sparse_user_movie,[3441])"
   ]
  },
  {
   "cell_type": "code",
   "execution_count": 31,
   "metadata": {
    "ExecuteTime": {
     "end_time": "2021-08-04T06:40:17.840905Z",
     "start_time": "2021-08-04T06:40:17.820905Z"
    }
   },
   "outputs": [],
   "source": [
    "ids_scores = als.recommend(1,sparse_user_movie)\n",
    "ids = [i[0] for i in ids_scores]"
   ]
  },
  {
   "cell_type": "code",
   "execution_count": 78,
   "metadata": {
    "ExecuteTime": {
     "end_time": "2021-08-04T07:02:56.763822Z",
     "start_time": "2021-08-04T07:02:56.743822Z"
    }
   },
   "outputs": [
    {
     "data": {
      "text/plain": [
       "[(1059, 1.4945408),\n",
       " (1805, 1.4942952),\n",
       " (1918, 1.4907887),\n",
       " (1047, 1.40338),\n",
       " (1673, 1.3968397),\n",
       " (4571, 1.3612853),\n",
       " (3256, 1.301303),\n",
       " (1407, 1.2929931),\n",
       " (494, 1.2883558),\n",
       " (708, 1.2742217)]"
      ]
     },
     "execution_count": 78,
     "metadata": {},
     "output_type": "execute_result"
    }
   ],
   "source": [
    "als.rank_items(1,sparse_user_movie,ids)"
   ]
  },
  {
   "cell_type": "markdown",
   "metadata": {
    "ExecuteTime": {
     "end_time": "2021-08-04T07:06:49.322224Z",
     "start_time": "2021-08-04T07:06:49.302224Z"
    }
   },
   "source": [
    "#### PS . Похоже Единственное что умеет implicit ALS - это найти рекомендации похожих. Но если нужно предсказать оценку тут не  справляется"
   ]
  },
  {
   "cell_type": "markdown",
   "metadata": {
    "ExecuteTime": {
     "end_time": "2021-08-04T07:07:29.260281Z",
     "start_time": "2021-08-04T07:07:29.240280Z"
    }
   },
   "source": [
    "#### ALS surprise"
   ]
  },
  {
   "cell_type": "code",
   "execution_count": 113,
   "metadata": {
    "ExecuteTime": {
     "end_time": "2021-08-04T07:39:08.881084Z",
     "start_time": "2021-08-04T07:39:08.871084Z"
    }
   },
   "outputs": [],
   "source": [
    "svd_implicit = SVDpp(n_factors=20, n_epochs=30, lr_all = 0.007, reg_all = .02)"
   ]
  },
  {
   "cell_type": "code",
   "execution_count": 114,
   "metadata": {
    "ExecuteTime": {
     "end_time": "2021-08-04T07:53:42.377406Z",
     "start_time": "2021-08-04T07:39:22.456103Z"
    }
   },
   "outputs": [
    {
     "data": {
      "text/plain": [
       "<surprise.prediction_algorithms.matrix_factorization.SVDpp at 0x120a2490>"
      ]
     },
     "execution_count": 114,
     "metadata": {},
     "output_type": "execute_result"
    }
   ],
   "source": [
    "svd_implicit.fit(surprise_df)"
   ]
  },
  {
   "cell_type": "code",
   "execution_count": 119,
   "metadata": {
    "ExecuteTime": {
     "end_time": "2021-08-04T07:55:26.032556Z",
     "start_time": "2021-08-04T07:55:26.022556Z"
    }
   },
   "outputs": [
    {
     "data": {
      "text/plain": [
       "4.3600181788570636"
      ]
     },
     "execution_count": 119,
     "metadata": {},
     "output_type": "execute_result"
    }
   ],
   "source": [
    "svd_implicit.predict(1,1).est"
   ]
  },
  {
   "cell_type": "markdown",
   "metadata": {},
   "source": [
    "#### KNN Surprise"
   ]
  },
  {
   "cell_type": "code",
   "execution_count": 104,
   "metadata": {
    "ExecuteTime": {
     "end_time": "2021-08-04T07:17:48.625183Z",
     "start_time": "2021-08-04T07:17:48.615183Z"
    }
   },
   "outputs": [],
   "source": [
    "bsl_options = {'method': 'als',\n",
    "                'reg': 2,\n",
    "                'reg_i':2,\n",
    "                'reg_u':2,\n",
    "                'n_epochs':15}\n",
    "\n",
    "sim_options = {'name': 'pearson_baseline',\n",
    "                'user_based': False}"
   ]
  },
  {
   "cell_type": "code",
   "execution_count": 109,
   "metadata": {
    "ExecuteTime": {
     "end_time": "2021-08-04T07:36:34.696864Z",
     "start_time": "2021-08-04T07:36:34.676864Z"
    }
   },
   "outputs": [],
   "source": [
    "knn = KNNBaseline(k=30 , min_k=1 , sim_options=sim_options, bsl_options=bsl_options )"
   ]
  },
  {
   "cell_type": "code",
   "execution_count": 110,
   "metadata": {
    "ExecuteTime": {
     "end_time": "2021-08-04T07:36:54.112893Z",
     "start_time": "2021-08-04T07:36:38.907870Z"
    }
   },
   "outputs": [
    {
     "name": "stdout",
     "output_type": "stream",
     "text": [
      "Estimating biases using als...\n",
      "Computing the pearson_baseline similarity matrix...\n",
      "Done computing similarity matrix.\n"
     ]
    },
    {
     "data": {
      "text/plain": [
       "<surprise.prediction_algorithms.knns.KNNBaseline at 0x164a0ac0>"
      ]
     },
     "execution_count": 110,
     "metadata": {},
     "output_type": "execute_result"
    }
   ],
   "source": [
    "knn.fit(surprise_df)"
   ]
  },
  {
   "cell_type": "code",
   "execution_count": 111,
   "metadata": {
    "ExecuteTime": {
     "end_time": "2021-08-04T07:36:54.132893Z",
     "start_time": "2021-08-04T07:36:54.112893Z"
    }
   },
   "outputs": [
    {
     "data": {
      "text/plain": [
       "4.227795098062775"
      ]
     },
     "execution_count": 111,
     "metadata": {},
     "output_type": "execute_result"
    }
   ],
   "source": [
    "knn.predict(1,1).est"
   ]
  },
  {
   "cell_type": "code",
   "execution_count": null,
   "metadata": {},
   "outputs": [],
   "source": []
  },
  {
   "cell_type": "markdown",
   "metadata": {},
   "source": [
    "#### СОберем Беггинг из Алгоритмов"
   ]
  },
  {
   "cell_type": "code",
   "execution_count": 139,
   "metadata": {
    "ExecuteTime": {
     "end_time": "2021-08-04T08:05:59.324448Z",
     "start_time": "2021-08-04T08:05:59.304448Z"
    }
   },
   "outputs": [],
   "source": [
    "def bag_predict(uid,iid):\n",
    "    results = np.array([])\n",
    "    results = np.append(results, round(svd.predict(uid,iid).est,0) )\n",
    "    results = np.append(results, logit_predict(uid,iid) )\n",
    "    results = np.append(results, round(knn.predict(uid,iid).est,0) )\n",
    "    results = np.append(results, round(svd_implicit.predict(uid,iid).est,0) )\n",
    "    scores, counts = np.unique(results,return_counts=True)\n",
    "    return scores[np.argsort(-counts)][0]"
   ]
  },
  {
   "cell_type": "markdown",
   "metadata": {
    "ExecuteTime": {
     "end_time": "2021-08-04T08:10:57.486878Z",
     "start_time": "2021-08-04T08:10:57.476878Z"
    }
   },
   "source": [
    "#### Предскажем на тестовой выборке и посчитаем MSE"
   ]
  },
  {
   "cell_type": "code",
   "execution_count": 137,
   "metadata": {
    "ExecuteTime": {
     "end_time": "2021-08-04T08:03:12.478213Z",
     "start_time": "2021-08-04T08:03:12.458213Z"
    }
   },
   "outputs": [
    {
     "data": {
      "text/html": [
       "<div>\n",
       "<style scoped>\n",
       "    .dataframe tbody tr th:only-of-type {\n",
       "        vertical-align: middle;\n",
       "    }\n",
       "\n",
       "    .dataframe tbody tr th {\n",
       "        vertical-align: top;\n",
       "    }\n",
       "\n",
       "    .dataframe thead th {\n",
       "        text-align: right;\n",
       "    }\n",
       "</style>\n",
       "<table border=\"1\" class=\"dataframe\">\n",
       "  <thead>\n",
       "    <tr style=\"text-align: right;\">\n",
       "      <th></th>\n",
       "      <th>userId</th>\n",
       "      <th>movieId</th>\n",
       "      <th>rating</th>\n",
       "    </tr>\n",
       "  </thead>\n",
       "  <tbody>\n",
       "    <tr>\n",
       "      <th>9622</th>\n",
       "      <td>64</td>\n",
       "      <td>1968</td>\n",
       "      <td>3.5</td>\n",
       "    </tr>\n",
       "    <tr>\n",
       "      <th>62388</th>\n",
       "      <td>414</td>\n",
       "      <td>210</td>\n",
       "      <td>3.0</td>\n",
       "    </tr>\n",
       "  </tbody>\n",
       "</table>\n",
       "</div>"
      ],
      "text/plain": [
       "       userId  movieId  rating\n",
       "9622       64     1968     3.5\n",
       "62388     414      210     3.0"
      ]
     },
     "execution_count": 137,
     "metadata": {},
     "output_type": "execute_result"
    }
   ],
   "source": [
    "test_df = X_test.join(y_test).drop(columns='genres')\n",
    "test_df.head(2)"
   ]
  },
  {
   "cell_type": "code",
   "execution_count": 143,
   "metadata": {
    "ExecuteTime": {
     "end_time": "2021-08-04T08:10:35.743847Z",
     "start_time": "2021-08-04T08:09:06.040719Z"
    }
   },
   "outputs": [
    {
     "name": "stderr",
     "output_type": "stream",
     "text": [
      "<ipython-input-143-c10dd4ce3620>:2: TqdmDeprecationWarning: This function will be removed in tqdm==5.0.0\n",
      "Please use `tqdm.notebook.tqdm` instead of `tqdm.tqdm_notebook`\n",
      "  for user,movie in tqdm_notebook (test_df[['userId','movieId']].itertuples(index=False)):\n"
     ]
    },
    {
     "data": {
      "application/vnd.jupyter.widget-view+json": {
       "model_id": "213ef14c47c64721ba3ea4d0a9684f9f",
       "version_major": 2,
       "version_minor": 0
      },
      "text/plain": [
       "HBox(children=(HTML(value=''), FloatProgress(value=1.0, bar_style='info', layout=Layout(width='20px'), max=1.0…"
      ]
     },
     "metadata": {},
     "output_type": "display_data"
    },
    {
     "name": "stdout",
     "output_type": "stream",
     "text": [
      "\n"
     ]
    },
    {
     "data": {
      "text/html": [
       "<div>\n",
       "<style scoped>\n",
       "    .dataframe tbody tr th:only-of-type {\n",
       "        vertical-align: middle;\n",
       "    }\n",
       "\n",
       "    .dataframe tbody tr th {\n",
       "        vertical-align: top;\n",
       "    }\n",
       "\n",
       "    .dataframe thead th {\n",
       "        text-align: right;\n",
       "    }\n",
       "</style>\n",
       "<table border=\"1\" class=\"dataframe\">\n",
       "  <thead>\n",
       "    <tr style=\"text-align: right;\">\n",
       "      <th></th>\n",
       "      <th>userId</th>\n",
       "      <th>movieId</th>\n",
       "      <th>rating</th>\n",
       "      <th>rating_pred_bagging</th>\n",
       "    </tr>\n",
       "  </thead>\n",
       "  <tbody>\n",
       "    <tr>\n",
       "      <th>9622</th>\n",
       "      <td>64</td>\n",
       "      <td>1968</td>\n",
       "      <td>3.5</td>\n",
       "      <td>4.0</td>\n",
       "    </tr>\n",
       "    <tr>\n",
       "      <th>62388</th>\n",
       "      <td>414</td>\n",
       "      <td>210</td>\n",
       "      <td>3.0</td>\n",
       "      <td>3.0</td>\n",
       "    </tr>\n",
       "  </tbody>\n",
       "</table>\n",
       "</div>"
      ],
      "text/plain": [
       "       userId  movieId  rating  rating_pred_bagging\n",
       "9622       64     1968     3.5                  4.0\n",
       "62388     414      210     3.0                  3.0"
      ]
     },
     "execution_count": 143,
     "metadata": {},
     "output_type": "execute_result"
    }
   ],
   "source": [
    "y_pred = []\n",
    "for user,movie in tqdm_notebook (test_df[['userId','movieId']].itertuples(index=False)):\n",
    "    y_pred.append(bag_predict(user,movie))\n",
    "\n",
    "test_df['rating_pred_bagging'] = y_pred\n",
    "\n",
    "test_df.head(2)"
   ]
  },
  {
   "cell_type": "code",
   "execution_count": 145,
   "metadata": {
    "ExecuteTime": {
     "end_time": "2021-08-04T08:11:44.803944Z",
     "start_time": "2021-08-04T08:11:44.783944Z"
    }
   },
   "outputs": [
    {
     "data": {
      "text/plain": [
       "0.8163366500280983"
      ]
     },
     "execution_count": 145,
     "metadata": {},
     "output_type": "execute_result"
    }
   ],
   "source": [
    "mean_squared_error(test_df.rating , test_df.rating_pred_bagging)**.5"
   ]
  },
  {
   "cell_type": "markdown",
   "metadata": {},
   "source": [
    "### Вывод:\n",
    "\n",
    "- Самый лучший результат на 100Кб датасете: SVD выдал rootMSE = **.87**\n",
    "- Если собрать несколько алгоритмов в Бэггинг, то результат rootMSE = **.81**\n"
   ]
  },
  {
   "cell_type": "markdown",
   "metadata": {},
   "source": [
    "#### Собрем рекомендательный алгоритм на основе Бэггинга:"
   ]
  },
  {
   "cell_type": "code",
   "execution_count": 162,
   "metadata": {
    "ExecuteTime": {
     "end_time": "2021-08-04T08:33:45.799811Z",
     "start_time": "2021-08-04T08:33:45.789811Z"
    }
   },
   "outputs": [],
   "source": [
    "def get_recomendation(user, k =5):\n",
    "    \n",
    "    recommendation = []\n",
    "\n",
    "    for movie in tqdm_notebook( movies.movieId.unique() ):\n",
    "        y_pred = bag_predict(user,movie)\n",
    "        if y_pred == 5: recommendation.append(movie)\n",
    "        if len(recommendation) == k: break\n",
    "\n",
    "    titles = [movies[movies.movieId==i].title.iloc[0] for i in recommendation]\n",
    "    return recommendation,titles"
   ]
  },
  {
   "cell_type": "code",
   "execution_count": 164,
   "metadata": {
    "ExecuteTime": {
     "end_time": "2021-08-04T08:34:25.268868Z",
     "start_time": "2021-08-04T08:34:04.512838Z"
    }
   },
   "outputs": [
    {
     "name": "stderr",
     "output_type": "stream",
     "text": [
      "<ipython-input-162-9541c409951a>:5: TqdmDeprecationWarning: This function will be removed in tqdm==5.0.0\n",
      "Please use `tqdm.notebook.tqdm` instead of `tqdm.tqdm_notebook`\n",
      "  for movie in tqdm_notebook( movies.movieId.unique() ):\n"
     ]
    },
    {
     "data": {
      "application/vnd.jupyter.widget-view+json": {
       "model_id": "de4aabb89ce641c1b0988a3ba0b03812",
       "version_major": 2,
       "version_minor": 0
      },
      "text/plain": [
       "HBox(children=(HTML(value=''), FloatProgress(value=0.0, max=9742.0), HTML(value='')))"
      ]
     },
     "metadata": {},
     "output_type": "display_data"
    },
    {
     "name": "stdout",
     "output_type": "stream",
     "text": [
      "\n"
     ]
    },
    {
     "data": {
      "text/plain": [
       "([136020, 140110, 140725],\n",
       " ['Spectre (2015)', 'The Intern (2015)', 'Cop Car (2015)'])"
      ]
     },
     "execution_count": 164,
     "metadata": {},
     "output_type": "execute_result"
    }
   ],
   "source": [
    "get_recomendation(10,5)"
   ]
  }
 ],
 "metadata": {
  "kernelspec": {
   "display_name": "Python 3",
   "language": "python",
   "name": "python3"
  },
  "language_info": {
   "codemirror_mode": {
    "name": "ipython",
    "version": 3
   },
   "file_extension": ".py",
   "mimetype": "text/x-python",
   "name": "python",
   "nbconvert_exporter": "python",
   "pygments_lexer": "ipython3",
   "version": "3.8.5"
  }
 },
 "nbformat": 4,
 "nbformat_minor": 4
}
