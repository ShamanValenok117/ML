{
 "cells": [
  {
   "cell_type": "code",
   "execution_count": 1,
   "metadata": {
    "ExecuteTime": {
     "end_time": "2021-08-02T17:50:33.816827Z",
     "start_time": "2021-08-02T17:50:32.605826Z"
    }
   },
   "outputs": [],
   "source": [
    "import pandas as pd\n",
    "import numpy as np\n",
    "\n",
    "from tqdm.notebook import tqdm"
   ]
  },
  {
   "cell_type": "code",
   "execution_count": 2,
   "metadata": {
    "ExecuteTime": {
     "end_time": "2021-08-02T17:50:33.896827Z",
     "start_time": "2021-08-02T17:50:33.816827Z"
    }
   },
   "outputs": [],
   "source": [
    "ratings = pd.read_csv('ratings.csv')"
   ]
  },
  {
   "cell_type": "code",
   "execution_count": 3,
   "metadata": {
    "ExecuteTime": {
     "end_time": "2021-08-02T17:50:33.936827Z",
     "start_time": "2021-08-02T17:50:33.896827Z"
    }
   },
   "outputs": [
    {
     "data": {
      "text/html": [
       "<div>\n",
       "<style scoped>\n",
       "    .dataframe tbody tr th:only-of-type {\n",
       "        vertical-align: middle;\n",
       "    }\n",
       "\n",
       "    .dataframe tbody tr th {\n",
       "        vertical-align: top;\n",
       "    }\n",
       "\n",
       "    .dataframe thead th {\n",
       "        text-align: right;\n",
       "    }\n",
       "</style>\n",
       "<table border=\"1\" class=\"dataframe\">\n",
       "  <thead>\n",
       "    <tr style=\"text-align: right;\">\n",
       "      <th></th>\n",
       "      <th>userId</th>\n",
       "      <th>movieId</th>\n",
       "      <th>rating</th>\n",
       "      <th>timestamp</th>\n",
       "    </tr>\n",
       "  </thead>\n",
       "  <tbody>\n",
       "    <tr>\n",
       "      <th>0</th>\n",
       "      <td>1</td>\n",
       "      <td>1</td>\n",
       "      <td>4.0</td>\n",
       "      <td>964982703</td>\n",
       "    </tr>\n",
       "    <tr>\n",
       "      <th>1</th>\n",
       "      <td>1</td>\n",
       "      <td>3</td>\n",
       "      <td>4.0</td>\n",
       "      <td>964981247</td>\n",
       "    </tr>\n",
       "  </tbody>\n",
       "</table>\n",
       "</div>"
      ],
      "text/plain": [
       "   userId  movieId  rating  timestamp\n",
       "0       1        1     4.0  964982703\n",
       "1       1        3     4.0  964981247"
      ]
     },
     "execution_count": 3,
     "metadata": {},
     "output_type": "execute_result"
    }
   ],
   "source": [
    "ratings.head(2)"
   ]
  },
  {
   "cell_type": "code",
   "execution_count": 4,
   "metadata": {
    "ExecuteTime": {
     "end_time": "2021-08-02T17:50:33.946827Z",
     "start_time": "2021-08-02T17:50:33.936827Z"
    }
   },
   "outputs": [],
   "source": [
    "ratings.drop(columns='timestamp',inplace=True)"
   ]
  },
  {
   "cell_type": "code",
   "execution_count": 5,
   "metadata": {
    "ExecuteTime": {
     "end_time": "2021-08-02T17:50:33.956827Z",
     "start_time": "2021-08-02T17:50:33.946827Z"
    }
   },
   "outputs": [],
   "source": [
    "ratings.columns = ['uid','iid','rating']"
   ]
  },
  {
   "cell_type": "code",
   "execution_count": 6,
   "metadata": {
    "ExecuteTime": {
     "end_time": "2021-08-02T17:50:35.126829Z",
     "start_time": "2021-08-02T17:50:33.956827Z"
    }
   },
   "outputs": [],
   "source": [
    "from surprise import KNNWithMeans, KNNBasic, Dataset, Reader, accuracy\n",
    "from surprise.model_selection import GridSearchCV,train_test_split, cross_validate"
   ]
  },
  {
   "cell_type": "code",
   "execution_count": 7,
   "metadata": {
    "ExecuteTime": {
     "end_time": "2021-08-02T17:50:35.306829Z",
     "start_time": "2021-08-02T17:50:35.126829Z"
    }
   },
   "outputs": [],
   "source": [
    "# make dataset\n",
    "rating_min,rating_max =  ratings.rating.min(),ratings.rating.max()\n",
    "reader = Reader(rating_scale=(rating_min,rating_max) )\n",
    "surprise_df = Dataset.load_from_df(ratings, reader)"
   ]
  },
  {
   "cell_type": "code",
   "execution_count": 17,
   "metadata": {
    "ExecuteTime": {
     "end_time": "2021-08-02T18:31:43.106366Z",
     "start_time": "2021-08-02T18:31:42.926366Z"
    }
   },
   "outputs": [],
   "source": [
    "# train_test_split .3\n",
    "train_dataset, test_dataset = train_test_split(surprise_df, test_size=.3, )"
   ]
  },
  {
   "cell_type": "markdown",
   "metadata": {
    "ExecuteTime": {
     "end_time": "2021-08-02T13:47:49.169190Z",
     "start_time": "2021-08-02T13:47:49.164190Z"
    }
   },
   "source": [
    "#### KNN Means  User based"
   ]
  },
  {
   "cell_type": "code",
   "execution_count": 24,
   "metadata": {
    "ExecuteTime": {
     "end_time": "2021-08-02T13:28:22.883381Z",
     "start_time": "2021-08-02T13:28:22.863381Z"
    }
   },
   "outputs": [],
   "source": [
    "algo = KNNWithMeans(k=40, min_k=1, sim_options={'name': 'pearson_baseline', 'user_based': True}, verbose=True)\n",
    "algo.fit(train_dataset)"
   ]
  },
  {
   "cell_type": "code",
   "execution_count": 30,
   "metadata": {
    "ExecuteTime": {
     "end_time": "2021-08-02T13:41:58.965370Z",
     "start_time": "2021-08-02T13:41:55.625365Z"
    }
   },
   "outputs": [
    {
     "name": "stdout",
     "output_type": "stream",
     "text": [
      "RMSE: 0.4723\n"
     ]
    },
    {
     "data": {
      "text/plain": [
       "0.4722625212094781"
      ]
     },
     "execution_count": 30,
     "metadata": {},
     "output_type": "execute_result"
    }
   ],
   "source": [
    "y_pred = algo.test(test_dataset)\n",
    "accuracy.rmse(y_pred)"
   ]
  },
  {
   "cell_type": "code",
   "execution_count": null,
   "metadata": {},
   "outputs": [],
   "source": []
  },
  {
   "cell_type": "markdown",
   "metadata": {},
   "source": [
    "#### KNN Means  Item based"
   ]
  },
  {
   "cell_type": "code",
   "execution_count": 35,
   "metadata": {
    "ExecuteTime": {
     "end_time": "2021-08-02T13:50:00.202321Z",
     "start_time": "2021-08-02T13:49:30.142277Z"
    }
   },
   "outputs": [
    {
     "name": "stdout",
     "output_type": "stream",
     "text": [
      "Estimating biases using als...\n",
      "Computing the pearson_baseline similarity matrix...\n",
      "Done computing similarity matrix.\n",
      "RMSE: 0.8885\n"
     ]
    },
    {
     "data": {
      "text/plain": [
       "0.8884994940489565"
      ]
     },
     "execution_count": 35,
     "metadata": {},
     "output_type": "execute_result"
    }
   ],
   "source": [
    "algo = KNNWithMeans(k=50, min_k=1, sim_options={'name': 'pearson_baseline', 'user_based': False}, verbose=True)\n",
    "algo.fit(train_dataset)\n",
    "y_pred = algo.test(test_dataset)\n",
    "accuracy.rmse(y_pred)"
   ]
  },
  {
   "cell_type": "markdown",
   "metadata": {},
   "source": [
    "#### Проверим какой лучше на GridSearch CV"
   ]
  },
  {
   "cell_type": "code",
   "execution_count": null,
   "metadata": {
    "ExecuteTime": {
     "end_time": "2021-08-03T07:01:30.256187Z",
     "start_time": "2021-08-02T18:53:55.400257Z"
    }
   },
   "outputs": [],
   "source": [
    "params = {'k': [50,70,90,120,150], 'sim_options': {'name': ['cosine', 'msd','pearson','pearson_baseline'], 'user_based': [True,False]} }\n",
    "grid = GridSearchCV(KNNWithMeans, params, measures = ['rmse'], cv = 5  )\n",
    "grid.fit(surprise_df)\n",
    "best_algo = grid.best_estimator['rmse']\n",
    "best_algo.fit(train_dataset) "
   ]
  },
  {
   "cell_type": "code",
   "execution_count": 31,
   "metadata": {
    "ExecuteTime": {
     "end_time": "2021-08-03T07:28:14.371449Z",
     "start_time": "2021-08-03T07:28:14.351449Z"
    }
   },
   "outputs": [
    {
     "name": "stdout",
     "output_type": "stream",
     "text": [
      "{'rmse': 0.8831946334859871}\n",
      "{'rmse': {'k': 50, 'sim_options': {'name': 'pearson_baseline', 'user_based': False}}}\n"
     ]
    }
   ],
   "source": [
    "print(grid.best_score)\n",
    "print(grid.best_params)"
   ]
  },
  {
   "cell_type": "code",
   "execution_count": 32,
   "metadata": {
    "ExecuteTime": {
     "end_time": "2021-08-03T07:28:59.276513Z",
     "start_time": "2021-08-03T07:28:43.854491Z"
    },
    "scrolled": true
   },
   "outputs": [
    {
     "name": "stdout",
     "output_type": "stream",
     "text": [
      "RMSE: 0.8966\n"
     ]
    },
    {
     "data": {
      "text/plain": [
       "0.8966429416530666"
      ]
     },
     "execution_count": 32,
     "metadata": {},
     "output_type": "execute_result"
    }
   ],
   "source": [
    "y_pred = best_algo.test(test_dataset)\n",
    "accuracy.rmse(y_pred)"
   ]
  },
  {
   "cell_type": "code",
   "execution_count": 33,
   "metadata": {
    "ExecuteTime": {
     "end_time": "2021-08-03T07:29:50.754585Z",
     "start_time": "2021-08-03T07:29:50.744585Z"
    }
   },
   "outputs": [],
   "source": [
    "result_df = pd.DataFrame.from_dict(grid.cv_results)"
   ]
  },
  {
   "cell_type": "code",
   "execution_count": 34,
   "metadata": {
    "ExecuteTime": {
     "end_time": "2021-08-03T07:29:53.514589Z",
     "start_time": "2021-08-03T07:29:53.474589Z"
    },
    "scrolled": false
   },
   "outputs": [
    {
     "data": {
      "text/html": [
       "<div>\n",
       "<style scoped>\n",
       "    .dataframe tbody tr th:only-of-type {\n",
       "        vertical-align: middle;\n",
       "    }\n",
       "\n",
       "    .dataframe tbody tr th {\n",
       "        vertical-align: top;\n",
       "    }\n",
       "\n",
       "    .dataframe thead th {\n",
       "        text-align: right;\n",
       "    }\n",
       "</style>\n",
       "<table border=\"1\" class=\"dataframe\">\n",
       "  <thead>\n",
       "    <tr style=\"text-align: right;\">\n",
       "      <th></th>\n",
       "      <th>split0_test_rmse</th>\n",
       "      <th>split1_test_rmse</th>\n",
       "      <th>split2_test_rmse</th>\n",
       "      <th>split3_test_rmse</th>\n",
       "      <th>split4_test_rmse</th>\n",
       "      <th>mean_test_rmse</th>\n",
       "      <th>std_test_rmse</th>\n",
       "      <th>rank_test_rmse</th>\n",
       "      <th>mean_fit_time</th>\n",
       "      <th>std_fit_time</th>\n",
       "      <th>mean_test_time</th>\n",
       "      <th>std_test_time</th>\n",
       "      <th>params</th>\n",
       "      <th>param_k</th>\n",
       "      <th>param_sim_options</th>\n",
       "    </tr>\n",
       "  </thead>\n",
       "  <tbody>\n",
       "    <tr>\n",
       "      <th>7</th>\n",
       "      <td>0.891487</td>\n",
       "      <td>0.875628</td>\n",
       "      <td>0.881165</td>\n",
       "      <td>0.884136</td>\n",
       "      <td>0.883558</td>\n",
       "      <td>0.883195</td>\n",
       "      <td>0.005122</td>\n",
       "      <td>1</td>\n",
       "      <td>16.170823</td>\n",
       "      <td>0.113496</td>\n",
       "      <td>11.075816</td>\n",
       "      <td>0.118672</td>\n",
       "      <td>{'k': 50, 'sim_options': {'name': 'pearson_bas...</td>\n",
       "      <td>50</td>\n",
       "      <td>{'name': 'pearson_baseline', 'user_based': False}</td>\n",
       "    </tr>\n",
       "    <tr>\n",
       "      <th>15</th>\n",
       "      <td>0.891609</td>\n",
       "      <td>0.875975</td>\n",
       "      <td>0.881143</td>\n",
       "      <td>0.884684</td>\n",
       "      <td>0.883885</td>\n",
       "      <td>0.883459</td>\n",
       "      <td>0.005089</td>\n",
       "      <td>2</td>\n",
       "      <td>16.108623</td>\n",
       "      <td>0.058445</td>\n",
       "      <td>12.008817</td>\n",
       "      <td>0.098812</td>\n",
       "      <td>{'k': 70, 'sim_options': {'name': 'pearson_bas...</td>\n",
       "      <td>70</td>\n",
       "      <td>{'name': 'pearson_baseline', 'user_based': False}</td>\n",
       "    </tr>\n",
       "    <tr>\n",
       "      <th>23</th>\n",
       "      <td>0.891980</td>\n",
       "      <td>0.876001</td>\n",
       "      <td>0.881145</td>\n",
       "      <td>0.885185</td>\n",
       "      <td>0.884147</td>\n",
       "      <td>0.883692</td>\n",
       "      <td>0.005230</td>\n",
       "      <td>3</td>\n",
       "      <td>16.047823</td>\n",
       "      <td>0.023327</td>\n",
       "      <td>12.833818</td>\n",
       "      <td>0.159004</td>\n",
       "      <td>{'k': 90, 'sim_options': {'name': 'pearson_bas...</td>\n",
       "      <td>90</td>\n",
       "      <td>{'name': 'pearson_baseline', 'user_based': False}</td>\n",
       "    </tr>\n",
       "  </tbody>\n",
       "</table>\n",
       "</div>"
      ],
      "text/plain": [
       "    split0_test_rmse  split1_test_rmse  split2_test_rmse  split3_test_rmse  \\\n",
       "7           0.891487          0.875628          0.881165          0.884136   \n",
       "15          0.891609          0.875975          0.881143          0.884684   \n",
       "23          0.891980          0.876001          0.881145          0.885185   \n",
       "\n",
       "    split4_test_rmse  mean_test_rmse  std_test_rmse  rank_test_rmse  \\\n",
       "7           0.883558        0.883195       0.005122               1   \n",
       "15          0.883885        0.883459       0.005089               2   \n",
       "23          0.884147        0.883692       0.005230               3   \n",
       "\n",
       "    mean_fit_time  std_fit_time  mean_test_time  std_test_time  \\\n",
       "7       16.170823      0.113496       11.075816       0.118672   \n",
       "15      16.108623      0.058445       12.008817       0.098812   \n",
       "23      16.047823      0.023327       12.833818       0.159004   \n",
       "\n",
       "                                               params  param_k  \\\n",
       "7   {'k': 50, 'sim_options': {'name': 'pearson_bas...       50   \n",
       "15  {'k': 70, 'sim_options': {'name': 'pearson_bas...       70   \n",
       "23  {'k': 90, 'sim_options': {'name': 'pearson_bas...       90   \n",
       "\n",
       "                                    param_sim_options  \n",
       "7   {'name': 'pearson_baseline', 'user_based': False}  \n",
       "15  {'name': 'pearson_baseline', 'user_based': False}  \n",
       "23  {'name': 'pearson_baseline', 'user_based': False}  "
      ]
     },
     "execution_count": 34,
     "metadata": {},
     "output_type": "execute_result"
    }
   ],
   "source": [
    "result_df.sort_values(by='rank_test_rmse',ascending = True).head(3)"
   ]
  },
  {
   "cell_type": "markdown",
   "metadata": {},
   "source": [
    "### Вывод по KNNwithMeans:  \n",
    "\n",
    "    - Лучший результат: rootMSE = .88 , **Item based**  кол-во похожих фильмов  50 (к = 50) дистанция по Пирсону.\n",
    "    - Второй результат: rootMSE = .88 , **Item based**  кол-во похожих фильмов  70 (к = 40) дистанция  по Пирсону.\n",
    "    - Третий результат: rootMSE = .88 , **Item based**  кол-во похожих фильмов  90 (к = 90) дистанция по Пирсону."
   ]
  },
  {
   "cell_type": "markdown",
   "metadata": {},
   "source": [
    "### SVD (на основе скрытых рекомендаций)"
   ]
  },
  {
   "cell_type": "code",
   "execution_count": 10,
   "metadata": {
    "ExecuteTime": {
     "end_time": "2021-08-02T17:56:19.690357Z",
     "start_time": "2021-08-02T17:56:19.680357Z"
    }
   },
   "outputs": [],
   "source": [
    "from surprise import SVD,SVDpp"
   ]
  },
  {
   "cell_type": "markdown",
   "metadata": {},
   "source": [
    "The prediction r^ui is set as:\n",
    "        \n",
    "        r^ui=μ+bu+bi+qTipu\n",
    "\n",
    "If user u is unknown, then the bias bu and the factors pu are assumed to be zero. The same applies for item i with bi and qi.\n",
    "\n",
    "To estimate all the unknown, we minimize the regularized squared error (через stochastic gradient descent) :\n",
    "\n",
    "     ∑rui∈Rtrain(rui−r^ui)2+λ(b2i+b2u+||qi||2+||pu||2)\n",
    "    "
   ]
  },
  {
   "cell_type": "code",
   "execution_count": 36,
   "metadata": {
    "ExecuteTime": {
     "end_time": "2021-08-03T07:33:17.081875Z",
     "start_time": "2021-08-03T07:33:13.221870Z"
    }
   },
   "outputs": [
    {
     "name": "stdout",
     "output_type": "stream",
     "text": [
      "RMSE: 0.8758\n"
     ]
    },
    {
     "data": {
      "text/plain": [
       "0.8758495569954028"
      ]
     },
     "execution_count": 36,
     "metadata": {},
     "output_type": "execute_result"
    }
   ],
   "source": [
    "svd = SVD(n_factors=20,n_epochs=30).fit(train_dataset)\n",
    "y_pred = svd.test(test_dataset)\n",
    "accuracy.rmse(y_pred)"
   ]
  },
  {
   "cell_type": "code",
   "execution_count": 14,
   "metadata": {
    "ExecuteTime": {
     "end_time": "2021-08-02T18:08:02.261367Z",
     "start_time": "2021-08-02T17:58:25.266535Z"
    }
   },
   "outputs": [
    {
     "name": "stdout",
     "output_type": "stream",
     "text": [
      "RMSE: 0.8716\n"
     ]
    },
    {
     "data": {
      "text/plain": [
       "0.8715515699683009"
      ]
     },
     "execution_count": 14,
     "metadata": {},
     "output_type": "execute_result"
    }
   ],
   "source": [
    "# SVDpp\n",
    "svdpp = SVDpp(n_factors=20,n_epochs=30).fit(train_dataset)\n",
    "y_pred = svdpp.test(test_dataset)\n",
    "accuracy.rmse(y_pred)"
   ]
  },
  {
   "cell_type": "markdown",
   "metadata": {},
   "source": [
    "**Метод SVD pp и SVD** (по сути один и тот же алгоритм работают на основе скрытых рекомендаций).  \n",
    "Оба алгоритма показывают наилучшие результаты по **rootMSE = .87**"
   ]
  },
  {
   "cell_type": "markdown",
   "metadata": {},
   "source": [
    "### KNN Basic  *(алгоритм который пытается оптимизировать функцию loss (root_MSE например) )*\n",
    "\n",
    "**bsl_options**\n",
    "\n",
    "method:\n",
    "\n",
    "    - Using Stochastic Gradient Descent (SGD).\n",
    "    - Using Alternating Least Squares (ALS).\n",
    "\n",
    "    * ALS:\n",
    "        - 'reg_i': The regularization parameter for items.\n",
    "        - 'reg_u': The regularization parameter for users. \n",
    "        - 'n_epochs': The number of iteration of the ALS procedure.\n",
    "    \n",
    "    * SGD:\n",
    "            - 'reg': The regularization parameter of the cost function\n",
    "            - 'learning_rate': The learning rate of SGD\n",
    "            - 'n_epochs': The number of iteration of the SGD procedure"
   ]
  },
  {
   "cell_type": "code",
   "execution_count": 57,
   "metadata": {
    "ExecuteTime": {
     "end_time": "2021-08-02T14:51:47.665011Z",
     "start_time": "2021-08-02T14:51:47.645011Z"
    }
   },
   "outputs": [],
   "source": [
    "# Проверим какой метод лучше на GridSearch CV\n",
    "\n",
    "algo = KNNBasic()\n",
    "param_grid_2 = {'bsl_options': {'method': ['als', 'sgd'],\n",
    "                              'reg': [.1, .2],\n",
    "                              'reg_i':[10,15],\n",
    "                              'reg_u':[10,15],\n",
    "                              'n_epochs':[5]},\n",
    "              'sim_options': {'name': ['pearson_baseline', 'cosine'],\n",
    "                              'user_based': [True,False]} }"
   ]
  },
  {
   "cell_type": "code",
   "execution_count": 58,
   "metadata": {
    "ExecuteTime": {
     "end_time": "2021-08-02T14:51:51.175016Z",
     "start_time": "2021-08-02T14:51:51.155016Z"
    }
   },
   "outputs": [],
   "source": [
    "grid_2 = GridSearchCV(KNNBasic , param_grid_2, measures = ['rmse'], cv = 3  )"
   ]
  },
  {
   "cell_type": "code",
   "execution_count": null,
   "metadata": {
    "ExecuteTime": {
     "end_time": "2021-08-02T15:46:07.533848Z",
     "start_time": "2021-08-02T14:52:25.391064Z"
    }
   },
   "outputs": [],
   "source": [
    "grid_2.fit(surprise_df)"
   ]
  },
  {
   "cell_type": "code",
   "execution_count": 60,
   "metadata": {
    "ExecuteTime": {
     "end_time": "2021-08-02T15:46:34.145897Z",
     "start_time": "2021-08-02T15:46:07.533848Z"
    }
   },
   "outputs": [
    {
     "name": "stdout",
     "output_type": "stream",
     "text": [
      "{'rmse': 0.9157294444055979}\n",
      "{'rmse': {'bsl_options': {'method': 'sgd', 'reg': 0.2, 'reg_i': 10, 'reg_u': 10, 'n_epochs': 5}, 'sim_options': {'name': 'pearson_baseline', 'user_based': False}}}\n",
      "Estimating biases using sgd...\n",
      "Computing the pearson_baseline similarity matrix...\n",
      "Done computing similarity matrix.\n",
      "RMSE: 0.9145\n"
     ]
    },
    {
     "data": {
      "text/plain": [
       "0.9145079720300874"
      ]
     },
     "execution_count": 60,
     "metadata": {},
     "output_type": "execute_result"
    }
   ],
   "source": [
    "print(grid_2.best_score)\n",
    "print(grid_2.best_params)\n",
    "best_algo = grid_2.best_estimator['rmse']\n",
    "best_algo.fit(train_dataset)\n",
    "y_pred = best_algo.test(test_dataset)\n",
    "accuracy.rmse(y_pred)"
   ]
  },
  {
   "cell_type": "markdown",
   "metadata": {},
   "source": [
    "#### Выводы: \n",
    "\n",
    "Самый лучший результат **KNNBasic** rootMSE = 0.91 \n",
    "\n",
    "> метод Стохасстический Градиентный Спуск (SGD) **Item Based** по Пирсону"
   ]
  },
  {
   "cell_type": "markdown",
   "metadata": {},
   "source": [
    "### Проврим на датасете 1М:"
   ]
  },
  {
   "cell_type": "code",
   "execution_count": 37,
   "metadata": {
    "ExecuteTime": {
     "end_time": "2021-08-03T07:38:43.734335Z",
     "start_time": "2021-08-03T07:38:30.003316Z"
    }
   },
   "outputs": [],
   "source": [
    "ratings = pd.read_csv('../../ml-latest/ratings.csv')"
   ]
  },
  {
   "cell_type": "code",
   "execution_count": 38,
   "metadata": {
    "ExecuteTime": {
     "end_time": "2021-08-03T07:38:44.364336Z",
     "start_time": "2021-08-03T07:38:43.734335Z"
    }
   },
   "outputs": [],
   "source": [
    "ratings.drop(columns='timestamp',inplace=True)"
   ]
  },
  {
   "cell_type": "code",
   "execution_count": 39,
   "metadata": {
    "ExecuteTime": {
     "end_time": "2021-08-03T07:38:44.374336Z",
     "start_time": "2021-08-03T07:38:44.364336Z"
    }
   },
   "outputs": [],
   "source": [
    "ratings.columns = ['uid','iid','rating']"
   ]
  },
  {
   "cell_type": "code",
   "execution_count": 40,
   "metadata": {
    "ExecuteTime": {
     "end_time": "2021-08-03T07:39:42.630418Z",
     "start_time": "2021-08-03T07:38:44.374336Z"
    }
   },
   "outputs": [],
   "source": [
    "# make dataset\n",
    "rating_min,rating_max =  ratings.rating.min(),ratings.rating.max()\n",
    "reader = Reader(rating_scale=(rating_min,rating_max) )\n",
    "surprise_df = Dataset.load_from_df(ratings, reader)"
   ]
  },
  {
   "cell_type": "code",
   "execution_count": 41,
   "metadata": {
    "ExecuteTime": {
     "end_time": "2021-08-03T07:39:42.690419Z",
     "start_time": "2021-08-03T07:39:42.660418Z"
    }
   },
   "outputs": [],
   "source": [
    "del ratings"
   ]
  },
  {
   "cell_type": "markdown",
   "metadata": {},
   "source": [
    "Так как датасет большой то gridSearch делать будем только из двух \"победителей\" датасета на 100Кб"
   ]
  },
  {
   "cell_type": "code",
   "execution_count": 9,
   "metadata": {
    "ExecuteTime": {
     "end_time": "2021-08-02T16:29:49.976004Z",
     "start_time": "2021-08-02T16:29:49.956004Z"
    }
   },
   "outputs": [],
   "source": [
    "params = {'k': [40,50], 'sim_options': {'name': ['pearson_baseline'], 'user_based': [False]} }\n",
    "grid_3 = GridSearchCV(KNNWithMeans, params, measures = ['rmse'], cv = 3  )"
   ]
  },
  {
   "cell_type": "code",
   "execution_count": 10,
   "metadata": {
    "ExecuteTime": {
     "end_time": "2021-08-02T17:40:15.818958Z",
     "start_time": "2021-08-02T16:29:49.976004Z"
    }
   },
   "outputs": [
    {
     "name": "stdout",
     "output_type": "stream",
     "text": [
      "Estimating biases using als...\n",
      "Computing the pearson_baseline similarity matrix...\n"
     ]
    },
    {
     "ename": "MemoryError",
     "evalue": "Unable to allocate 9.15 GiB for an array with shape (49566, 49566) and data type int32",
     "output_type": "error",
     "traceback": [
      "\u001b[1;31m---------------------------------------------------------------------------\u001b[0m",
      "\u001b[1;31mMemoryError\u001b[0m                               Traceback (most recent call last)",
      "\u001b[1;32m<ipython-input-10-c59e97d005b2>\u001b[0m in \u001b[0;36m<module>\u001b[1;34m\u001b[0m\n\u001b[1;32m----> 1\u001b[1;33m \u001b[0mgrid_3\u001b[0m\u001b[1;33m.\u001b[0m\u001b[0mfit\u001b[0m\u001b[1;33m(\u001b[0m\u001b[0msurprise_df\u001b[0m\u001b[1;33m)\u001b[0m\u001b[1;33m\u001b[0m\u001b[1;33m\u001b[0m\u001b[0m\n\u001b[0m",
      "\u001b[1;32mC:\\ProgramData\\Anaconda3\\lib\\site-packages\\surprise\\model_selection\\search.py\u001b[0m in \u001b[0;36mfit\u001b[1;34m(self, data)\u001b[0m\n\u001b[0;32m     86\u001b[0m                                                        cv.split(data))\n\u001b[0;32m     87\u001b[0m         )\n\u001b[1;32m---> 88\u001b[1;33m         out = Parallel(n_jobs=self.n_jobs,\n\u001b[0m\u001b[0;32m     89\u001b[0m                        \u001b[0mpre_dispatch\u001b[0m\u001b[1;33m=\u001b[0m\u001b[0mself\u001b[0m\u001b[1;33m.\u001b[0m\u001b[0mpre_dispatch\u001b[0m\u001b[1;33m,\u001b[0m\u001b[1;33m\u001b[0m\u001b[1;33m\u001b[0m\u001b[0m\n\u001b[0;32m     90\u001b[0m                        verbose=self.joblib_verbose)(delayed_list)\n",
      "\u001b[1;32mC:\\ProgramData\\Anaconda3\\lib\\site-packages\\joblib\\parallel.py\u001b[0m in \u001b[0;36m__call__\u001b[1;34m(self, iterable)\u001b[0m\n\u001b[0;32m   1046\u001b[0m             \u001b[1;31m# remaining jobs.\u001b[0m\u001b[1;33m\u001b[0m\u001b[1;33m\u001b[0m\u001b[1;33m\u001b[0m\u001b[0m\n\u001b[0;32m   1047\u001b[0m             \u001b[0mself\u001b[0m\u001b[1;33m.\u001b[0m\u001b[0m_iterating\u001b[0m \u001b[1;33m=\u001b[0m \u001b[1;32mFalse\u001b[0m\u001b[1;33m\u001b[0m\u001b[1;33m\u001b[0m\u001b[0m\n\u001b[1;32m-> 1048\u001b[1;33m             \u001b[1;32mif\u001b[0m \u001b[0mself\u001b[0m\u001b[1;33m.\u001b[0m\u001b[0mdispatch_one_batch\u001b[0m\u001b[1;33m(\u001b[0m\u001b[0miterator\u001b[0m\u001b[1;33m)\u001b[0m\u001b[1;33m:\u001b[0m\u001b[1;33m\u001b[0m\u001b[1;33m\u001b[0m\u001b[0m\n\u001b[0m\u001b[0;32m   1049\u001b[0m                 \u001b[0mself\u001b[0m\u001b[1;33m.\u001b[0m\u001b[0m_iterating\u001b[0m \u001b[1;33m=\u001b[0m \u001b[0mself\u001b[0m\u001b[1;33m.\u001b[0m\u001b[0m_original_iterator\u001b[0m \u001b[1;32mis\u001b[0m \u001b[1;32mnot\u001b[0m \u001b[1;32mNone\u001b[0m\u001b[1;33m\u001b[0m\u001b[1;33m\u001b[0m\u001b[0m\n\u001b[0;32m   1050\u001b[0m \u001b[1;33m\u001b[0m\u001b[0m\n",
      "\u001b[1;32mC:\\ProgramData\\Anaconda3\\lib\\site-packages\\joblib\\parallel.py\u001b[0m in \u001b[0;36mdispatch_one_batch\u001b[1;34m(self, iterator)\u001b[0m\n\u001b[0;32m    864\u001b[0m                 \u001b[1;32mreturn\u001b[0m \u001b[1;32mFalse\u001b[0m\u001b[1;33m\u001b[0m\u001b[1;33m\u001b[0m\u001b[0m\n\u001b[0;32m    865\u001b[0m             \u001b[1;32melse\u001b[0m\u001b[1;33m:\u001b[0m\u001b[1;33m\u001b[0m\u001b[1;33m\u001b[0m\u001b[0m\n\u001b[1;32m--> 866\u001b[1;33m                 \u001b[0mself\u001b[0m\u001b[1;33m.\u001b[0m\u001b[0m_dispatch\u001b[0m\u001b[1;33m(\u001b[0m\u001b[0mtasks\u001b[0m\u001b[1;33m)\u001b[0m\u001b[1;33m\u001b[0m\u001b[1;33m\u001b[0m\u001b[0m\n\u001b[0m\u001b[0;32m    867\u001b[0m                 \u001b[1;32mreturn\u001b[0m \u001b[1;32mTrue\u001b[0m\u001b[1;33m\u001b[0m\u001b[1;33m\u001b[0m\u001b[0m\n\u001b[0;32m    868\u001b[0m \u001b[1;33m\u001b[0m\u001b[0m\n",
      "\u001b[1;32mC:\\ProgramData\\Anaconda3\\lib\\site-packages\\joblib\\parallel.py\u001b[0m in \u001b[0;36m_dispatch\u001b[1;34m(self, batch)\u001b[0m\n\u001b[0;32m    782\u001b[0m         \u001b[1;32mwith\u001b[0m \u001b[0mself\u001b[0m\u001b[1;33m.\u001b[0m\u001b[0m_lock\u001b[0m\u001b[1;33m:\u001b[0m\u001b[1;33m\u001b[0m\u001b[1;33m\u001b[0m\u001b[0m\n\u001b[0;32m    783\u001b[0m             \u001b[0mjob_idx\u001b[0m \u001b[1;33m=\u001b[0m \u001b[0mlen\u001b[0m\u001b[1;33m(\u001b[0m\u001b[0mself\u001b[0m\u001b[1;33m.\u001b[0m\u001b[0m_jobs\u001b[0m\u001b[1;33m)\u001b[0m\u001b[1;33m\u001b[0m\u001b[1;33m\u001b[0m\u001b[0m\n\u001b[1;32m--> 784\u001b[1;33m             \u001b[0mjob\u001b[0m \u001b[1;33m=\u001b[0m \u001b[0mself\u001b[0m\u001b[1;33m.\u001b[0m\u001b[0m_backend\u001b[0m\u001b[1;33m.\u001b[0m\u001b[0mapply_async\u001b[0m\u001b[1;33m(\u001b[0m\u001b[0mbatch\u001b[0m\u001b[1;33m,\u001b[0m \u001b[0mcallback\u001b[0m\u001b[1;33m=\u001b[0m\u001b[0mcb\u001b[0m\u001b[1;33m)\u001b[0m\u001b[1;33m\u001b[0m\u001b[1;33m\u001b[0m\u001b[0m\n\u001b[0m\u001b[0;32m    785\u001b[0m             \u001b[1;31m# A job can complete so quickly than its callback is\u001b[0m\u001b[1;33m\u001b[0m\u001b[1;33m\u001b[0m\u001b[1;33m\u001b[0m\u001b[0m\n\u001b[0;32m    786\u001b[0m             \u001b[1;31m# called before we get here, causing self._jobs to\u001b[0m\u001b[1;33m\u001b[0m\u001b[1;33m\u001b[0m\u001b[1;33m\u001b[0m\u001b[0m\n",
      "\u001b[1;32mC:\\ProgramData\\Anaconda3\\lib\\site-packages\\joblib\\_parallel_backends.py\u001b[0m in \u001b[0;36mapply_async\u001b[1;34m(self, func, callback)\u001b[0m\n\u001b[0;32m    206\u001b[0m     \u001b[1;32mdef\u001b[0m \u001b[0mapply_async\u001b[0m\u001b[1;33m(\u001b[0m\u001b[0mself\u001b[0m\u001b[1;33m,\u001b[0m \u001b[0mfunc\u001b[0m\u001b[1;33m,\u001b[0m \u001b[0mcallback\u001b[0m\u001b[1;33m=\u001b[0m\u001b[1;32mNone\u001b[0m\u001b[1;33m)\u001b[0m\u001b[1;33m:\u001b[0m\u001b[1;33m\u001b[0m\u001b[1;33m\u001b[0m\u001b[0m\n\u001b[0;32m    207\u001b[0m         \u001b[1;34m\"\"\"Schedule a func to be run\"\"\"\u001b[0m\u001b[1;33m\u001b[0m\u001b[1;33m\u001b[0m\u001b[0m\n\u001b[1;32m--> 208\u001b[1;33m         \u001b[0mresult\u001b[0m \u001b[1;33m=\u001b[0m \u001b[0mImmediateResult\u001b[0m\u001b[1;33m(\u001b[0m\u001b[0mfunc\u001b[0m\u001b[1;33m)\u001b[0m\u001b[1;33m\u001b[0m\u001b[1;33m\u001b[0m\u001b[0m\n\u001b[0m\u001b[0;32m    209\u001b[0m         \u001b[1;32mif\u001b[0m \u001b[0mcallback\u001b[0m\u001b[1;33m:\u001b[0m\u001b[1;33m\u001b[0m\u001b[1;33m\u001b[0m\u001b[0m\n\u001b[0;32m    210\u001b[0m             \u001b[0mcallback\u001b[0m\u001b[1;33m(\u001b[0m\u001b[0mresult\u001b[0m\u001b[1;33m)\u001b[0m\u001b[1;33m\u001b[0m\u001b[1;33m\u001b[0m\u001b[0m\n",
      "\u001b[1;32mC:\\ProgramData\\Anaconda3\\lib\\site-packages\\joblib\\_parallel_backends.py\u001b[0m in \u001b[0;36m__init__\u001b[1;34m(self, batch)\u001b[0m\n\u001b[0;32m    570\u001b[0m         \u001b[1;31m# Don't delay the application, to avoid keeping the input\u001b[0m\u001b[1;33m\u001b[0m\u001b[1;33m\u001b[0m\u001b[1;33m\u001b[0m\u001b[0m\n\u001b[0;32m    571\u001b[0m         \u001b[1;31m# arguments in memory\u001b[0m\u001b[1;33m\u001b[0m\u001b[1;33m\u001b[0m\u001b[1;33m\u001b[0m\u001b[0m\n\u001b[1;32m--> 572\u001b[1;33m         \u001b[0mself\u001b[0m\u001b[1;33m.\u001b[0m\u001b[0mresults\u001b[0m \u001b[1;33m=\u001b[0m \u001b[0mbatch\u001b[0m\u001b[1;33m(\u001b[0m\u001b[1;33m)\u001b[0m\u001b[1;33m\u001b[0m\u001b[1;33m\u001b[0m\u001b[0m\n\u001b[0m\u001b[0;32m    573\u001b[0m \u001b[1;33m\u001b[0m\u001b[0m\n\u001b[0;32m    574\u001b[0m     \u001b[1;32mdef\u001b[0m \u001b[0mget\u001b[0m\u001b[1;33m(\u001b[0m\u001b[0mself\u001b[0m\u001b[1;33m)\u001b[0m\u001b[1;33m:\u001b[0m\u001b[1;33m\u001b[0m\u001b[1;33m\u001b[0m\u001b[0m\n",
      "\u001b[1;32mC:\\ProgramData\\Anaconda3\\lib\\site-packages\\joblib\\parallel.py\u001b[0m in \u001b[0;36m__call__\u001b[1;34m(self)\u001b[0m\n\u001b[0;32m    260\u001b[0m         \u001b[1;31m# change the default number of processes to -1\u001b[0m\u001b[1;33m\u001b[0m\u001b[1;33m\u001b[0m\u001b[1;33m\u001b[0m\u001b[0m\n\u001b[0;32m    261\u001b[0m         \u001b[1;32mwith\u001b[0m \u001b[0mparallel_backend\u001b[0m\u001b[1;33m(\u001b[0m\u001b[0mself\u001b[0m\u001b[1;33m.\u001b[0m\u001b[0m_backend\u001b[0m\u001b[1;33m,\u001b[0m \u001b[0mn_jobs\u001b[0m\u001b[1;33m=\u001b[0m\u001b[0mself\u001b[0m\u001b[1;33m.\u001b[0m\u001b[0m_n_jobs\u001b[0m\u001b[1;33m)\u001b[0m\u001b[1;33m:\u001b[0m\u001b[1;33m\u001b[0m\u001b[1;33m\u001b[0m\u001b[0m\n\u001b[1;32m--> 262\u001b[1;33m             return [func(*args, **kwargs)\n\u001b[0m\u001b[0;32m    263\u001b[0m                     for func, args, kwargs in self.items]\n\u001b[0;32m    264\u001b[0m \u001b[1;33m\u001b[0m\u001b[0m\n",
      "\u001b[1;32mC:\\ProgramData\\Anaconda3\\lib\\site-packages\\joblib\\parallel.py\u001b[0m in \u001b[0;36m<listcomp>\u001b[1;34m(.0)\u001b[0m\n\u001b[0;32m    260\u001b[0m         \u001b[1;31m# change the default number of processes to -1\u001b[0m\u001b[1;33m\u001b[0m\u001b[1;33m\u001b[0m\u001b[1;33m\u001b[0m\u001b[0m\n\u001b[0;32m    261\u001b[0m         \u001b[1;32mwith\u001b[0m \u001b[0mparallel_backend\u001b[0m\u001b[1;33m(\u001b[0m\u001b[0mself\u001b[0m\u001b[1;33m.\u001b[0m\u001b[0m_backend\u001b[0m\u001b[1;33m,\u001b[0m \u001b[0mn_jobs\u001b[0m\u001b[1;33m=\u001b[0m\u001b[0mself\u001b[0m\u001b[1;33m.\u001b[0m\u001b[0m_n_jobs\u001b[0m\u001b[1;33m)\u001b[0m\u001b[1;33m:\u001b[0m\u001b[1;33m\u001b[0m\u001b[1;33m\u001b[0m\u001b[0m\n\u001b[1;32m--> 262\u001b[1;33m             return [func(*args, **kwargs)\n\u001b[0m\u001b[0;32m    263\u001b[0m                     for func, args, kwargs in self.items]\n\u001b[0;32m    264\u001b[0m \u001b[1;33m\u001b[0m\u001b[0m\n",
      "\u001b[1;32mC:\\ProgramData\\Anaconda3\\lib\\site-packages\\surprise\\model_selection\\validation.py\u001b[0m in \u001b[0;36mfit_and_score\u001b[1;34m(algo, trainset, testset, measures, return_train_measures)\u001b[0m\n\u001b[0;32m    164\u001b[0m \u001b[1;33m\u001b[0m\u001b[0m\n\u001b[0;32m    165\u001b[0m     \u001b[0mstart_fit\u001b[0m \u001b[1;33m=\u001b[0m \u001b[0mtime\u001b[0m\u001b[1;33m.\u001b[0m\u001b[0mtime\u001b[0m\u001b[1;33m(\u001b[0m\u001b[1;33m)\u001b[0m\u001b[1;33m\u001b[0m\u001b[1;33m\u001b[0m\u001b[0m\n\u001b[1;32m--> 166\u001b[1;33m     \u001b[0malgo\u001b[0m\u001b[1;33m.\u001b[0m\u001b[0mfit\u001b[0m\u001b[1;33m(\u001b[0m\u001b[0mtrainset\u001b[0m\u001b[1;33m)\u001b[0m\u001b[1;33m\u001b[0m\u001b[1;33m\u001b[0m\u001b[0m\n\u001b[0m\u001b[0;32m    167\u001b[0m     \u001b[0mfit_time\u001b[0m \u001b[1;33m=\u001b[0m \u001b[0mtime\u001b[0m\u001b[1;33m.\u001b[0m\u001b[0mtime\u001b[0m\u001b[1;33m(\u001b[0m\u001b[1;33m)\u001b[0m \u001b[1;33m-\u001b[0m \u001b[0mstart_fit\u001b[0m\u001b[1;33m\u001b[0m\u001b[1;33m\u001b[0m\u001b[0m\n\u001b[0;32m    168\u001b[0m     \u001b[0mstart_test\u001b[0m \u001b[1;33m=\u001b[0m \u001b[0mtime\u001b[0m\u001b[1;33m.\u001b[0m\u001b[0mtime\u001b[0m\u001b[1;33m(\u001b[0m\u001b[1;33m)\u001b[0m\u001b[1;33m\u001b[0m\u001b[1;33m\u001b[0m\u001b[0m\n",
      "\u001b[1;32mC:\\ProgramData\\Anaconda3\\lib\\site-packages\\surprise\\prediction_algorithms\\knns.py\u001b[0m in \u001b[0;36mfit\u001b[1;34m(self, trainset)\u001b[0m\n\u001b[0;32m    176\u001b[0m \u001b[1;33m\u001b[0m\u001b[0m\n\u001b[0;32m    177\u001b[0m         \u001b[0mSymmetricAlgo\u001b[0m\u001b[1;33m.\u001b[0m\u001b[0mfit\u001b[0m\u001b[1;33m(\u001b[0m\u001b[0mself\u001b[0m\u001b[1;33m,\u001b[0m \u001b[0mtrainset\u001b[0m\u001b[1;33m)\u001b[0m\u001b[1;33m\u001b[0m\u001b[1;33m\u001b[0m\u001b[0m\n\u001b[1;32m--> 178\u001b[1;33m         \u001b[0mself\u001b[0m\u001b[1;33m.\u001b[0m\u001b[0msim\u001b[0m \u001b[1;33m=\u001b[0m \u001b[0mself\u001b[0m\u001b[1;33m.\u001b[0m\u001b[0mcompute_similarities\u001b[0m\u001b[1;33m(\u001b[0m\u001b[1;33m)\u001b[0m\u001b[1;33m\u001b[0m\u001b[1;33m\u001b[0m\u001b[0m\n\u001b[0m\u001b[0;32m    179\u001b[0m \u001b[1;33m\u001b[0m\u001b[0m\n\u001b[0;32m    180\u001b[0m         \u001b[0mself\u001b[0m\u001b[1;33m.\u001b[0m\u001b[0mmeans\u001b[0m \u001b[1;33m=\u001b[0m \u001b[0mnp\u001b[0m\u001b[1;33m.\u001b[0m\u001b[0mzeros\u001b[0m\u001b[1;33m(\u001b[0m\u001b[0mself\u001b[0m\u001b[1;33m.\u001b[0m\u001b[0mn_x\u001b[0m\u001b[1;33m)\u001b[0m\u001b[1;33m\u001b[0m\u001b[1;33m\u001b[0m\u001b[0m\n",
      "\u001b[1;32mC:\\ProgramData\\Anaconda3\\lib\\site-packages\\surprise\\prediction_algorithms\\algo_base.py\u001b[0m in \u001b[0;36mcompute_similarities\u001b[1;34m(self)\u001b[0m\n\u001b[0;32m    247\u001b[0m             \u001b[1;32mif\u001b[0m \u001b[0mgetattr\u001b[0m\u001b[1;33m(\u001b[0m\u001b[0mself\u001b[0m\u001b[1;33m,\u001b[0m \u001b[1;34m'verbose'\u001b[0m\u001b[1;33m,\u001b[0m \u001b[1;32mFalse\u001b[0m\u001b[1;33m)\u001b[0m\u001b[1;33m:\u001b[0m\u001b[1;33m\u001b[0m\u001b[1;33m\u001b[0m\u001b[0m\n\u001b[0;32m    248\u001b[0m                 \u001b[0mprint\u001b[0m\u001b[1;33m(\u001b[0m\u001b[1;34m'Computing the {0} similarity matrix...'\u001b[0m\u001b[1;33m.\u001b[0m\u001b[0mformat\u001b[0m\u001b[1;33m(\u001b[0m\u001b[0mname\u001b[0m\u001b[1;33m)\u001b[0m\u001b[1;33m)\u001b[0m\u001b[1;33m\u001b[0m\u001b[1;33m\u001b[0m\u001b[0m\n\u001b[1;32m--> 249\u001b[1;33m             \u001b[0msim\u001b[0m \u001b[1;33m=\u001b[0m \u001b[0mconstruction_func\u001b[0m\u001b[1;33m[\u001b[0m\u001b[0mname\u001b[0m\u001b[1;33m]\u001b[0m\u001b[1;33m(\u001b[0m\u001b[1;33m*\u001b[0m\u001b[0margs\u001b[0m\u001b[1;33m)\u001b[0m\u001b[1;33m\u001b[0m\u001b[1;33m\u001b[0m\u001b[0m\n\u001b[0m\u001b[0;32m    250\u001b[0m             \u001b[1;32mif\u001b[0m \u001b[0mgetattr\u001b[0m\u001b[1;33m(\u001b[0m\u001b[0mself\u001b[0m\u001b[1;33m,\u001b[0m \u001b[1;34m'verbose'\u001b[0m\u001b[1;33m,\u001b[0m \u001b[1;32mFalse\u001b[0m\u001b[1;33m)\u001b[0m\u001b[1;33m:\u001b[0m\u001b[1;33m\u001b[0m\u001b[1;33m\u001b[0m\u001b[0m\n\u001b[0;32m    251\u001b[0m                 \u001b[0mprint\u001b[0m\u001b[1;33m(\u001b[0m\u001b[1;34m'Done computing similarity matrix.'\u001b[0m\u001b[1;33m)\u001b[0m\u001b[1;33m\u001b[0m\u001b[1;33m\u001b[0m\u001b[0m\n",
      "\u001b[1;32mC:\\ProgramData\\Anaconda3\\lib\\site-packages\\surprise\\similarities.pyx\u001b[0m in \u001b[0;36msurprise.similarities.pearson_baseline\u001b[1;34m()\u001b[0m\n",
      "\u001b[1;31mMemoryError\u001b[0m: Unable to allocate 9.15 GiB for an array with shape (49566, 49566) and data type int32"
     ]
    }
   ],
   "source": [
    "grid_3.fit(surprise_df)"
   ]
  },
  {
   "cell_type": "code",
   "execution_count": null,
   "metadata": {
    "ExecuteTime": {
     "end_time": "2021-08-02T17:40:15.838958Z",
     "start_time": "2021-08-02T16:29:35.261Z"
    }
   },
   "outputs": [],
   "source": [
    "print(grid_3.best_score)\n",
    "print(grid_3.best_params)\n",
    "best_algo = grid_3.best_estimator['rmse']"
   ]
  },
  {
   "cell_type": "markdown",
   "metadata": {},
   "source": [
    "Обучим на трейн датасет и проверим на валидационном"
   ]
  },
  {
   "cell_type": "code",
   "execution_count": null,
   "metadata": {
    "ExecuteTime": {
     "end_time": "2021-08-02T17:40:15.838958Z",
     "start_time": "2021-08-02T16:30:47.637Z"
    }
   },
   "outputs": [],
   "source": [
    "best_algo.fit(train_dataset)\n",
    "y_pred = best_algo.test(test_dataset)\n",
    "accuracy.rmse(y_pred)"
   ]
  },
  {
   "cell_type": "code",
   "execution_count": null,
   "metadata": {
    "ExecuteTime": {
     "end_time": "2021-08-02T17:40:15.838958Z",
     "start_time": "2021-08-02T16:30:50.325Z"
    },
    "scrolled": false
   },
   "outputs": [],
   "source": [
    "result_df = pd.DataFrame.from_dict(grid_3.cv_results)\n",
    "result_df.sort_values(by='rank_test_rmse',ascending = True).head(3)"
   ]
  },
  {
   "cell_type": "markdown",
   "metadata": {},
   "source": [
    " **Не хватило памяти** просит 9.15Гб RAM под 1м датасет.  \n",
    "Для 100кб датасета результаты в выводы смотрите ниже."
   ]
  },
  {
   "cell_type": "markdown",
   "metadata": {},
   "source": [
    "#### Попробуем прогнать SVD (на основе скрытых рекомендаций)\n",
    "он считается быстрее всех и показывает наилучший результат: "
   ]
  },
  {
   "cell_type": "code",
   "execution_count": 42,
   "metadata": {
    "ExecuteTime": {
     "end_time": "2021-08-03T07:43:48.744769Z",
     "start_time": "2021-08-03T07:39:42.690419Z"
    }
   },
   "outputs": [],
   "source": [
    "# train_test_split .15\n",
    "train_dataset, test_dataset = train_test_split(surprise_df, test_size=.15 )\n",
    "del surprise_df"
   ]
  },
  {
   "cell_type": "code",
   "execution_count": 43,
   "metadata": {
    "ExecuteTime": {
     "end_time": "2021-08-03T08:16:04.774502Z",
     "start_time": "2021-08-03T07:43:48.804769Z"
    }
   },
   "outputs": [
    {
     "name": "stdout",
     "output_type": "stream",
     "text": [
      "RMSE: 0.7916\n"
     ]
    },
    {
     "data": {
      "text/plain": [
       "0.7915949123110518"
      ]
     },
     "execution_count": 43,
     "metadata": {},
     "output_type": "execute_result"
    }
   ],
   "source": [
    "svd = SVD(n_factors=20,n_epochs=30).fit(train_dataset)\n",
    "y_pred = svd.test(test_dataset)\n",
    "accuracy.rmse(y_pred)"
   ]
  },
  {
   "cell_type": "code",
   "execution_count": null,
   "metadata": {},
   "outputs": [],
   "source": []
  },
  {
   "cell_type": "markdown",
   "metadata": {},
   "source": [
    "### Выводы по всей работе: \n",
    "\n",
    "*Все результаты получены только на отложенной выборке. Самые лучшие параметры из GridSearch заново обучались на train и валидировались на test.*\n",
    "\n",
    "\n",
    "На 100Кб датасете:\n",
    "\n",
    "- Метод **SVD pp и SVD** rootMSE = .87  (по сути один и тот же алгоритм) Алгоритмы работают на основе скрытых рекомендаций, с заданным количеством скрытых факторов =20.\n",
    "- Метод **KNNwithMeans** rootMSE = 0.88 (**Item based**  кол-во похожих фильмов  50 (к = 50) дистанция по Пирсону)\n",
    "- Метод **KNNBasic** rootMSE = 0.91  (метод оптимизации функции потерь - Стохасстический Градиентный Спуск (SGD) **Item Based** по Пирсону)\n",
    "    \n",
    "Самый лучший результат на 100Кб датасете:  **SVD** rootMSE = **.87 **\n",
    "\n",
    "На 1М датасете:\n",
    "\n",
    "- запустить **KNNwithMeans** или **KNNBasic** не удалось - по нехватке памяти RAM ( просит 9.5 Гб)\n",
    "- Метод **SVD** выдал rootMSE = .79  (на основе скрытых рекомендаций, с заданным количеством скрытых факторов =20).\n",
    "\n",
    "И снова, самый лучший результат на 1М датасете:  **SVD** rootMSE = **.79 ** "
   ]
  }
 ],
 "metadata": {
  "kernelspec": {
   "display_name": "Python 3",
   "language": "python",
   "name": "python3"
  },
  "language_info": {
   "codemirror_mode": {
    "name": "ipython",
    "version": 3
   },
   "file_extension": ".py",
   "mimetype": "text/x-python",
   "name": "python",
   "nbconvert_exporter": "python",
   "pygments_lexer": "ipython3",
   "version": "3.8.5"
  }
 },
 "nbformat": 4,
 "nbformat_minor": 4
}
