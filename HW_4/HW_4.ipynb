{
 "cells": [
  {
   "cell_type": "code",
   "execution_count": 1,
   "metadata": {
    "ExecuteTime": {
     "end_time": "2021-07-13T14:38:25.962415Z",
     "start_time": "2021-07-13T14:38:23.500410Z"
    }
   },
   "outputs": [],
   "source": [
    "import numpy as np\n",
    "import pandas as pd\n",
    "\n",
    "from sklearn.linear_model import LinearRegression\n",
    "from sklearn.model_selection import train_test_split\n",
    "import matplotlib.pyplot as plt\n",
    "%matplotlib inline\n",
    "\n",
    "import random\n",
    "import scipy.stats as stats\n",
    "\n",
    "from sklearn.preprocessing import StandardScaler\n",
    "scaler = StandardScaler()"
   ]
  },
  {
   "cell_type": "code",
   "execution_count": 18,
   "metadata": {
    "ExecuteTime": {
     "end_time": "2021-07-13T14:40:30.217607Z",
     "start_time": "2021-07-13T14:40:30.147607Z"
    }
   },
   "outputs": [
    {
     "data": {
      "text/html": [
       "<div>\n",
       "<style scoped>\n",
       "    .dataframe tbody tr th:only-of-type {\n",
       "        vertical-align: middle;\n",
       "    }\n",
       "\n",
       "    .dataframe tbody tr th {\n",
       "        vertical-align: top;\n",
       "    }\n",
       "\n",
       "    .dataframe thead th {\n",
       "        text-align: right;\n",
       "    }\n",
       "</style>\n",
       "<table border=\"1\" class=\"dataframe\">\n",
       "  <thead>\n",
       "    <tr style=\"text-align: right;\">\n",
       "      <th></th>\n",
       "      <th>car_distance</th>\n",
       "      <th>car_brand</th>\n",
       "      <th>car_hp</th>\n",
       "    </tr>\n",
       "  </thead>\n",
       "  <tbody>\n",
       "    <tr>\n",
       "      <th>0</th>\n",
       "      <td>117.167784</td>\n",
       "      <td>VW</td>\n",
       "      <td>118.4</td>\n",
       "    </tr>\n",
       "    <tr>\n",
       "      <th>1</th>\n",
       "      <td>105.893311</td>\n",
       "      <td>Skoda</td>\n",
       "      <td>75.7</td>\n",
       "    </tr>\n",
       "    <tr>\n",
       "      <th>2</th>\n",
       "      <td>80.425183</td>\n",
       "      <td>Audi</td>\n",
       "      <td>47.2</td>\n",
       "    </tr>\n",
       "    <tr>\n",
       "      <th>3</th>\n",
       "      <td>99.526848</td>\n",
       "      <td>MB</td>\n",
       "      <td>256.3</td>\n",
       "    </tr>\n",
       "    <tr>\n",
       "      <th>4</th>\n",
       "      <td>29.485803</td>\n",
       "      <td>VW</td>\n",
       "      <td>129.0</td>\n",
       "    </tr>\n",
       "  </tbody>\n",
       "</table>\n",
       "</div>"
      ],
      "text/plain": [
       "   car_distance car_brand  car_hp\n",
       "0    117.167784        VW   118.4\n",
       "1    105.893311     Skoda    75.7\n",
       "2     80.425183      Audi    47.2\n",
       "3     99.526848        MB   256.3\n",
       "4     29.485803        VW   129.0"
      ]
     },
     "execution_count": 18,
     "metadata": {},
     "output_type": "execute_result"
    }
   ],
   "source": [
    "#let's make dataframe. Used car auction\n",
    "SIZE = 100000\n",
    "\n",
    "car_distance = abs(stats.norm.rvs(loc = 100, scale = 50,size = SIZE ))\n",
    "brands = ['VW','Skoda', 'Mini', 'MB', 'BMW', 'Audi']\n",
    "probabilities = [.2, .2 , .1 , .3 , .05, .15]\n",
    "car_brand = np.random.choice(brands, SIZE, p=probabilities)\n",
    "\n",
    "car_hp = np.round(abs(np.random.choice(200,SIZE) + stats.norm.rvs(loc = 0, scale = 50,size = SIZE ) ),1)\n",
    "\n",
    "df = pd.DataFrame({ 'car_distance':car_distance, 'car_brand':car_brand, 'car_hp': car_hp}) # collect 'em all\n",
    "\n",
    "df.head()"
   ]
  },
  {
   "cell_type": "code",
   "execution_count": 19,
   "metadata": {
    "ExecuteTime": {
     "end_time": "2021-07-13T14:40:35.668614Z",
     "start_time": "2021-07-13T14:40:35.618614Z"
    }
   },
   "outputs": [
    {
     "data": {
      "text/html": [
       "<div>\n",
       "<style scoped>\n",
       "    .dataframe tbody tr th:only-of-type {\n",
       "        vertical-align: middle;\n",
       "    }\n",
       "\n",
       "    .dataframe tbody tr th {\n",
       "        vertical-align: top;\n",
       "    }\n",
       "\n",
       "    .dataframe thead th {\n",
       "        text-align: right;\n",
       "    }\n",
       "</style>\n",
       "<table border=\"1\" class=\"dataframe\">\n",
       "  <thead>\n",
       "    <tr style=\"text-align: right;\">\n",
       "      <th></th>\n",
       "      <th>car_distance</th>\n",
       "      <th>car_hp</th>\n",
       "      <th>car_brand_Audi</th>\n",
       "      <th>car_brand_BMW</th>\n",
       "      <th>car_brand_MB</th>\n",
       "      <th>car_brand_Mini</th>\n",
       "      <th>car_brand_Skoda</th>\n",
       "      <th>car_brand_VW</th>\n",
       "    </tr>\n",
       "  </thead>\n",
       "  <tbody>\n",
       "    <tr>\n",
       "      <th>0</th>\n",
       "      <td>117.167784</td>\n",
       "      <td>118.4</td>\n",
       "      <td>0</td>\n",
       "      <td>0</td>\n",
       "      <td>0</td>\n",
       "      <td>0</td>\n",
       "      <td>0</td>\n",
       "      <td>1</td>\n",
       "    </tr>\n",
       "    <tr>\n",
       "      <th>1</th>\n",
       "      <td>105.893311</td>\n",
       "      <td>75.7</td>\n",
       "      <td>0</td>\n",
       "      <td>0</td>\n",
       "      <td>0</td>\n",
       "      <td>0</td>\n",
       "      <td>1</td>\n",
       "      <td>0</td>\n",
       "    </tr>\n",
       "    <tr>\n",
       "      <th>2</th>\n",
       "      <td>80.425183</td>\n",
       "      <td>47.2</td>\n",
       "      <td>1</td>\n",
       "      <td>0</td>\n",
       "      <td>0</td>\n",
       "      <td>0</td>\n",
       "      <td>0</td>\n",
       "      <td>0</td>\n",
       "    </tr>\n",
       "    <tr>\n",
       "      <th>3</th>\n",
       "      <td>99.526848</td>\n",
       "      <td>256.3</td>\n",
       "      <td>0</td>\n",
       "      <td>0</td>\n",
       "      <td>1</td>\n",
       "      <td>0</td>\n",
       "      <td>0</td>\n",
       "      <td>0</td>\n",
       "    </tr>\n",
       "    <tr>\n",
       "      <th>4</th>\n",
       "      <td>29.485803</td>\n",
       "      <td>129.0</td>\n",
       "      <td>0</td>\n",
       "      <td>0</td>\n",
       "      <td>0</td>\n",
       "      <td>0</td>\n",
       "      <td>0</td>\n",
       "      <td>1</td>\n",
       "    </tr>\n",
       "  </tbody>\n",
       "</table>\n",
       "</div>"
      ],
      "text/plain": [
       "   car_distance  car_hp  car_brand_Audi  car_brand_BMW  car_brand_MB  \\\n",
       "0    117.167784   118.4               0              0             0   \n",
       "1    105.893311    75.7               0              0             0   \n",
       "2     80.425183    47.2               1              0             0   \n",
       "3     99.526848   256.3               0              0             1   \n",
       "4     29.485803   129.0               0              0             0   \n",
       "\n",
       "   car_brand_Mini  car_brand_Skoda  car_brand_VW  \n",
       "0               0                0             1  \n",
       "1               0                1             0  \n",
       "2               0                0             0  \n",
       "3               0                0             0  \n",
       "4               0                0             1  "
      ]
     },
     "execution_count": 19,
     "metadata": {},
     "output_type": "execute_result"
    }
   ],
   "source": [
    "df = pd.get_dummies(df)    # make columns for car brands like car_brand_MB\n",
    "df.head()"
   ]
  },
  {
   "cell_type": "markdown",
   "metadata": {},
   "source": [
    "###  we will make special variable: \n",
    "- car_hp^2"
   ]
  },
  {
   "cell_type": "code",
   "execution_count": 72,
   "metadata": {
    "ExecuteTime": {
     "end_time": "2021-07-13T15:22:19.931636Z",
     "start_time": "2021-07-13T15:22:19.891636Z"
    }
   },
   "outputs": [
    {
     "data": {
      "text/html": [
       "<div>\n",
       "<style scoped>\n",
       "    .dataframe tbody tr th:only-of-type {\n",
       "        vertical-align: middle;\n",
       "    }\n",
       "\n",
       "    .dataframe tbody tr th {\n",
       "        vertical-align: top;\n",
       "    }\n",
       "\n",
       "    .dataframe thead th {\n",
       "        text-align: right;\n",
       "    }\n",
       "</style>\n",
       "<table border=\"1\" class=\"dataframe\">\n",
       "  <thead>\n",
       "    <tr style=\"text-align: right;\">\n",
       "      <th></th>\n",
       "      <th>car_distance</th>\n",
       "      <th>car_hp</th>\n",
       "      <th>car_brand_Audi</th>\n",
       "      <th>car_brand_BMW</th>\n",
       "      <th>car_brand_MB</th>\n",
       "      <th>car_brand_Mini</th>\n",
       "      <th>car_brand_Skoda</th>\n",
       "      <th>car_brand_VW</th>\n",
       "      <th>car_hp^2</th>\n",
       "      <th>car_price</th>\n",
       "    </tr>\n",
       "  </thead>\n",
       "  <tbody>\n",
       "    <tr>\n",
       "      <th>0</th>\n",
       "      <td>117.167784</td>\n",
       "      <td>118.4</td>\n",
       "      <td>0</td>\n",
       "      <td>0</td>\n",
       "      <td>0</td>\n",
       "      <td>0</td>\n",
       "      <td>0</td>\n",
       "      <td>1</td>\n",
       "      <td>14018.56</td>\n",
       "      <td>8529.25</td>\n",
       "    </tr>\n",
       "    <tr>\n",
       "      <th>1</th>\n",
       "      <td>105.893311</td>\n",
       "      <td>75.7</td>\n",
       "      <td>0</td>\n",
       "      <td>0</td>\n",
       "      <td>0</td>\n",
       "      <td>0</td>\n",
       "      <td>1</td>\n",
       "      <td>0</td>\n",
       "      <td>5730.49</td>\n",
       "      <td>8227.59</td>\n",
       "    </tr>\n",
       "    <tr>\n",
       "      <th>2</th>\n",
       "      <td>80.425183</td>\n",
       "      <td>47.2</td>\n",
       "      <td>1</td>\n",
       "      <td>0</td>\n",
       "      <td>0</td>\n",
       "      <td>0</td>\n",
       "      <td>0</td>\n",
       "      <td>0</td>\n",
       "      <td>2227.84</td>\n",
       "      <td>8307.14</td>\n",
       "    </tr>\n",
       "    <tr>\n",
       "      <th>3</th>\n",
       "      <td>99.526848</td>\n",
       "      <td>256.3</td>\n",
       "      <td>0</td>\n",
       "      <td>0</td>\n",
       "      <td>1</td>\n",
       "      <td>0</td>\n",
       "      <td>0</td>\n",
       "      <td>0</td>\n",
       "      <td>65689.69</td>\n",
       "      <td>11289.22</td>\n",
       "    </tr>\n",
       "    <tr>\n",
       "      <th>4</th>\n",
       "      <td>29.485803</td>\n",
       "      <td>129.0</td>\n",
       "      <td>0</td>\n",
       "      <td>0</td>\n",
       "      <td>0</td>\n",
       "      <td>0</td>\n",
       "      <td>0</td>\n",
       "      <td>1</td>\n",
       "      <td>16641.00</td>\n",
       "      <td>9537.19</td>\n",
       "    </tr>\n",
       "  </tbody>\n",
       "</table>\n",
       "</div>"
      ],
      "text/plain": [
       "   car_distance  car_hp  car_brand_Audi  car_brand_BMW  car_brand_MB  \\\n",
       "0    117.167784   118.4               0              0             0   \n",
       "1    105.893311    75.7               0              0             0   \n",
       "2     80.425183    47.2               1              0             0   \n",
       "3     99.526848   256.3               0              0             1   \n",
       "4     29.485803   129.0               0              0             0   \n",
       "\n",
       "   car_brand_Mini  car_brand_Skoda  car_brand_VW  car_hp^2  car_price  \n",
       "0               0                0             1  14018.56    8529.25  \n",
       "1               0                1             0   5730.49    8227.59  \n",
       "2               0                0             0   2227.84    8307.14  \n",
       "3               0                0             0  65689.69   11289.22  \n",
       "4               0                0             1  16641.00    9537.19  "
      ]
     },
     "execution_count": 72,
     "metadata": {},
     "output_type": "execute_result"
    }
   ],
   "source": [
    "bias = 9000\n",
    "# we will make special variable: car_hp**2\n",
    "car_price = bias - 10 * car_distance  + 0.05 * car_hp**2  # and make target variable\n",
    "\n",
    "car_price = np.round(car_price,2)\n",
    "\n",
    "df['car_price'] = car_price\n",
    "df.head()"
   ]
  },
  {
   "cell_type": "code",
   "execution_count": 42,
   "metadata": {
    "ExecuteTime": {
     "end_time": "2021-07-13T14:46:39.503132Z",
     "start_time": "2021-07-13T14:46:38.211127Z"
    }
   },
   "outputs": [
    {
     "data": {
      "image/png": "[encoded data removed]",
      "text/plain": [
       "<Figure size 432x288 with 1 Axes>"
      ]
     },
     "metadata": {
      "needs_background": "light"
     },
     "output_type": "display_data"
    },
    {
     "data": {
      "image/png": "[encoded data removed]",
      "text/plain": [
       "<Figure size 432x288 with 1 Axes>"
      ]
     },
     "metadata": {
      "needs_background": "light"
     },
     "output_type": "display_data"
    },
    {
     "data": {
      "image/png": "[encoded data removed]",
      "text/plain": [
       "<Figure size 432x288 with 1 Axes>"
      ]
     },
     "metadata": {
      "needs_background": "light"
     },
     "output_type": "display_data"
    }
   ],
   "source": [
    "# Visualise columns:\n",
    "df.car_distance.hist(bins=30)\n",
    "plt.title('car_distance')\n",
    "plt.show()\n",
    "\n",
    "df.car_hp.hist(bins=20)\n",
    "plt.title('car_hp')\n",
    "plt.show()\n",
    "\n",
    "df.car_price.hist(bins=40)\n",
    "plt.title('car_price');"
   ]
  },
  {
   "cell_type": "code",
   "execution_count": 43,
   "metadata": {
    "ExecuteTime": {
     "end_time": "2021-07-13T14:46:42.586138Z",
     "start_time": "2021-07-13T14:46:42.556138Z"
    }
   },
   "outputs": [],
   "source": [
    "df = df.drop('car_price',axis=1)"
   ]
  },
  {
   "cell_type": "code",
   "execution_count": 44,
   "metadata": {
    "ExecuteTime": {
     "end_time": "2021-07-13T14:46:44.656141Z",
     "start_time": "2021-07-13T14:46:44.616141Z"
    }
   },
   "outputs": [
    {
     "data": {
      "text/plain": [
       "((67000, 9), (33000, 9), (67000,), (33000,))"
      ]
     },
     "execution_count": 44,
     "metadata": {},
     "output_type": "execute_result"
    }
   ],
   "source": [
    "# let's split train test\n",
    "X_train, X_test, y_train, y_test = train_test_split(df.loc[:,df.columns], car_price, test_size =0.33 )\n",
    "X_train.shape, X_test.shape ,y_train.shape, y_test.shape"
   ]
  },
  {
   "cell_type": "code",
   "execution_count": 45,
   "metadata": {
    "ExecuteTime": {
     "end_time": "2021-07-13T14:46:50.086149Z",
     "start_time": "2021-07-13T14:46:50.036149Z"
    }
   },
   "outputs": [],
   "source": [
    "# call for Linear Regression\n",
    "lin_reg = LinearRegression(fit_intercept=True,normalize=False,n_jobs=-1)\n",
    "X_train = scaler.fit_transform(X_train)"
   ]
  },
  {
   "cell_type": "code",
   "execution_count": 48,
   "metadata": {
    "ExecuteTime": {
     "end_time": "2021-07-13T14:47:13.339182Z",
     "start_time": "2021-07-13T14:47:13.279182Z"
    }
   },
   "outputs": [
    {
     "data": {
      "text/plain": [
       "-3177990221.674133"
      ]
     },
     "execution_count": 48,
     "metadata": {},
     "output_type": "execute_result"
    }
   ],
   "source": [
    "# fit linear regression and check score\n",
    "lin_reg.fit(X_train,y_train)\n",
    "X_test = scaler.fit_transform(X_test)\n",
    "lin_reg.score(X_test, y_test)"
   ]
  },
  {
   "cell_type": "code",
   "execution_count": 49,
   "metadata": {
    "ExecuteTime": {
     "end_time": "2021-07-13T14:47:16.710186Z",
     "start_time": "2021-07-13T14:47:16.690186Z"
    }
   },
   "outputs": [
    {
     "data": {
      "text/plain": [
       "([(-479.9452956831262, 'car_distance'),\n",
       "  (-3.432158809069108e-05, 'car_hp'),\n",
       "  (3426030467.475649, 'car_brand_Audi'),\n",
       "  (2093954092.979082, 'car_brand_BMW'),\n",
       "  (4423979114.550824, 'car_brand_MB'),\n",
       "  (2889518198.3471737, 'car_brand_Mini'),\n",
       "  (3855182264.0397243, 'car_brand_Skoda'),\n",
       "  (3848596640.3229656, 'car_brand_VW')],\n",
       " 8774.354020219002)"
      ]
     },
     "execution_count": 49,
     "metadata": {},
     "output_type": "execute_result"
    }
   ],
   "source": [
    "# check results\n",
    "list(zip(lin_reg.coef_, df.columns[:-1])), lin_reg.intercept_ "
   ]
  },
  {
   "cell_type": "markdown",
   "metadata": {},
   "source": [
    "Pity, what we can do.. yep, add the special parameter:"
   ]
  },
  {
   "cell_type": "markdown",
   "metadata": {},
   "source": [
    "### Add the special parameter: \n",
    "- car_hp^2"
   ]
  },
  {
   "cell_type": "code",
   "execution_count": 50,
   "metadata": {
    "ExecuteTime": {
     "end_time": "2021-07-13T14:47:35.096213Z",
     "start_time": "2021-07-13T14:47:35.066212Z"
    }
   },
   "outputs": [
    {
     "data": {
      "text/html": [
       "<div>\n",
       "<style scoped>\n",
       "    .dataframe tbody tr th:only-of-type {\n",
       "        vertical-align: middle;\n",
       "    }\n",
       "\n",
       "    .dataframe tbody tr th {\n",
       "        vertical-align: top;\n",
       "    }\n",
       "\n",
       "    .dataframe thead th {\n",
       "        text-align: right;\n",
       "    }\n",
       "</style>\n",
       "<table border=\"1\" class=\"dataframe\">\n",
       "  <thead>\n",
       "    <tr style=\"text-align: right;\">\n",
       "      <th></th>\n",
       "      <th>car_distance</th>\n",
       "      <th>car_hp</th>\n",
       "      <th>car_brand_Audi</th>\n",
       "      <th>car_brand_BMW</th>\n",
       "      <th>car_brand_MB</th>\n",
       "      <th>car_brand_Mini</th>\n",
       "      <th>car_brand_Skoda</th>\n",
       "      <th>car_brand_VW</th>\n",
       "      <th>car_hp^2</th>\n",
       "    </tr>\n",
       "  </thead>\n",
       "  <tbody>\n",
       "    <tr>\n",
       "      <th>0</th>\n",
       "      <td>117.167784</td>\n",
       "      <td>118.4</td>\n",
       "      <td>0</td>\n",
       "      <td>0</td>\n",
       "      <td>0</td>\n",
       "      <td>0</td>\n",
       "      <td>0</td>\n",
       "      <td>1</td>\n",
       "      <td>14018.56</td>\n",
       "    </tr>\n",
       "    <tr>\n",
       "      <th>1</th>\n",
       "      <td>105.893311</td>\n",
       "      <td>75.7</td>\n",
       "      <td>0</td>\n",
       "      <td>0</td>\n",
       "      <td>0</td>\n",
       "      <td>0</td>\n",
       "      <td>1</td>\n",
       "      <td>0</td>\n",
       "      <td>5730.49</td>\n",
       "    </tr>\n",
       "    <tr>\n",
       "      <th>2</th>\n",
       "      <td>80.425183</td>\n",
       "      <td>47.2</td>\n",
       "      <td>1</td>\n",
       "      <td>0</td>\n",
       "      <td>0</td>\n",
       "      <td>0</td>\n",
       "      <td>0</td>\n",
       "      <td>0</td>\n",
       "      <td>2227.84</td>\n",
       "    </tr>\n",
       "    <tr>\n",
       "      <th>3</th>\n",
       "      <td>99.526848</td>\n",
       "      <td>256.3</td>\n",
       "      <td>0</td>\n",
       "      <td>0</td>\n",
       "      <td>1</td>\n",
       "      <td>0</td>\n",
       "      <td>0</td>\n",
       "      <td>0</td>\n",
       "      <td>65689.69</td>\n",
       "    </tr>\n",
       "    <tr>\n",
       "      <th>4</th>\n",
       "      <td>29.485803</td>\n",
       "      <td>129.0</td>\n",
       "      <td>0</td>\n",
       "      <td>0</td>\n",
       "      <td>0</td>\n",
       "      <td>0</td>\n",
       "      <td>0</td>\n",
       "      <td>1</td>\n",
       "      <td>16641.00</td>\n",
       "    </tr>\n",
       "  </tbody>\n",
       "</table>\n",
       "</div>"
      ],
      "text/plain": [
       "   car_distance  car_hp  car_brand_Audi  car_brand_BMW  car_brand_MB  \\\n",
       "0    117.167784   118.4               0              0             0   \n",
       "1    105.893311    75.7               0              0             0   \n",
       "2     80.425183    47.2               1              0             0   \n",
       "3     99.526848   256.3               0              0             1   \n",
       "4     29.485803   129.0               0              0             0   \n",
       "\n",
       "   car_brand_Mini  car_brand_Skoda  car_brand_VW  car_hp^2  \n",
       "0               0                0             1  14018.56  \n",
       "1               0                1             0   5730.49  \n",
       "2               0                0             0   2227.84  \n",
       "3               0                0             0  65689.69  \n",
       "4               0                0             1  16641.00  "
      ]
     },
     "execution_count": 50,
     "metadata": {},
     "output_type": "execute_result"
    }
   ],
   "source": [
    "df['car_hp^2'] = car_hp**2 \n",
    "df.head()"
   ]
  },
  {
   "cell_type": "code",
   "execution_count": 51,
   "metadata": {
    "ExecuteTime": {
     "end_time": "2021-07-13T14:47:42.957224Z",
     "start_time": "2021-07-13T14:47:42.917224Z"
    }
   },
   "outputs": [
    {
     "data": {
      "text/plain": [
       "((67000, 9), (33000, 9), (67000,), (33000,))"
      ]
     },
     "execution_count": 51,
     "metadata": {},
     "output_type": "execute_result"
    }
   ],
   "source": [
    "# let's split train test\n",
    "X_train, X_test, y_train, y_test = train_test_split(df.loc[:,df.columns ], car_price, test_size =0.33 )\n",
    "X_train.shape, X_test.shape ,y_train.shape, y_test.shape"
   ]
  },
  {
   "cell_type": "code",
   "execution_count": 52,
   "metadata": {
    "ExecuteTime": {
     "end_time": "2021-07-13T14:47:47.778230Z",
     "start_time": "2021-07-13T14:47:47.738230Z"
    }
   },
   "outputs": [],
   "source": [
    "# call for Linear Regression\n",
    "lin_reg = LinearRegression(fit_intercept=True,normalize=False,n_jobs=-1)\n",
    "X_train = scaler.fit_transform(X_train)"
   ]
  },
  {
   "cell_type": "code",
   "execution_count": 53,
   "metadata": {
    "ExecuteTime": {
     "end_time": "2021-07-13T14:47:50.559234Z",
     "start_time": "2021-07-13T14:47:50.489234Z"
    }
   },
   "outputs": [
    {
     "data": {
      "text/plain": [
       "-2569213.3147027623"
      ]
     },
     "execution_count": 53,
     "metadata": {},
     "output_type": "execute_result"
    }
   ],
   "source": [
    "# fit linear regression and check score\n",
    "lin_reg.fit(X_train,y_train)\n",
    "X_test = scaler.fit_transform(X_test)\n",
    "lin_reg.score(X_test, y_test)"
   ]
  },
  {
   "cell_type": "code",
   "execution_count": 54,
   "metadata": {
    "ExecuteTime": {
     "end_time": "2021-07-13T14:47:54.249239Z",
     "start_time": "2021-07-13T14:47:54.229239Z"
    }
   },
   "outputs": [
    {
     "data": {
      "text/plain": [
       "([(-479.8888348504274, 'car_distance'),\n",
       "  (1.0441508536018773e-05, 'car_hp'),\n",
       "  (118922115.33972281, 'car_brand_Audi'),\n",
       "  (72629400.35810602, 'car_brand_BMW'),\n",
       "  (152967857.40839407, 'car_brand_MB'),\n",
       "  (100467335.03531167, 'car_brand_Mini'),\n",
       "  (134251800.68560535, 'car_brand_Skoda'),\n",
       "  (133372854.77834821, 'car_brand_VW'),\n",
       "  (848.2480071923644, 'car_hp^2')],\n",
       " 8777.479510902143)"
      ]
     },
     "execution_count": 54,
     "metadata": {},
     "output_type": "execute_result"
    }
   ],
   "source": [
    "# check results\n",
    "list(zip(lin_reg.coef_, df.columns)), lin_reg.intercept_ "
   ]
  },
  {
   "cell_type": "markdown",
   "metadata": {},
   "source": [
    "## Add fines for too large coef_\n",
    "## (Добавим штрафы за высокие коэффициенты) --> L1 и L2 регуляризация"
   ]
  },
  {
   "cell_type": "code",
   "execution_count": 58,
   "metadata": {
    "ExecuteTime": {
     "end_time": "2021-07-13T14:50:21.190905Z",
     "start_time": "2021-07-13T14:50:21.180905Z"
    }
   },
   "outputs": [],
   "source": [
    "from sklearn.linear_model import ElasticNet"
   ]
  },
  {
   "cell_type": "code",
   "execution_count": 68,
   "metadata": {
    "ExecuteTime": {
     "end_time": "2021-07-13T15:16:17.447107Z",
     "start_time": "2021-07-13T15:16:17.377107Z"
    }
   },
   "outputs": [
    {
     "data": {
      "text/plain": [
       "0.9999217329377562"
      ]
     },
     "execution_count": 68,
     "metadata": {},
     "output_type": "execute_result"
    }
   ],
   "source": [
    "regr = ElasticNet(l1_ratio=1)\n",
    "regr.fit(X_train, y_train)\n",
    "regr.score(X_test, y_test)"
   ]
  },
  {
   "cell_type": "code",
   "execution_count": 69,
   "metadata": {
    "ExecuteTime": {
     "end_time": "2021-07-13T15:16:25.887119Z",
     "start_time": "2021-07-13T15:16:25.877119Z"
    }
   },
   "outputs": [
    {
     "data": {
      "text/plain": [
       "([(-478.8885930215443, 'car_distance'),\n",
       "  (0.3036857121717663, 'car_hp'),\n",
       "  (-0.0, 'car_brand_Audi'),\n",
       "  (0.0, 'car_brand_BMW'),\n",
       "  (0.0, 'car_brand_MB'),\n",
       "  (-0.0, 'car_brand_Mini'),\n",
       "  (-0.0, 'car_brand_Skoda'),\n",
       "  (0.0, 'car_brand_VW'),\n",
       "  (846.9583159404542, 'car_hp^2')],\n",
       " 8777.479510895522)"
      ]
     },
     "execution_count": 69,
     "metadata": {},
     "output_type": "execute_result"
    }
   ],
   "source": [
    "list(zip(regr.coef_, df.columns)), regr.intercept_ "
   ]
  },
  {
   "cell_type": "markdown",
   "metadata": {},
   "source": [
    "### Much more better \n",
    "Результат стал лучше, программа поняла, что марки машин не иеют значения и обнулила их - что улучшило результат"
   ]
  },
  {
   "cell_type": "markdown",
   "metadata": {},
   "source": [
    "## By varing regularization approach (L1 or L2 ) we can significantly influnce on model coefs & accuracy\n",
    "Изменяя вид регуляризации ( L1 или L2) можно существенно влять на коэффициенты и точность"
   ]
  },
  {
   "cell_type": "markdown",
   "metadata": {},
   "source": [
    "for example lets take L2=1  \n",
    "Для примера, давайте возьмем L2=1 (квадраты коэффициентов)"
   ]
  },
  {
   "cell_type": "code",
   "execution_count": 70,
   "metadata": {
    "ExecuteTime": {
     "end_time": "2021-07-13T15:21:06.826530Z",
     "start_time": "2021-07-13T15:21:05.308512Z"
    }
   },
   "outputs": [
    {
     "name": "stderr",
     "output_type": "stream",
     "text": [
      "C:\\ProgramData\\Anaconda3\\lib\\site-packages\\sklearn\\linear_model\\_coordinate_descent.py:529: ConvergenceWarning: Objective did not converge. You might want to increase the number of iterations. Duality gap: 12372021779.754375, tolerance: 6361581.2749215495\n",
      "  model = cd_fast.enet_coordinate_descent(\n"
     ]
    },
    {
     "data": {
      "text/plain": [
       "0.8400440318301043"
      ]
     },
     "execution_count": 70,
     "metadata": {},
     "output_type": "execute_result"
    }
   ],
   "source": [
    "regr = ElasticNet(l1_ratio=0)\n",
    "regr.fit(X_train, y_train)\n",
    "regr.score(X_test, y_test)"
   ]
  },
  {
   "cell_type": "code",
   "execution_count": 71,
   "metadata": {
    "ExecuteTime": {
     "end_time": "2021-07-13T15:21:14.208542Z",
     "start_time": "2021-07-13T15:21:14.178542Z"
    }
   },
   "outputs": [
    {
     "data": {
      "text/plain": [
       "([(-239.91998709827118, 'car_distance'),\n",
       "  (261.1927165992781, 'car_hp'),\n",
       "  (-1.4080285599758822, 'car_brand_Audi'),\n",
       "  (0.22869439129314842, 'car_brand_BMW'),\n",
       "  (0.7823659914500097, 'car_brand_MB'),\n",
       "  (-0.3682022742711982, 'car_brand_Mini'),\n",
       "  (-1.312772749267636, 'car_brand_Skoda'),\n",
       "  (1.8324070218128667, 'car_brand_VW'),\n",
       "  (299.65193551004126, 'car_hp^2')],\n",
       " 8777.479510895522)"
      ]
     },
     "execution_count": 71,
     "metadata": {},
     "output_type": "execute_result"
    }
   ],
   "source": [
    "list(zip(regr.coef_, df.columns)), regr.intercept_ "
   ]
  },
  {
   "cell_type": "markdown",
   "metadata": {},
   "source": [
    "стало хуже, так как данный вид регуляризации L2 снижает сумму квадратов коэффициентов --> вес car_hp^2 снизился (по сравнению с L1), и марки машин получили веса чтобы уравнять дисбаланс, а мы знаем что это не путь не туда."
   ]
  }
 ],
 "metadata": {
  "kernelspec": {
   "display_name": "Python 3",
   "language": "python",
   "name": "python3"
  },
  "language_info": {
   "codemirror_mode": {
    "name": "ipython",
    "version": 3
   },
   "file_extension": ".py",
   "mimetype": "text/x-python",
   "name": "python",
   "nbconvert_exporter": "python",
   "pygments_lexer": "ipython3",
   "version": "3.8.5"
  }
 },
 "nbformat": 4,
 "nbformat_minor": 4
}
