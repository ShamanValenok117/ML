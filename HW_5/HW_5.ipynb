{
 "cells": [
  {
   "cell_type": "code",
   "execution_count": 1,
   "metadata": {
    "ExecuteTime": {
     "end_time": "2021-07-14T14:30:35.240425Z",
     "start_time": "2021-07-14T14:30:32.707420Z"
    }
   },
   "outputs": [],
   "source": [
    "import numpy as np\n",
    "import pandas as pd\n",
    "import matplotlib.pyplot as plt\n",
    "import seaborn as sns\n",
    "%matplotlib inline\n",
    "\n",
    "from sklearn.linear_model import LinearRegression,LogisticRegression,ElasticNet\n",
    "from sklearn.model_selection import train_test_split\n",
    "\n",
    "\n",
    "from sklearn.preprocessing import StandardScaler,MinMaxScaler\n",
    "scaler_Norm = StandardScaler()\n",
    "scaler_MinMax = MinMaxScaler()"
   ]
  },
  {
   "cell_type": "code",
   "execution_count": 63,
   "metadata": {
    "ExecuteTime": {
     "end_time": "2021-07-14T15:14:19.038279Z",
     "start_time": "2021-07-14T15:14:19.018279Z"
    }
   },
   "outputs": [],
   "source": [
    "def get_accuracy(X,y, model = 'linear',l1=0.5, get='score', random_state=7):\n",
    "    if model == 'linear': reg = LinearRegression()\n",
    "    elif model == 'logistic': reg = LogisticRegression()\n",
    "    else: reg = ElasticNet(l1_ratio=l1)\n",
    "    \n",
    "    X_train, X_test, y_train, y_test = train_test_split(X, y, random_state=random_state) \n",
    "    \n",
    "    if model == 'logistic': \n",
    "        y_train, y_test = y_train.astype('int'), y_test.astype('int')\n",
    "        X_train = scaler_Norm.fit_transform(X_train)\n",
    "        X_test = scaler_Norm.transform(X_test)\n",
    "    \n",
    "    reg.fit(X_train, y_train)\n",
    "    \n",
    "    if get == 'score': return reg.score(X_test,y_test)\n",
    "    else: return reg"
   ]
  },
  {
   "cell_type": "code",
   "execution_count": 3,
   "metadata": {
    "ExecuteTime": {
     "end_time": "2021-07-14T14:30:35.280425Z",
     "start_time": "2021-07-14T14:30:35.260425Z"
    }
   },
   "outputs": [],
   "source": [
    "def make_dummies(X,columns):\n",
    "    dummy = pd.get_dummies(X,columns=columns)\n",
    "    X_ = X.drop( columns=columns, axis=1 )\n",
    "    return pd.concat( (X_, dummy), axis=1 )"
   ]
  },
  {
   "cell_type": "markdown",
   "metadata": {},
   "source": [
    "### Загрузим Датафрейм"
   ]
  },
  {
   "cell_type": "code",
   "execution_count": 4,
   "metadata": {
    "ExecuteTime": {
     "end_time": "2021-07-14T14:30:35.430425Z",
     "start_time": "2021-07-14T14:30:35.280425Z"
    }
   },
   "outputs": [
    {
     "data": {
      "text/html": [
       "<div>\n",
       "<style scoped>\n",
       "    .dataframe tbody tr th:only-of-type {\n",
       "        vertical-align: middle;\n",
       "    }\n",
       "\n",
       "    .dataframe tbody tr th {\n",
       "        vertical-align: top;\n",
       "    }\n",
       "\n",
       "    .dataframe thead th {\n",
       "        text-align: right;\n",
       "    }\n",
       "</style>\n",
       "<table border=\"1\" class=\"dataframe\">\n",
       "  <thead>\n",
       "    <tr style=\"text-align: right;\">\n",
       "      <th></th>\n",
       "      <th>CRIM</th>\n",
       "      <th>ZN</th>\n",
       "      <th>INDUS</th>\n",
       "      <th>CHAS</th>\n",
       "      <th>NOX</th>\n",
       "      <th>RM</th>\n",
       "      <th>AGE</th>\n",
       "      <th>DIS</th>\n",
       "      <th>RAD</th>\n",
       "      <th>TAX</th>\n",
       "      <th>PTRATIO</th>\n",
       "      <th>B</th>\n",
       "      <th>LSTAT</th>\n",
       "      <th>MEDV</th>\n",
       "    </tr>\n",
       "  </thead>\n",
       "  <tbody>\n",
       "    <tr>\n",
       "      <th>0</th>\n",
       "      <td>0.00632</td>\n",
       "      <td>18.0</td>\n",
       "      <td>2.31</td>\n",
       "      <td>0</td>\n",
       "      <td>0.538</td>\n",
       "      <td>6.575</td>\n",
       "      <td>65.2</td>\n",
       "      <td>4.0900</td>\n",
       "      <td>1</td>\n",
       "      <td>296</td>\n",
       "      <td>15.3</td>\n",
       "      <td>396.90</td>\n",
       "      <td>4.98</td>\n",
       "      <td>24.0</td>\n",
       "    </tr>\n",
       "    <tr>\n",
       "      <th>1</th>\n",
       "      <td>0.02731</td>\n",
       "      <td>0.0</td>\n",
       "      <td>7.07</td>\n",
       "      <td>0</td>\n",
       "      <td>0.469</td>\n",
       "      <td>6.421</td>\n",
       "      <td>78.9</td>\n",
       "      <td>4.9671</td>\n",
       "      <td>2</td>\n",
       "      <td>242</td>\n",
       "      <td>17.8</td>\n",
       "      <td>396.90</td>\n",
       "      <td>9.14</td>\n",
       "      <td>21.6</td>\n",
       "    </tr>\n",
       "    <tr>\n",
       "      <th>2</th>\n",
       "      <td>0.02729</td>\n",
       "      <td>0.0</td>\n",
       "      <td>7.07</td>\n",
       "      <td>0</td>\n",
       "      <td>0.469</td>\n",
       "      <td>7.185</td>\n",
       "      <td>61.1</td>\n",
       "      <td>4.9671</td>\n",
       "      <td>2</td>\n",
       "      <td>242</td>\n",
       "      <td>17.8</td>\n",
       "      <td>392.83</td>\n",
       "      <td>4.03</td>\n",
       "      <td>34.7</td>\n",
       "    </tr>\n",
       "    <tr>\n",
       "      <th>3</th>\n",
       "      <td>0.03237</td>\n",
       "      <td>0.0</td>\n",
       "      <td>2.18</td>\n",
       "      <td>0</td>\n",
       "      <td>0.458</td>\n",
       "      <td>6.998</td>\n",
       "      <td>45.8</td>\n",
       "      <td>6.0622</td>\n",
       "      <td>3</td>\n",
       "      <td>222</td>\n",
       "      <td>18.7</td>\n",
       "      <td>394.63</td>\n",
       "      <td>2.94</td>\n",
       "      <td>33.4</td>\n",
       "    </tr>\n",
       "    <tr>\n",
       "      <th>4</th>\n",
       "      <td>0.06905</td>\n",
       "      <td>0.0</td>\n",
       "      <td>2.18</td>\n",
       "      <td>0</td>\n",
       "      <td>0.458</td>\n",
       "      <td>7.147</td>\n",
       "      <td>54.2</td>\n",
       "      <td>6.0622</td>\n",
       "      <td>3</td>\n",
       "      <td>222</td>\n",
       "      <td>18.7</td>\n",
       "      <td>396.90</td>\n",
       "      <td>5.33</td>\n",
       "      <td>36.2</td>\n",
       "    </tr>\n",
       "  </tbody>\n",
       "</table>\n",
       "</div>"
      ],
      "text/plain": [
       "      CRIM    ZN  INDUS  CHAS    NOX     RM   AGE     DIS  RAD  TAX  PTRATIO  \\\n",
       "0  0.00632  18.0   2.31     0  0.538  6.575  65.2  4.0900    1  296     15.3   \n",
       "1  0.02731   0.0   7.07     0  0.469  6.421  78.9  4.9671    2  242     17.8   \n",
       "2  0.02729   0.0   7.07     0  0.469  7.185  61.1  4.9671    2  242     17.8   \n",
       "3  0.03237   0.0   2.18     0  0.458  6.998  45.8  6.0622    3  222     18.7   \n",
       "4  0.06905   0.0   2.18     0  0.458  7.147  54.2  6.0622    3  222     18.7   \n",
       "\n",
       "        B  LSTAT  MEDV  \n",
       "0  396.90   4.98  24.0  \n",
       "1  396.90   9.14  21.6  \n",
       "2  392.83   4.03  34.7  \n",
       "3  394.63   2.94  33.4  \n",
       "4  396.90   5.33  36.2  "
      ]
     },
     "execution_count": 4,
     "metadata": {},
     "output_type": "execute_result"
    }
   ],
   "source": [
    "from sklearn.datasets import load_boston\n",
    "df = pd.read_csv(load_boston()['filename'],skiprows=1)\n",
    "df.head()"
   ]
  },
  {
   "cell_type": "markdown",
   "metadata": {},
   "source": [
    "Содержит информацию о жилье в Бостоне, собранную бюро переписи населения США. Она была получена из архива StatLib и широко использовалась в литературе для оценки алгоритмов.\n",
    "\n",
    "    CRIM - уровень преступности на душу населения\n",
    "    ZN - доля земли под жилую застройку,\n",
    "    INDUS - доля акров, не относящихся к розничной торговле.\n",
    "    CHAS - фиктивная переменная реки Чарльз (1, если участок ограничивает реку; 0 в противном случае)\n",
    "    NOX - концентрация оксидов азота\n",
    "    RM - среднее количество комнат в доме\n",
    "    AGE - доля занимаемых владельцами единиц, построенных до 1940 г.\n",
    "    DIS - взвешенное расстояние до пяти бостонских центров занятости\n",
    "    RAD - индекс доступности радиальных автомобильных дорог\n",
    "    TAX - полная ставка налога на имущество за 10 000 долларов США.\n",
    "    PTRATIO - соотношение учеников и учителей по городам\n",
    "    B - 1000 (Bk - 0,63) ^ 2, где Bk - доля афроамериканцев по городам\n",
    "    LSTAT - % более населения низкого соц статуса\n",
    "    MEDV - Средняя стоимость домов в 1000 долларов\n",
    "\n"
   ]
  },
  {
   "cell_type": "markdown",
   "metadata": {},
   "source": [
    "Проверим датасет"
   ]
  },
  {
   "cell_type": "code",
   "execution_count": 5,
   "metadata": {
    "ExecuteTime": {
     "end_time": "2021-07-14T14:30:35.470425Z",
     "start_time": "2021-07-14T14:30:35.430425Z"
    }
   },
   "outputs": [
    {
     "name": "stdout",
     "output_type": "stream",
     "text": [
      "<class 'pandas.core.frame.DataFrame'>\n",
      "RangeIndex: 506 entries, 0 to 505\n",
      "Data columns (total 14 columns):\n",
      " #   Column   Non-Null Count  Dtype  \n",
      "---  ------   --------------  -----  \n",
      " 0   CRIM     506 non-null    float64\n",
      " 1   ZN       506 non-null    float64\n",
      " 2   INDUS    506 non-null    float64\n",
      " 3   CHAS     506 non-null    int64  \n",
      " 4   NOX      506 non-null    float64\n",
      " 5   RM       506 non-null    float64\n",
      " 6   AGE      506 non-null    float64\n",
      " 7   DIS      506 non-null    float64\n",
      " 8   RAD      506 non-null    int64  \n",
      " 9   TAX      506 non-null    int64  \n",
      " 10  PTRATIO  506 non-null    float64\n",
      " 11  B        506 non-null    float64\n",
      " 12  LSTAT    506 non-null    float64\n",
      " 13  MEDV     506 non-null    float64\n",
      "dtypes: float64(11), int64(3)\n",
      "memory usage: 55.5 KB\n"
     ]
    }
   ],
   "source": [
    "df.info()"
   ]
  },
  {
   "cell_type": "code",
   "execution_count": 6,
   "metadata": {
    "ExecuteTime": {
     "end_time": "2021-07-14T14:30:35.570425Z",
     "start_time": "2021-07-14T14:30:35.470425Z"
    }
   },
   "outputs": [
    {
     "data": {
      "text/html": [
       "<div>\n",
       "<style scoped>\n",
       "    .dataframe tbody tr th:only-of-type {\n",
       "        vertical-align: middle;\n",
       "    }\n",
       "\n",
       "    .dataframe tbody tr th {\n",
       "        vertical-align: top;\n",
       "    }\n",
       "\n",
       "    .dataframe thead th {\n",
       "        text-align: right;\n",
       "    }\n",
       "</style>\n",
       "<table border=\"1\" class=\"dataframe\">\n",
       "  <thead>\n",
       "    <tr style=\"text-align: right;\">\n",
       "      <th></th>\n",
       "      <th>CRIM</th>\n",
       "      <th>ZN</th>\n",
       "      <th>INDUS</th>\n",
       "      <th>CHAS</th>\n",
       "      <th>NOX</th>\n",
       "      <th>RM</th>\n",
       "      <th>AGE</th>\n",
       "      <th>DIS</th>\n",
       "      <th>RAD</th>\n",
       "      <th>TAX</th>\n",
       "      <th>PTRATIO</th>\n",
       "      <th>B</th>\n",
       "      <th>LSTAT</th>\n",
       "      <th>MEDV</th>\n",
       "    </tr>\n",
       "  </thead>\n",
       "  <tbody>\n",
       "    <tr>\n",
       "      <th>count</th>\n",
       "      <td>506.000000</td>\n",
       "      <td>506.000000</td>\n",
       "      <td>506.000000</td>\n",
       "      <td>506.000000</td>\n",
       "      <td>506.000000</td>\n",
       "      <td>506.000000</td>\n",
       "      <td>506.000000</td>\n",
       "      <td>506.000000</td>\n",
       "      <td>506.000000</td>\n",
       "      <td>506.000000</td>\n",
       "      <td>506.000000</td>\n",
       "      <td>506.000000</td>\n",
       "      <td>506.000000</td>\n",
       "      <td>506.000000</td>\n",
       "    </tr>\n",
       "    <tr>\n",
       "      <th>mean</th>\n",
       "      <td>3.613524</td>\n",
       "      <td>11.363636</td>\n",
       "      <td>11.136779</td>\n",
       "      <td>0.069170</td>\n",
       "      <td>0.554695</td>\n",
       "      <td>6.284634</td>\n",
       "      <td>68.574901</td>\n",
       "      <td>3.795043</td>\n",
       "      <td>9.549407</td>\n",
       "      <td>408.237154</td>\n",
       "      <td>18.455534</td>\n",
       "      <td>356.674032</td>\n",
       "      <td>12.653063</td>\n",
       "      <td>22.532806</td>\n",
       "    </tr>\n",
       "    <tr>\n",
       "      <th>std</th>\n",
       "      <td>8.601545</td>\n",
       "      <td>23.322453</td>\n",
       "      <td>6.860353</td>\n",
       "      <td>0.253994</td>\n",
       "      <td>0.115878</td>\n",
       "      <td>0.702617</td>\n",
       "      <td>28.148861</td>\n",
       "      <td>2.105710</td>\n",
       "      <td>8.707259</td>\n",
       "      <td>168.537116</td>\n",
       "      <td>2.164946</td>\n",
       "      <td>91.294864</td>\n",
       "      <td>7.141062</td>\n",
       "      <td>9.197104</td>\n",
       "    </tr>\n",
       "    <tr>\n",
       "      <th>min</th>\n",
       "      <td>0.006320</td>\n",
       "      <td>0.000000</td>\n",
       "      <td>0.460000</td>\n",
       "      <td>0.000000</td>\n",
       "      <td>0.385000</td>\n",
       "      <td>3.561000</td>\n",
       "      <td>2.900000</td>\n",
       "      <td>1.129600</td>\n",
       "      <td>1.000000</td>\n",
       "      <td>187.000000</td>\n",
       "      <td>12.600000</td>\n",
       "      <td>0.320000</td>\n",
       "      <td>1.730000</td>\n",
       "      <td>5.000000</td>\n",
       "    </tr>\n",
       "    <tr>\n",
       "      <th>25%</th>\n",
       "      <td>0.082045</td>\n",
       "      <td>0.000000</td>\n",
       "      <td>5.190000</td>\n",
       "      <td>0.000000</td>\n",
       "      <td>0.449000</td>\n",
       "      <td>5.885500</td>\n",
       "      <td>45.025000</td>\n",
       "      <td>2.100175</td>\n",
       "      <td>4.000000</td>\n",
       "      <td>279.000000</td>\n",
       "      <td>17.400000</td>\n",
       "      <td>375.377500</td>\n",
       "      <td>6.950000</td>\n",
       "      <td>17.025000</td>\n",
       "    </tr>\n",
       "    <tr>\n",
       "      <th>50%</th>\n",
       "      <td>0.256510</td>\n",
       "      <td>0.000000</td>\n",
       "      <td>9.690000</td>\n",
       "      <td>0.000000</td>\n",
       "      <td>0.538000</td>\n",
       "      <td>6.208500</td>\n",
       "      <td>77.500000</td>\n",
       "      <td>3.207450</td>\n",
       "      <td>5.000000</td>\n",
       "      <td>330.000000</td>\n",
       "      <td>19.050000</td>\n",
       "      <td>391.440000</td>\n",
       "      <td>11.360000</td>\n",
       "      <td>21.200000</td>\n",
       "    </tr>\n",
       "    <tr>\n",
       "      <th>75%</th>\n",
       "      <td>3.677082</td>\n",
       "      <td>12.500000</td>\n",
       "      <td>18.100000</td>\n",
       "      <td>0.000000</td>\n",
       "      <td>0.624000</td>\n",
       "      <td>6.623500</td>\n",
       "      <td>94.075000</td>\n",
       "      <td>5.188425</td>\n",
       "      <td>24.000000</td>\n",
       "      <td>666.000000</td>\n",
       "      <td>20.200000</td>\n",
       "      <td>396.225000</td>\n",
       "      <td>16.955000</td>\n",
       "      <td>25.000000</td>\n",
       "    </tr>\n",
       "    <tr>\n",
       "      <th>max</th>\n",
       "      <td>88.976200</td>\n",
       "      <td>100.000000</td>\n",
       "      <td>27.740000</td>\n",
       "      <td>1.000000</td>\n",
       "      <td>0.871000</td>\n",
       "      <td>8.780000</td>\n",
       "      <td>100.000000</td>\n",
       "      <td>12.126500</td>\n",
       "      <td>24.000000</td>\n",
       "      <td>711.000000</td>\n",
       "      <td>22.000000</td>\n",
       "      <td>396.900000</td>\n",
       "      <td>37.970000</td>\n",
       "      <td>50.000000</td>\n",
       "    </tr>\n",
       "  </tbody>\n",
       "</table>\n",
       "</div>"
      ],
      "text/plain": [
       "             CRIM          ZN       INDUS        CHAS         NOX          RM  \\\n",
       "count  506.000000  506.000000  506.000000  506.000000  506.000000  506.000000   \n",
       "mean     3.613524   11.363636   11.136779    0.069170    0.554695    6.284634   \n",
       "std      8.601545   23.322453    6.860353    0.253994    0.115878    0.702617   \n",
       "min      0.006320    0.000000    0.460000    0.000000    0.385000    3.561000   \n",
       "25%      0.082045    0.000000    5.190000    0.000000    0.449000    5.885500   \n",
       "50%      0.256510    0.000000    9.690000    0.000000    0.538000    6.208500   \n",
       "75%      3.677082   12.500000   18.100000    0.000000    0.624000    6.623500   \n",
       "max     88.976200  100.000000   27.740000    1.000000    0.871000    8.780000   \n",
       "\n",
       "              AGE         DIS         RAD         TAX     PTRATIO           B  \\\n",
       "count  506.000000  506.000000  506.000000  506.000000  506.000000  506.000000   \n",
       "mean    68.574901    3.795043    9.549407  408.237154   18.455534  356.674032   \n",
       "std     28.148861    2.105710    8.707259  168.537116    2.164946   91.294864   \n",
       "min      2.900000    1.129600    1.000000  187.000000   12.600000    0.320000   \n",
       "25%     45.025000    2.100175    4.000000  279.000000   17.400000  375.377500   \n",
       "50%     77.500000    3.207450    5.000000  330.000000   19.050000  391.440000   \n",
       "75%     94.075000    5.188425   24.000000  666.000000   20.200000  396.225000   \n",
       "max    100.000000   12.126500   24.000000  711.000000   22.000000  396.900000   \n",
       "\n",
       "            LSTAT        MEDV  \n",
       "count  506.000000  506.000000  \n",
       "mean    12.653063   22.532806  \n",
       "std      7.141062    9.197104  \n",
       "min      1.730000    5.000000  \n",
       "25%      6.950000   17.025000  \n",
       "50%     11.360000   21.200000  \n",
       "75%     16.955000   25.000000  \n",
       "max     37.970000   50.000000  "
      ]
     },
     "execution_count": 6,
     "metadata": {},
     "output_type": "execute_result"
    }
   ],
   "source": [
    "df.describe()"
   ]
  },
  {
   "cell_type": "markdown",
   "metadata": {},
   "source": [
    "Пропусков нет. Посмотрим какие из параметров ктегориные и запишем их в переменную categorical_columns"
   ]
  },
  {
   "cell_type": "code",
   "execution_count": 7,
   "metadata": {
    "ExecuteTime": {
     "end_time": "2021-07-14T14:30:35.590425Z",
     "start_time": "2021-07-14T14:30:35.570425Z"
    }
   },
   "outputs": [],
   "source": [
    "categorical_columns = [\n",
    "    'CHAS', 'RAD' \n",
    "]"
   ]
  },
  {
   "cell_type": "code",
   "execution_count": 8,
   "metadata": {
    "ExecuteTime": {
     "end_time": "2021-07-14T14:30:35.610425Z",
     "start_time": "2021-07-14T14:30:35.590425Z"
    }
   },
   "outputs": [
    {
     "data": {
      "text/plain": [
       "Index(['CRIM', 'ZN', 'INDUS', 'CHAS', 'NOX', 'RM', 'AGE', 'DIS', 'RAD', 'TAX',\n",
       "       'PTRATIO', 'B', 'LSTAT', 'MEDV'],\n",
       "      dtype='object')"
      ]
     },
     "execution_count": 8,
     "metadata": {},
     "output_type": "execute_result"
    }
   ],
   "source": [
    "df.columns"
   ]
  },
  {
   "cell_type": "code",
   "execution_count": 9,
   "metadata": {
    "ExecuteTime": {
     "end_time": "2021-07-14T14:30:35.630425Z",
     "start_time": "2021-07-14T14:30:35.610425Z"
    }
   },
   "outputs": [],
   "source": [
    "numeric_columns = [\n",
    "    'CRIM', 'ZN', 'INDUS', 'NOX', 'RM', 'AGE', 'DIS', 'TAX',\n",
    "    'PTRATIO', 'B', 'LSTAT']    "
   ]
  },
  {
   "cell_type": "markdown",
   "metadata": {},
   "source": [
    "проверим точность и какие параметры как влияют.  "
   ]
  },
  {
   "cell_type": "code",
   "execution_count": 65,
   "metadata": {
    "ExecuteTime": {
     "end_time": "2021-07-14T15:14:39.930308Z",
     "start_time": "2021-07-14T15:14:39.890308Z"
    }
   },
   "outputs": [
    {
     "data": {
      "text/plain": [
       "0.5909014656167102"
      ]
     },
     "execution_count": 65,
     "metadata": {},
     "output_type": "execute_result"
    }
   ],
   "source": [
    "get_accuracy(df.drop(columns=categorical_columns, axis=0)[numeric_columns],df.MEDV)"
   ]
  },
  {
   "cell_type": "code",
   "execution_count": 11,
   "metadata": {
    "ExecuteTime": {
     "end_time": "2021-07-14T14:30:35.710425Z",
     "start_time": "2021-07-14T14:30:35.680425Z"
    }
   },
   "outputs": [
    {
     "data": {
      "text/plain": [
       "([(-0.089966421487264, 'CRIM'),\n",
       "  (0.02452022443976262, 'ZN'),\n",
       "  (-0.022095491800454423, 'INDUS'),\n",
       "  (-13.424930611252643, 'NOX'),\n",
       "  (5.609896374962728, 'RM'),\n",
       "  (-0.012265457354141675, 'AGE'),\n",
       "  (-1.3640618328502154, 'DIS'),\n",
       "  (-0.0004513889969098295, 'TAX'),\n",
       "  (-0.9154641492506411, 'PTRATIO'),\n",
       "  (0.010046423081978378, 'B'),\n",
       "  (-0.37576600408439664, 'LSTAT')],\n",
       " 19.30103535039134)"
      ]
     },
     "execution_count": 11,
     "metadata": {},
     "output_type": "execute_result"
    }
   ],
   "source": [
    "reg = get_accuracy(df.drop(columns=categorical_columns, axis=0)[numeric_columns],df.MEDV, get='reg')\n",
    "list(zip(reg.coef_,numeric_columns)) , reg.intercept_"
   ]
  },
  {
   "cell_type": "code",
   "execution_count": 66,
   "metadata": {
    "ExecuteTime": {
     "end_time": "2021-07-14T15:14:47.581319Z",
     "start_time": "2021-07-14T15:14:47.561319Z"
    }
   },
   "outputs": [
    {
     "data": {
      "text/plain": [
       "0.6575142572434773"
      ]
     },
     "execution_count": 66,
     "metadata": {},
     "output_type": "execute_result"
    }
   ],
   "source": [
    "get_accuracy(df.drop(columns=categorical_columns, axis=0)[numeric_columns],df.MEDV ,model='elastic',l1=.5)"
   ]
  },
  {
   "cell_type": "markdown",
   "metadata": {},
   "source": [
    "В принципе, регуляция дала дополнительные 5% к точности, посмотрим на коэффициенты. "
   ]
  },
  {
   "cell_type": "code",
   "execution_count": 67,
   "metadata": {
    "ExecuteTime": {
     "end_time": "2021-07-14T15:14:53.081327Z",
     "start_time": "2021-07-14T15:14:53.061327Z"
    }
   },
   "outputs": [
    {
     "data": {
      "text/plain": [
       "([(-0.02575662654513913, 'CRIM'),\n",
       "  (0.03038618717927922, 'ZN'),\n",
       "  (-0.006510795641656716, 'INDUS'),\n",
       "  (-0.0, 'NOX'),\n",
       "  (2.399132678174598, 'RM'),\n",
       "  (0.020474268882509986, 'AGE'),\n",
       "  (-0.48500786825027575, 'DIS'),\n",
       "  (-0.005136947820037958, 'TAX'),\n",
       "  (-0.6605862704562907, 'PTRATIO'),\n",
       "  (0.007158598838868424, 'B'),\n",
       "  (-0.6562224098124108, 'LSTAT')],\n",
       " 27.820342509117005)"
      ]
     },
     "execution_count": 67,
     "metadata": {},
     "output_type": "execute_result"
    }
   ],
   "source": [
    "reg = get_accuracy(df.drop(columns=categorical_columns, axis=0)[numeric_columns],df.MEDV ,model='elastic',l1=1,get='reg') \n",
    "list(zip(reg.coef_,numeric_columns)) , reg.intercept_"
   ]
  },
  {
   "cell_type": "markdown",
   "metadata": {
    "ExecuteTime": {
     "end_time": "2021-07-14T12:05:28.271478Z",
     "start_time": "2021-07-14T12:05:28.201478Z"
    }
   },
   "source": [
    "Модель выбросила NOX, INDUS, TAX, B.  \n",
    "Уберем эти параметры из сравнения и посмотрим результат."
   ]
  },
  {
   "cell_type": "code",
   "execution_count": 73,
   "metadata": {
    "ExecuteTime": {
     "end_time": "2021-07-14T15:42:38.973348Z",
     "start_time": "2021-07-14T15:42:38.963348Z"
    }
   },
   "outputs": [
    {
     "data": {
      "text/plain": [
       "Index(['CRIM', 'ZN', 'CHAS', 'RM', 'AGE', 'DIS', 'RAD', 'PTRATIO', 'LSTAT'], dtype='object')"
      ]
     },
     "execution_count": 73,
     "metadata": {},
     "output_type": "execute_result"
    }
   ],
   "source": [
    "dissmiss_columns = ['NOX', 'INDUS', 'TAX', 'B'] + ['MEDV']\n",
    "df_updated = df.drop(columns=dissmiss_columns, axis=1)\n",
    "df_updated.columns"
   ]
  },
  {
   "cell_type": "code",
   "execution_count": 74,
   "metadata": {
    "ExecuteTime": {
     "end_time": "2021-07-14T15:42:41.884352Z",
     "start_time": "2021-07-14T15:42:41.754352Z"
    }
   },
   "outputs": [
    {
     "name": "stdout",
     "output_type": "stream",
     "text": [
      "0.1 0.6613710589379292\n",
      "0.2 0.6605891095290726\n",
      "0.30000000000000004 0.6597013492508093\n",
      "0.4 0.6586866723681436\n",
      "0.5 0.6575142572434773\n",
      "0.6 0.6561358800689291\n",
      "0.7000000000000001 0.6544670522010798\n",
      "0.8 0.6523265384564196\n",
      "0.9 0.6492938482170356\n",
      "1.0 0.6438651287078576\n"
     ]
    }
   ],
   "source": [
    "for i in np.arange(0.1,1.1,.1):\n",
    "    print(i ,get_accuracy(df.drop(columns=categorical_columns, axis=0)[numeric_columns],df.MEDV ,model='elastic',l1=i) )"
   ]
  },
  {
   "cell_type": "code",
   "execution_count": 75,
   "metadata": {
    "ExecuteTime": {
     "end_time": "2021-07-14T15:42:43.154354Z",
     "start_time": "2021-07-14T15:42:43.124354Z"
    }
   },
   "outputs": [
    {
     "data": {
      "text/plain": [
       "0.6613710589379292"
      ]
     },
     "execution_count": 75,
     "metadata": {},
     "output_type": "execute_result"
    }
   ],
   "source": [
    "get_accuracy(df.drop(columns=categorical_columns, axis=0)[numeric_columns],df.MEDV ,model='elastic',l1=0.1)"
   ]
  },
  {
   "cell_type": "markdown",
   "metadata": {},
   "source": [
    "Таким не сложным действием мы улучшили результат с 0.59090 до 0.66137  \n"
   ]
  },
  {
   "cell_type": "markdown",
   "metadata": {},
   "source": [
    "Добавим качественные признаки: "
   ]
  },
  {
   "cell_type": "code",
   "execution_count": 76,
   "metadata": {
    "ExecuteTime": {
     "end_time": "2021-07-14T15:42:47.435360Z",
     "start_time": "2021-07-14T15:42:47.405360Z"
    }
   },
   "outputs": [
    {
     "data": {
      "text/plain": [
       "0.5863661195358532"
      ]
     },
     "execution_count": 76,
     "metadata": {},
     "output_type": "execute_result"
    }
   ],
   "source": [
    "get_accuracy( pd.get_dummies(df_updated, columns=['RAD']).drop(columns=categorical_columns,axis=1,errors='ignore') ,\\\n",
    "             df.MEDV)"
   ]
  },
  {
   "cell_type": "code",
   "execution_count": 77,
   "metadata": {
    "ExecuteTime": {
     "end_time": "2021-07-14T15:42:50.556364Z",
     "start_time": "2021-07-14T15:42:50.526364Z"
    }
   },
   "outputs": [
    {
     "data": {
      "text/plain": [
       "0.6546588460436955"
      ]
     },
     "execution_count": 77,
     "metadata": {},
     "output_type": "execute_result"
    }
   ],
   "source": [
    "get_accuracy( pd.get_dummies(df_updated, columns=['RAD']).drop(columns=categorical_columns,axis=1,errors='ignore') ,\\\n",
    "             df.MEDV, model='elastic',l1=.1)"
   ]
  },
  {
   "cell_type": "code",
   "execution_count": 78,
   "metadata": {
    "ExecuteTime": {
     "end_time": "2021-07-14T15:42:55.859373Z",
     "start_time": "2021-07-14T15:42:55.849373Z"
    }
   },
   "outputs": [],
   "source": [
    "df_updated = pd.get_dummies(df_updated, columns=['RAD'])"
   ]
  },
  {
   "cell_type": "markdown",
   "metadata": {},
   "source": [
    "Категорийый признак 'RAD' - расстояние о ближайших автострад улучшил предсказательность модели.  \n",
    "Добавим категорийный признак 'CHAS'."
   ]
  },
  {
   "cell_type": "code",
   "execution_count": 80,
   "metadata": {
    "ExecuteTime": {
     "end_time": "2021-07-14T15:43:09.791392Z",
     "start_time": "2021-07-14T15:43:09.761392Z"
    }
   },
   "outputs": [
    {
     "data": {
      "text/plain": [
       "0.6551860681207755"
      ]
     },
     "execution_count": 80,
     "metadata": {},
     "output_type": "execute_result"
    }
   ],
   "source": [
    "get_accuracy( pd.get_dummies(df_updated, columns=['CHAS']).drop(columns=categorical_columns,axis=1,errors='ignore') ,\\\n",
    "             df.MEDV, model='elastic',l1=.1 )"
   ]
  },
  {
   "cell_type": "code",
   "execution_count": 81,
   "metadata": {
    "ExecuteTime": {
     "end_time": "2021-07-14T15:43:15.891401Z",
     "start_time": "2021-07-14T15:43:15.871401Z"
    }
   },
   "outputs": [],
   "source": [
    "df_updated = pd.get_dummies(df_updated, columns=['CHAS'])"
   ]
  },
  {
   "cell_type": "code",
   "execution_count": 82,
   "metadata": {
    "ExecuteTime": {
     "end_time": "2021-07-14T15:43:17.871404Z",
     "start_time": "2021-07-14T15:43:17.841404Z"
    }
   },
   "outputs": [
    {
     "data": {
      "text/plain": [
       "[(-0.08303675974174597, 'CRIM'),\n",
       " (0.03970918565421537, 'ZN'),\n",
       " (1.2554628428026176, 'RM'),\n",
       " (0.021412416627802685, 'AGE'),\n",
       " (-0.5826083515485245, 'DIS'),\n",
       " (-0.8210312930316431, 'PTRATIO'),\n",
       " (-0.782722702225597, 'LSTAT'),\n",
       " (-0.04056092700616296, 'RAD_1'),\n",
       " (-0.0, 'RAD_2'),\n",
       " (0.14362497915957284, 'RAD_3'),\n",
       " (-0.0, 'RAD_4'),\n",
       " (-0.0, 'RAD_5'),\n",
       " (-0.005464880567421219, 'RAD_6'),\n",
       " (0.0, 'RAD_7'),\n",
       " (0.053558633214874626, 'RAD_8'),\n",
       " (-0.0, 'RAD_24'),\n",
       " (-0.14929544000124154, 'CHAS_0'),\n",
       " (0.14929551629246207, 'CHAS_1')]"
      ]
     },
     "execution_count": 82,
     "metadata": {},
     "output_type": "execute_result"
    }
   ],
   "source": [
    "reg = get_accuracy( df_updated , df.MEDV, get='reg', model='elastic',l1=.1 )\n",
    "list(zip(reg.coef_,df_updated.columns))"
   ]
  },
  {
   "cell_type": "markdown",
   "metadata": {},
   "source": [
    "Близость до реки 'Charles' тоже оказало положительное влияние на предсказательность модели"
   ]
  },
  {
   "cell_type": "code",
   "execution_count": 83,
   "metadata": {
    "ExecuteTime": {
     "end_time": "2021-07-14T15:43:35.953429Z",
     "start_time": "2021-07-14T15:43:34.753427Z"
    },
    "scrolled": true
   },
   "outputs": [
    {
     "data": {
      "text/plain": [
       "<AxesSubplot:>"
      ]
     },
     "execution_count": 83,
     "metadata": {},
     "output_type": "execute_result"
    },
    {
     "data": {
      "image/png": "[encoded data removed]",
      "text/plain": [
       "<Figure size 432x288 with 2 Axes>"
      ]
     },
     "metadata": {
      "needs_background": "light"
     },
     "output_type": "display_data"
    }
   ],
   "source": [
    "# Провери коллинеарность признаков:\n",
    "sns.heatmap(data=df_updated.corr(), cmap='YlGnBu')"
   ]
  },
  {
   "cell_type": "code",
   "execution_count": 86,
   "metadata": {
    "ExecuteTime": {
     "end_time": "2021-07-14T15:45:50.369626Z",
     "start_time": "2021-07-14T15:45:49.279625Z"
    },
    "scrolled": true
   },
   "outputs": [
    {
     "data": {
      "text/plain": [
       "<AxesSubplot:>"
      ]
     },
     "execution_count": 86,
     "metadata": {},
     "output_type": "execute_result"
    },
    {
     "data": {
      "image/png": "[encoded data removed]",
      "text/plain": [
       "<Figure size 432x288 with 2 Axes>"
      ]
     },
     "metadata": {
      "needs_background": "light"
     },
     "output_type": "display_data"
    }
   ],
   "source": [
    "# Провери коллинеарность признаков:\n",
    "sns.heatmap(data=df_updated.corr(), cmap='YlGnBu')"
   ]
  },
  {
   "cell_type": "markdown",
   "metadata": {},
   "source": [
    "CHAS имеет всего два значения(биноминальный признак) и соответственно при 'get_dummies' - создало два противоположных параметра. Дропнем один из них."
   ]
  },
  {
   "cell_type": "code",
   "execution_count": 85,
   "metadata": {
    "ExecuteTime": {
     "end_time": "2021-07-14T15:45:47.319622Z",
     "start_time": "2021-07-14T15:45:47.309622Z"
    }
   },
   "outputs": [],
   "source": [
    "df_updated = df_updated.drop(columns=['CHAS_1'],axis=1)"
   ]
  },
  {
   "cell_type": "code",
   "execution_count": 87,
   "metadata": {
    "ExecuteTime": {
     "end_time": "2021-07-14T15:46:11.644656Z",
     "start_time": "2021-07-14T15:46:11.614656Z"
    }
   },
   "outputs": [
    {
     "data": {
      "text/plain": [
       "0.6549562704041318"
      ]
     },
     "execution_count": 87,
     "metadata": {},
     "output_type": "execute_result"
    }
   ],
   "source": [
    "get_accuracy( df_updated , df.MEDV, model='elastic',l1=.1 )"
   ]
  },
  {
   "cell_type": "code",
   "execution_count": 23,
   "metadata": {
    "ExecuteTime": {
     "end_time": "2021-07-14T14:32:44.081610Z",
     "start_time": "2021-07-14T14:32:44.061610Z"
    },
    "scrolled": true
   },
   "outputs": [
    {
     "data": {
      "text/plain": [
       "[(-0.08932159060356987, 'CRIM'),\n",
       " (0.038957630906016505, 'ZN'),\n",
       " (1.2549652663413613, 'RM'),\n",
       " (0.0210541267420788, 'AGE'),\n",
       " (-0.5732725883139456, 'DIS'),\n",
       " (0.012773018997797139, 'RAD'),\n",
       " (-0.8342450021305048, 'PTRATIO'),\n",
       " (-0.7850340406847267, 'LSTAT'),\n",
       " (-0.1597821921223109, 'CHAS_0')]"
      ]
     },
     "execution_count": 23,
     "metadata": {},
     "output_type": "execute_result"
    }
   ],
   "source": [
    "reg = get_accuracy( df_updated , df.MEDV, get='reg', model='elastic',l1=.1 )\n",
    "list(zip(reg.coef_,df_updated.columns))"
   ]
  },
  {
   "cell_type": "markdown",
   "metadata": {},
   "source": [
    "### Итого предсказательность модели 65.5% "
   ]
  },
  {
   "cell_type": "markdown",
   "metadata": {},
   "source": [
    "На графике корреляций заметна жуткая корреляция между признаками: \n",
    "- 'AGE' и 'DIS'\n",
    "- 'ZN' и 'DIS'\n",
    "- 'CRIM' и 'LSTAT'\n",
    "\n",
    "Попробуем что то с ними сделать"
   ]
  },
  {
   "cell_type": "code",
   "execution_count": 88,
   "metadata": {
    "ExecuteTime": {
     "end_time": "2021-07-14T15:47:17.526749Z",
     "start_time": "2021-07-14T15:47:17.506749Z"
    }
   },
   "outputs": [
    {
     "data": {
      "text/plain": [
       "0.660509784411415"
      ]
     },
     "execution_count": 88,
     "metadata": {},
     "output_type": "execute_result"
    }
   ],
   "source": [
    "get_accuracy( df_updated.drop(columns=['AGE'],axis=1) , df.MEDV, model='elastic',l1=.1 )"
   ]
  },
  {
   "cell_type": "code",
   "execution_count": 94,
   "metadata": {
    "ExecuteTime": {
     "end_time": "2021-07-14T15:53:01.259234Z",
     "start_time": "2021-07-14T15:53:01.239234Z"
    }
   },
   "outputs": [
    {
     "data": {
      "text/plain": [
       "0.6237906682411929"
      ]
     },
     "execution_count": 94,
     "metadata": {},
     "output_type": "execute_result"
    }
   ],
   "source": [
    "get_accuracy( df_updated.drop(columns=['DIS'],axis=1) , df.MEDV, model='elastic',l1=.1 )"
   ]
  },
  {
   "cell_type": "code",
   "execution_count": 92,
   "metadata": {
    "ExecuteTime": {
     "end_time": "2021-07-14T15:52:51.868220Z",
     "start_time": "2021-07-14T15:52:51.848220Z"
    }
   },
   "outputs": [
    {
     "data": {
      "text/plain": [
       "0.6408052736333323"
      ]
     },
     "execution_count": 92,
     "metadata": {},
     "output_type": "execute_result"
    }
   ],
   "source": [
    "get_accuracy( df_updated.drop(columns=['ZN'],axis=1) , df.MEDV, model='elastic',l1=.1 )"
   ]
  },
  {
   "cell_type": "code",
   "execution_count": 93,
   "metadata": {
    "ExecuteTime": {
     "end_time": "2021-07-14T15:52:51.868220Z",
     "start_time": "2021-07-14T15:52:51.848220Z"
    }
   },
   "outputs": [
    {
     "data": {
      "text/plain": [
       "0.6462905075458865"
      ]
     },
     "execution_count": 93,
     "metadata": {},
     "output_type": "execute_result"
    }
   ],
   "source": [
    "get_accuracy( df_updated.drop(columns=['CRIM'],axis=1) , df.MEDV, model='elastic',l1=.1 )"
   ]
  },
  {
   "cell_type": "markdown",
   "metadata": {},
   "source": [
    "Если мы дропаем 'AGE' то предсказательность нашей модели увеличивается, так как 'AGE' был очень сильно скоррелирован с  'DIS'"
   ]
  },
  {
   "cell_type": "code",
   "execution_count": 95,
   "metadata": {
    "ExecuteTime": {
     "end_time": "2021-07-14T15:55:25.110436Z",
     "start_time": "2021-07-14T15:55:25.090436Z"
    }
   },
   "outputs": [
    {
     "data": {
      "text/plain": [
       "0.660509784411415"
      ]
     },
     "execution_count": 95,
     "metadata": {},
     "output_type": "execute_result"
    }
   ],
   "source": [
    "df_updated =  df_updated.drop(columns=['AGE'],axis=1)\n",
    "get_accuracy( df_updated , df.MEDV, model='elastic',l1=.1 )"
   ]
  },
  {
   "cell_type": "markdown",
   "metadata": {},
   "source": [
    "### Итого предсказательность модели 66.05% \n",
    "\n",
    "Неплохо для линейной регресии.."
   ]
  }
 ],
 "metadata": {
  "kernelspec": {
   "display_name": "Python 3",
   "language": "python",
   "name": "python3"
  },
  "language_info": {
   "codemirror_mode": {
    "name": "ipython",
    "version": 3
   },
   "file_extension": ".py",
   "mimetype": "text/x-python",
   "name": "python",
   "nbconvert_exporter": "python",
   "pygments_lexer": "ipython3",
   "version": "3.8.5"
  }
 },
 "nbformat": 4,
 "nbformat_minor": 4
}
