{
 "cells": [
  {
   "cell_type": "code",
   "execution_count": 281,
   "metadata": {
    "ExecuteTime": {
     "end_time": "2021-07-01T15:32:42.142055Z",
     "start_time": "2021-07-01T15:32:42.122055Z"
    }
   },
   "outputs": [],
   "source": [
    "import numpy as np\n",
    "import pandas as pd\n",
    "from sklearn.model_selection import train_test_split\n",
    "import matplotlib.pyplot as plt\n",
    "%matplotlib inline\n",
    "import random"
   ]
  },
  {
   "cell_type": "code",
   "execution_count": 35,
   "metadata": {
    "ExecuteTime": {
     "end_time": "2021-07-01T11:41:42.785221Z",
     "start_time": "2021-07-01T11:41:42.715221Z"
    }
   },
   "outputs": [
    {
     "data": {
      "text/html": [
       "<div>\n",
       "<style scoped>\n",
       "    .dataframe tbody tr th:only-of-type {\n",
       "        vertical-align: middle;\n",
       "    }\n",
       "\n",
       "    .dataframe tbody tr th {\n",
       "        vertical-align: top;\n",
       "    }\n",
       "\n",
       "    .dataframe thead th {\n",
       "        text-align: right;\n",
       "    }\n",
       "</style>\n",
       "<table border=\"1\" class=\"dataframe\">\n",
       "  <thead>\n",
       "    <tr style=\"text-align: right;\">\n",
       "      <th></th>\n",
       "      <th>id</th>\n",
       "      <th>name</th>\n",
       "      <th>nationality</th>\n",
       "      <th>sex</th>\n",
       "      <th>dob</th>\n",
       "      <th>height</th>\n",
       "      <th>weight</th>\n",
       "      <th>sport</th>\n",
       "      <th>gold</th>\n",
       "      <th>silver</th>\n",
       "      <th>bronze</th>\n",
       "    </tr>\n",
       "  </thead>\n",
       "  <tbody>\n",
       "    <tr>\n",
       "      <th>0</th>\n",
       "      <td>736041664</td>\n",
       "      <td>A Jesus Garcia</td>\n",
       "      <td>ESP</td>\n",
       "      <td>male</td>\n",
       "      <td>10/17/69</td>\n",
       "      <td>1.72</td>\n",
       "      <td>64.0</td>\n",
       "      <td>athletics</td>\n",
       "      <td>0</td>\n",
       "      <td>0</td>\n",
       "      <td>0</td>\n",
       "    </tr>\n",
       "    <tr>\n",
       "      <th>1</th>\n",
       "      <td>532037425</td>\n",
       "      <td>A Lam Shin</td>\n",
       "      <td>KOR</td>\n",
       "      <td>female</td>\n",
       "      <td>9/23/86</td>\n",
       "      <td>1.68</td>\n",
       "      <td>56.0</td>\n",
       "      <td>fencing</td>\n",
       "      <td>0</td>\n",
       "      <td>0</td>\n",
       "      <td>0</td>\n",
       "    </tr>\n",
       "    <tr>\n",
       "      <th>2</th>\n",
       "      <td>435962603</td>\n",
       "      <td>Aaron Brown</td>\n",
       "      <td>CAN</td>\n",
       "      <td>male</td>\n",
       "      <td>5/27/92</td>\n",
       "      <td>1.98</td>\n",
       "      <td>79.0</td>\n",
       "      <td>athletics</td>\n",
       "      <td>0</td>\n",
       "      <td>0</td>\n",
       "      <td>1</td>\n",
       "    </tr>\n",
       "    <tr>\n",
       "      <th>3</th>\n",
       "      <td>521041435</td>\n",
       "      <td>Aaron Cook</td>\n",
       "      <td>MDA</td>\n",
       "      <td>male</td>\n",
       "      <td>1/2/91</td>\n",
       "      <td>1.83</td>\n",
       "      <td>80.0</td>\n",
       "      <td>taekwondo</td>\n",
       "      <td>0</td>\n",
       "      <td>0</td>\n",
       "      <td>0</td>\n",
       "    </tr>\n",
       "    <tr>\n",
       "      <th>4</th>\n",
       "      <td>33922579</td>\n",
       "      <td>Aaron Gate</td>\n",
       "      <td>NZL</td>\n",
       "      <td>male</td>\n",
       "      <td>11/26/90</td>\n",
       "      <td>1.81</td>\n",
       "      <td>71.0</td>\n",
       "      <td>cycling</td>\n",
       "      <td>0</td>\n",
       "      <td>0</td>\n",
       "      <td>0</td>\n",
       "    </tr>\n",
       "  </tbody>\n",
       "</table>\n",
       "</div>"
      ],
      "text/plain": [
       "          id            name nationality     sex       dob  height  weight  \\\n",
       "0  736041664  A Jesus Garcia         ESP    male  10/17/69    1.72    64.0   \n",
       "1  532037425      A Lam Shin         KOR  female   9/23/86    1.68    56.0   \n",
       "2  435962603     Aaron Brown         CAN    male   5/27/92    1.98    79.0   \n",
       "3  521041435      Aaron Cook         MDA    male    1/2/91    1.83    80.0   \n",
       "4   33922579      Aaron Gate         NZL    male  11/26/90    1.81    71.0   \n",
       "\n",
       "       sport  gold  silver  bronze  \n",
       "0  athletics     0       0       0  \n",
       "1    fencing     0       0       0  \n",
       "2  athletics     0       0       1  \n",
       "3  taekwondo     0       0       0  \n",
       "4    cycling     0       0       0  "
      ]
     },
     "execution_count": 35,
     "metadata": {},
     "output_type": "execute_result"
    }
   ],
   "source": [
    "df = pd.read_csv('athletes.csv')\n",
    "df.head()"
   ]
  },
  {
   "cell_type": "code",
   "execution_count": 8,
   "metadata": {
    "ExecuteTime": {
     "end_time": "2021-07-01T09:31:34.641040Z",
     "start_time": "2021-07-01T09:31:34.621040Z"
    }
   },
   "outputs": [
    {
     "name": "stdout",
     "output_type": "stream",
     "text": [
      "В солбце id - 0 пустых\n",
      "В солбце name - 0 пустых\n",
      "В солбце nationality - 0 пустых\n",
      "В солбце sex - 0 пустых\n",
      "В солбце dob - 1 пустых\n",
      "В солбце height - 330 пустых\n",
      "В солбце weight - 659 пустых\n",
      "В солбце sport - 0 пустых\n",
      "В солбце gold - 0 пустых\n",
      "В солбце silver - 0 пустых\n",
      "В солбце bronze - 0 пустых\n"
     ]
    }
   ],
   "source": [
    "#проверим\n",
    "for column in df.columns:\n",
    "    print(f'В солбце {column} - {pd.isnull(df[column]).sum()} пустых')   "
   ]
  },
  {
   "cell_type": "code",
   "execution_count": 46,
   "metadata": {
    "ExecuteTime": {
     "end_time": "2021-07-01T11:47:43.281728Z",
     "start_time": "2021-07-01T11:47:43.261728Z"
    }
   },
   "outputs": [],
   "source": [
    "# обнулим пустые\n",
    "for i in ['dob' , 'height' , 'weight' ]:\n",
    "    df.loc[pd.isnull(df[i ]),i] = 0"
   ]
  },
  {
   "cell_type": "code",
   "execution_count": 17,
   "metadata": {
    "ExecuteTime": {
     "end_time": "2021-07-01T09:36:22.029476Z",
     "start_time": "2021-07-01T09:36:22.009476Z"
    }
   },
   "outputs": [
    {
     "name": "stdout",
     "output_type": "stream",
     "text": [
      "В солбце dob - 0 пустых\n",
      "В солбце height - 0 пустых\n",
      "В солбце weight - 0 пустых\n"
     ]
    }
   ],
   "source": [
    "#проверим еще раз\n",
    "for column in ['dob' , 'height' , 'weight' ]:\n",
    "    print(f'В солбце {column} - {pd.isnull(df[column]).sum()} пустых')   "
   ]
  },
  {
   "cell_type": "code",
   "execution_count": 57,
   "metadata": {
    "ExecuteTime": {
     "end_time": "2021-07-01T11:55:07.447814Z",
     "start_time": "2021-07-01T11:55:07.437814Z"
    }
   },
   "outputs": [],
   "source": [
    "from sklearn.preprocessing import StandardScaler,LabelEncoder, OneHotEncoder\n",
    "scaler = StandardScaler()\n",
    "label_enc = LabelEncoder()\n",
    "onehot_dummy = OneHotEncoder(handle_unknown='ignore')"
   ]
  },
  {
   "cell_type": "code",
   "execution_count": 23,
   "metadata": {
    "ExecuteTime": {
     "end_time": "2021-07-01T09:57:10.353243Z",
     "start_time": "2021-07-01T09:57:10.333243Z"
    }
   },
   "outputs": [
    {
     "data": {
      "text/plain": [
       "(array([1, 0, 1, ..., 1, 1, 1]), array(['female', 'male'], dtype=object))"
      ]
     },
     "execution_count": 23,
     "metadata": {},
     "output_type": "execute_result"
    }
   ],
   "source": [
    "y = np.array(df.sex)\n",
    "y = label_enc.fit_transform(y)\n",
    "y , label_enc.classes_"
   ]
  },
  {
   "cell_type": "code",
   "execution_count": null,
   "metadata": {
    "ExecuteTime": {
     "end_time": "2021-07-01T11:41:48.345229Z",
     "start_time": "2021-07-01T11:41:48.285229Z"
    }
   },
   "outputs": [],
   "source": [
    "# Дропнем, 'у' и то, что мы не буде использовать:\n",
    "df.drop(['sex', 'id', 'name'], axis=1,inplace=True)"
   ]
  },
  {
   "cell_type": "code",
   "execution_count": 189,
   "metadata": {
    "ExecuteTime": {
     "end_time": "2021-07-01T13:04:54.812892Z",
     "start_time": "2021-07-01T13:04:54.692892Z"
    }
   },
   "outputs": [],
   "source": [
    "# добавим возраст в выборку\n",
    "df.dob = pd.to_datetime(df.dob, format='%m/%d/%y',errors='coerce')\n",
    "df['years'] = df.dob.apply(lambda x: 2021 - x.year )\n",
    "df.loc[np.isnan(df.years),'years'] = 0"
   ]
  },
  {
   "cell_type": "code",
   "execution_count": 190,
   "metadata": {
    "ExecuteTime": {
     "end_time": "2021-07-01T13:04:56.392894Z",
     "start_time": "2021-07-01T13:04:56.322894Z"
    }
   },
   "outputs": [
    {
     "data": {
      "text/plain": [
       "(11538, 241)"
      ]
     },
     "execution_count": 190,
     "metadata": {},
     "output_type": "execute_result"
    }
   ],
   "source": [
    "# Соберем Х\n",
    "X = np.array(df[ ['height','weight','years','gold','silver','bronze' ] ])\n",
    "a = onehot_dummy.fit_transform( df[  ['nationality','sport' ]]  ).toarray()\n",
    "X = np.concatenate((X,a), axis=1)\n",
    "del a\n",
    "X.shape"
   ]
  },
  {
   "cell_type": "code",
   "execution_count": 194,
   "metadata": {
    "ExecuteTime": {
     "end_time": "2021-07-01T13:05:17.016923Z",
     "start_time": "2021-07-01T13:05:16.996923Z"
    }
   },
   "outputs": [
    {
     "data": {
      "text/plain": [
       "array([], dtype=float64)"
      ]
     },
     "execution_count": 194,
     "metadata": {},
     "output_type": "execute_result"
    }
   ],
   "source": [
    "# Проверим на NaN\n",
    "X[np.isnan(X)]"
   ]
  },
  {
   "cell_type": "code",
   "execution_count": 346,
   "metadata": {
    "ExecuteTime": {
     "end_time": "2021-07-01T16:18:36.056924Z",
     "start_time": "2021-07-01T16:18:36.016924Z"
    }
   },
   "outputs": [],
   "source": [
    "# Разобъем на трейн тест \n",
    "X_train, X_test, y_train, y_test = train_test_split(X, y, test_size=0.7, random_state=7)\n",
    "# Нормализуем первые два столбца - вес и рост\n",
    "X_train[:,:3] = scaler.fit_transform(X_train[:,:3])\n",
    "X_test[:,:3] = scaler.fit_transform(X_test[:,:3])"
   ]
  },
  {
   "cell_type": "markdown",
   "metadata": {},
   "source": [
    "### LogisticRegression"
   ]
  },
  {
   "cell_type": "code",
   "execution_count": 170,
   "metadata": {
    "ExecuteTime": {
     "end_time": "2021-07-01T12:56:17.639163Z",
     "start_time": "2021-07-01T12:56:17.489162Z"
    }
   },
   "outputs": [],
   "source": [
    "from sklearn.linear_model import LogisticRegression"
   ]
  },
  {
   "cell_type": "code",
   "execution_count": 221,
   "metadata": {
    "ExecuteTime": {
     "end_time": "2021-07-01T13:57:09.926669Z",
     "start_time": "2021-07-01T13:57:09.916669Z"
    }
   },
   "outputs": [],
   "source": [
    "logit = LogisticRegression(penalty='l2',solver='saga',max_iter=2000,n_jobs=-1)"
   ]
  },
  {
   "cell_type": "code",
   "execution_count": 222,
   "metadata": {
    "ExecuteTime": {
     "end_time": "2021-07-01T13:57:17.678682Z",
     "start_time": "2021-07-01T13:57:14.926676Z"
    }
   },
   "outputs": [
    {
     "data": {
      "text/plain": [
       "LogisticRegression(max_iter=2000, n_jobs=-1, solver='saga')"
      ]
     },
     "execution_count": 222,
     "metadata": {},
     "output_type": "execute_result"
    }
   ],
   "source": [
    "logit.fit(X_train, y_train)"
   ]
  },
  {
   "cell_type": "code",
   "execution_count": 223,
   "metadata": {
    "ExecuteTime": {
     "end_time": "2021-07-01T13:57:17.698682Z",
     "start_time": "2021-07-01T13:57:17.678682Z"
    }
   },
   "outputs": [],
   "source": [
    "results = logit.predict_proba(X_test)"
   ]
  },
  {
   "cell_type": "code",
   "execution_count": 327,
   "metadata": {
    "ExecuteTime": {
     "end_time": "2021-07-01T16:04:25.882383Z",
     "start_time": "2021-07-01T16:04:25.872383Z"
    }
   },
   "outputs": [],
   "source": [
    "a = np.concatenate( onehot_dummy.categories_)\n",
    "columns = np.concatenate( (['height','weight','years','gold','silver','bronze' ],a ))"
   ]
  },
  {
   "cell_type": "code",
   "execution_count": 344,
   "metadata": {
    "ExecuteTime": {
     "end_time": "2021-07-01T16:15:11.930635Z",
     "start_time": "2021-07-01T16:15:11.910635Z"
    }
   },
   "outputs": [
    {
     "data": {
      "text/html": [
       "<div>\n",
       "<style scoped>\n",
       "    .dataframe tbody tr th:only-of-type {\n",
       "        vertical-align: middle;\n",
       "    }\n",
       "\n",
       "    .dataframe tbody tr th {\n",
       "        vertical-align: top;\n",
       "    }\n",
       "\n",
       "    .dataframe thead th {\n",
       "        text-align: right;\n",
       "    }\n",
       "</style>\n",
       "<table border=\"1\" class=\"dataframe\">\n",
       "  <thead>\n",
       "    <tr style=\"text-align: right;\">\n",
       "      <th></th>\n",
       "      <th>0</th>\n",
       "    </tr>\n",
       "  </thead>\n",
       "  <tbody>\n",
       "    <tr>\n",
       "      <th>boxing</th>\n",
       "      <td>7.390198</td>\n",
       "    </tr>\n",
       "    <tr>\n",
       "      <th>NOR</th>\n",
       "      <td>2.280372</td>\n",
       "    </tr>\n",
       "    <tr>\n",
       "      <th>weight</th>\n",
       "      <td>2.019700</td>\n",
       "    </tr>\n",
       "    <tr>\n",
       "      <th>LBA</th>\n",
       "      <td>1.963279</td>\n",
       "    </tr>\n",
       "    <tr>\n",
       "      <th>BOT</th>\n",
       "      <td>1.953384</td>\n",
       "    </tr>\n",
       "  </tbody>\n",
       "</table>\n",
       "</div>"
      ],
      "text/plain": [
       "               0\n",
       "boxing  7.390198\n",
       "NOR     2.280372\n",
       "weight  2.019700\n",
       "LBA     1.963279\n",
       "BOT     1.953384"
      ]
     },
     "execution_count": 344,
     "metadata": {},
     "output_type": "execute_result"
    }
   ],
   "source": [
    "res = pd.DataFrame( data=logit.coef_,columns=columns).T\n",
    "res = res.sort_values(by=[0],ascending=False)\n",
    "res.head()"
   ]
  },
  {
   "cell_type": "markdown",
   "metadata": {
    "ExecuteTime": {
     "end_time": "2021-07-01T16:07:04.127606Z",
     "start_time": "2021-07-01T16:07:04.097606Z"
    }
   },
   "source": [
    "Говорит о том, чтобы разграничить мужчин (у=1) от женщин большое значение имеют:\n",
    "- вид спорта бокс\n",
    "- страна Норвегия\n",
    "- вес\n",
    "- страна Ливия\n",
    "- страна Ботсвана\n"
   ]
  },
  {
   "cell_type": "markdown",
   "metadata": {},
   "source": [
    "### Confusion Matrix"
   ]
  },
  {
   "cell_type": "code",
   "execution_count": 347,
   "metadata": {
    "ExecuteTime": {
     "end_time": "2021-07-01T16:18:46.027938Z",
     "start_time": "2021-07-01T16:18:46.017938Z"
    }
   },
   "outputs": [],
   "source": [
    "def how_much_is_the_fish(y_pred_, y_test_, thres = .5,printing=True):\n",
    "    TP, TN, FP, FN = 0, 0, 0, 0\n",
    "\n",
    "    for i in range(len(y_test_)):\n",
    "        if y_pred_[i,1] > thres: \n",
    "            if y_test_[i] == 1 : TP +=1\n",
    "            else: FP +=1\n",
    "        else: \n",
    "            if y_test_[i] == 0 : TN +=1\n",
    "            else: FN +=1\n",
    "\n",
    "    if printing: print_conf_matrix(TP, TN, FP, FN)\n",
    "    return TP, TN, FP, FN"
   ]
  },
  {
   "cell_type": "code",
   "execution_count": 348,
   "metadata": {
    "ExecuteTime": {
     "end_time": "2021-07-01T16:18:46.878939Z",
     "start_time": "2021-07-01T16:18:46.858939Z"
    }
   },
   "outputs": [],
   "source": [
    "def print_conf_matrix(TP_, TN_, FP_, FN_ ):\n",
    "    print('\\t\\tTrue (Actual) ')\n",
    "    print( '\\t|\\t +  \\t|\\t - ')\n",
    "    print('-'*40)\n",
    "    print(f'Pred_+\\t|\\t{TP_} \\t|\\t {FP_}')\n",
    "    print(f'Pred_-\\t|\\t{FN_} \\t|\\t {TN_}')\n",
    "    print('-'*40)\n",
    "    print()"
   ]
  },
  {
   "cell_type": "code",
   "execution_count": 349,
   "metadata": {
    "ExecuteTime": {
     "end_time": "2021-07-01T16:18:47.978940Z",
     "start_time": "2021-07-01T16:18:47.948940Z"
    }
   },
   "outputs": [
    {
     "name": "stdout",
     "output_type": "stream",
     "text": [
      "\t\tTrue (Actual) \n",
      "\t|\t +  \t|\t - \n",
      "----------------------------------------\n",
      "Pred_+\t|\t4355 \t|\t 3625\n",
      "Pred_-\t|\t49 \t|\t 48\n",
      "----------------------------------------\n",
      "\n"
     ]
    },
    {
     "data": {
      "text/plain": [
       "(4355, 48, 3625, 49)"
      ]
     },
     "execution_count": 349,
     "metadata": {},
     "output_type": "execute_result"
    }
   ],
   "source": [
    "# порог 0.5\n",
    "how_much_is_the_fish(results, y_test, thres = .5)"
   ]
  },
  {
   "cell_type": "code",
   "execution_count": 350,
   "metadata": {
    "ExecuteTime": {
     "end_time": "2021-07-01T16:18:51.388945Z",
     "start_time": "2021-07-01T16:18:51.368945Z"
    }
   },
   "outputs": [
    {
     "data": {
      "text/plain": [
       "array([[  48, 3625],\n",
       "       [  49, 4355]], dtype=int64)"
      ]
     },
     "execution_count": 350,
     "metadata": {},
     "output_type": "execute_result"
    }
   ],
   "source": [
    "# Проверим на sklearn\n",
    "from sklearn.metrics import confusion_matrix\n",
    "confusion_matrix(y_test, (results[:,1]>.5).astype(int))"
   ]
  },
  {
   "cell_type": "markdown",
   "metadata": {},
   "source": [
    "Совпало. "
   ]
  },
  {
   "cell_type": "markdown",
   "metadata": {
    "ExecuteTime": {
     "end_time": "2021-07-01T14:49:02.651149Z",
     "start_time": "2021-07-01T14:49:02.641149Z"
    }
   },
   "source": [
    "### ДЗ: \n",
    "* Посчитать tpr и fpr в ноутбуке к лекции. Убедиться, что график ROC AUC получается таким же, как и штатными средствами.\n",
    "\n",
    "* Построить график Precision - Recall на этих же данных."
   ]
  },
  {
   "cell_type": "code",
   "execution_count": 351,
   "metadata": {
    "ExecuteTime": {
     "end_time": "2021-07-01T16:18:55.000951Z",
     "start_time": "2021-07-01T16:18:54.128949Z"
    }
   },
   "outputs": [],
   "source": [
    "recall = np.array([])\n",
    "FPR = np.array([])\n",
    "precision = np.array([])\n",
    "\n",
    "\n",
    "for i in np.arange(.01,1.05,.01):   \n",
    "    TP, TN, FP, FN = how_much_is_the_fish(results, y_test,thres=i,printing=False)\n",
    "        \n",
    "    TPR_sensitivity_recall = TP / (TP + FN +1e-6)\n",
    "    recall = np.append(recall,TPR_sensitivity_recall)\n",
    "    \n",
    "    FPR_i = FP / (FP+TN +1e-6)\n",
    "    FPR = np.append(FPR,FPR_i)\n",
    "    \n",
    "    precision_i = TP / (TP + FP +1e-6)\n",
    "    precision = np.append(precision,precision_i)\n",
    "#recall, FPR, precision"
   ]
  },
  {
   "cell_type": "code",
   "execution_count": 282,
   "metadata": {
    "ExecuteTime": {
     "end_time": "2021-07-01T15:33:32.608126Z",
     "start_time": "2021-07-01T15:33:32.598126Z"
    }
   },
   "outputs": [],
   "source": [
    "from sklearn.metrics import precision_score, recall_score, roc_curve, auc, roc_auc_score"
   ]
  },
  {
   "cell_type": "code",
   "execution_count": 352,
   "metadata": {
    "ExecuteTime": {
     "end_time": "2021-07-01T16:18:57.650955Z",
     "start_time": "2021-07-01T16:18:57.630955Z"
    }
   },
   "outputs": [],
   "source": [
    "fpr, tpr, thes = roc_curve(y_test,results[:,1] )"
   ]
  },
  {
   "cell_type": "code",
   "execution_count": 353,
   "metadata": {
    "ExecuteTime": {
     "end_time": "2021-07-01T16:18:59.390958Z",
     "start_time": "2021-07-01T16:18:58.910957Z"
    },
    "scrolled": true
   },
   "outputs": [
    {
     "data": {
      "image/png": "[encoded data removed]",
      "text/plain": [
       "<Figure size 864x360 with 1 Axes>"
      ]
     },
     "metadata": {
      "needs_background": "light"
     },
     "output_type": "display_data"
    }
   ],
   "source": [
    "plt.figure(figsize=(12,5))\n",
    "plt.grid()\n",
    "\n",
    "plt.plot(np.arange(0,1.1,.1),np.arange(0,1.1,.1),'--',label='Random')\n",
    "plt.plot(FPR,recall,label='Calculated')\n",
    "plt.plot(fpr,tpr,label='from Function')\n",
    "\n",
    "plt.legend(fontsize=14)\n",
    "plt.title( 'FPR vs TPR plot')\n",
    "plt.xlabel('False Positive Ratio (FPR)')\n",
    "plt.ylabel('True Positive Ratio (TPR)')\n",
    "\n",
    "plt.xlim(0.9,1)\n",
    "plt.ylim(0.9,1);"
   ]
  },
  {
   "cell_type": "code",
   "execution_count": 354,
   "metadata": {
    "ExecuteTime": {
     "end_time": "2021-07-01T16:19:04.991965Z",
     "start_time": "2021-07-01T16:19:04.981965Z"
    }
   },
   "outputs": [
    {
     "data": {
      "text/plain": [
       "(0.4838212631488884, 0.49864226937052164)"
      ]
     },
     "execution_count": 354,
     "metadata": {},
     "output_type": "execute_result"
    }
   ],
   "source": [
    "# Проверим на сколько корректно выдает значения:\n",
    "auc(fpr,tpr) , auc(FPR,recall)"
   ]
  },
  {
   "cell_type": "code",
   "execution_count": 355,
   "metadata": {
    "ExecuteTime": {
     "end_time": "2021-07-01T16:19:07.721969Z",
     "start_time": "2021-07-01T16:19:07.371969Z"
    },
    "scrolled": false
   },
   "outputs": [
    {
     "data": {
      "text/plain": [
       "Text(0, 0.5, 'Precision')"
      ]
     },
     "execution_count": 355,
     "metadata": {},
     "output_type": "execute_result"
    },
    {
     "data": {
      "image/png": "[encoded data removed]",
      "text/plain": [
       "<Figure size 864x360 with 1 Axes>"
      ]
     },
     "metadata": {
      "needs_background": "light"
     },
     "output_type": "display_data"
    }
   ],
   "source": [
    "plt.figure(figsize=(12,5))\n",
    "plt.grid()\n",
    "\n",
    "plt.plot(recall,precision)\n",
    "\n",
    "plt.title( 'Precision vs Recall plot')\n",
    "plt.xlabel('Recall')\n",
    "plt.ylabel('Precision')\n"
   ]
  },
  {
   "cell_type": "code",
   "execution_count": 356,
   "metadata": {
    "ExecuteTime": {
     "end_time": "2021-07-01T16:19:10.401973Z",
     "start_time": "2021-07-01T16:19:10.381973Z"
    },
    "scrolled": true
   },
   "outputs": [
    {
     "data": {
      "text/plain": [
       "0.4838212631488884"
      ]
     },
     "execution_count": 356,
     "metadata": {},
     "output_type": "execute_result"
    }
   ],
   "source": [
    "roc_auc_score(y_test, results[:, 1])"
   ]
  },
  {
   "cell_type": "markdown",
   "metadata": {},
   "source": [
    "Потому что Train / Test split 70% (чтобы значения ошибок были высокие)"
   ]
  },
  {
   "cell_type": "code",
   "execution_count": null,
   "metadata": {},
   "outputs": [],
   "source": []
  },
  {
   "cell_type": "markdown",
   "metadata": {},
   "source": [
    "### GridSearchCV"
   ]
  },
  {
   "cell_type": "code",
   "execution_count": 357,
   "metadata": {
    "ExecuteTime": {
     "end_time": "2021-07-01T16:20:46.482114Z",
     "start_time": "2021-07-01T16:20:46.462114Z"
    }
   },
   "outputs": [],
   "source": [
    "from sklearn.model_selection import GridSearchCV"
   ]
  },
  {
   "cell_type": "code",
   "execution_count": 373,
   "metadata": {
    "ExecuteTime": {
     "end_time": "2021-07-01T16:30:21.424963Z",
     "start_time": "2021-07-01T16:30:21.404963Z"
    },
    "collapsed": true
   },
   "outputs": [
    {
     "data": {
      "text/plain": [
       "['explained_variance',\n",
       " 'r2',\n",
       " 'max_error',\n",
       " 'neg_median_absolute_error',\n",
       " 'neg_mean_absolute_error',\n",
       " 'neg_mean_squared_error',\n",
       " 'neg_mean_squared_log_error',\n",
       " 'neg_root_mean_squared_error',\n",
       " 'neg_mean_poisson_deviance',\n",
       " 'neg_mean_gamma_deviance',\n",
       " 'accuracy',\n",
       " 'roc_auc',\n",
       " 'roc_auc_ovr',\n",
       " 'roc_auc_ovo',\n",
       " 'roc_auc_ovr_weighted',\n",
       " 'roc_auc_ovo_weighted',\n",
       " 'balanced_accuracy',\n",
       " 'average_precision',\n",
       " 'neg_log_loss',\n",
       " 'neg_brier_score',\n",
       " 'adjusted_rand_score',\n",
       " 'homogeneity_score',\n",
       " 'completeness_score',\n",
       " 'v_measure_score',\n",
       " 'mutual_info_score',\n",
       " 'adjusted_mutual_info_score',\n",
       " 'normalized_mutual_info_score',\n",
       " 'fowlkes_mallows_score',\n",
       " 'precision',\n",
       " 'precision_macro',\n",
       " 'precision_micro',\n",
       " 'precision_samples',\n",
       " 'precision_weighted',\n",
       " 'recall',\n",
       " 'recall_macro',\n",
       " 'recall_micro',\n",
       " 'recall_samples',\n",
       " 'recall_weighted',\n",
       " 'f1',\n",
       " 'f1_macro',\n",
       " 'f1_micro',\n",
       " 'f1_samples',\n",
       " 'f1_weighted',\n",
       " 'jaccard',\n",
       " 'jaccard_macro',\n",
       " 'jaccard_micro',\n",
       " 'jaccard_samples',\n",
       " 'jaccard_weighted']"
      ]
     },
     "execution_count": 373,
     "metadata": {},
     "output_type": "execute_result"
    }
   ],
   "source": [
    "import sklearn\n",
    "list(sklearn.metrics.SCORERS.keys())"
   ]
  },
  {
   "cell_type": "code",
   "execution_count": 363,
   "metadata": {
    "ExecuteTime": {
     "end_time": "2021-07-01T16:27:16.096667Z",
     "start_time": "2021-07-01T16:27:16.076667Z"
    }
   },
   "outputs": [],
   "source": [
    "params = [ {'l1_ratio': list( np.arange(0,1.1,.1) )} ]  "
   ]
  },
  {
   "cell_type": "code",
   "execution_count": 374,
   "metadata": {
    "ExecuteTime": {
     "end_time": "2021-07-01T16:30:50.569004Z",
     "start_time": "2021-07-01T16:30:50.549004Z"
    }
   },
   "outputs": [],
   "source": [
    "grid_cv = GridSearchCV(LogisticRegression(penalty='elasticnet', solver='saga', max_iter=1000, n_jobs=-1), \n",
    "                       param_grid=params, scoring='roc_auc', return_train_score=True,\n",
    "                       cv=10, n_jobs=-1)"
   ]
  },
  {
   "cell_type": "code",
   "execution_count": null,
   "metadata": {
    "ExecuteTime": {
     "start_time": "2021-07-01T16:30:58.097Z"
    }
   },
   "outputs": [],
   "source": [
    "grid_cv.fit( X, y )"
   ]
  },
  {
   "cell_type": "code",
   "execution_count": null,
   "metadata": {
    "ExecuteTime": {
     "start_time": "2021-07-01T16:32:15.183Z"
    }
   },
   "outputs": [],
   "source": [
    "!telegram-send 'Я_посчитал'"
   ]
  },
  {
   "cell_type": "code",
   "execution_count": null,
   "metadata": {
    "ExecuteTime": {
     "start_time": "2021-07-01T16:31:46.006Z"
    }
   },
   "outputs": [],
   "source": [
    "grid_cv.cv_results_"
   ]
  },
  {
   "cell_type": "code",
   "execution_count": null,
   "metadata": {
    "ExecuteTime": {
     "start_time": "2021-07-01T16:31:48.668Z"
    }
   },
   "outputs": [],
   "source": [
    "grid_cv.best_params_"
   ]
  }
 ],
 "metadata": {
  "kernelspec": {
   "display_name": "Python 3",
   "language": "python",
   "name": "python3"
  },
  "language_info": {
   "codemirror_mode": {
    "name": "ipython",
    "version": 3
   },
   "file_extension": ".py",
   "mimetype": "text/x-python",
   "name": "python",
   "nbconvert_exporter": "python",
   "pygments_lexer": "ipython3",
   "version": "3.8.5"
  }
 },
 "nbformat": 4,
 "nbformat_minor": 4
}
